{
 "cells": [
  {
   "cell_type": "code",
   "execution_count": 1,
   "metadata": {
    "collapsed": true
   },
   "outputs": [],
   "source": [
    "%matplotlib inline"
   ]
  },
  {
   "cell_type": "markdown",
   "metadata": {},
   "source": [
    "# Load Data"
   ]
  },
  {
   "cell_type": "code",
   "execution_count": 2,
   "metadata": {
    "collapsed": true
   },
   "outputs": [],
   "source": [
    "from sklearn.utils import shuffle\n",
    "from sklearn.metrics import f1_score\n",
    "from sklearn.datasets import fetch_mldata\n",
    "from sklearn.model_selection import train_test_split\n",
    "import matplotlib.pyplot as plt\n",
    "\n",
    "import numpy as np\n",
    "import tensorflow as tf\n",
    "\n",
    "def load_mnist():\n",
    "    mnist = fetch_mldata('MNIST original')\n",
    "    mnist_X, mnist_y = shuffle(mnist.data.astype('float32'),\n",
    "                               mnist.target.astype('int32'), random_state=115)\n",
    "\n",
    "    mnist_X = mnist_X / 255.0\n",
    "\n",
    "    return train_test_split(mnist_X, mnist_y,\n",
    "                test_size=0.2,\n",
    "                random_state=119)"
   ]
  },
  {
   "cell_type": "code",
   "execution_count": 3,
   "metadata": {
    "collapsed": true
   },
   "outputs": [],
   "source": [
    "num_each_num =70\n",
    "total_num = num_each_num * 10\n",
    "take_num = 30000"
   ]
  },
  {
   "cell_type": "code",
   "execution_count": 4,
   "metadata": {
    "collapsed": false
   },
   "outputs": [],
   "source": [
    "train_X, test_X, train_y, test_y = load_mnist()\n",
    "\n",
    "# validate for small dataset\n",
    "X_stock = train_X[:take_num].round() # Rounded\n",
    "y_stock = train_y[:take_num]"
   ]
  },
  {
   "cell_type": "markdown",
   "metadata": {},
   "source": [
    "# Create Data"
   ]
  },
  {
   "cell_type": "code",
   "execution_count": 5,
   "metadata": {
    "collapsed": true
   },
   "outputs": [],
   "source": [
    "data_list = [  X_stock[np.where(y_stock == i)] for i in range(10) ]"
   ]
  },
  {
   "cell_type": "code",
   "execution_count": 6,
   "metadata": {
    "collapsed": false
   },
   "outputs": [],
   "source": [
    "# number in the last difit is the same as true label\n",
    "# Ex. ID 125 --> \"5\"\n",
    "X = [] ; y = []\n",
    "for i in range(total_num):\n",
    "    use_id = int(i/10)\n",
    "    \n",
    "    X.append( data_list[ int(str(i)[-1]) ][use_id]  )\n",
    "    y.append(int(str(i)[-1]))"
   ]
  },
  {
   "cell_type": "code",
   "execution_count": 7,
   "metadata": {
    "collapsed": false
   },
   "outputs": [
    {
     "data": {
      "text/plain": [
       "8"
      ]
     },
     "execution_count": 7,
     "metadata": {},
     "output_type": "execute_result"
    }
   ],
   "source": [
    "y[98]"
   ]
  },
  {
   "cell_type": "markdown",
   "metadata": {},
   "source": [
    "# Save Data"
   ]
  },
  {
   "cell_type": "code",
   "execution_count": null,
   "metadata": {
    "collapsed": false
   },
   "outputs": [],
   "source": [
    "filepath = \"/Users/picdata_long.txt\"\n",
    "with open(filepath, 'w') as file:\n",
    "    for i in range(total_num):\n",
    "        d = ','.join(str(int(i)) for i in X[i]) + '\\n'\n",
    "        file.write(d)\n",
    "        \n",
    "filepath = \"/Users/picdata_long_true.txt\"\n",
    "with open(filepath, 'w') as file:\n",
    "    for i in range(total_num):\n",
    "        d = \"Index: \" + str(i) + \" / Label: \" + str(int(y[i])) + \"\\n\"\n",
    "        file.write(d)"
   ]
  },
  {
   "cell_type": "markdown",
   "metadata": {},
   "source": [
    "# Show Figure"
   ]
  },
  {
   "cell_type": "code",
   "execution_count": 8,
   "metadata": {
    "collapsed": false
   },
   "outputs": [
    {
     "name": "stdout",
     "output_type": "stream",
     "text": [
      "3             6             5             7             6             5             8             3             1             \n"
     ]
    },
    {
     "data": {
      "image/png": "[encoded data removed]",
      "text/plain": [
       "<matplotlib.figure.Figure at 0x10f4cc390>"
      ]
     },
     "metadata": {},
     "output_type": "display_data"
    }
   ],
   "source": [
    "show_ids= [3, 16, 25, 37, 46, 55, 78, 83, 91]\n",
    "\n",
    "fig = plt.figure(figsize=(9, 9))\n",
    "fig.subplots_adjust(left=0, right=1, bottom=0,\n",
    "                    top=0.5, hspace=0.05, wspace=0.05)\n",
    "\n",
    "for index, i in enumerate(show_ids):\n",
    "    ax = fig.add_subplot(9, 9, index + 1, xticks=[], yticks=[])\n",
    "    ax.imshow(X[i].reshape((28, 28)), cmap='gray')\n",
    "\n",
    "output = \"\"\n",
    "for index, i in enumerate(show_ids):\n",
    "    if index !=0 and index %9 == 0:\n",
    "        output += \"\\n\"\n",
    "        \n",
    "    output += str(y[i]) + \"             \"\n",
    "\n",
    "print(output)"
   ]
  },
  {
   "cell_type": "code",
   "execution_count": 9,
   "metadata": {
    "collapsed": false
   },
   "outputs": [
    {
     "name": "stdout",
     "output_type": "stream",
     "text": [
      "3             5             6             \n"
     ]
    },
    {
     "data": {
      "image/png": "[encoded data removed]",
      "text/plain": [
       "<matplotlib.figure.Figure at 0x12443a7f0>"
      ]
     },
     "metadata": {},
     "output_type": "display_data"
    }
   ],
   "source": [
    "show_ids= [13, 95, 56]\n",
    "\n",
    "fig = plt.figure(figsize=(9, 9))\n",
    "fig.subplots_adjust(left=0, right=1, bottom=0,\n",
    "                    top=0.5, hspace=0.05, wspace=0.05)\n",
    "\n",
    "for index, i in enumerate(show_ids):\n",
    "    ax = fig.add_subplot(9, 9, index + 1, xticks=[], yticks=[])\n",
    "    ax.imshow(X[i].reshape((28, 28)), cmap='gray')\n",
    "\n",
    "output = \"\"\n",
    "for index, i in enumerate(show_ids):\n",
    "    if index !=0 and index %9 == 0:\n",
    "        output += \"\\n\"\n",
    "        \n",
    "    output += str(y[i]) + \"             \"\n",
    "\n",
    "print(output)"
   ]
  }
 ],
 "metadata": {
  "kernelspec": {
   "display_name": "Python 3",
   "language": "python",
   "name": "python3"
  },
  "language_info": {
   "codemirror_mode": {
    "name": "ipython",
    "version": 3
   },
   "file_extension": ".py",
   "mimetype": "text/x-python",
   "name": "python",
   "nbconvert_exporter": "python",
   "pygments_lexer": "ipython3",
   "version": "3.6.0"
  }
 },
 "nbformat": 4,
 "nbformat_minor": 2
}

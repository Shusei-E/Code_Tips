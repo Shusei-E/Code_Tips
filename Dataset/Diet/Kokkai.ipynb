{
 "cells": [
  {
   "cell_type": "markdown",
   "metadata": {},
   "source": [
    "# Before Run the Code"
   ]
  },
  {
   "cell_type": "markdown",
   "metadata": {},
   "source": [
    "[国会会議録検索システム検索用API](http://kokkai.ndl.go.jp/api.html)"
   ]
  },
  {
   "cell_type": "markdown",
   "metadata": {},
   "source": [
    "# Make URL"
   ]
  },
  {
   "cell_type": "code",
   "execution_count": 1,
   "metadata": {
    "collapsed": true
   },
   "outputs": [],
   "source": [
    "import urllib.request\n",
    "import urllib.parse #参考: http://d.hatena.ne.jp/motie/20100728/1280335730\n",
    "\n",
    "def DietSearch(search):\n",
    "    request = \"http://kokkai.ndl.go.jp/api/1.0/speech?\" + urllib.parse.quote_plus(search,encoding=\"utf-8\")"
   ]
  },
  {
   "cell_type": "markdown",
   "metadata": {},
   "source": [
    "# Get XML file"
   ]
  },
  {
   "cell_type": "code",
   "execution_count": 17,
   "metadata": {
    "collapsed": false
   },
   "outputs": [],
   "source": [
    "def searchKeyword(speaker=\"\", startRec=1, any=\"\", Dfrom=\"0000-01-01\", Duntil=\"9999-12-31\"):\n",
    "    if len(any) > 0:\n",
    "        search = \"startRecord=\" + str(startRec) + \"&\" + \"any=\" + any + \"&\" + \"speaker=\" + speaker + \"&from=\" + Dfrom + \"&until=\" + Duntil\n",
    "    elif speaker== \"\":\n",
    "        search = \"startRecord=\" + str(startRec) + \"&from=\" + Dfrom + \"&until=\" + Duntil\n",
    "    else:\n",
    "        search =  \"startRecord=\" + str(startRec) + \"&\" + \"speaker=\" + speaker + \"&from=\" + Dfrom + \"&until=\" + Duntil\n",
    "    return search"
   ]
  },
  {
   "cell_type": "code",
   "execution_count": 20,
   "metadata": {
    "collapsed": true
   },
   "outputs": [],
   "source": [
    "import httplib2\n",
    "import time\n",
    "def DietSearch(search):\n",
    "    request = \"http://kokkai.ndl.go.jp/api/1.0/speech?\" + urllib.parse.quote_plus(search,encoding=\"utf-8\")\n",
    "\n",
    "    h = httplib2.Http('.cache') #by httplib2\n",
    "    response, content = h.request(request)\n",
    "    #content = content.decode(\"utf-8\") #etree.fromstringをするときに、\"Unicode strings with encoding declaration are not supported. Please use bytes input or XML fragments without declaration.\"というエラーを回避するためにこの行は使わない\n",
    "    time.sleep(1.2) # Be nice to servers!\n",
    "    \n",
    "    return content"
   ]
  },
  {
   "cell_type": "markdown",
   "metadata": {},
   "source": [
    "# Extract Information"
   ]
  },
  {
   "cell_type": "code",
   "execution_count": 21,
   "metadata": {
    "collapsed": false
   },
   "outputs": [],
   "source": [
    "from lxml import etree\n",
    "\n",
    "def XMLextractSpeech(XMLcontent):\n",
    "    root = etree.fromstring(XMLcontent) # 文字列からの読み込み\n",
    "\n",
    "    ##第二階層の情報を取得##\n",
    "    numberOfRecords = root.find('numberOfRecords').text #リクエストされた検索条件に該当する総件数\n",
    "    numberOfReturn = root.find('numberOfReturn').text #当該リクエストで返戻した件数\n",
    "    startRecord = root.find('startRecord').text #当該リクエストの返戻結果に含まれる最初のレコードの総結果件数の中での出現位置\n",
    "    try: #次開始位置はない場合もあるので\n",
    "        nextRecordPosition = 0\n",
    "        nextRecordPosition = root.find('nextRecordPosition').text #総結果件数が今回の返戻件数を超え、続きを取得したい場合に、次に指定すべき開始位置。次の開始レコードが存在しない場合は、タグも含め表示されない\n",
    "    except AttributeError:\n",
    "        nextRecordPosition = 0 #構文法的には文が必要だが、コードとしては何も実行したくない場合のプレースホルダとして用いる\n",
    "\n",
    "\n",
    "    ##第三階層以降の情報(実際の発言など)を取得する## --> numberOfReturnと同じことみたい\n",
    "    #numRecords = 0 #次のfor loopで調べるrecordの数\n",
    "    #for child in root[4]:\n",
    "    #    numRecords += 1\n",
    "\n",
    "    m=4 #<nextRecordPosition>のあるなしで、どこから始めるかが変わるみたい\n",
    "    if nextRecordPosition == 0:\n",
    "        m=3\n",
    "\n",
    "    extracted = []\n",
    "    for i in range(int(numberOfReturn)):\n",
    "        temp_extracted = []\n",
    "        for neighbor in root[m][i].iter(): # records(第二階層5つ目の要素)に入っているrecordうち何番目かを２つ目の[]が指定している\n",
    "            temp_extracted.append([neighbor.tag, neighbor.text])\n",
    "        extracted.append(temp_extracted)\n",
    "\n",
    "    return ([nextRecordPosition, extracted])"
   ]
  },
  {
   "cell_type": "code",
   "execution_count": 5,
   "metadata": {
    "collapsed": true
   },
   "outputs": [],
   "source": [
    "def recordDiet(speaker, startRec=1, any=\"\", Dfrom=\"0000-01-01\", Duntil=\"9999-12-31\"):\n",
    "    search = searchKeyword(speaker, startRec, any, Dfrom, Duntil)\n",
    "    XMLcontent = DietSearch(search)\n",
    "    temp = XMLextractSpeech(XMLcontent)\n",
    "    newStart = int(temp[0])\n",
    "    extracted = temp[1]\n",
    "\n",
    "    while newStart != 0: #newStartが0じゃない、つまり先がある限り続ける\n",
    "        search = searchKeyword(speaker, newStart, any, Dfrom, Duntil)\n",
    "        XMLcontent = DietSearch(search)\n",
    "        temp = XMLextractSpeech(XMLcontent)\n",
    "        newStart = int(temp[0])\n",
    "        extracted.extend(temp[1])\n",
    "\n",
    "    return extracted"
   ]
  },
  {
   "cell_type": "markdown",
   "metadata": {},
   "source": [
    "# Clean Text and Make a Table"
   ]
  },
  {
   "cell_type": "code",
   "execution_count": 6,
   "metadata": {
    "collapsed": true
   },
   "outputs": [],
   "source": [
    "# recordDietの結果をPandasにまとめる\n",
    "import pandas as pd\n",
    "import os.path\n",
    "\n",
    "def cleanText(text):\n",
    "    cleaned = text.replace('\\n', ' ') # 改行記号を除く\n",
    "    cleaned = cleaned.strip() # 半角スペースを除く\n",
    "    cleaned = cleaned.replace(\"　\", \"\") # 全角スペースを除く\n",
    "\n",
    "    return cleaned\n",
    "\n",
    "def intoDataFrame(extracted):\n",
    "    #各発言ごとに、リスト形式のものをdictに直してからpandasに渡す\n",
    "\n",
    "    count = 1\n",
    "    for i in extracted:\n",
    "        if count == 1:\n",
    "            ext_df = pd.DataFrame([{cleanText(k): cleanText(v) for [k, v] in i}]) # If each dict represents a row, you could pass a list of dicts (http://goo.gl/t0uCHp)\n",
    "        else:\n",
    "            ext_df = ext_df.append(pd.DataFrame([{cleanText(k): cleanText(v) for [k, v] in i}])) # dataframeの結合絡み (http://goo.gl/8H6ER8)\n",
    "        count += 1\n",
    "\n",
    "    # indexの設定\n",
    "    ext_df.index = range(0, len(ext_df)) # cf. http://inaz2.hatenablog.com/entry/2013/04/09/002318\n",
    "\n",
    "    return ext_df"
   ]
  },
  {
   "cell_type": "markdown",
   "metadata": {},
   "source": [
    "# Save"
   ]
  },
  {
   "cell_type": "code",
   "execution_count": 7,
   "metadata": {
    "collapsed": true
   },
   "outputs": [],
   "source": [
    "def resultsSave(ext_df, path=\"/Users/\", name=\"diet\",type=\"csv\"):\n",
    "# 2種類の形式での保存を可能にする\n",
    "    if type==\"csv\":\n",
    "        save_path = os.path.join(path, (name + \".csv\"))\n",
    "        ext_df.to_csv(save_path) # UTF-8で保存されている\n",
    "    elif type==\"pandas\":\n",
    "        save_path = os.path.join(path, (name + \".pkl\"))\n",
    "        ext_df.to_pickle(save_path)\n",
    "    else:\n",
    "        print(\"File type you specified is not defined\")"
   ]
  },
  {
   "cell_type": "markdown",
   "metadata": {},
   "source": [
    "# Let's Use!"
   ]
  },
  {
   "cell_type": "code",
   "execution_count": 11,
   "metadata": {
    "collapsed": false
   },
   "outputs": [],
   "source": [
    "ext_df = intoDataFrame(recordDiet(speaker=\"安倍晋三\", any=\"アベノミクス\", Dfrom=\"2015-03-01\", Duntil=\"2016-05-20\"))"
   ]
  },
  {
   "cell_type": "code",
   "execution_count": 13,
   "metadata": {
    "collapsed": false
   },
   "outputs": [
    {
     "data": {
      "text/html": [
       "<div>\n",
       "<table border=\"1\" class=\"dataframe\">\n",
       "  <thead>\n",
       "    <tr style=\"text-align: right;\">\n",
       "      <th></th>\n",
       "      <th>date</th>\n",
       "      <th>issue</th>\n",
       "      <th>meetingURL</th>\n",
       "      <th>nameOfHouse</th>\n",
       "      <th>nameOfMeeting</th>\n",
       "      <th>pdfURL</th>\n",
       "      <th>record</th>\n",
       "      <th>recordData</th>\n",
       "      <th>session</th>\n",
       "      <th>speaker</th>\n",
       "      <th>speech</th>\n",
       "      <th>speechOrder</th>\n",
       "      <th>speechRecord</th>\n",
       "    </tr>\n",
       "  </thead>\n",
       "  <tbody>\n",
       "    <tr>\n",
       "      <th>0</th>\n",
       "      <td>2016-05-18</td>\n",
       "      <td>1号</td>\n",
       "      <td>http://kokkai.ndl.go.jp/SENTAKU/ryoin/190/9001...</td>\n",
       "      <td>両院</td>\n",
       "      <td>国家基本政策委員会合同審査会</td>\n",
       "      <td>http://kokkai.ndl.go.jp/SENTAKU/ryoin/190/9001...</td>\n",
       "      <td></td>\n",
       "      <td></td>\n",
       "      <td>190</td>\n",
       "      <td>安倍晋三</td>\n",
       "      <td>○内閣総理大臣（安倍晋三君）本日、速報値が出ました。年率でいえば名目二％、そして実質一・七％...</td>\n",
       "      <td>5</td>\n",
       "      <td></td>\n",
       "    </tr>\n",
       "    <tr>\n",
       "      <th>1</th>\n",
       "      <td>2016-05-16</td>\n",
       "      <td>20号</td>\n",
       "      <td>http://kokkai.ndl.go.jp/SENTAKU/syugiin/190/00...</td>\n",
       "      <td>衆議院</td>\n",
       "      <td>予算委員会</td>\n",
       "      <td>http://kokkai.ndl.go.jp/SENTAKU/syugiin/190/00...</td>\n",
       "      <td></td>\n",
       "      <td></td>\n",
       "      <td>190</td>\n",
       "      <td>安倍晋三</td>\n",
       "      <td>○安倍内閣総理大臣三年半が経過いたしました。 我々は、政権を奪還する際に、国民総所得、ＧＮＩ...</td>\n",
       "      <td>41</td>\n",
       "      <td></td>\n",
       "    </tr>\n",
       "    <tr>\n",
       "      <th>2</th>\n",
       "      <td>2016-03-29</td>\n",
       "      <td>20号</td>\n",
       "      <td>http://kokkai.ndl.go.jp/SENTAKU/sangiin/190/00...</td>\n",
       "      <td>参議院</td>\n",
       "      <td>予算委員会</td>\n",
       "      <td>http://kokkai.ndl.go.jp/SENTAKU/sangiin/190/00...</td>\n",
       "      <td></td>\n",
       "      <td></td>\n",
       "      <td>190</td>\n",
       "      <td>安倍晋三</td>\n",
       "      <td>○内閣総理大臣（安倍晋三君）現在御審議をいただいている平成二十八年度予算は、一億総活躍社会の...</td>\n",
       "      <td>102</td>\n",
       "      <td></td>\n",
       "    </tr>\n",
       "  </tbody>\n",
       "</table>\n",
       "</div>"
      ],
      "text/plain": [
       "         date issue                                         meetingURL  \\\n",
       "0  2016-05-18    1号  http://kokkai.ndl.go.jp/SENTAKU/ryoin/190/9001...   \n",
       "1  2016-05-16   20号  http://kokkai.ndl.go.jp/SENTAKU/syugiin/190/00...   \n",
       "2  2016-03-29   20号  http://kokkai.ndl.go.jp/SENTAKU/sangiin/190/00...   \n",
       "\n",
       "  nameOfHouse   nameOfMeeting  \\\n",
       "0          両院  国家基本政策委員会合同審査会   \n",
       "1         衆議院           予算委員会   \n",
       "2         参議院           予算委員会   \n",
       "\n",
       "                                              pdfURL record recordData  \\\n",
       "0  http://kokkai.ndl.go.jp/SENTAKU/ryoin/190/9001...                     \n",
       "1  http://kokkai.ndl.go.jp/SENTAKU/syugiin/190/00...                     \n",
       "2  http://kokkai.ndl.go.jp/SENTAKU/sangiin/190/00...                     \n",
       "\n",
       "  session speaker                                             speech  \\\n",
       "0     190    安倍晋三  ○内閣総理大臣（安倍晋三君）本日、速報値が出ました。年率でいえば名目二％、そして実質一・七％...   \n",
       "1     190    安倍晋三  ○安倍内閣総理大臣三年半が経過いたしました。 我々は、政権を奪還する際に、国民総所得、ＧＮＩ...   \n",
       "2     190    安倍晋三  ○内閣総理大臣（安倍晋三君）現在御審議をいただいている平成二十八年度予算は、一億総活躍社会の...   \n",
       "\n",
       "  speechOrder speechRecord  \n",
       "0           5               \n",
       "1          41               \n",
       "2         102               "
      ]
     },
     "execution_count": 13,
     "metadata": {},
     "output_type": "execute_result"
    }
   ],
   "source": [
    "ext_df[:3]"
   ]
  },
  {
   "cell_type": "code",
   "execution_count": 15,
   "metadata": {
    "collapsed": false
   },
   "outputs": [],
   "source": [
    "resultsSave(ext_df, path=\"/Users/\", name=\"diet\",type=\"csv\")"
   ]
  },
  {
   "cell_type": "code",
   "execution_count": 22,
   "metadata": {
    "collapsed": false
   },
   "outputs": [],
   "source": [
    "ext_df2 = intoDataFrame(recordDiet(speaker=\"\", \n",
    "                                   any=\"アベノミクス\", Dfrom=\"2015-03-01\", Duntil=\"2015-03-10\"))"
   ]
  },
  {
   "cell_type": "code",
   "execution_count": 24,
   "metadata": {
    "collapsed": false
   },
   "outputs": [
    {
     "data": {
      "text/html": [
       "<div>\n",
       "<table border=\"1\" class=\"dataframe\">\n",
       "  <thead>\n",
       "    <tr style=\"text-align: right;\">\n",
       "      <th></th>\n",
       "      <th>date</th>\n",
       "      <th>issue</th>\n",
       "      <th>meetingURL</th>\n",
       "      <th>nameOfHouse</th>\n",
       "      <th>nameOfMeeting</th>\n",
       "      <th>pdfURL</th>\n",
       "      <th>record</th>\n",
       "      <th>recordData</th>\n",
       "      <th>session</th>\n",
       "      <th>speaker</th>\n",
       "      <th>speech</th>\n",
       "      <th>speechOrder</th>\n",
       "      <th>speechRecord</th>\n",
       "    </tr>\n",
       "  </thead>\n",
       "  <tbody>\n",
       "    <tr>\n",
       "      <th>0</th>\n",
       "      <td>2015-03-10</td>\n",
       "      <td>1号</td>\n",
       "      <td>http://kokkai.ndl.go.jp/SENTAKU/syugiin/189/00...</td>\n",
       "      <td>衆議院</td>\n",
       "      <td>予算委員会第六分科会</td>\n",
       "      <td>http://kokkai.ndl.go.jp/SENTAKU/syugiin/189/00...</td>\n",
       "      <td></td>\n",
       "      <td></td>\n",
       "      <td>189</td>\n",
       "      <td>鈴木義弘</td>\n",
       "      <td>○鈴木（義）分科員ありがとうございます。 これも過去に質問したときに事例で使わせてもらったん...</td>\n",
       "      <td>355</td>\n",
       "      <td></td>\n",
       "    </tr>\n",
       "  </tbody>\n",
       "</table>\n",
       "</div>"
      ],
      "text/plain": [
       "         date issue                                         meetingURL  \\\n",
       "0  2015-03-10    1号  http://kokkai.ndl.go.jp/SENTAKU/syugiin/189/00...   \n",
       "\n",
       "  nameOfHouse nameOfMeeting  \\\n",
       "0         衆議院    予算委員会第六分科会   \n",
       "\n",
       "                                              pdfURL record recordData  \\\n",
       "0  http://kokkai.ndl.go.jp/SENTAKU/syugiin/189/00...                     \n",
       "\n",
       "  session speaker                                             speech  \\\n",
       "0     189    鈴木義弘  ○鈴木（義）分科員ありがとうございます。 これも過去に質問したときに事例で使わせてもらったん...   \n",
       "\n",
       "  speechOrder speechRecord  \n",
       "0         355               "
      ]
     },
     "execution_count": 24,
     "metadata": {},
     "output_type": "execute_result"
    }
   ],
   "source": [
    "ext_df2[:1]"
   ]
  },
  {
   "cell_type": "code",
   "execution_count": 25,
   "metadata": {
    "collapsed": true
   },
   "outputs": [],
   "source": [
    "resultsSave(ext_df2, path=\"/Users/\", name=\"diet2\",type=\"csv\")"
   ]
  }
 ],
 "metadata": {
  "kernelspec": {
   "display_name": "Python 3",
   "language": "python",
   "name": "python3"
  },
  "language_info": {
   "codemirror_mode": {
    "name": "ipython",
    "version": 3
   },
   "file_extension": ".py",
   "mimetype": "text/x-python",
   "name": "python",
   "nbconvert_exporter": "python",
   "pygments_lexer": "ipython3",
   "version": "3.6.0"
  }
 },
 "nbformat": 4,
 "nbformat_minor": 2
}

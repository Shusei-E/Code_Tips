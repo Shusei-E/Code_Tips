{
 "cells": [
  {
   "cell_type": "markdown",
   "metadata": {},
   "source": [
    "[Reference: tidyr::gather( )とtidyr::spread( )でデータフレームを自在に変形する](http://qiita.com/wakuteka/items/a16783571794f12af2ac)"
   ]
  },
  {
   "cell_type": "code",
   "execution_count": 2,
   "metadata": {
    "collapsed": false
   },
   "outputs": [],
   "source": [
    "library(dplyr)"
   ]
  },
  {
   "cell_type": "code",
   "execution_count": 3,
   "metadata": {
    "collapsed": true
   },
   "outputs": [],
   "source": [
    "set.seed(71)\n",
    "day_length <- 4\n",
    "stocks <- data.frame(\n",
    "  time = seq.Date(as.Date('2009-01-01'), by = \"day\", length.out = day_length),\n",
    "  X = rnorm(n = day_length, mean = 0, sd = 1),\n",
    "  Y = rnorm(n = day_length, mean = 0, sd = 2),\n",
    "  Z = rnorm(n = day_length, mean = 0, sd = 4)\n",
    ")"
   ]
  },
  {
   "cell_type": "code",
   "execution_count": 4,
   "metadata": {
    "collapsed": false
   },
   "outputs": [
    {
     "data": {
      "text/html": [
       "<table>\n",
       "<thead><tr><th scope=col>time</th><th scope=col>X</th><th scope=col>Y</th><th scope=col>Z</th></tr></thead>\n",
       "<tbody>\n",
       "\t<tr><td>2009-01-01</td><td>-0.4318422</td><td>-0.8358013</td><td>-4.433913 </td></tr>\n",
       "\t<tr><td>2009-01-02</td><td>-0.4471872</td><td>-2.3743278</td><td> 5.053723 </td></tr>\n",
       "\t<tr><td>2009-01-03</td><td>-0.4785726</td><td>-2.1445711</td><td> 1.171803 </td></tr>\n",
       "\t<tr><td>2009-01-04</td><td> 0.4171454</td><td> 2.0065677</td><td> 2.193100 </td></tr>\n",
       "</tbody>\n",
       "</table>\n"
      ],
      "text/latex": [
       "\\begin{tabular}{r|llll}\n",
       " time & X & Y & Z\\\\\n",
       "\\hline\n",
       "\t 2009-01-01 & -0.4318422 & -0.8358013 & -4.433913 \\\\\n",
       "\t 2009-01-02 & -0.4471872 & -2.3743278 &  5.053723 \\\\\n",
       "\t 2009-01-03 & -0.4785726 & -2.1445711 &  1.171803 \\\\\n",
       "\t 2009-01-04 &  0.4171454 &  2.0065677 &  2.193100 \\\\\n",
       "\\end{tabular}\n"
      ],
      "text/markdown": [
       "\n",
       "time | X | Y | Z | \n",
       "|---|---|---|---|\n",
       "| 2009-01-01 | -0.4318422 | -0.8358013 | -4.433913  | \n",
       "| 2009-01-02 | -0.4471872 | -2.3743278 |  5.053723  | \n",
       "| 2009-01-03 | -0.4785726 | -2.1445711 |  1.171803  | \n",
       "| 2009-01-04 |  0.4171454 |  2.0065677 |  2.193100  | \n",
       "\n",
       "\n"
      ],
      "text/plain": [
       "  time       X          Y          Z        \n",
       "1 2009-01-01 -0.4318422 -0.8358013 -4.433913\n",
       "2 2009-01-02 -0.4471872 -2.3743278  5.053723\n",
       "3 2009-01-03 -0.4785726 -2.1445711  1.171803\n",
       "4 2009-01-04  0.4171454  2.0065677  2.193100"
      ]
     },
     "metadata": {},
     "output_type": "display_data"
    }
   ],
   "source": [
    "stocks"
   ]
  },
  {
   "cell_type": "markdown",
   "metadata": {},
   "source": [
    "# gather "
   ]
  },
  {
   "cell_type": "markdown",
   "metadata": {},
   "source": [
    "分析対象(X, Y, Z...)が増えたとしても行だけが増えるようにしたい"
   ]
  },
  {
   "cell_type": "code",
   "execution_count": 5,
   "metadata": {
    "collapsed": false
   },
   "outputs": [
    {
     "data": {
      "text/html": [
       "<table>\n",
       "<thead><tr><th scope=col>time</th><th scope=col>stock</th><th scope=col>price</th></tr></thead>\n",
       "<tbody>\n",
       "\t<tr><td>2009-01-01</td><td>X         </td><td>-0.4318422</td></tr>\n",
       "\t<tr><td>2009-01-02</td><td>X         </td><td>-0.4471872</td></tr>\n",
       "\t<tr><td>2009-01-03</td><td>X         </td><td>-0.4785726</td></tr>\n",
       "\t<tr><td>2009-01-04</td><td>X         </td><td> 0.4171454</td></tr>\n",
       "\t<tr><td>2009-01-01</td><td>Y         </td><td>-0.8358013</td></tr>\n",
       "\t<tr><td>2009-01-02</td><td>Y         </td><td>-2.3743278</td></tr>\n",
       "\t<tr><td>2009-01-03</td><td>Y         </td><td>-2.1445711</td></tr>\n",
       "\t<tr><td>2009-01-04</td><td>Y         </td><td> 2.0065677</td></tr>\n",
       "\t<tr><td>2009-01-01</td><td>Z         </td><td>-4.4339130</td></tr>\n",
       "\t<tr><td>2009-01-02</td><td>Z         </td><td> 5.0537229</td></tr>\n",
       "\t<tr><td>2009-01-03</td><td>Z         </td><td> 1.1718029</td></tr>\n",
       "\t<tr><td>2009-01-04</td><td>Z         </td><td> 2.1931001</td></tr>\n",
       "</tbody>\n",
       "</table>\n"
      ],
      "text/latex": [
       "\\begin{tabular}{r|lll}\n",
       " time & stock & price\\\\\n",
       "\\hline\n",
       "\t 2009-01-01 & X          & -0.4318422\\\\\n",
       "\t 2009-01-02 & X          & -0.4471872\\\\\n",
       "\t 2009-01-03 & X          & -0.4785726\\\\\n",
       "\t 2009-01-04 & X          &  0.4171454\\\\\n",
       "\t 2009-01-01 & Y          & -0.8358013\\\\\n",
       "\t 2009-01-02 & Y          & -2.3743278\\\\\n",
       "\t 2009-01-03 & Y          & -2.1445711\\\\\n",
       "\t 2009-01-04 & Y          &  2.0065677\\\\\n",
       "\t 2009-01-01 & Z          & -4.4339130\\\\\n",
       "\t 2009-01-02 & Z          &  5.0537229\\\\\n",
       "\t 2009-01-03 & Z          &  1.1718029\\\\\n",
       "\t 2009-01-04 & Z          &  2.1931001\\\\\n",
       "\\end{tabular}\n"
      ],
      "text/markdown": [
       "\n",
       "time | stock | price | \n",
       "|---|---|---|---|---|---|---|---|---|---|---|---|\n",
       "| 2009-01-01 | X          | -0.4318422 | \n",
       "| 2009-01-02 | X          | -0.4471872 | \n",
       "| 2009-01-03 | X          | -0.4785726 | \n",
       "| 2009-01-04 | X          |  0.4171454 | \n",
       "| 2009-01-01 | Y          | -0.8358013 | \n",
       "| 2009-01-02 | Y          | -2.3743278 | \n",
       "| 2009-01-03 | Y          | -2.1445711 | \n",
       "| 2009-01-04 | Y          |  2.0065677 | \n",
       "| 2009-01-01 | Z          | -4.4339130 | \n",
       "| 2009-01-02 | Z          |  5.0537229 | \n",
       "| 2009-01-03 | Z          |  1.1718029 | \n",
       "| 2009-01-04 | Z          |  2.1931001 | \n",
       "\n",
       "\n"
      ],
      "text/plain": [
       "   time       stock price     \n",
       "1  2009-01-01 X     -0.4318422\n",
       "2  2009-01-02 X     -0.4471872\n",
       "3  2009-01-03 X     -0.4785726\n",
       "4  2009-01-04 X      0.4171454\n",
       "5  2009-01-01 Y     -0.8358013\n",
       "6  2009-01-02 Y     -2.3743278\n",
       "7  2009-01-03 Y     -2.1445711\n",
       "8  2009-01-04 Y      2.0065677\n",
       "9  2009-01-01 Z     -4.4339130\n",
       "10 2009-01-02 Z      5.0537229\n",
       "11 2009-01-03 Z      1.1718029\n",
       "12 2009-01-04 Z      2.1931001"
      ]
     },
     "metadata": {},
     "output_type": "display_data"
    }
   ],
   "source": [
    "stocks %>%\n",
    "  tidyr::gather(key = stock, value = price, X, Y, Z) # X, Y, Zのところはいくつ繋げてもOK"
   ]
  },
  {
   "cell_type": "code",
   "execution_count": 6,
   "metadata": {
    "collapsed": false
   },
   "outputs": [
    {
     "data": {
      "text/html": [
       "<table>\n",
       "<thead><tr><th scope=col>time</th><th scope=col>stock</th><th scope=col>price</th></tr></thead>\n",
       "<tbody>\n",
       "\t<tr><td>2009-01-01</td><td>X         </td><td>-0.4318422</td></tr>\n",
       "\t<tr><td>2009-01-02</td><td>X         </td><td>-0.4471872</td></tr>\n",
       "\t<tr><td>2009-01-03</td><td>X         </td><td>-0.4785726</td></tr>\n",
       "\t<tr><td>2009-01-04</td><td>X         </td><td> 0.4171454</td></tr>\n",
       "\t<tr><td>2009-01-01</td><td>Y         </td><td>-0.8358013</td></tr>\n",
       "\t<tr><td>2009-01-02</td><td>Y         </td><td>-2.3743278</td></tr>\n",
       "</tbody>\n",
       "</table>\n"
      ],
      "text/latex": [
       "\\begin{tabular}{r|lll}\n",
       " time & stock & price\\\\\n",
       "\\hline\n",
       "\t 2009-01-01 & X          & -0.4318422\\\\\n",
       "\t 2009-01-02 & X          & -0.4471872\\\\\n",
       "\t 2009-01-03 & X          & -0.4785726\\\\\n",
       "\t 2009-01-04 & X          &  0.4171454\\\\\n",
       "\t 2009-01-01 & Y          & -0.8358013\\\\\n",
       "\t 2009-01-02 & Y          & -2.3743278\\\\\n",
       "\\end{tabular}\n"
      ],
      "text/markdown": [
       "\n",
       "time | stock | price | \n",
       "|---|---|---|---|---|---|\n",
       "| 2009-01-01 | X          | -0.4318422 | \n",
       "| 2009-01-02 | X          | -0.4471872 | \n",
       "| 2009-01-03 | X          | -0.4785726 | \n",
       "| 2009-01-04 | X          |  0.4171454 | \n",
       "| 2009-01-01 | Y          | -0.8358013 | \n",
       "| 2009-01-02 | Y          | -2.3743278 | \n",
       "\n",
       "\n"
      ],
      "text/plain": [
       "  time       stock price     \n",
       "1 2009-01-01 X     -0.4318422\n",
       "2 2009-01-02 X     -0.4471872\n",
       "3 2009-01-03 X     -0.4785726\n",
       "4 2009-01-04 X      0.4171454\n",
       "5 2009-01-01 Y     -0.8358013\n",
       "6 2009-01-02 Y     -2.3743278"
      ]
     },
     "metadata": {},
     "output_type": "display_data"
    }
   ],
   "source": [
    "stocks %>%\n",
    "  tidyr::gather(key = stock, value = price, X:Z) %>% head()"
   ]
  },
  {
   "cell_type": "code",
   "execution_count": 7,
   "metadata": {
    "collapsed": false
   },
   "outputs": [
    {
     "data": {
      "text/html": [
       "<table>\n",
       "<thead><tr><th scope=col>time</th><th scope=col>stock</th><th scope=col>price</th></tr></thead>\n",
       "<tbody>\n",
       "\t<tr><td>2009-01-01</td><td>X         </td><td>-0.4318422</td></tr>\n",
       "\t<tr><td>2009-01-02</td><td>X         </td><td>-0.4471872</td></tr>\n",
       "\t<tr><td>2009-01-03</td><td>X         </td><td>-0.4785726</td></tr>\n",
       "\t<tr><td>2009-01-04</td><td>X         </td><td> 0.4171454</td></tr>\n",
       "\t<tr><td>2009-01-01</td><td>Y         </td><td>-0.8358013</td></tr>\n",
       "\t<tr><td>2009-01-02</td><td>Y         </td><td>-2.3743278</td></tr>\n",
       "</tbody>\n",
       "</table>\n"
      ],
      "text/latex": [
       "\\begin{tabular}{r|lll}\n",
       " time & stock & price\\\\\n",
       "\\hline\n",
       "\t 2009-01-01 & X          & -0.4318422\\\\\n",
       "\t 2009-01-02 & X          & -0.4471872\\\\\n",
       "\t 2009-01-03 & X          & -0.4785726\\\\\n",
       "\t 2009-01-04 & X          &  0.4171454\\\\\n",
       "\t 2009-01-01 & Y          & -0.8358013\\\\\n",
       "\t 2009-01-02 & Y          & -2.3743278\\\\\n",
       "\\end{tabular}\n"
      ],
      "text/markdown": [
       "\n",
       "time | stock | price | \n",
       "|---|---|---|---|---|---|\n",
       "| 2009-01-01 | X          | -0.4318422 | \n",
       "| 2009-01-02 | X          | -0.4471872 | \n",
       "| 2009-01-03 | X          | -0.4785726 | \n",
       "| 2009-01-04 | X          |  0.4171454 | \n",
       "| 2009-01-01 | Y          | -0.8358013 | \n",
       "| 2009-01-02 | Y          | -2.3743278 | \n",
       "\n",
       "\n"
      ],
      "text/plain": [
       "  time       stock price     \n",
       "1 2009-01-01 X     -0.4318422\n",
       "2 2009-01-02 X     -0.4471872\n",
       "3 2009-01-03 X     -0.4785726\n",
       "4 2009-01-04 X      0.4171454\n",
       "5 2009-01-01 Y     -0.8358013\n",
       "6 2009-01-02 Y     -2.3743278"
      ]
     },
     "metadata": {},
     "output_type": "display_data"
    }
   ],
   "source": [
    "stocks %>%\n",
    "  tidyr::gather(key = stock, value = price, -time) %>% head()"
   ]
  },
  {
   "cell_type": "code",
   "execution_count": 8,
   "metadata": {
    "collapsed": false
   },
   "outputs": [
    {
     "data": {
      "text/html": [
       "<table>\n",
       "<thead><tr><th scope=col>time</th><th scope=col>stock</th><th scope=col>price</th></tr></thead>\n",
       "<tbody>\n",
       "\t<tr><td>2009-01-01</td><td>X         </td><td>-0.4318422</td></tr>\n",
       "\t<tr><td>2009-01-02</td><td>X         </td><td>-0.4471872</td></tr>\n",
       "\t<tr><td>2009-01-03</td><td>X         </td><td>-0.4785726</td></tr>\n",
       "\t<tr><td>2009-01-04</td><td>X         </td><td> 0.4171454</td></tr>\n",
       "\t<tr><td>2009-01-01</td><td>Y         </td><td>-0.8358013</td></tr>\n",
       "\t<tr><td>2009-01-02</td><td>Y         </td><td>-2.3743278</td></tr>\n",
       "</tbody>\n",
       "</table>\n"
      ],
      "text/latex": [
       "\\begin{tabular}{r|lll}\n",
       " time & stock & price\\\\\n",
       "\\hline\n",
       "\t 2009-01-01 & X          & -0.4318422\\\\\n",
       "\t 2009-01-02 & X          & -0.4471872\\\\\n",
       "\t 2009-01-03 & X          & -0.4785726\\\\\n",
       "\t 2009-01-04 & X          &  0.4171454\\\\\n",
       "\t 2009-01-01 & Y          & -0.8358013\\\\\n",
       "\t 2009-01-02 & Y          & -2.3743278\\\\\n",
       "\\end{tabular}\n"
      ],
      "text/markdown": [
       "\n",
       "time | stock | price | \n",
       "|---|---|---|---|---|---|\n",
       "| 2009-01-01 | X          | -0.4318422 | \n",
       "| 2009-01-02 | X          | -0.4471872 | \n",
       "| 2009-01-03 | X          | -0.4785726 | \n",
       "| 2009-01-04 | X          |  0.4171454 | \n",
       "| 2009-01-01 | Y          | -0.8358013 | \n",
       "| 2009-01-02 | Y          | -2.3743278 | \n",
       "\n",
       "\n"
      ],
      "text/plain": [
       "  time       stock price     \n",
       "1 2009-01-01 X     -0.4318422\n",
       "2 2009-01-02 X     -0.4471872\n",
       "3 2009-01-03 X     -0.4785726\n",
       "4 2009-01-04 X      0.4171454\n",
       "5 2009-01-01 Y     -0.8358013\n",
       "6 2009-01-02 Y     -2.3743278"
      ]
     },
     "metadata": {},
     "output_type": "display_data"
    }
   ],
   "source": [
    "stocks %>%\n",
    "  tidyr::gather(key = stock, value = price, -starts_with(\"time\")) %>% head() # select()と同じように指定できる"
   ]
  },
  {
   "cell_type": "markdown",
   "metadata": {},
   "source": [
    "# spread"
   ]
  },
  {
   "cell_type": "code",
   "execution_count": 9,
   "metadata": {
    "collapsed": true
   },
   "outputs": [],
   "source": [
    "temp <- stocks %>% tidyr::gather(key = stock, value = price, -starts_with(\"time\"))"
   ]
  },
  {
   "cell_type": "code",
   "execution_count": 10,
   "metadata": {
    "collapsed": false
   },
   "outputs": [
    {
     "data": {
      "text/html": [
       "<table>\n",
       "<thead><tr><th scope=col>time</th><th scope=col>X</th><th scope=col>Y</th><th scope=col>Z</th></tr></thead>\n",
       "<tbody>\n",
       "\t<tr><td>2009-01-01</td><td>-0.4318422</td><td>-0.8358013</td><td>-4.433913 </td></tr>\n",
       "\t<tr><td>2009-01-02</td><td>-0.4471872</td><td>-2.3743278</td><td> 5.053723 </td></tr>\n",
       "\t<tr><td>2009-01-03</td><td>-0.4785726</td><td>-2.1445711</td><td> 1.171803 </td></tr>\n",
       "\t<tr><td>2009-01-04</td><td> 0.4171454</td><td> 2.0065677</td><td> 2.193100 </td></tr>\n",
       "</tbody>\n",
       "</table>\n"
      ],
      "text/latex": [
       "\\begin{tabular}{r|llll}\n",
       " time & X & Y & Z\\\\\n",
       "\\hline\n",
       "\t 2009-01-01 & -0.4318422 & -0.8358013 & -4.433913 \\\\\n",
       "\t 2009-01-02 & -0.4471872 & -2.3743278 &  5.053723 \\\\\n",
       "\t 2009-01-03 & -0.4785726 & -2.1445711 &  1.171803 \\\\\n",
       "\t 2009-01-04 &  0.4171454 &  2.0065677 &  2.193100 \\\\\n",
       "\\end{tabular}\n"
      ],
      "text/markdown": [
       "\n",
       "time | X | Y | Z | \n",
       "|---|---|---|---|\n",
       "| 2009-01-01 | -0.4318422 | -0.8358013 | -4.433913  | \n",
       "| 2009-01-02 | -0.4471872 | -2.3743278 |  5.053723  | \n",
       "| 2009-01-03 | -0.4785726 | -2.1445711 |  1.171803  | \n",
       "| 2009-01-04 |  0.4171454 |  2.0065677 |  2.193100  | \n",
       "\n",
       "\n"
      ],
      "text/plain": [
       "  time       X          Y          Z        \n",
       "1 2009-01-01 -0.4318422 -0.8358013 -4.433913\n",
       "2 2009-01-02 -0.4471872 -2.3743278  5.053723\n",
       "3 2009-01-03 -0.4785726 -2.1445711  1.171803\n",
       "4 2009-01-04  0.4171454  2.0065677  2.193100"
      ]
     },
     "metadata": {},
     "output_type": "display_data"
    }
   ],
   "source": [
    "temp %>%\n",
    "  tidyr::spread(key = stock, value = price)"
   ]
  },
  {
   "cell_type": "code",
   "execution_count": 11,
   "metadata": {
    "collapsed": false
   },
   "outputs": [
    {
     "data": {
      "text/html": [
       "<table>\n",
       "<thead><tr><th scope=col>stock</th><th scope=col>2009-01-01</th><th scope=col>2009-01-02</th><th scope=col>2009-01-03</th><th scope=col>2009-01-04</th></tr></thead>\n",
       "<tbody>\n",
       "\t<tr><td>X         </td><td>-0.4318422</td><td>-0.4471872</td><td>-0.4785726</td><td>0.4171454 </td></tr>\n",
       "\t<tr><td>Y         </td><td>-0.8358013</td><td>-2.3743278</td><td>-2.1445711</td><td>2.0065677 </td></tr>\n",
       "\t<tr><td>Z         </td><td>-4.4339130</td><td> 5.0537229</td><td> 1.1718029</td><td>2.1931001 </td></tr>\n",
       "</tbody>\n",
       "</table>\n"
      ],
      "text/latex": [
       "\\begin{tabular}{r|lllll}\n",
       " stock & 2009-01-01 & 2009-01-02 & 2009-01-03 & 2009-01-04\\\\\n",
       "\\hline\n",
       "\t X          & -0.4318422 & -0.4471872 & -0.4785726 & 0.4171454 \\\\\n",
       "\t Y          & -0.8358013 & -2.3743278 & -2.1445711 & 2.0065677 \\\\\n",
       "\t Z          & -4.4339130 &  5.0537229 &  1.1718029 & 2.1931001 \\\\\n",
       "\\end{tabular}\n"
      ],
      "text/markdown": [
       "\n",
       "stock | 2009-01-01 | 2009-01-02 | 2009-01-03 | 2009-01-04 | \n",
       "|---|---|---|\n",
       "| X          | -0.4318422 | -0.4471872 | -0.4785726 | 0.4171454  | \n",
       "| Y          | -0.8358013 | -2.3743278 | -2.1445711 | 2.0065677  | \n",
       "| Z          | -4.4339130 |  5.0537229 |  1.1718029 | 2.1931001  | \n",
       "\n",
       "\n"
      ],
      "text/plain": [
       "  stock 2009-01-01 2009-01-02 2009-01-03 2009-01-04\n",
       "1 X     -0.4318422 -0.4471872 -0.4785726 0.4171454 \n",
       "2 Y     -0.8358013 -2.3743278 -2.1445711 2.0065677 \n",
       "3 Z     -4.4339130  5.0537229  1.1718029 2.1931001 "
      ]
     },
     "metadata": {},
     "output_type": "display_data"
    }
   ],
   "source": [
    "temp %>%\n",
    "  tidyr::spread(key = time, value = price)"
   ]
  },
  {
   "cell_type": "markdown",
   "metadata": {},
   "source": [
    "## 追加情報"
   ]
  },
  {
   "cell_type": "markdown",
   "metadata": {},
   "source": [
    "* `na.rm = TRUE` optionもある\n",
    "* `convert = TRUE` で暗黙の型変換を防ぐ"
   ]
  }
 ],
 "metadata": {
  "kernelspec": {
   "display_name": "R",
   "language": "R",
   "name": "ir"
  },
  "language_info": {
   "codemirror_mode": "r",
   "file_extension": ".r",
   "mimetype": "text/x-r-source",
   "name": "R",
   "pygments_lexer": "r",
   "version": "3.3.2"
  }
 },
 "nbformat": 4,
 "nbformat_minor": 2
}

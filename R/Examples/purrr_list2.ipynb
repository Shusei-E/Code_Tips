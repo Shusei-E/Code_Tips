{
 "cells": [
  {
   "cell_type": "markdown",
   "metadata": {},
   "source": [
    "[Reference](http://sinhrks.hatenablog.com/entry/2015/11/28/213859)        \n",
    "解説されているものの一部"
   ]
  },
  {
   "cell_type": "code",
   "execution_count": 1,
   "metadata": {
    "collapsed": false
   },
   "outputs": [],
   "source": [
    "library(pipeR)\n",
    "library(purrr)"
   ]
  },
  {
   "cell_type": "code",
   "execution_count": 2,
   "metadata": {
    "collapsed": true
   },
   "outputs": [],
   "source": [
    "packages <- list(\n",
    "  list(name = 'dplyr', star = 979L, maintainer = 'hadley' , authors = c('hadley', 'romain')),\n",
    "  list(name = 'ggplot2', star = 1546L, maintainer = 'hadley' , authors = c('hadley')),\n",
    "  list(name = 'knitr', star = 1047L, maintainer = 'yihui' , authors = c('yihui', 'hadley', '...and all'))\n",
    ")"
   ]
  },
  {
   "cell_type": "markdown",
   "metadata": {},
   "source": [
    "## レコードの選択"
   ]
  },
  {
   "cell_type": "code",
   "execution_count": 3,
   "metadata": {
    "collapsed": false
   },
   "outputs": [
    {
     "data": {
      "text/html": [
       "<ol>\n",
       "\t<li><dl>\n",
       "\t<dt>$name</dt>\n",
       "\t\t<dd>'ggplot2'</dd>\n",
       "\t<dt>$star</dt>\n",
       "\t\t<dd>1546</dd>\n",
       "\t<dt>$maintainer</dt>\n",
       "\t\t<dd>'hadley'</dd>\n",
       "\t<dt>$authors</dt>\n",
       "\t\t<dd>'hadley'</dd>\n",
       "</dl>\n",
       "</li>\n",
       "</ol>\n"
      ],
      "text/latex": [
       "\\begin{enumerate}\n",
       "\\item \\begin{description}\n",
       "\\item[\\$name] 'ggplot2'\n",
       "\\item[\\$star] 1546\n",
       "\\item[\\$maintainer] 'hadley'\n",
       "\\item[\\$authors] 'hadley'\n",
       "\\end{description}\n",
       "\n",
       "\\end{enumerate}\n"
      ],
      "text/markdown": [
       "1. $name\n",
       ":   'ggplot2'\n",
       "$star\n",
       ":   1546\n",
       "$maintainer\n",
       ":   'hadley'\n",
       "$authors\n",
       ":   'hadley'\n",
       "\n",
       "\n",
       "\n",
       "\n",
       "\n"
      ],
      "text/plain": [
       "[[1]]\n",
       "[[1]]$name\n",
       "[1] \"ggplot2\"\n",
       "\n",
       "[[1]]$star\n",
       "[1] 1546\n",
       "\n",
       "[[1]]$maintainer\n",
       "[1] \"hadley\"\n",
       "\n",
       "[[1]]$authors\n",
       "[1] \"hadley\"\n",
       "\n"
      ]
     },
     "metadata": {},
     "output_type": "display_data"
    }
   ],
   "source": [
    "packages %>% purrr::keep(~ . $star >= 1000) %>% head(1)"
   ]
  },
  {
   "cell_type": "code",
   "execution_count": 4,
   "metadata": {
    "collapsed": false
   },
   "outputs": [
    {
     "data": {
      "text/html": [
       "<dl>\n",
       "\t<dt>$name</dt>\n",
       "\t\t<dd>'ggplot2'</dd>\n",
       "\t<dt>$star</dt>\n",
       "\t\t<dd>1546</dd>\n",
       "\t<dt>$maintainer</dt>\n",
       "\t\t<dd>'hadley'</dd>\n",
       "\t<dt>$authors</dt>\n",
       "\t\t<dd>'hadley'</dd>\n",
       "</dl>\n"
      ],
      "text/latex": [
       "\\begin{description}\n",
       "\\item[\\$name] 'ggplot2'\n",
       "\\item[\\$star] 1546\n",
       "\\item[\\$maintainer] 'hadley'\n",
       "\\item[\\$authors] 'hadley'\n",
       "\\end{description}\n"
      ],
      "text/markdown": [
       "$name\n",
       ":   'ggplot2'\n",
       "$star\n",
       ":   1546\n",
       "$maintainer\n",
       ":   'hadley'\n",
       "$authors\n",
       ":   'hadley'\n",
       "\n",
       "\n"
      ],
      "text/plain": [
       "$name\n",
       "[1] \"ggplot2\"\n",
       "\n",
       "$star\n",
       "[1] 1546\n",
       "\n",
       "$maintainer\n",
       "[1] \"hadley\"\n",
       "\n",
       "$authors\n",
       "[1] \"hadley\"\n"
      ]
     },
     "metadata": {},
     "output_type": "display_data"
    }
   ],
   "source": [
    "# 1 レベル目が入れ子として残さない\n",
    "packages %>% purrr::keep(~ . $star >= 1000) %>% head(1) %>% flatten()"
   ]
  },
  {
   "cell_type": "code",
   "execution_count": 5,
   "metadata": {
    "collapsed": false
   },
   "outputs": [
    {
     "data": {
      "text/html": [
       "<ol>\n",
       "\t<li><dl>\n",
       "\t<dt>$name</dt>\n",
       "\t\t<dd>'dplyr'</dd>\n",
       "\t<dt>$star</dt>\n",
       "\t\t<dd>979</dd>\n",
       "\t<dt>$maintainer</dt>\n",
       "\t\t<dd>'hadley'</dd>\n",
       "\t<dt>$authors</dt>\n",
       "\t\t<dd><ol class=list-inline>\n",
       "\t<li>'hadley'</li>\n",
       "\t<li>'romain'</li>\n",
       "</ol>\n",
       "</dd>\n",
       "</dl>\n",
       "</li>\n",
       "</ol>\n"
      ],
      "text/latex": [
       "\\begin{enumerate}\n",
       "\\item \\begin{description}\n",
       "\\item[\\$name] 'dplyr'\n",
       "\\item[\\$star] 979\n",
       "\\item[\\$maintainer] 'hadley'\n",
       "\\item[\\$authors] \\begin{enumerate*}\n",
       "\\item 'hadley'\n",
       "\\item 'romain'\n",
       "\\end{enumerate*}\n",
       "\n",
       "\\end{description}\n",
       "\n",
       "\\end{enumerate}\n"
      ],
      "text/markdown": [
       "1. $name\n",
       ":   'dplyr'\n",
       "$star\n",
       ":   979\n",
       "$maintainer\n",
       ":   'hadley'\n",
       "$authors\n",
       ":   1. 'hadley'\n",
       "2. 'romain'\n",
       "\n",
       "\n",
       "\n",
       "\n",
       "\n",
       "\n",
       "\n",
       "\n"
      ],
      "text/plain": [
       "[[1]]\n",
       "[[1]]$name\n",
       "[1] \"dplyr\"\n",
       "\n",
       "[[1]]$star\n",
       "[1] 979\n",
       "\n",
       "[[1]]$maintainer\n",
       "[1] \"hadley\"\n",
       "\n",
       "[[1]]$authors\n",
       "[1] \"hadley\" \"romain\"\n",
       "\n"
      ]
     },
     "metadata": {},
     "output_type": "display_data"
    }
   ],
   "source": [
    "# ある条件が初めて偽となるまでレコードを取得する場合\n",
    "packages %>% purrr::head_while(~ .$star <= 1500)"
   ]
  },
  {
   "cell_type": "code",
   "execution_count": 6,
   "metadata": {
    "collapsed": false
   },
   "outputs": [
    {
     "data": {
      "text/html": [
       "2"
      ],
      "text/latex": [
       "2"
      ],
      "text/markdown": [
       "2"
      ],
      "text/plain": [
       "[1] 2"
      ]
     },
     "metadata": {},
     "output_type": "display_data"
    }
   ],
   "source": [
    "# ある条件を満たす要素がいくつあるか\n",
    "purrr::keep(packages, ~ .$star > 1000) %>% length()"
   ]
  },
  {
   "cell_type": "markdown",
   "metadata": {},
   "source": [
    "## logicalの処理"
   ]
  },
  {
   "cell_type": "code",
   "execution_count": 7,
   "metadata": {
    "collapsed": false
   },
   "outputs": [
    {
     "data": {
      "text/html": [
       "<ol class=list-inline>\n",
       "\t<li>TRUE</li>\n",
       "\t<li>FALSE</li>\n",
       "\t<li>TRUE</li>\n",
       "</ol>\n"
      ],
      "text/latex": [
       "\\begin{enumerate*}\n",
       "\\item TRUE\n",
       "\\item FALSE\n",
       "\\item TRUE\n",
       "\\end{enumerate*}\n"
      ],
      "text/markdown": [
       "1. TRUE\n",
       "2. FALSE\n",
       "3. TRUE\n",
       "\n",
       "\n"
      ],
      "text/plain": [
       "[1]  TRUE FALSE  TRUE"
      ]
     },
     "metadata": {},
     "output_type": "display_data"
    }
   ],
   "source": [
    "packages %>% purrr::map_lgl(~ .$star < 1500)"
   ]
  },
  {
   "cell_type": "markdown",
   "metadata": {},
   "source": [
    "## 要素の削除"
   ]
  },
  {
   "cell_type": "code",
   "execution_count": 8,
   "metadata": {
    "collapsed": false
   },
   "outputs": [
    {
     "data": {
      "text/html": [
       "<ol>\n",
       "\t<li><dl>\n",
       "\t<dt>$name</dt>\n",
       "\t\t<dd>'dplyr'</dd>\n",
       "\t<dt>$star</dt>\n",
       "\t\t<dd>979</dd>\n",
       "\t<dt>$maintainer</dt>\n",
       "\t\t<dd>'hadley'</dd>\n",
       "\t<dt>$authors</dt>\n",
       "\t\t<dd><ol class=list-inline>\n",
       "\t<li>'hadley'</li>\n",
       "\t<li>'romain'</li>\n",
       "</ol>\n",
       "</dd>\n",
       "</dl>\n",
       "</li>\n",
       "\t<li><dl>\n",
       "\t<dt>$name</dt>\n",
       "\t\t<dd>'ggplot2'</dd>\n",
       "\t<dt>$star</dt>\n",
       "\t\t<dd>1546</dd>\n",
       "\t<dt>$maintainer</dt>\n",
       "\t\t<dd>'hadley'</dd>\n",
       "\t<dt>$authors</dt>\n",
       "\t\t<dd>'hadley'</dd>\n",
       "</dl>\n",
       "</li>\n",
       "</ol>\n"
      ],
      "text/latex": [
       "\\begin{enumerate}\n",
       "\\item \\begin{description}\n",
       "\\item[\\$name] 'dplyr'\n",
       "\\item[\\$star] 979\n",
       "\\item[\\$maintainer] 'hadley'\n",
       "\\item[\\$authors] \\begin{enumerate*}\n",
       "\\item 'hadley'\n",
       "\\item 'romain'\n",
       "\\end{enumerate*}\n",
       "\n",
       "\\end{description}\n",
       "\n",
       "\\item \\begin{description}\n",
       "\\item[\\$name] 'ggplot2'\n",
       "\\item[\\$star] 1546\n",
       "\\item[\\$maintainer] 'hadley'\n",
       "\\item[\\$authors] 'hadley'\n",
       "\\end{description}\n",
       "\n",
       "\\end{enumerate}\n"
      ],
      "text/markdown": [
       "1. $name\n",
       ":   'dplyr'\n",
       "$star\n",
       ":   979\n",
       "$maintainer\n",
       ":   'hadley'\n",
       "$authors\n",
       ":   1. 'hadley'\n",
       "2. 'romain'\n",
       "\n",
       "\n",
       "\n",
       "\n",
       "\n",
       "\n",
       "2. $name\n",
       ":   'ggplot2'\n",
       "$star\n",
       ":   1546\n",
       "$maintainer\n",
       ":   'hadley'\n",
       "$authors\n",
       ":   'hadley'\n",
       "\n",
       "\n",
       "\n",
       "\n",
       "\n"
      ],
      "text/plain": [
       "[[1]]\n",
       "[[1]]$name\n",
       "[1] \"dplyr\"\n",
       "\n",
       "[[1]]$star\n",
       "[1] 979\n",
       "\n",
       "[[1]]$maintainer\n",
       "[1] \"hadley\"\n",
       "\n",
       "[[1]]$authors\n",
       "[1] \"hadley\" \"romain\"\n",
       "\n",
       "\n",
       "[[2]]\n",
       "[[2]]$name\n",
       "[1] \"ggplot2\"\n",
       "\n",
       "[[2]]$star\n",
       "[1] 1546\n",
       "\n",
       "[[2]]$maintainer\n",
       "[1] \"hadley\"\n",
       "\n",
       "[[2]]$authors\n",
       "[1] \"hadley\"\n",
       "\n"
      ]
     },
     "metadata": {},
     "output_type": "display_data"
    }
   ],
   "source": [
    "packages %>% purrr::discard(~ \"yihui\" %in% .$authors)"
   ]
  },
  {
   "cell_type": "markdown",
   "metadata": {},
   "source": [
    "## 要素の更新"
   ]
  },
  {
   "cell_type": "code",
   "execution_count": 9,
   "metadata": {
    "collapsed": false
   },
   "outputs": [
    {
     "data": {
      "text/html": [
       "<ol>\n",
       "\t<li><dl>\n",
       "\t<dt>$name</dt>\n",
       "\t\t<dd>'ggplot2'</dd>\n",
       "\t<dt>$star</dt>\n",
       "\t\t<dd>1547</dd>\n",
       "\t<dt>$maintainer</dt>\n",
       "\t\t<dd>'hadley'</dd>\n",
       "\t<dt>$authors</dt>\n",
       "\t\t<dd>'hadley'</dd>\n",
       "\t<dt>$lang</dt>\n",
       "\t\t<dd>'R'</dd>\n",
       "</dl>\n",
       "</li>\n",
       "</ol>\n"
      ],
      "text/latex": [
       "\\begin{enumerate}\n",
       "\\item \\begin{description}\n",
       "\\item[\\$name] 'ggplot2'\n",
       "\\item[\\$star] 1547\n",
       "\\item[\\$maintainer] 'hadley'\n",
       "\\item[\\$authors] 'hadley'\n",
       "\\item[\\$lang] 'R'\n",
       "\\end{description}\n",
       "\n",
       "\\end{enumerate}\n"
      ],
      "text/markdown": [
       "1. $name\n",
       ":   'ggplot2'\n",
       "$star\n",
       ":   1547\n",
       "$maintainer\n",
       ":   'hadley'\n",
       "$authors\n",
       ":   'hadley'\n",
       "$lang\n",
       ":   'R'\n",
       "\n",
       "\n",
       "\n",
       "\n",
       "\n"
      ],
      "text/plain": [
       "[[1]]\n",
       "[[1]]$name\n",
       "[1] \"ggplot2\"\n",
       "\n",
       "[[1]]$star\n",
       "[1] 1547\n",
       "\n",
       "[[1]]$maintainer\n",
       "[1] \"hadley\"\n",
       "\n",
       "[[1]]$authors\n",
       "[1] \"hadley\"\n",
       "\n",
       "[[1]]$lang\n",
       "[1] \"R\"\n",
       "\n"
      ]
     },
     "metadata": {},
     "output_type": "display_data"
    }
   ],
   "source": [
    "packages %>% purrr::keep(~ . $star >= 1200)  %>% \n",
    "    purrr::map(~ purrr::update_list(., lang = 'R', star = ~ .$star + 1))"
   ]
  },
  {
   "cell_type": "code",
   "execution_count": 10,
   "metadata": {
    "collapsed": false
   },
   "outputs": [
    {
     "data": {
      "text/html": [
       "<ol>\n",
       "\t<li><dl>\n",
       "\t<dt>$name</dt>\n",
       "\t\t<dd>'dplyr'</dd>\n",
       "\t<dt>$star</dt>\n",
       "\t\t<dd>979</dd>\n",
       "</dl>\n",
       "</li>\n",
       "\t<li><dl>\n",
       "\t<dt>$name</dt>\n",
       "\t\t<dd>'ggplot2'</dd>\n",
       "\t<dt>$star</dt>\n",
       "\t\t<dd>1546</dd>\n",
       "</dl>\n",
       "</li>\n",
       "\t<li><dl>\n",
       "\t<dt>$name</dt>\n",
       "\t\t<dd>'knitr'</dd>\n",
       "\t<dt>$star</dt>\n",
       "\t\t<dd>1047</dd>\n",
       "</dl>\n",
       "</li>\n",
       "</ol>\n"
      ],
      "text/latex": [
       "\\begin{enumerate}\n",
       "\\item \\begin{description}\n",
       "\\item[\\$name] 'dplyr'\n",
       "\\item[\\$star] 979\n",
       "\\end{description}\n",
       "\n",
       "\\item \\begin{description}\n",
       "\\item[\\$name] 'ggplot2'\n",
       "\\item[\\$star] 1546\n",
       "\\end{description}\n",
       "\n",
       "\\item \\begin{description}\n",
       "\\item[\\$name] 'knitr'\n",
       "\\item[\\$star] 1047\n",
       "\\end{description}\n",
       "\n",
       "\\end{enumerate}\n"
      ],
      "text/markdown": [
       "1. $name\n",
       ":   'dplyr'\n",
       "$star\n",
       ":   979\n",
       "\n",
       "\n",
       "\n",
       "2. $name\n",
       ":   'ggplot2'\n",
       "$star\n",
       ":   1546\n",
       "\n",
       "\n",
       "\n",
       "3. $name\n",
       ":   'knitr'\n",
       "$star\n",
       ":   1047\n",
       "\n",
       "\n",
       "\n",
       "\n",
       "\n"
      ],
      "text/plain": [
       "[[1]]\n",
       "[[1]]$name\n",
       "[1] \"dplyr\"\n",
       "\n",
       "[[1]]$star\n",
       "[1] 979\n",
       "\n",
       "\n",
       "[[2]]\n",
       "[[2]]$name\n",
       "[1] \"ggplot2\"\n",
       "\n",
       "[[2]]$star\n",
       "[1] 1546\n",
       "\n",
       "\n",
       "[[3]]\n",
       "[[3]]$name\n",
       "[1] \"knitr\"\n",
       "\n",
       "[[3]]$star\n",
       "[1] 1047\n",
       "\n"
      ]
     },
     "metadata": {},
     "output_type": "display_data"
    }
   ],
   "source": [
    "# 要素を取り除く\n",
    "packages %>% purrr::map(~ purrr::update_list(., maintainer = NULL, authors = NULL))"
   ]
  },
  {
   "cell_type": "markdown",
   "metadata": {},
   "source": [
    "## ソート"
   ]
  },
  {
   "cell_type": "code",
   "execution_count": 11,
   "metadata": {
    "collapsed": false
   },
   "outputs": [
    {
     "data": {
      "text/html": [
       "<ol>\n",
       "\t<li><dl>\n",
       "\t<dt>$name</dt>\n",
       "\t\t<dd>'dplyr'</dd>\n",
       "\t<dt>$star</dt>\n",
       "\t\t<dd>979</dd>\n",
       "\t<dt>$maintainer</dt>\n",
       "\t\t<dd>'hadley'</dd>\n",
       "\t<dt>$authors</dt>\n",
       "\t\t<dd><ol class=list-inline>\n",
       "\t<li>'hadley'</li>\n",
       "\t<li>'romain'</li>\n",
       "</ol>\n",
       "</dd>\n",
       "</dl>\n",
       "</li>\n",
       "</ol>\n"
      ],
      "text/latex": [
       "\\begin{enumerate}\n",
       "\\item \\begin{description}\n",
       "\\item[\\$name] 'dplyr'\n",
       "\\item[\\$star] 979\n",
       "\\item[\\$maintainer] 'hadley'\n",
       "\\item[\\$authors] \\begin{enumerate*}\n",
       "\\item 'hadley'\n",
       "\\item 'romain'\n",
       "\\end{enumerate*}\n",
       "\n",
       "\\end{description}\n",
       "\n",
       "\\end{enumerate}\n"
      ],
      "text/markdown": [
       "1. $name\n",
       ":   'dplyr'\n",
       "$star\n",
       ":   979\n",
       "$maintainer\n",
       ":   'hadley'\n",
       "$authors\n",
       ":   1. 'hadley'\n",
       "2. 'romain'\n",
       "\n",
       "\n",
       "\n",
       "\n",
       "\n",
       "\n",
       "\n",
       "\n"
      ],
      "text/plain": [
       "[[1]]\n",
       "[[1]]$name\n",
       "[1] \"dplyr\"\n",
       "\n",
       "[[1]]$star\n",
       "[1] 979\n",
       "\n",
       "[[1]]$maintainer\n",
       "[1] \"hadley\"\n",
       "\n",
       "[[1]]$authors\n",
       "[1] \"hadley\" \"romain\"\n",
       "\n"
      ]
     },
     "metadata": {},
     "output_type": "display_data"
    }
   ],
   "source": [
    "packages %>% purrr::sort_by('star') %>% head(1)"
   ]
  },
  {
   "cell_type": "code",
   "execution_count": 12,
   "metadata": {
    "collapsed": false
   },
   "outputs": [
    {
     "data": {
      "text/html": [
       "<ol>\n",
       "\t<li><dl>\n",
       "\t<dt>$name</dt>\n",
       "\t\t<dd>'ggplot2'</dd>\n",
       "\t<dt>$star</dt>\n",
       "\t\t<dd>1546</dd>\n",
       "\t<dt>$maintainer</dt>\n",
       "\t\t<dd>'hadley'</dd>\n",
       "\t<dt>$authors</dt>\n",
       "\t\t<dd>'hadley'</dd>\n",
       "</dl>\n",
       "</li>\n",
       "</ol>\n"
      ],
      "text/latex": [
       "\\begin{enumerate}\n",
       "\\item \\begin{description}\n",
       "\\item[\\$name] 'ggplot2'\n",
       "\\item[\\$star] 1546\n",
       "\\item[\\$maintainer] 'hadley'\n",
       "\\item[\\$authors] 'hadley'\n",
       "\\end{description}\n",
       "\n",
       "\\end{enumerate}\n"
      ],
      "text/markdown": [
       "1. $name\n",
       ":   'ggplot2'\n",
       "$star\n",
       ":   1546\n",
       "$maintainer\n",
       ":   'hadley'\n",
       "$authors\n",
       ":   'hadley'\n",
       "\n",
       "\n",
       "\n",
       "\n",
       "\n"
      ],
      "text/plain": [
       "[[1]]\n",
       "[[1]]$name\n",
       "[1] \"ggplot2\"\n",
       "\n",
       "[[1]]$star\n",
       "[1] 1546\n",
       "\n",
       "[[1]]$maintainer\n",
       "[1] \"hadley\"\n",
       "\n",
       "[[1]]$authors\n",
       "[1] \"hadley\"\n",
       "\n"
      ]
     },
     "metadata": {},
     "output_type": "display_data"
    }
   ],
   "source": [
    "packages %>% purrr::sort_by('star') %>% rev() %>% head(1)"
   ]
  },
  {
   "cell_type": "code",
   "execution_count": 13,
   "metadata": {
    "collapsed": false
   },
   "outputs": [
    {
     "data": {
      "text/html": [
       "<ol class=list-inline>\n",
       "\t<li>1</li>\n",
       "\t<li>3</li>\n",
       "\t<li>2</li>\n",
       "</ol>\n"
      ],
      "text/latex": [
       "\\begin{enumerate*}\n",
       "\\item 1\n",
       "\\item 3\n",
       "\\item 2\n",
       "\\end{enumerate*}\n"
      ],
      "text/markdown": [
       "1. 1\n",
       "2. 3\n",
       "3. 2\n",
       "\n",
       "\n"
      ],
      "text/plain": [
       "[1] 1 3 2"
      ]
     },
     "metadata": {},
     "output_type": "display_data"
    }
   ],
   "source": [
    "# 結果をindexで取得\n",
    "purrr::order_by(packages, 'star')"
   ]
  }
 ],
 "metadata": {
  "kernelspec": {
   "display_name": "R",
   "language": "R",
   "name": "ir"
  },
  "language_info": {
   "codemirror_mode": "r",
   "file_extension": ".r",
   "mimetype": "text/x-r-source",
   "name": "R",
   "pygments_lexer": "r",
   "version": "3.3.2"
  }
 },
 "nbformat": 4,
 "nbformat_minor": 2
}

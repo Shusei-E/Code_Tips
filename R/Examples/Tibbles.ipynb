{
 "cells": [
  {
   "cell_type": "markdown",
   "metadata": {},
   "source": [
    "[Reference](http://r4ds.had.co.nz/tibbles.html)\n",
    "\n",
    "* **Tibbles are data frames**, but they tweak some older behaviours to make life a little easier.\n",
    "    * it never changes the type of the inputs (e.g. it never converts strings to factors)\n",
    "    * it never changes the names of variables \n",
    "    * it never creates row names"
   ]
  },
  {
   "cell_type": "code",
   "execution_count": 2,
   "metadata": {
    "collapsed": false
   },
   "outputs": [],
   "source": [
    "library(tidyverse)"
   ]
  },
  {
   "cell_type": "markdown",
   "metadata": {},
   "source": [
    "# 10.2 Creating tibbles"
   ]
  },
  {
   "cell_type": "code",
   "execution_count": 4,
   "metadata": {
    "collapsed": false
   },
   "outputs": [],
   "source": [
    "tibble_data <- as_tibble(iris)"
   ]
  },
  {
   "cell_type": "code",
   "execution_count": 5,
   "metadata": {
    "collapsed": false
   },
   "outputs": [
    {
     "data": {
      "text/html": [
       "<table>\n",
       "<thead><tr><th scope=col>x</th><th scope=col>y</th><th scope=col>z</th></tr></thead>\n",
       "<tbody>\n",
       "\t<tr><td>1 </td><td>1 </td><td> 2</td></tr>\n",
       "\t<tr><td>2 </td><td>1 </td><td> 5</td></tr>\n",
       "\t<tr><td>3 </td><td>1 </td><td>10</td></tr>\n",
       "\t<tr><td>4 </td><td>1 </td><td>17</td></tr>\n",
       "\t<tr><td>5 </td><td>1 </td><td>26</td></tr>\n",
       "</tbody>\n",
       "</table>\n"
      ],
      "text/latex": [
       "\\begin{tabular}{r|lll}\n",
       " x & y & z\\\\\n",
       "\\hline\n",
       "\t 1  & 1  &  2\\\\\n",
       "\t 2  & 1  &  5\\\\\n",
       "\t 3  & 1  & 10\\\\\n",
       "\t 4  & 1  & 17\\\\\n",
       "\t 5  & 1  & 26\\\\\n",
       "\\end{tabular}\n"
      ],
      "text/markdown": [
       "\n",
       "x | y | z | \n",
       "|---|---|---|---|---|\n",
       "| 1  | 1  |  2 | \n",
       "| 2  | 1  |  5 | \n",
       "| 3  | 1  | 10 | \n",
       "| 4  | 1  | 17 | \n",
       "| 5  | 1  | 26 | \n",
       "\n",
       "\n"
      ],
      "text/plain": [
       "  x y z \n",
       "1 1 1  2\n",
       "2 2 1  5\n",
       "3 3 1 10\n",
       "4 4 1 17\n",
       "5 5 1 26"
      ]
     },
     "metadata": {},
     "output_type": "display_data"
    }
   ],
   "source": [
    "tibble(\n",
    "  x = 1:5, \n",
    "  y = 1, \n",
    "  z = x ^ 2 + y\n",
    ")"
   ]
  },
  {
   "cell_type": "markdown",
   "metadata": {},
   "source": [
    "# 10.3 Tibbles vs. data.frame"
   ]
  },
  {
   "cell_type": "markdown",
   "metadata": {},
   "source": [
    "## 10.3.1 Printing"
   ]
  },
  {
   "cell_type": "markdown",
   "metadata": {},
   "source": [
    "Tibbles have a refined print method that shows only the first 10 rows.   \n",
    "You can change it:\n",
    "* `options(tibble.print_max = n, tibble.print_min = m)` / `options(dplyr.print_min = Inf)`\n",
    "* `options(tibble.width = Inf)`"
   ]
  },
  {
   "cell_type": "code",
   "execution_count": 6,
   "metadata": {
    "collapsed": false
   },
   "outputs": [
    {
     "name": "stdout",
     "output_type": "stream",
     "text": [
      "# A tibble: 150 × 5\n",
      "   Sepal.Length Sepal.Width Petal.Length Petal.Width Species\n",
      "          <dbl>       <dbl>        <dbl>       <dbl>  <fctr>\n",
      "1           5.1         3.5          1.4         0.2  setosa\n",
      "2           4.9         3.0          1.4         0.2  setosa\n",
      "3           4.7         3.2          1.3         0.2  setosa\n",
      "4           4.6         3.1          1.5         0.2  setosa\n",
      "5           5.0         3.6          1.4         0.2  setosa\n",
      "6           5.4         3.9          1.7         0.4  setosa\n",
      "7           4.6         3.4          1.4         0.3  setosa\n",
      "8           5.0         3.4          1.5         0.2  setosa\n",
      "9           4.4         2.9          1.4         0.2  setosa\n",
      "10          4.9         3.1          1.5         0.1  setosa\n",
      "# ... with 140 more rows\n"
     ]
    }
   ],
   "source": [
    "# Explicitly specify\n",
    "tibble_data %>% \n",
    "  print(n = 10, width = Inf)"
   ]
  },
  {
   "cell_type": "markdown",
   "metadata": {},
   "source": [
    "## 10.3.2 Subsetting"
   ]
  },
  {
   "cell_type": "code",
   "execution_count": 7,
   "metadata": {
    "collapsed": true
   },
   "outputs": [],
   "source": [
    "df <- tibble(\n",
    "  x = runif(5),\n",
    "  y = rnorm(5)\n",
    ")"
   ]
  },
  {
   "cell_type": "code",
   "execution_count": 8,
   "metadata": {
    "collapsed": false
   },
   "outputs": [
    {
     "data": {
      "text/html": [
       "<ol class=list-inline>\n",
       "\t<li>0.21290389681235</li>\n",
       "\t<li>0.606656393967569</li>\n",
       "\t<li>0.237194401444867</li>\n",
       "\t<li>0.861272312933579</li>\n",
       "\t<li>0.75119409780018</li>\n",
       "</ol>\n"
      ],
      "text/latex": [
       "\\begin{enumerate*}\n",
       "\\item 0.21290389681235\n",
       "\\item 0.606656393967569\n",
       "\\item 0.237194401444867\n",
       "\\item 0.861272312933579\n",
       "\\item 0.75119409780018\n",
       "\\end{enumerate*}\n"
      ],
      "text/markdown": [
       "1. 0.21290389681235\n",
       "2. 0.606656393967569\n",
       "3. 0.237194401444867\n",
       "4. 0.861272312933579\n",
       "5. 0.75119409780018\n",
       "\n",
       "\n"
      ],
      "text/plain": [
       "[1] 0.2129039 0.6066564 0.2371944 0.8612723 0.7511941"
      ]
     },
     "metadata": {},
     "output_type": "display_data"
    }
   ],
   "source": [
    "df$x # by name"
   ]
  },
  {
   "cell_type": "code",
   "execution_count": 9,
   "metadata": {
    "collapsed": false
   },
   "outputs": [
    {
     "data": {
      "text/html": [
       "<ol class=list-inline>\n",
       "\t<li>0.21290389681235</li>\n",
       "\t<li>0.606656393967569</li>\n",
       "\t<li>0.237194401444867</li>\n",
       "\t<li>0.861272312933579</li>\n",
       "\t<li>0.75119409780018</li>\n",
       "</ol>\n"
      ],
      "text/latex": [
       "\\begin{enumerate*}\n",
       "\\item 0.21290389681235\n",
       "\\item 0.606656393967569\n",
       "\\item 0.237194401444867\n",
       "\\item 0.861272312933579\n",
       "\\item 0.75119409780018\n",
       "\\end{enumerate*}\n"
      ],
      "text/markdown": [
       "1. 0.21290389681235\n",
       "2. 0.606656393967569\n",
       "3. 0.237194401444867\n",
       "4. 0.861272312933579\n",
       "5. 0.75119409780018\n",
       "\n",
       "\n"
      ],
      "text/plain": [
       "[1] 0.2129039 0.6066564 0.2371944 0.8612723 0.7511941"
      ]
     },
     "metadata": {},
     "output_type": "display_data"
    }
   ],
   "source": [
    "df[[\"x\"]] # by name"
   ]
  },
  {
   "cell_type": "code",
   "execution_count": 10,
   "metadata": {
    "collapsed": false
   },
   "outputs": [
    {
     "data": {
      "text/html": [
       "<ol class=list-inline>\n",
       "\t<li>0.21290389681235</li>\n",
       "\t<li>0.606656393967569</li>\n",
       "\t<li>0.237194401444867</li>\n",
       "\t<li>0.861272312933579</li>\n",
       "\t<li>0.75119409780018</li>\n",
       "</ol>\n"
      ],
      "text/latex": [
       "\\begin{enumerate*}\n",
       "\\item 0.21290389681235\n",
       "\\item 0.606656393967569\n",
       "\\item 0.237194401444867\n",
       "\\item 0.861272312933579\n",
       "\\item 0.75119409780018\n",
       "\\end{enumerate*}\n"
      ],
      "text/markdown": [
       "1. 0.21290389681235\n",
       "2. 0.606656393967569\n",
       "3. 0.237194401444867\n",
       "4. 0.861272312933579\n",
       "5. 0.75119409780018\n",
       "\n",
       "\n"
      ],
      "text/plain": [
       "[1] 0.2129039 0.6066564 0.2371944 0.8612723 0.7511941"
      ]
     },
     "metadata": {},
     "output_type": "display_data"
    }
   ],
   "source": [
    "df[[1]] # by position"
   ]
  },
  {
   "cell_type": "code",
   "execution_count": 11,
   "metadata": {
    "collapsed": false
   },
   "outputs": [
    {
     "data": {
      "text/html": [
       "<ol class=list-inline>\n",
       "\t<li>0.21290389681235</li>\n",
       "\t<li>0.606656393967569</li>\n",
       "\t<li>0.237194401444867</li>\n",
       "\t<li>0.861272312933579</li>\n",
       "\t<li>0.75119409780018</li>\n",
       "</ol>\n"
      ],
      "text/latex": [
       "\\begin{enumerate*}\n",
       "\\item 0.21290389681235\n",
       "\\item 0.606656393967569\n",
       "\\item 0.237194401444867\n",
       "\\item 0.861272312933579\n",
       "\\item 0.75119409780018\n",
       "\\end{enumerate*}\n"
      ],
      "text/markdown": [
       "1. 0.21290389681235\n",
       "2. 0.606656393967569\n",
       "3. 0.237194401444867\n",
       "4. 0.861272312933579\n",
       "5. 0.75119409780018\n",
       "\n",
       "\n"
      ],
      "text/plain": [
       "[1] 0.2129039 0.6066564 0.2371944 0.8612723 0.7511941"
      ]
     },
     "metadata": {},
     "output_type": "display_data"
    }
   ],
   "source": [
    "df %>% .$x # using pipe"
   ]
  },
  {
   "cell_type": "code",
   "execution_count": 12,
   "metadata": {
    "collapsed": false
   },
   "outputs": [
    {
     "data": {
      "text/html": [
       "<ol class=list-inline>\n",
       "\t<li>0.21290389681235</li>\n",
       "\t<li>0.606656393967569</li>\n",
       "\t<li>0.237194401444867</li>\n",
       "\t<li>0.861272312933579</li>\n",
       "\t<li>0.75119409780018</li>\n",
       "</ol>\n"
      ],
      "text/latex": [
       "\\begin{enumerate*}\n",
       "\\item 0.21290389681235\n",
       "\\item 0.606656393967569\n",
       "\\item 0.237194401444867\n",
       "\\item 0.861272312933579\n",
       "\\item 0.75119409780018\n",
       "\\end{enumerate*}\n"
      ],
      "text/markdown": [
       "1. 0.21290389681235\n",
       "2. 0.606656393967569\n",
       "3. 0.237194401444867\n",
       "4. 0.861272312933579\n",
       "5. 0.75119409780018\n",
       "\n",
       "\n"
      ],
      "text/plain": [
       "[1] 0.2129039 0.6066564 0.2371944 0.8612723 0.7511941"
      ]
     },
     "metadata": {},
     "output_type": "display_data"
    }
   ],
   "source": [
    "df %>% .[[\"x\"]] # using pipe"
   ]
  },
  {
   "cell_type": "markdown",
   "metadata": {},
   "source": [
    "# 10.4 Back to data.frame"
   ]
  },
  {
   "cell_type": "code",
   "execution_count": 13,
   "metadata": {
    "collapsed": false
   },
   "outputs": [
    {
     "data": {
      "text/html": [
       "'data.frame'"
      ],
      "text/latex": [
       "'data.frame'"
      ],
      "text/markdown": [
       "'data.frame'"
      ],
      "text/plain": [
       "[1] \"data.frame\""
      ]
     },
     "metadata": {},
     "output_type": "display_data"
    }
   ],
   "source": [
    "class(as.data.frame(df))"
   ]
  }
 ],
 "metadata": {
  "kernelspec": {
   "display_name": "R",
   "language": "R",
   "name": "ir"
  },
  "language_info": {
   "codemirror_mode": "r",
   "file_extension": ".r",
   "mimetype": "text/x-r-source",
   "name": "R",
   "pygments_lexer": "r",
   "version": "3.3.2"
  }
 },
 "nbformat": 4,
 "nbformat_minor": 2
}

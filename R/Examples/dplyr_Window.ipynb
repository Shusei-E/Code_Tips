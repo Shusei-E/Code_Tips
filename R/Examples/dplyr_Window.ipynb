{
 "cells": [
  {
   "cell_type": "markdown",
   "metadata": {},
   "source": [
    "[Reference](http://qiita.com/matsuou1/items/db6e8c48fcfd791dd876)"
   ]
  },
  {
   "cell_type": "code",
   "execution_count": 2,
   "metadata": {
    "collapsed": false,
    "scrolled": true
   },
   "outputs": [],
   "source": [
    "library(dplyr)"
   ]
  },
  {
   "cell_type": "markdown",
   "metadata": {},
   "source": [
    "# Window関数で何ができるのか\n",
    "\n",
    "* ランキング（タイ順位考慮あり、なし等含む）\n",
    "* 前日比、前週比（前後のレコードとの比較等）\n",
    "* 累積（累積和等）\n",
    "* 移動平均（Windowサイズの指定、Windowの位置、重み等）"
   ]
  },
  {
   "cell_type": "markdown",
   "metadata": {},
   "source": [
    "# ランキング関数"
   ]
  },
  {
   "cell_type": "markdown",
   "metadata": {},
   "source": [
    "|    Function  |                               Description                               |\n",
    "|:------------:|:-----------------------------------------------------------------------:|\n",
    "| row_number   | 昇順にランキングを付ける。同じ値がある場合は、最初に来た方を優先        |\n",
    "| min_rank     | 昇順にランキングを付ける。同じ値がある場合は、同じ順位を付ける。gapあり |\n",
    "| dense_rank   | 昇順にランキングを付ける。同じ値がある場合は、同じ順位を付ける。gapなし |\n",
    "| percent_rank | min_rankを0～1にリスケールしたもの                                      |\n",
    "| cume_dist    | 累積割合。percent_rankの累積和ではない。                                |\n",
    "| ntile        | n個の群に分割する                                                       |"
   ]
  },
  {
   "cell_type": "code",
   "execution_count": 3,
   "metadata": {
    "collapsed": false
   },
   "outputs": [
    {
     "data": {
      "text/html": [
       "<table>\n",
       "<thead><tr><th></th><th scope=col>Murder</th><th scope=col>Assault</th><th scope=col>UrbanPop</th><th scope=col>Rape</th></tr></thead>\n",
       "<tbody>\n",
       "\t<tr><th scope=row>Alabama</th><td>13.2</td><td>236 </td><td>58  </td><td>21.2</td></tr>\n",
       "\t<tr><th scope=row>Alaska</th><td>10.0</td><td>263 </td><td>48  </td><td>44.5</td></tr>\n",
       "\t<tr><th scope=row>Arizona</th><td> 8.1</td><td>294 </td><td>80  </td><td>31.0</td></tr>\n",
       "\t<tr><th scope=row>Arkansas</th><td> 8.8</td><td>190 </td><td>50  </td><td>19.5</td></tr>\n",
       "\t<tr><th scope=row>California</th><td> 9.0</td><td>276 </td><td>91  </td><td>40.6</td></tr>\n",
       "</tbody>\n",
       "</table>\n"
      ],
      "text/latex": [
       "\\begin{tabular}{r|llll}\n",
       "  & Murder & Assault & UrbanPop & Rape\\\\\n",
       "\\hline\n",
       "\tAlabama & 13.2 & 236  & 58   & 21.2\\\\\n",
       "\tAlaska & 10.0 & 263  & 48   & 44.5\\\\\n",
       "\tArizona &  8.1 & 294  & 80   & 31.0\\\\\n",
       "\tArkansas &  8.8 & 190  & 50   & 19.5\\\\\n",
       "\tCalifornia &  9.0 & 276  & 91   & 40.6\\\\\n",
       "\\end{tabular}\n"
      ],
      "text/markdown": [
       "\n",
       "| <!--/--> | Murder | Assault | UrbanPop | Rape | \n",
       "|---|---|---|---|---|\n",
       "| Alabama | 13.2 | 236  | 58   | 21.2 | \n",
       "| Alaska | 10.0 | 263  | 48   | 44.5 | \n",
       "| Arizona |  8.1 | 294  | 80   | 31.0 | \n",
       "| Arkansas |  8.8 | 190  | 50   | 19.5 | \n",
       "| California |  9.0 | 276  | 91   | 40.6 | \n",
       "\n",
       "\n"
      ],
      "text/plain": [
       "           Murder Assault UrbanPop Rape\n",
       "Alabama    13.2   236     58       21.2\n",
       "Alaska     10.0   263     48       44.5\n",
       "Arizona     8.1   294     80       31.0\n",
       "Arkansas    8.8   190     50       19.5\n",
       "California  9.0   276     91       40.6"
      ]
     },
     "metadata": {},
     "output_type": "display_data"
    }
   ],
   "source": [
    "data(USArrests)\n",
    "d <- USArrests\n",
    "d %>% head(5)"
   ]
  },
  {
   "cell_type": "markdown",
   "metadata": {},
   "source": [
    "Ranking of Murder"
   ]
  },
  {
   "cell_type": "code",
   "execution_count": 4,
   "metadata": {
    "collapsed": false,
    "scrolled": true
   },
   "outputs": [
    {
     "data": {
      "text/html": [
       "<table>\n",
       "<thead><tr><th scope=col>Murder</th><th scope=col>State</th><th scope=col>row_number</th><th scope=col>min_rank</th><th scope=col>max_rank</th><th scope=col>dense_rank</th><th scope=col>percent_rank</th><th scope=col>cume_dist</th><th scope=col>ntile</th></tr></thead>\n",
       "<tbody>\n",
       "\t<tr><td>13.2      </td><td>Alabama   </td><td>44        </td><td>44        </td><td> 6        </td><td>39        </td><td>0.8775510 </td><td>0.90      </td><td>3         </td></tr>\n",
       "\t<tr><td>10.0      </td><td>Alaska    </td><td>35        </td><td>35        </td><td>16        </td><td>30        </td><td>0.6938776 </td><td>0.70      </td><td>3         </td></tr>\n",
       "\t<tr><td> 8.1      </td><td>Arizona   </td><td>29        </td><td>29        </td><td>22        </td><td>25        </td><td>0.5714286 </td><td>0.58      </td><td>2         </td></tr>\n",
       "\t<tr><td> 8.8      </td><td>Arkansas  </td><td>31        </td><td>31        </td><td>20        </td><td>27        </td><td>0.6122449 </td><td>0.62      </td><td>2         </td></tr>\n",
       "\t<tr><td> 9.0      </td><td>California</td><td>32        </td><td>32        </td><td>18        </td><td>28        </td><td>0.6326531 </td><td>0.66      </td><td>2         </td></tr>\n",
       "</tbody>\n",
       "</table>\n"
      ],
      "text/latex": [
       "\\begin{tabular}{r|lllllllll}\n",
       " Murder & State & row\\_number & min\\_rank & max\\_rank & dense\\_rank & percent\\_rank & cume\\_dist & ntile\\\\\n",
       "\\hline\n",
       "\t 13.2       & Alabama    & 44         & 44         &  6         & 39         & 0.8775510  & 0.90       & 3         \\\\\n",
       "\t 10.0       & Alaska     & 35         & 35         & 16         & 30         & 0.6938776  & 0.70       & 3         \\\\\n",
       "\t  8.1       & Arizona    & 29         & 29         & 22         & 25         & 0.5714286  & 0.58       & 2         \\\\\n",
       "\t  8.8       & Arkansas   & 31         & 31         & 20         & 27         & 0.6122449  & 0.62       & 2         \\\\\n",
       "\t  9.0       & California & 32         & 32         & 18         & 28         & 0.6326531  & 0.66       & 2         \\\\\n",
       "\\end{tabular}\n"
      ],
      "text/markdown": [
       "\n",
       "Murder | State | row_number | min_rank | max_rank | dense_rank | percent_rank | cume_dist | ntile | \n",
       "|---|---|---|---|---|\n",
       "| 13.2       | Alabama    | 44         | 44         |  6         | 39         | 0.8775510  | 0.90       | 3          | \n",
       "| 10.0       | Alaska     | 35         | 35         | 16         | 30         | 0.6938776  | 0.70       | 3          | \n",
       "|  8.1       | Arizona    | 29         | 29         | 22         | 25         | 0.5714286  | 0.58       | 2          | \n",
       "|  8.8       | Arkansas   | 31         | 31         | 20         | 27         | 0.6122449  | 0.62       | 2          | \n",
       "|  9.0       | California | 32         | 32         | 18         | 28         | 0.6326531  | 0.66       | 2          | \n",
       "\n",
       "\n"
      ],
      "text/plain": [
       "  Murder State      row_number min_rank max_rank dense_rank percent_rank\n",
       "1 13.2   Alabama    44         44        6       39         0.8775510   \n",
       "2 10.0   Alaska     35         35       16       30         0.6938776   \n",
       "3  8.1   Arizona    29         29       22       25         0.5714286   \n",
       "4  8.8   Arkansas   31         31       20       27         0.6122449   \n",
       "5  9.0   California 32         32       18       28         0.6326531   \n",
       "  cume_dist ntile\n",
       "1 0.90      3    \n",
       "2 0.70      3    \n",
       "3 0.58      2    \n",
       "4 0.62      2    \n",
       "5 0.66      2    "
      ]
     },
     "metadata": {},
     "output_type": "display_data"
    }
   ],
   "source": [
    "d %>% \n",
    "   dplyr::mutate(State=rownames(.)) %>%  \n",
    "   dplyr::mutate(row_number=row_number(Murder)) %>%\n",
    "   dplyr::mutate(min_rank=min_rank(Murder)) %>%\n",
    "   dplyr::mutate(max_rank=min_rank(desc(Murder))) %>%\n",
    "   dplyr::mutate(dense_rank=dense_rank(Murder)) %>%\n",
    "   dplyr::mutate(percent_rank=percent_rank(Murder)) %>%\n",
    "   dplyr::mutate(cume_dist=cume_dist(Murder)) %>%\n",
    "   dplyr::mutate(ntile=ntile(Murder, 3)) %>%\n",
    "   dplyr::select(-Assault, -UrbanPop, -Rape) %>% \n",
    "   head(5)"
   ]
  },
  {
   "cell_type": "markdown",
   "metadata": {},
   "source": [
    "# Offsets"
   ]
  },
  {
   "cell_type": "code",
   "execution_count": 5,
   "metadata": {
    "collapsed": false
   },
   "outputs": [
    {
     "data": {
      "text/html": [
       "<table>\n",
       "<thead><tr><th scope=col>Y</th><th scope=col>date</th></tr></thead>\n",
       "<tbody>\n",
       "\t<tr><td>13067.3</td><td>1971.25</td></tr>\n",
       "\t<tr><td>13130.5</td><td>1971.50</td></tr>\n",
       "\t<tr><td>13198.4</td><td>1971.75</td></tr>\n",
       "\t<tr><td>13254.2</td><td>1972.00</td></tr>\n",
       "\t<tr><td>13303.7</td><td>1972.25</td></tr>\n",
       "</tbody>\n",
       "</table>\n"
      ],
      "text/latex": [
       "\\begin{tabular}{r|ll}\n",
       " Y & date\\\\\n",
       "\\hline\n",
       "\t 13067.3 & 1971.25\\\\\n",
       "\t 13130.5 & 1971.50\\\\\n",
       "\t 13198.4 & 1971.75\\\\\n",
       "\t 13254.2 & 1972.00\\\\\n",
       "\t 13303.7 & 1972.25\\\\\n",
       "\\end{tabular}\n"
      ],
      "text/markdown": [
       "\n",
       "Y | date | \n",
       "|---|---|---|---|---|\n",
       "| 13067.3 | 1971.25 | \n",
       "| 13130.5 | 1971.50 | \n",
       "| 13198.4 | 1971.75 | \n",
       "| 13254.2 | 1972.00 | \n",
       "| 13303.7 | 1972.25 | \n",
       "\n",
       "\n"
      ],
      "text/plain": [
       "  Y       date   \n",
       "1 13067.3 1971.25\n",
       "2 13130.5 1971.50\n",
       "3 13198.4 1971.75\n",
       "4 13254.2 1972.00\n",
       "5 13303.7 1972.25"
      ]
     },
     "metadata": {},
     "output_type": "display_data"
    }
   ],
   "source": [
    "data(austres)\n",
    "d <- austres\n",
    "d <- data.frame(Y=as.matrix(d), date=time(d))\n",
    "d %>% head(5)"
   ]
  },
  {
   "cell_type": "code",
   "execution_count": 6,
   "metadata": {
    "collapsed": false
   },
   "outputs": [
    {
     "data": {
      "text/html": [
       "<table>\n",
       "<thead><tr><th scope=col>Y</th><th scope=col>date</th><th scope=col>lead</th><th scope=col>lag</th></tr></thead>\n",
       "<tbody>\n",
       "\t<tr><td>13067.3</td><td>1971.25</td><td>13130.5</td><td>     NA</td></tr>\n",
       "\t<tr><td>13130.5</td><td>1971.50</td><td>13198.4</td><td>13067.3</td></tr>\n",
       "\t<tr><td>13198.4</td><td>1971.75</td><td>13254.2</td><td>13130.5</td></tr>\n",
       "</tbody>\n",
       "</table>\n"
      ],
      "text/latex": [
       "\\begin{tabular}{r|llll}\n",
       " Y & date & lead & lag\\\\\n",
       "\\hline\n",
       "\t 13067.3 & 1971.25 & 13130.5 &      NA\\\\\n",
       "\t 13130.5 & 1971.50 & 13198.4 & 13067.3\\\\\n",
       "\t 13198.4 & 1971.75 & 13254.2 & 13130.5\\\\\n",
       "\\end{tabular}\n"
      ],
      "text/markdown": [
       "\n",
       "Y | date | lead | lag | \n",
       "|---|---|---|\n",
       "| 13067.3 | 1971.25 | 13130.5 |      NA | \n",
       "| 13130.5 | 1971.50 | 13198.4 | 13067.3 | \n",
       "| 13198.4 | 1971.75 | 13254.2 | 13130.5 | \n",
       "\n",
       "\n"
      ],
      "text/plain": [
       "  Y       date    lead    lag    \n",
       "1 13067.3 1971.25 13130.5      NA\n",
       "2 13130.5 1971.50 13198.4 13067.3\n",
       "3 13198.4 1971.75 13254.2 13130.5"
      ]
     },
     "metadata": {},
     "output_type": "display_data"
    }
   ],
   "source": [
    "# １つづつ前後にずらす\n",
    "d %>%\n",
    "   dplyr::mutate(lead=lead(Y)) %>%\n",
    "   dplyr::mutate(lag=lag(Y)) %>%\n",
    "   head(3)"
   ]
  },
  {
   "cell_type": "code",
   "execution_count": 7,
   "metadata": {
    "collapsed": false
   },
   "outputs": [
    {
     "data": {
      "text/html": [
       "<table>\n",
       "<thead><tr><th scope=col>Y</th><th scope=col>date</th><th scope=col>lead</th><th scope=col>lag</th></tr></thead>\n",
       "<tbody>\n",
       "\t<tr><td>13067.3</td><td>1971.25</td><td>13130.5</td><td>     NA</td></tr>\n",
       "\t<tr><td>13130.5</td><td>1971.50</td><td>13198.4</td><td>13067.3</td></tr>\n",
       "\t<tr><td>13198.4</td><td>1971.75</td><td>13254.2</td><td>13130.5</td></tr>\n",
       "\t<tr><td>17568.7</td><td>1992.75</td><td>17627.1</td><td>17526.0</td></tr>\n",
       "\t<tr><td>17627.1</td><td>1993.00</td><td>17661.5</td><td>17568.7</td></tr>\n",
       "\t<tr><td>17661.5</td><td>1993.25</td><td>     NA</td><td>17627.1</td></tr>\n",
       "</tbody>\n",
       "</table>\n"
      ],
      "text/latex": [
       "\\begin{tabular}{r|llll}\n",
       " Y & date & lead & lag\\\\\n",
       "\\hline\n",
       "\t 13067.3 & 1971.25 & 13130.5 &      NA\\\\\n",
       "\t 13130.5 & 1971.50 & 13198.4 & 13067.3\\\\\n",
       "\t 13198.4 & 1971.75 & 13254.2 & 13130.5\\\\\n",
       "\t 17568.7 & 1992.75 & 17627.1 & 17526.0\\\\\n",
       "\t 17627.1 & 1993.00 & 17661.5 & 17568.7\\\\\n",
       "\t 17661.5 & 1993.25 &      NA & 17627.1\\\\\n",
       "\\end{tabular}\n"
      ],
      "text/markdown": [
       "\n",
       "Y | date | lead | lag | \n",
       "|---|---|---|---|---|---|\n",
       "| 13067.3 | 1971.25 | 13130.5 |      NA | \n",
       "| 13130.5 | 1971.50 | 13198.4 | 13067.3 | \n",
       "| 13198.4 | 1971.75 | 13254.2 | 13130.5 | \n",
       "| 17568.7 | 1992.75 | 17627.1 | 17526.0 | \n",
       "| 17627.1 | 1993.00 | 17661.5 | 17568.7 | \n",
       "| 17661.5 | 1993.25 |      NA | 17627.1 | \n",
       "\n",
       "\n"
      ],
      "text/plain": [
       "  Y       date    lead    lag    \n",
       "1 13067.3 1971.25 13130.5      NA\n",
       "2 13130.5 1971.50 13198.4 13067.3\n",
       "3 13198.4 1971.75 13254.2 13130.5\n",
       "4 17568.7 1992.75 17627.1 17526.0\n",
       "5 17627.1 1993.00 17661.5 17568.7\n",
       "6 17661.5 1993.25      NA 17627.1"
      ]
     },
     "metadata": {},
     "output_type": "display_data"
    }
   ],
   "source": [
    "# １つづつ前後にずらす\n",
    "d %>%\n",
    "   dplyr::mutate(lead=lead(Y)) %>%\n",
    "   dplyr::mutate(lag=lag(Y)) %>%\n",
    "   slice(c(1:3, n()-2, n()-1, n()))"
   ]
  },
  {
   "cell_type": "code",
   "execution_count": 8,
   "metadata": {
    "collapsed": false
   },
   "outputs": [
    {
     "data": {
      "text/html": [
       "<table>\n",
       "<thead><tr><th scope=col>Y</th><th scope=col>date</th><th scope=col>lead</th><th scope=col>lag</th></tr></thead>\n",
       "<tbody>\n",
       "\t<tr><td>13067.3</td><td>1971.25</td><td>13254.2</td><td>     NA</td></tr>\n",
       "\t<tr><td>13130.5</td><td>1971.50</td><td>13303.7</td><td>     NA</td></tr>\n",
       "\t<tr><td>13198.4</td><td>1971.75</td><td>13353.9</td><td>     NA</td></tr>\n",
       "\t<tr><td>13254.2</td><td>1972.00</td><td>13409.3</td><td>13067.3</td></tr>\n",
       "</tbody>\n",
       "</table>\n"
      ],
      "text/latex": [
       "\\begin{tabular}{r|llll}\n",
       " Y & date & lead & lag\\\\\n",
       "\\hline\n",
       "\t 13067.3 & 1971.25 & 13254.2 &      NA\\\\\n",
       "\t 13130.5 & 1971.50 & 13303.7 &      NA\\\\\n",
       "\t 13198.4 & 1971.75 & 13353.9 &      NA\\\\\n",
       "\t 13254.2 & 1972.00 & 13409.3 & 13067.3\\\\\n",
       "\\end{tabular}\n"
      ],
      "text/markdown": [
       "\n",
       "Y | date | lead | lag | \n",
       "|---|---|---|---|\n",
       "| 13067.3 | 1971.25 | 13254.2 |      NA | \n",
       "| 13130.5 | 1971.50 | 13303.7 |      NA | \n",
       "| 13198.4 | 1971.75 | 13353.9 |      NA | \n",
       "| 13254.2 | 1972.00 | 13409.3 | 13067.3 | \n",
       "\n",
       "\n"
      ],
      "text/plain": [
       "  Y       date    lead    lag    \n",
       "1 13067.3 1971.25 13254.2      NA\n",
       "2 13130.5 1971.50 13303.7      NA\n",
       "3 13198.4 1971.75 13353.9      NA\n",
       "4 13254.2 1972.00 13409.3 13067.3"
      ]
     },
     "metadata": {},
     "output_type": "display_data"
    }
   ],
   "source": [
    "# 3つづつ前後にずらす\n",
    "d %>%\n",
    "   dplyr::mutate(lead=lead(Y, n=3)) %>%\n",
    "   dplyr::mutate(lag=lag(Y, n=3)) %>%\n",
    "   head(4)"
   ]
  },
  {
   "cell_type": "code",
   "execution_count": 9,
   "metadata": {
    "collapsed": false
   },
   "outputs": [
    {
     "data": {
      "text/html": [
       "<table>\n",
       "<thead><tr><th scope=col>Y</th><th scope=col>date</th><th scope=col>lead</th><th scope=col>lag</th></tr></thead>\n",
       "<tbody>\n",
       "\t<tr><td>13067.3</td><td>1971.25</td><td>13130.5</td><td>    0.0</td></tr>\n",
       "\t<tr><td>13130.5</td><td>1971.50</td><td>13198.4</td><td>13067.3</td></tr>\n",
       "\t<tr><td>13198.4</td><td>1971.75</td><td>13254.2</td><td>13130.5</td></tr>\n",
       "\t<tr><td>17568.7</td><td>1992.75</td><td>17627.1</td><td>17526.0</td></tr>\n",
       "\t<tr><td>17627.1</td><td>1993.00</td><td>17661.5</td><td>17568.7</td></tr>\n",
       "\t<tr><td>17661.5</td><td>1993.25</td><td>    0.0</td><td>17627.1</td></tr>\n",
       "</tbody>\n",
       "</table>\n"
      ],
      "text/latex": [
       "\\begin{tabular}{r|llll}\n",
       " Y & date & lead & lag\\\\\n",
       "\\hline\n",
       "\t 13067.3 & 1971.25 & 13130.5 &     0.0\\\\\n",
       "\t 13130.5 & 1971.50 & 13198.4 & 13067.3\\\\\n",
       "\t 13198.4 & 1971.75 & 13254.2 & 13130.5\\\\\n",
       "\t 17568.7 & 1992.75 & 17627.1 & 17526.0\\\\\n",
       "\t 17627.1 & 1993.00 & 17661.5 & 17568.7\\\\\n",
       "\t 17661.5 & 1993.25 &     0.0 & 17627.1\\\\\n",
       "\\end{tabular}\n"
      ],
      "text/markdown": [
       "\n",
       "Y | date | lead | lag | \n",
       "|---|---|---|---|---|---|\n",
       "| 13067.3 | 1971.25 | 13130.5 |     0.0 | \n",
       "| 13130.5 | 1971.50 | 13198.4 | 13067.3 | \n",
       "| 13198.4 | 1971.75 | 13254.2 | 13130.5 | \n",
       "| 17568.7 | 1992.75 | 17627.1 | 17526.0 | \n",
       "| 17627.1 | 1993.00 | 17661.5 | 17568.7 | \n",
       "| 17661.5 | 1993.25 |     0.0 | 17627.1 | \n",
       "\n",
       "\n"
      ],
      "text/plain": [
       "  Y       date    lead    lag    \n",
       "1 13067.3 1971.25 13130.5     0.0\n",
       "2 13130.5 1971.50 13198.4 13067.3\n",
       "3 13198.4 1971.75 13254.2 13130.5\n",
       "4 17568.7 1992.75 17627.1 17526.0\n",
       "5 17627.1 1993.00 17661.5 17568.7\n",
       "6 17661.5 1993.25     0.0 17627.1"
      ]
     },
     "metadata": {},
     "output_type": "display_data"
    }
   ],
   "source": [
    "# 欠損値の埋め方\n",
    "d %>%\n",
    "   dplyr::mutate(lead=lead(Y, default=0)) %>%\n",
    "   dplyr::mutate(lag=lag(Y, default=0)) %>%\n",
    "   slice(c(1:3, n()-2, n()-1, n()))"
   ]
  },
  {
   "cell_type": "code",
   "execution_count": 10,
   "metadata": {
    "collapsed": false
   },
   "outputs": [
    {
     "data": {
      "text/html": [
       "<table>\n",
       "<thead><tr><th scope=col>x</th><th scope=col>y</th><th scope=col>lead</th><th scope=col>lag</th></tr></thead>\n",
       "<tbody>\n",
       "\t<tr><td>1 </td><td>aa</td><td> 2</td><td>NA</td></tr>\n",
       "\t<tr><td>2 </td><td>aa</td><td> 3</td><td> 1</td></tr>\n",
       "\t<tr><td>3 </td><td>aa</td><td>NA</td><td> 2</td></tr>\n",
       "\t<tr><td>4 </td><td>bb</td><td> 5</td><td>NA</td></tr>\n",
       "\t<tr><td>5 </td><td>bb</td><td>NA</td><td> 4</td></tr>\n",
       "</tbody>\n",
       "</table>\n"
      ],
      "text/latex": [
       "\\begin{tabular}{r|llll}\n",
       " x & y & lead & lag\\\\\n",
       "\\hline\n",
       "\t 1  & aa &  2 & NA\\\\\n",
       "\t 2  & aa &  3 &  1\\\\\n",
       "\t 3  & aa & NA &  2\\\\\n",
       "\t 4  & bb &  5 & NA\\\\\n",
       "\t 5  & bb & NA &  4\\\\\n",
       "\\end{tabular}\n"
      ],
      "text/markdown": [
       "\n",
       "x | y | lead | lag | \n",
       "|---|---|---|---|---|\n",
       "| 1  | aa |  2 | NA | \n",
       "| 2  | aa |  3 |  1 | \n",
       "| 3  | aa | NA |  2 | \n",
       "| 4  | bb |  5 | NA | \n",
       "| 5  | bb | NA |  4 | \n",
       "\n",
       "\n"
      ],
      "text/plain": [
       "  x y  lead lag\n",
       "1 1 aa  2   NA \n",
       "2 2 aa  3    1 \n",
       "3 3 aa NA    2 \n",
       "4 4 bb  5   NA \n",
       "5 5 bb NA    4 "
      ]
     },
     "metadata": {},
     "output_type": "display_data"
    }
   ],
   "source": [
    "# group内でのoffset\n",
    "data_frame(x = c(1 , 2, 3, 4, 5) , y=c(\"aa\" ,\"aa\" , \"aa\" , \"bb\" , \"bb\")) %>%\n",
    "   dplyr::group_by(y) %>%\n",
    "   dplyr::mutate(lead=lead(x)) %>%\n",
    "   dplyr::mutate(lag=lag(x))"
   ]
  },
  {
   "cell_type": "markdown",
   "metadata": {},
   "source": [
    "# 累積関数"
   ]
  },
  {
   "cell_type": "code",
   "execution_count": 11,
   "metadata": {
    "collapsed": false
   },
   "outputs": [
    {
     "data": {
      "text/html": [
       "<table>\n",
       "<thead><tr><th scope=col>x</th><th scope=col>cumsum</th><th scope=col>cummin</th><th scope=col>cummax</th><th scope=col>cummean</th></tr></thead>\n",
       "<tbody>\n",
       "\t<tr><td>1  </td><td> 1 </td><td>1  </td><td>1  </td><td>1.0</td></tr>\n",
       "\t<tr><td>2  </td><td> 3 </td><td>1  </td><td>2  </td><td>1.5</td></tr>\n",
       "\t<tr><td>3  </td><td> 6 </td><td>1  </td><td>3  </td><td>2.0</td></tr>\n",
       "\t<tr><td>4  </td><td>10 </td><td>1  </td><td>4  </td><td>2.5</td></tr>\n",
       "\t<tr><td>5  </td><td>15 </td><td>1  </td><td>5  </td><td>3.0</td></tr>\n",
       "</tbody>\n",
       "</table>\n"
      ],
      "text/latex": [
       "\\begin{tabular}{r|lllll}\n",
       " x & cumsum & cummin & cummax & cummean\\\\\n",
       "\\hline\n",
       "\t 1   &  1  & 1   & 1   & 1.0\\\\\n",
       "\t 2   &  3  & 1   & 2   & 1.5\\\\\n",
       "\t 3   &  6  & 1   & 3   & 2.0\\\\\n",
       "\t 4   & 10  & 1   & 4   & 2.5\\\\\n",
       "\t 5   & 15  & 1   & 5   & 3.0\\\\\n",
       "\\end{tabular}\n"
      ],
      "text/markdown": [
       "\n",
       "x | cumsum | cummin | cummax | cummean | \n",
       "|---|---|---|---|---|\n",
       "| 1   |  1  | 1   | 1   | 1.0 | \n",
       "| 2   |  3  | 1   | 2   | 1.5 | \n",
       "| 3   |  6  | 1   | 3   | 2.0 | \n",
       "| 4   | 10  | 1   | 4   | 2.5 | \n",
       "| 5   | 15  | 1   | 5   | 3.0 | \n",
       "\n",
       "\n"
      ],
      "text/plain": [
       "  x cumsum cummin cummax cummean\n",
       "1 1  1     1      1      1.0    \n",
       "2 2  3     1      2      1.5    \n",
       "3 3  6     1      3      2.0    \n",
       "4 4 10     1      4      2.5    \n",
       "5 5 15     1      5      3.0    "
      ]
     },
     "metadata": {},
     "output_type": "display_data"
    }
   ],
   "source": [
    "data_frame(x = c(1,2,3,4,5)) %>%\n",
    "   dplyr::mutate(cumsum=cumsum(x)) %>%\n",
    "   dplyr::mutate(cummin=cummin(x)) %>%\n",
    "   dplyr::mutate(cummax=cummax(x)) %>%\n",
    "   dplyr::mutate(cummean=cummean(x))"
   ]
  },
  {
   "cell_type": "markdown",
   "metadata": {},
   "source": [
    "## そのほかの使い方は[元サイト](http://qiita.com/matsuou1/items/db6e8c48fcfd791dd876#%E3%83%AD%E3%83%BC%E3%83%AA%E3%83%B3%E3%82%B0%E9%96%A2%E6%95%B0)を参考に"
   ]
  }
 ],
 "metadata": {
  "kernelspec": {
   "display_name": "R",
   "language": "R",
   "name": "ir"
  },
  "language_info": {
   "codemirror_mode": "r",
   "file_extension": ".r",
   "mimetype": "text/x-r-source",
   "name": "R",
   "pygments_lexer": "r",
   "version": "3.3.2"
  }
 },
 "nbformat": 4,
 "nbformat_minor": 2
}

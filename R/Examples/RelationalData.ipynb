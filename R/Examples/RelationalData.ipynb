{
 "cells": [
  {
   "cell_type": "markdown",
   "metadata": {},
   "source": [
    "[Reference: R for Data Science Chapter 13](http://r4ds.had.co.nz/relational-data.html)"
   ]
  },
  {
   "cell_type": "markdown",
   "metadata": {},
   "source": [
    "# 13.1 Introduction"
   ]
  },
  {
   "cell_type": "markdown",
   "metadata": {},
   "source": [
    "* multiple tables of data are called relational data because it is the relations, not just the individual datasets, that are important\n",
    "* Relations are always defined between a pair of tables."
   ]
  },
  {
   "cell_type": "markdown",
   "metadata": {},
   "source": [
    "* **Mutating joins**, which add new variables to one data frame from matching observations in another.\n",
    "* **Filtering joins**, which filter observations from one data frame based on whether or not they match an observation in the other table.\n",
    "* **Set operations**, which treat observations as if they were set elements."
   ]
  },
  {
   "cell_type": "markdown",
   "metadata": {},
   "source": [
    "## 13.1.1 Prerequisites"
   ]
  },
  {
   "cell_type": "code",
   "execution_count": 2,
   "metadata": {
    "collapsed": false
   },
   "outputs": [],
   "source": [
    "library(tidyverse)\n",
    "library(nycflights13)"
   ]
  },
  {
   "cell_type": "markdown",
   "metadata": {},
   "source": [
    "# 13.2 nycflights13"
   ]
  },
  {
   "cell_type": "markdown",
   "metadata": {},
   "source": [
    "Dataset containts four tables:\n",
    "* `airlines` lets you look up the full carrier name from its abbreviated code\n",
    "* `airports` gives information about each airport, identified by the `faa` airport code\n",
    "* `planes` gives information about each plane, identified by its `tailnum`\n",
    "* `weather` gives the weather at each NYC airport for each hour"
   ]
  },
  {
   "cell_type": "markdown",
   "metadata": {},
   "source": [
    "<img src=\"http://r4ds.had.co.nz/diagrams/relational-nycflights.png\", width=520, height=360>"
   ]
  },
  {
   "cell_type": "markdown",
   "metadata": {},
   "source": [
    "* `flights` connects to `planes` via a single variable, `tailnum`.\n",
    "* `flights` connects to `airlines` through the `carrier` variable.\n",
    "* `flights` connects to `airports` in two ways: via the `origin` and `dest` variables.\n",
    "* `flights` connects to `weather` via `origin` (the location), and `year`, `month`, `day` and `hour` (the time)."
   ]
  },
  {
   "cell_type": "markdown",
   "metadata": {},
   "source": [
    "# 13.3 Keys"
   ]
  },
  {
   "cell_type": "markdown",
   "metadata": {},
   "source": [
    "A key is a variable (or set of variables) that uniquely identifies an observation."
   ]
  },
  {
   "cell_type": "markdown",
   "metadata": {},
   "source": [
    "There are two types of keys:\n",
    "* A primary key uniquely identifies an observation in its own table. For example, `planes$tailnum` is a primary key because it uniquely identifies each plane in the planes table.\n",
    "* A foreign key uniquely identifies an observation in another table. For example, the `flights$tailnum` is a foreign key because it appears in the flights table where it matches each flight to a unique plane."
   ]
  },
  {
   "cell_type": "code",
   "execution_count": 3,
   "metadata": {
    "collapsed": false
   },
   "outputs": [
    {
     "data": {
      "text/html": [
       "<table>\n",
       "<thead><tr><th scope=col>tailnum</th><th scope=col>n</th></tr></thead>\n",
       "<tbody>\n",
       "</tbody>\n",
       "</table>\n"
      ],
      "text/latex": [
       "\\begin{tabular}{r|ll}\n",
       " tailnum & n\\\\\n",
       "\\hline\n",
       "\\end{tabular}\n"
      ],
      "text/markdown": [
       "\n",
       "tailnum | n | \n",
       "||\n",
       "\n",
       "\n"
      ],
      "text/plain": [
       "     tailnum n"
      ]
     },
     "metadata": {},
     "output_type": "display_data"
    }
   ],
   "source": [
    "# check whether we identified the primary keys\n",
    "planes %>% \n",
    "  count(tailnum) %>% \n",
    "  filter(n > 1) # if the number is 0, it is fine!"
   ]
  },
  {
   "cell_type": "markdown",
   "metadata": {},
   "source": [
    "If a table lacks a primary key, it’s sometimes useful to add one with `mutate()` and `row_number()`. That makes it easier to match observations if you’ve done some filtering and want to check back in with the original data. This is called a **surrogate key**."
   ]
  },
  {
   "cell_type": "markdown",
   "metadata": {},
   "source": [
    "Relationship:\n",
    "* 1-to-1: special case of 1-to-many\n",
    "* 1-to-many / many-to-1: each flight has one plane, but each plane has many flights\n",
    "* many-to-many: airports and airlines / each airline flies to many airpots and each airports hosts many airlines"
   ]
  },
  {
   "cell_type": "markdown",
   "metadata": {},
   "source": [
    "# 13.4 Mutating joins"
   ]
  },
  {
   "cell_type": "code",
   "execution_count": 4,
   "metadata": {
    "collapsed": false
   },
   "outputs": [
    {
     "data": {
      "text/html": [
       "<table>\n",
       "<thead><tr><th scope=col>year</th><th scope=col>month</th><th scope=col>day</th><th scope=col>hour</th><th scope=col>origin</th><th scope=col>dest</th><th scope=col>tailnum</th><th scope=col>carrier</th></tr></thead>\n",
       "<tbody>\n",
       "\t<tr><td>2013  </td><td>1     </td><td>1     </td><td>5     </td><td>EWR   </td><td>IAH   </td><td>N14228</td><td>UA    </td></tr>\n",
       "\t<tr><td>2013  </td><td>1     </td><td>1     </td><td>5     </td><td>LGA   </td><td>IAH   </td><td>N24211</td><td>UA    </td></tr>\n",
       "\t<tr><td>2013  </td><td>1     </td><td>1     </td><td>5     </td><td>JFK   </td><td>MIA   </td><td>N619AA</td><td>AA    </td></tr>\n",
       "\t<tr><td>2013  </td><td>1     </td><td>1     </td><td>5     </td><td>JFK   </td><td>BQN   </td><td>N804JB</td><td>B6    </td></tr>\n",
       "\t<tr><td>2013  </td><td>1     </td><td>1     </td><td>6     </td><td>LGA   </td><td>ATL   </td><td>N668DN</td><td>DL    </td></tr>\n",
       "\t<tr><td>2013  </td><td>1     </td><td>1     </td><td>5     </td><td>EWR   </td><td>ORD   </td><td>N39463</td><td>UA    </td></tr>\n",
       "</tbody>\n",
       "</table>\n"
      ],
      "text/latex": [
       "\\begin{tabular}{r|llllllll}\n",
       " year & month & day & hour & origin & dest & tailnum & carrier\\\\\n",
       "\\hline\n",
       "\t 2013   & 1      & 1      & 5      & EWR    & IAH    & N14228 & UA    \\\\\n",
       "\t 2013   & 1      & 1      & 5      & LGA    & IAH    & N24211 & UA    \\\\\n",
       "\t 2013   & 1      & 1      & 5      & JFK    & MIA    & N619AA & AA    \\\\\n",
       "\t 2013   & 1      & 1      & 5      & JFK    & BQN    & N804JB & B6    \\\\\n",
       "\t 2013   & 1      & 1      & 6      & LGA    & ATL    & N668DN & DL    \\\\\n",
       "\t 2013   & 1      & 1      & 5      & EWR    & ORD    & N39463 & UA    \\\\\n",
       "\\end{tabular}\n"
      ],
      "text/markdown": [
       "\n",
       "year | month | day | hour | origin | dest | tailnum | carrier | \n",
       "|---|---|---|---|---|---|\n",
       "| 2013   | 1      | 1      | 5      | EWR    | IAH    | N14228 | UA     | \n",
       "| 2013   | 1      | 1      | 5      | LGA    | IAH    | N24211 | UA     | \n",
       "| 2013   | 1      | 1      | 5      | JFK    | MIA    | N619AA | AA     | \n",
       "| 2013   | 1      | 1      | 5      | JFK    | BQN    | N804JB | B6     | \n",
       "| 2013   | 1      | 1      | 6      | LGA    | ATL    | N668DN | DL     | \n",
       "| 2013   | 1      | 1      | 5      | EWR    | ORD    | N39463 | UA     | \n",
       "\n",
       "\n"
      ],
      "text/plain": [
       "  year month day hour origin dest tailnum carrier\n",
       "1 2013 1     1   5    EWR    IAH  N14228  UA     \n",
       "2 2013 1     1   5    LGA    IAH  N24211  UA     \n",
       "3 2013 1     1   5    JFK    MIA  N619AA  AA     \n",
       "4 2013 1     1   5    JFK    BQN  N804JB  B6     \n",
       "5 2013 1     1   6    LGA    ATL  N668DN  DL     \n",
       "6 2013 1     1   5    EWR    ORD  N39463  UA     "
      ]
     },
     "metadata": {},
     "output_type": "display_data"
    }
   ],
   "source": [
    "# 扱いやすいように変数を減らす\n",
    "flights2 <- flights %>% \n",
    "  select(year:day, hour, origin, dest, tailnum, carrier)\n",
    "head(flights2)"
   ]
  },
  {
   "cell_type": "code",
   "execution_count": 5,
   "metadata": {
    "collapsed": false
   },
   "outputs": [
    {
     "data": {
      "text/html": [
       "<table>\n",
       "<thead><tr><th scope=col>carrier</th><th scope=col>name</th></tr></thead>\n",
       "<tbody>\n",
       "\t<tr><td>9E                    </td><td>Endeavor Air Inc.     </td></tr>\n",
       "\t<tr><td>AA                    </td><td>American Airlines Inc.</td></tr>\n",
       "\t<tr><td>AS                    </td><td>Alaska Airlines Inc.  </td></tr>\n",
       "</tbody>\n",
       "</table>\n"
      ],
      "text/latex": [
       "\\begin{tabular}{r|ll}\n",
       " carrier & name\\\\\n",
       "\\hline\n",
       "\t 9E                     & Endeavor Air Inc.     \\\\\n",
       "\t AA                     & American Airlines Inc.\\\\\n",
       "\t AS                     & Alaska Airlines Inc.  \\\\\n",
       "\\end{tabular}\n"
      ],
      "text/markdown": [
       "\n",
       "carrier | name | \n",
       "|---|---|---|\n",
       "| 9E                     | Endeavor Air Inc.      | \n",
       "| AA                     | American Airlines Inc. | \n",
       "| AS                     | Alaska Airlines Inc.   | \n",
       "\n",
       "\n"
      ],
      "text/plain": [
       "  carrier name                  \n",
       "1 9E      Endeavor Air Inc.     \n",
       "2 AA      American Airlines Inc.\n",
       "3 AS      Alaska Airlines Inc.  "
      ]
     },
     "metadata": {},
     "output_type": "display_data"
    }
   ],
   "source": [
    "# 航空会社の名前を上のtableに追加したい\n",
    "head(airlines, 3)"
   ]
  },
  {
   "cell_type": "code",
   "execution_count": 6,
   "metadata": {
    "collapsed": false
   },
   "outputs": [
    {
     "data": {
      "text/html": [
       "<table>\n",
       "<thead><tr><th scope=col>year</th><th scope=col>month</th><th scope=col>day</th><th scope=col>hour</th><th scope=col>tailnum</th><th scope=col>carrier</th><th scope=col>name</th></tr></thead>\n",
       "<tbody>\n",
       "\t<tr><td>2013                  </td><td>1                     </td><td>1                     </td><td>5                     </td><td>N14228                </td><td>UA                    </td><td>United Air Lines Inc. </td></tr>\n",
       "\t<tr><td>2013                  </td><td>1                     </td><td>1                     </td><td>5                     </td><td>N24211                </td><td>UA                    </td><td>United Air Lines Inc. </td></tr>\n",
       "\t<tr><td>2013                  </td><td>1                     </td><td>1                     </td><td>5                     </td><td>N619AA                </td><td>AA                    </td><td>American Airlines Inc.</td></tr>\n",
       "</tbody>\n",
       "</table>\n"
      ],
      "text/latex": [
       "\\begin{tabular}{r|lllllll}\n",
       " year & month & day & hour & tailnum & carrier & name\\\\\n",
       "\\hline\n",
       "\t 2013                   & 1                      & 1                      & 5                      & N14228                 & UA                     & United Air Lines Inc. \\\\\n",
       "\t 2013                   & 1                      & 1                      & 5                      & N24211                 & UA                     & United Air Lines Inc. \\\\\n",
       "\t 2013                   & 1                      & 1                      & 5                      & N619AA                 & AA                     & American Airlines Inc.\\\\\n",
       "\\end{tabular}\n"
      ],
      "text/markdown": [
       "\n",
       "year | month | day | hour | tailnum | carrier | name | \n",
       "|---|---|---|\n",
       "| 2013                   | 1                      | 1                      | 5                      | N14228                 | UA                     | United Air Lines Inc.  | \n",
       "| 2013                   | 1                      | 1                      | 5                      | N24211                 | UA                     | United Air Lines Inc.  | \n",
       "| 2013                   | 1                      | 1                      | 5                      | N619AA                 | AA                     | American Airlines Inc. | \n",
       "\n",
       "\n"
      ],
      "text/plain": [
       "  year month day hour tailnum carrier name                  \n",
       "1 2013 1     1   5    N14228  UA      United Air Lines Inc. \n",
       "2 2013 1     1   5    N24211  UA      United Air Lines Inc. \n",
       "3 2013 1     1   5    N619AA  AA      American Airlines Inc."
      ]
     },
     "metadata": {},
     "output_type": "display_data"
    }
   ],
   "source": [
    "flights2 %>%\n",
    "  select(-origin, -dest) %>% \n",
    "  left_join(airlines, by = \"carrier\") %>% head(3)"
   ]
  },
  {
   "cell_type": "code",
   "execution_count": 7,
   "metadata": {
    "collapsed": false
   },
   "outputs": [
    {
     "data": {
      "text/html": [
       "<table>\n",
       "<thead><tr><th scope=col>year</th><th scope=col>month</th><th scope=col>day</th><th scope=col>hour</th><th scope=col>tailnum</th><th scope=col>carrier</th><th scope=col>name</th></tr></thead>\n",
       "<tbody>\n",
       "\t<tr><td>2013                  </td><td>1                     </td><td>1                     </td><td>5                     </td><td>N14228                </td><td>UA                    </td><td>United Air Lines Inc. </td></tr>\n",
       "\t<tr><td>2013                  </td><td>1                     </td><td>1                     </td><td>5                     </td><td>N24211                </td><td>UA                    </td><td>United Air Lines Inc. </td></tr>\n",
       "\t<tr><td>2013                  </td><td>1                     </td><td>1                     </td><td>5                     </td><td>N619AA                </td><td>AA                    </td><td>American Airlines Inc.</td></tr>\n",
       "</tbody>\n",
       "</table>\n"
      ],
      "text/latex": [
       "\\begin{tabular}{r|lllllll}\n",
       " year & month & day & hour & tailnum & carrier & name\\\\\n",
       "\\hline\n",
       "\t 2013                   & 1                      & 1                      & 5                      & N14228                 & UA                     & United Air Lines Inc. \\\\\n",
       "\t 2013                   & 1                      & 1                      & 5                      & N24211                 & UA                     & United Air Lines Inc. \\\\\n",
       "\t 2013                   & 1                      & 1                      & 5                      & N619AA                 & AA                     & American Airlines Inc.\\\\\n",
       "\\end{tabular}\n"
      ],
      "text/markdown": [
       "\n",
       "year | month | day | hour | tailnum | carrier | name | \n",
       "|---|---|---|\n",
       "| 2013                   | 1                      | 1                      | 5                      | N14228                 | UA                     | United Air Lines Inc.  | \n",
       "| 2013                   | 1                      | 1                      | 5                      | N24211                 | UA                     | United Air Lines Inc.  | \n",
       "| 2013                   | 1                      | 1                      | 5                      | N619AA                 | AA                     | American Airlines Inc. | \n",
       "\n",
       "\n"
      ],
      "text/plain": [
       "  year month day hour tailnum carrier name                  \n",
       "1 2013 1     1   5    N14228  UA      United Air Lines Inc. \n",
       "2 2013 1     1   5    N24211  UA      United Air Lines Inc. \n",
       "3 2013 1     1   5    N619AA  AA      American Airlines Inc."
      ]
     },
     "metadata": {},
     "output_type": "display_data"
    }
   ],
   "source": [
    "# Another way (not recommended)\n",
    "flights2 %>%\n",
    "  select(-origin, -dest) %>% \n",
    "  mutate(name = airlines$name[match(carrier, airlines$carrier)]) %>% head(3)"
   ]
  },
  {
   "cell_type": "markdown",
   "metadata": {},
   "source": [
    "## 13.4.1 Understanding joins"
   ]
  },
  {
   "cell_type": "code",
   "execution_count": 8,
   "metadata": {
    "collapsed": true
   },
   "outputs": [],
   "source": [
    "x <- tribble(\n",
    "  ~key, ~val_x,\n",
    "     1, \"x1\",\n",
    "     2, \"x2\",\n",
    "     3, \"x3\"\n",
    ")\n",
    "y <- tribble(\n",
    "  ~key, ~val_y,\n",
    "     1, \"y1\",\n",
    "     2, \"y2\",\n",
    "     4, \"y3\"\n",
    ")"
   ]
  },
  {
   "cell_type": "markdown",
   "metadata": {},
   "source": [
    "## 13.4.2 Inner join"
   ]
  },
  {
   "cell_type": "markdown",
   "metadata": {},
   "source": [
    "[Image in Textbook](http://r4ds.had.co.nz/diagrams/join-inner.png)"
   ]
  },
  {
   "cell_type": "markdown",
   "metadata": {},
   "source": [
    "## 13.4.3 Outer joins"
   ]
  },
  {
   "cell_type": "markdown",
   "metadata": {},
   "source": [
    "[Image in Textbook](http://r4ds.had.co.nz/diagrams/join-outer.png)"
   ]
  },
  {
   "cell_type": "markdown",
   "metadata": {},
   "source": [
    "## 13.4.4 Duplicate keys"
   ]
  },
  {
   "cell_type": "markdown",
   "metadata": {},
   "source": [
    "[Image in Textbook: One table has dublicate keys](http://r4ds.had.co.nz/diagrams/join-one-to-many.png)"
   ]
  },
  {
   "cell_type": "markdown",
   "metadata": {},
   "source": [
    "[Image in Textbook: Both tables have duplicate keys](http://r4ds.had.co.nz/diagrams/join-many-to-many.png)"
   ]
  },
  {
   "cell_type": "markdown",
   "metadata": {},
   "source": [
    "## 13.4.5 Defining the key columns"
   ]
  },
  {
   "cell_type": "markdown",
   "metadata": {},
   "source": [
    "`by = c(\"a\" = \"b\")` will match variable `a` in table `x` to variable `b` in table `y`"
   ]
  },
  {
   "cell_type": "code",
   "execution_count": 9,
   "metadata": {
    "collapsed": false
   },
   "outputs": [
    {
     "data": {
      "text/html": [
       "<table>\n",
       "<thead><tr><th scope=col>year</th><th scope=col>month</th><th scope=col>day</th><th scope=col>hour</th><th scope=col>origin</th><th scope=col>dest</th><th scope=col>tailnum</th><th scope=col>carrier</th><th scope=col>name</th><th scope=col>lat</th><th scope=col>lon</th><th scope=col>alt</th><th scope=col>tz</th><th scope=col>dst</th><th scope=col>tzone</th></tr></thead>\n",
       "<tbody>\n",
       "\t<tr><td>2013                        </td><td>1                           </td><td>1                           </td><td>5                           </td><td>EWR                         </td><td>IAH                         </td><td>N14228                      </td><td>UA                          </td><td>George Bush Intercontinental</td><td>29.98443                    </td><td>-95.34144                   </td><td>97                          </td><td>-6                          </td><td>A                           </td><td>America/Chicago             </td></tr>\n",
       "\t<tr><td>2013                        </td><td>1                           </td><td>1                           </td><td>5                           </td><td>LGA                         </td><td>IAH                         </td><td>N24211                      </td><td>UA                          </td><td>George Bush Intercontinental</td><td>29.98443                    </td><td>-95.34144                   </td><td>97                          </td><td>-6                          </td><td>A                           </td><td>America/Chicago             </td></tr>\n",
       "\t<tr><td>2013                        </td><td>1                           </td><td>1                           </td><td>5                           </td><td>JFK                         </td><td>MIA                         </td><td>N619AA                      </td><td>AA                          </td><td>Miami Intl                  </td><td>25.79325                    </td><td>-80.29056                   </td><td> 8                          </td><td>-5                          </td><td>A                           </td><td>America/New_York            </td></tr>\n",
       "</tbody>\n",
       "</table>\n"
      ],
      "text/latex": [
       "\\begin{tabular}{r|lllllllllllllll}\n",
       " year & month & day & hour & origin & dest & tailnum & carrier & name & lat & lon & alt & tz & dst & tzone\\\\\n",
       "\\hline\n",
       "\t 2013                         & 1                            & 1                            & 5                            & EWR                          & IAH                          & N14228                       & UA                           & George Bush Intercontinental & 29.98443                     & -95.34144                    & 97                           & -6                           & A                            & America/Chicago             \\\\\n",
       "\t 2013                         & 1                            & 1                            & 5                            & LGA                          & IAH                          & N24211                       & UA                           & George Bush Intercontinental & 29.98443                     & -95.34144                    & 97                           & -6                           & A                            & America/Chicago             \\\\\n",
       "\t 2013                         & 1                            & 1                            & 5                            & JFK                          & MIA                          & N619AA                       & AA                           & Miami Intl                   & 25.79325                     & -80.29056                    &  8                           & -5                           & A                            & America/New\\_York          \\\\\n",
       "\\end{tabular}\n"
      ],
      "text/markdown": [
       "\n",
       "year | month | day | hour | origin | dest | tailnum | carrier | name | lat | lon | alt | tz | dst | tzone | \n",
       "|---|---|---|\n",
       "| 2013                         | 1                            | 1                            | 5                            | EWR                          | IAH                          | N14228                       | UA                           | George Bush Intercontinental | 29.98443                     | -95.34144                    | 97                           | -6                           | A                            | America/Chicago              | \n",
       "| 2013                         | 1                            | 1                            | 5                            | LGA                          | IAH                          | N24211                       | UA                           | George Bush Intercontinental | 29.98443                     | -95.34144                    | 97                           | -6                           | A                            | America/Chicago              | \n",
       "| 2013                         | 1                            | 1                            | 5                            | JFK                          | MIA                          | N619AA                       | AA                           | Miami Intl                   | 25.79325                     | -80.29056                    |  8                           | -5                           | A                            | America/New_York             | \n",
       "\n",
       "\n"
      ],
      "text/plain": [
       "  year month day hour origin dest tailnum carrier name                        \n",
       "1 2013 1     1   5    EWR    IAH  N14228  UA      George Bush Intercontinental\n",
       "2 2013 1     1   5    LGA    IAH  N24211  UA      George Bush Intercontinental\n",
       "3 2013 1     1   5    JFK    MIA  N619AA  AA      Miami Intl                  \n",
       "  lat      lon       alt tz dst tzone           \n",
       "1 29.98443 -95.34144 97  -6 A   America/Chicago \n",
       "2 29.98443 -95.34144 97  -6 A   America/Chicago \n",
       "3 25.79325 -80.29056  8  -5 A   America/New_York"
      ]
     },
     "metadata": {},
     "output_type": "display_data"
    }
   ],
   "source": [
    "flights2 %>% \n",
    "  left_join(airports, c(\"dest\" = \"faa\")) %>% head(3)"
   ]
  },
  {
   "cell_type": "markdown",
   "metadata": {},
   "source": [
    "## 13.4.7 Other implementations"
   ]
  },
  {
   "cell_type": "markdown",
   "metadata": {},
   "source": [
    "baseやSQLとの対応"
   ]
  },
  {
   "cell_type": "markdown",
   "metadata": {},
   "source": [
    "# 13.5 Filtering joins"
   ]
  },
  {
   "cell_type": "markdown",
   "metadata": {},
   "source": [
    "* [`semi_join(x, y)`](http://r4ds.had.co.nz/diagrams/join-semi.png) keeps all observations in `x` that have a match in `y`.\n",
    "* [`anti_join(x, y)`](http://r4ds.had.co.nz/diagrams/join-anti.png) drops all observations in `x` that have a match in `y`."
   ]
  },
  {
   "cell_type": "code",
   "execution_count": 10,
   "metadata": {
    "collapsed": false
   },
   "outputs": [
    {
     "data": {
      "text/html": [
       "<table>\n",
       "<thead><tr><th scope=col>dest</th><th scope=col>n</th></tr></thead>\n",
       "<tbody>\n",
       "\t<tr><td>ORD  </td><td>17283</td></tr>\n",
       "\t<tr><td>ATL  </td><td>17215</td></tr>\n",
       "\t<tr><td>LAX  </td><td>16174</td></tr>\n",
       "\t<tr><td>BOS  </td><td>15508</td></tr>\n",
       "\t<tr><td>MCO  </td><td>14082</td></tr>\n",
       "</tbody>\n",
       "</table>\n"
      ],
      "text/latex": [
       "\\begin{tabular}{r|ll}\n",
       " dest & n\\\\\n",
       "\\hline\n",
       "\t ORD   & 17283\\\\\n",
       "\t ATL   & 17215\\\\\n",
       "\t LAX   & 16174\\\\\n",
       "\t BOS   & 15508\\\\\n",
       "\t MCO   & 14082\\\\\n",
       "\\end{tabular}\n"
      ],
      "text/markdown": [
       "\n",
       "dest | n | \n",
       "|---|---|---|---|---|\n",
       "| ORD   | 17283 | \n",
       "| ATL   | 17215 | \n",
       "| LAX   | 16174 | \n",
       "| BOS   | 15508 | \n",
       "| MCO   | 14082 | \n",
       "\n",
       "\n"
      ],
      "text/plain": [
       "  dest n    \n",
       "1 ORD  17283\n",
       "2 ATL  17215\n",
       "3 LAX  16174\n",
       "4 BOS  15508\n",
       "5 MCO  14082"
      ]
     },
     "metadata": {},
     "output_type": "display_data"
    }
   ],
   "source": [
    "# Semi-joins are useful for matching filtered summary tables back to the original rows\n",
    "top_dest <- flights %>%\n",
    "  count(dest, sort = TRUE) %>%\n",
    "  head(5)\n",
    "top_dest"
   ]
  },
  {
   "cell_type": "code",
   "execution_count": 11,
   "metadata": {
    "collapsed": false
   },
   "outputs": [
    {
     "data": {
      "text/plain": [
       ".\n",
       "  ATL   BOS   LAX   MCO   ORD \n",
       "17215 15508 16174 14082 17283 "
      ]
     },
     "metadata": {},
     "output_type": "display_data"
    }
   ],
   "source": [
    "flights %>% \n",
    "  filter(dest %in% top_dest$dest) %>% select(dest)　%>% table()"
   ]
  },
  {
   "cell_type": "code",
   "execution_count": 12,
   "metadata": {
    "collapsed": false
   },
   "outputs": [
    {
     "data": {
      "text/plain": [
       ".\n",
       "  ATL   BOS   LAX   MCO   ORD \n",
       "17215 15508 16174 14082 17283 "
      ]
     },
     "metadata": {},
     "output_type": "display_data"
    }
   ],
   "source": [
    "# 上と同じことをする\n",
    "flights %>% \n",
    "  semi_join(top_dest, by=\"dest\") %>% select(dest)　%>% table()"
   ]
  },
  {
   "cell_type": "code",
   "execution_count": 13,
   "metadata": {
    "collapsed": false
   },
   "outputs": [
    {
     "data": {
      "text/html": [
       "<table>\n",
       "<thead><tr><th scope=col>tailnum</th><th scope=col>n</th></tr></thead>\n",
       "<tbody>\n",
       "\t<tr><td>NA    </td><td>2512  </td></tr>\n",
       "\t<tr><td>N725MQ</td><td> 575  </td></tr>\n",
       "\t<tr><td>N722MQ</td><td> 513  </td></tr>\n",
       "</tbody>\n",
       "</table>\n"
      ],
      "text/latex": [
       "\\begin{tabular}{r|ll}\n",
       " tailnum & n\\\\\n",
       "\\hline\n",
       "\t NA     & 2512  \\\\\n",
       "\t N725MQ &  575  \\\\\n",
       "\t N722MQ &  513  \\\\\n",
       "\\end{tabular}\n"
      ],
      "text/markdown": [
       "\n",
       "tailnum | n | \n",
       "|---|---|---|\n",
       "| NA     | 2512   | \n",
       "| N725MQ |  575   | \n",
       "| N722MQ |  513   | \n",
       "\n",
       "\n"
      ],
      "text/plain": [
       "  tailnum n   \n",
       "1 NA      2512\n",
       "2 N725MQ   575\n",
       "3 N722MQ   513"
      ]
     },
     "metadata": {},
     "output_type": "display_data"
    }
   ],
   "source": [
    "# Anti-joins are useful for diagnosing join mismatches. \n",
    "flights %>%\n",
    "  anti_join(planes, by = \"tailnum\") %>%\n",
    "  count(tailnum, sort = TRUE) %>% head(3)"
   ]
  },
  {
   "cell_type": "markdown",
   "metadata": {},
   "source": [
    "# 13.6 Join problems"
   ]
  },
  {
   "cell_type": "markdown",
   "metadata": {},
   "source": [
    "# 13.7 Set operations"
   ]
  },
  {
   "cell_type": "code",
   "execution_count": 14,
   "metadata": {
    "collapsed": true
   },
   "outputs": [],
   "source": [
    "df1 <- tribble(\n",
    "  ~x, ~y,\n",
    "   1,  1,\n",
    "   2,  1\n",
    ")\n",
    "df2 <- tribble(\n",
    "  ~x, ~y,\n",
    "   1,  1,\n",
    "   1,  2\n",
    ")"
   ]
  },
  {
   "cell_type": "code",
   "execution_count": 15,
   "metadata": {
    "collapsed": false
   },
   "outputs": [
    {
     "data": {
      "text/html": [
       "<table>\n",
       "<thead><tr><th scope=col>x</th><th scope=col>y</th></tr></thead>\n",
       "<tbody>\n",
       "\t<tr><td>1</td><td>1</td></tr>\n",
       "</tbody>\n",
       "</table>\n"
      ],
      "text/latex": [
       "\\begin{tabular}{r|ll}\n",
       " x & y\\\\\n",
       "\\hline\n",
       "\t 1 & 1\\\\\n",
       "\\end{tabular}\n"
      ],
      "text/markdown": [
       "\n",
       "x | y | \n",
       "|---|\n",
       "| 1 | 1 | \n",
       "\n",
       "\n"
      ],
      "text/plain": [
       "  x y\n",
       "1 1 1"
      ]
     },
     "metadata": {},
     "output_type": "display_data"
    }
   ],
   "source": [
    "intersect(df1, df2) # return only observations in both x and y"
   ]
  },
  {
   "cell_type": "code",
   "execution_count": 16,
   "metadata": {
    "collapsed": false
   },
   "outputs": [
    {
     "data": {
      "text/html": [
       "<table>\n",
       "<thead><tr><th scope=col>x</th><th scope=col>y</th></tr></thead>\n",
       "<tbody>\n",
       "\t<tr><td>1</td><td>2</td></tr>\n",
       "\t<tr><td>2</td><td>1</td></tr>\n",
       "\t<tr><td>1</td><td>1</td></tr>\n",
       "</tbody>\n",
       "</table>\n"
      ],
      "text/latex": [
       "\\begin{tabular}{r|ll}\n",
       " x & y\\\\\n",
       "\\hline\n",
       "\t 1 & 2\\\\\n",
       "\t 2 & 1\\\\\n",
       "\t 1 & 1\\\\\n",
       "\\end{tabular}\n"
      ],
      "text/markdown": [
       "\n",
       "x | y | \n",
       "|---|---|---|\n",
       "| 1 | 2 | \n",
       "| 2 | 1 | \n",
       "| 1 | 1 | \n",
       "\n",
       "\n"
      ],
      "text/plain": [
       "  x y\n",
       "1 1 2\n",
       "2 2 1\n",
       "3 1 1"
      ]
     },
     "metadata": {},
     "output_type": "display_data"
    }
   ],
   "source": [
    "union(df1, df2) # return unique observations in x and y"
   ]
  },
  {
   "cell_type": "code",
   "execution_count": 17,
   "metadata": {
    "collapsed": false
   },
   "outputs": [
    {
     "data": {
      "text/html": [
       "<table>\n",
       "<thead><tr><th scope=col>x</th><th scope=col>y</th></tr></thead>\n",
       "<tbody>\n",
       "\t<tr><td>2</td><td>1</td></tr>\n",
       "</tbody>\n",
       "</table>\n"
      ],
      "text/latex": [
       "\\begin{tabular}{r|ll}\n",
       " x & y\\\\\n",
       "\\hline\n",
       "\t 2 & 1\\\\\n",
       "\\end{tabular}\n"
      ],
      "text/markdown": [
       "\n",
       "x | y | \n",
       "|---|\n",
       "| 2 | 1 | \n",
       "\n",
       "\n"
      ],
      "text/plain": [
       "  x y\n",
       "1 2 1"
      ]
     },
     "metadata": {},
     "output_type": "display_data"
    }
   ],
   "source": [
    "setdiff(df1, df2) # return observations in x, but not in y"
   ]
  }
 ],
 "metadata": {
  "kernelspec": {
   "display_name": "R",
   "language": "R",
   "name": "ir"
  },
  "language_info": {
   "codemirror_mode": "r",
   "file_extension": ".r",
   "mimetype": "text/x-r-source",
   "name": "R",
   "pygments_lexer": "r",
   "version": "3.3.2"
  }
 },
 "nbformat": 4,
 "nbformat_minor": 2
}

{
 "cells": [
  {
   "cell_type": "markdown",
   "metadata": {},
   "source": [
    "[Reference](http://sinhrks.hatenablog.com/entry/2015/11/26/220956)  \n",
    "purrrの目的は、データ処理フローを関数型のように記述すること"
   ]
  },
  {
   "cell_type": "code",
   "execution_count": 2,
   "metadata": {
    "collapsed": false
   },
   "outputs": [],
   "source": [
    "library(purrr)\n",
    "library(pipeR)\n",
    "library(purrr)\n",
    "library(dplyr)"
   ]
  },
  {
   "cell_type": "markdown",
   "metadata": {},
   "source": [
    "## 関数型プログラミング"
   ]
  },
  {
   "cell_type": "markdown",
   "metadata": {},
   "source": [
    "* データに何らかの処理を加えていくことを繰り返す\n",
    "    * オブジェクト志向とは結構違うよね\n",
    "    * インスタンスの中に状態(変数)があり、それを参照したり変更したりするので、同じ関数を呼び出しても結果が異なることがある (=同じものを参照しても同じ答えが返ってこない=参照透明性がない)"
   ]
  },
  {
   "cell_type": "markdown",
   "metadata": {},
   "source": [
    "## purrrによるリストの操作"
   ]
  },
  {
   "cell_type": "markdown",
   "metadata": {},
   "source": [
    "扱う2点:\n",
    "* 要素に対する操作、特定の要素を元に新しい要素を作る (マッピング)\n",
    "* レコードに対する操作　(2のファイルを参照のこと)"
   ]
  },
  {
   "cell_type": "code",
   "execution_count": 3,
   "metadata": {
    "collapsed": true
   },
   "outputs": [],
   "source": [
    "packages <- list(\n",
    "  list(name = 'dplyr', star = 979L, maintainer = 'hadley' , authors = c('hadley', 'romain')),\n",
    "  list(name = 'ggplot2', star = 1546L, maintainer = 'hadley' , authors = c('hadley')),\n",
    "  list(name = 'knitr', star = 1047L, maintainer = 'yihui' , authors = c('yihui', 'hadley', '...and all'))\n",
    ")"
   ]
  },
  {
   "cell_type": "markdown",
   "metadata": {},
   "source": [
    "## リストの表示"
   ]
  },
  {
   "cell_type": "code",
   "execution_count": 5,
   "metadata": {
    "collapsed": false
   },
   "outputs": [],
   "source": [
    "library(Hmisc)"
   ]
  },
  {
   "cell_type": "code",
   "execution_count": 6,
   "metadata": {
    "collapsed": false
   },
   "outputs": [
    {
     "name": "stdout",
     "output_type": "stream",
     "text": [
      " packages = list 3 (2632 bytes)\n",
      ".  [[1]] = list 4\n",
      ". .  name = character 1= dplyr \n",
      ". .  star = integer 1= 979\n",
      ". .  maintainer = character 1= hadley \n",
      ". .  authors = character 2= hadley romain \n",
      ".  [[2]] = list 4\n",
      ". .  name = character 1= ggplot2 \n",
      ". .  star = integer 1= 1546\n",
      ". .  maintainer = character 1= hadley \n",
      ". .  authors = character 1= hadley \n",
      ".  [[3]] = list 4\n",
      ". .  name = character 1= knitr \n",
      ". .  star = integer 1= 1047\n",
      ". .  maintainer = character 1= yihui \n",
      ". .  authors = character 3= yihui hadley  ... \n"
     ]
    }
   ],
   "source": [
    "Hmisc::list.tree(packages) # (名前 = 型 要素数 = 値 と読む)"
   ]
  },
  {
   "cell_type": "markdown",
   "metadata": {},
   "source": [
    "## 要素の選択とマッピング"
   ]
  },
  {
   "cell_type": "markdown",
   "metadata": {},
   "source": [
    "### 単一要素の選択"
   ]
  },
  {
   "cell_type": "code",
   "execution_count": 7,
   "metadata": {
    "collapsed": false
   },
   "outputs": [
    {
     "data": {
      "text/html": [
       "<ol>\n",
       "\t<li>'dplyr'</li>\n",
       "\t<li>'ggplot2'</li>\n",
       "\t<li>'knitr'</li>\n",
       "</ol>\n"
      ],
      "text/latex": [
       "\\begin{enumerate}\n",
       "\\item 'dplyr'\n",
       "\\item 'ggplot2'\n",
       "\\item 'knitr'\n",
       "\\end{enumerate}\n"
      ],
      "text/markdown": [
       "1. 'dplyr'\n",
       "2. 'ggplot2'\n",
       "3. 'knitr'\n",
       "\n",
       "\n"
      ],
      "text/plain": [
       "[[1]]\n",
       "[1] \"dplyr\"\n",
       "\n",
       "[[2]]\n",
       "[1] \"ggplot2\"\n",
       "\n",
       "[[3]]\n",
       "[1] \"knitr\"\n"
      ]
     },
     "metadata": {},
     "output_type": "display_data"
    }
   ],
   "source": [
    "# Basic\n",
    "lapply(packages, function(x){x$name})"
   ]
  },
  {
   "cell_type": "code",
   "execution_count": 8,
   "metadata": {
    "collapsed": false
   },
   "outputs": [
    {
     "data": {
      "text/html": [
       "<ol>\n",
       "\t<li>'dplyr'</li>\n",
       "\t<li>'ggplot2'</li>\n",
       "\t<li>'knitr'</li>\n",
       "</ol>\n"
      ],
      "text/latex": [
       "\\begin{enumerate}\n",
       "\\item 'dplyr'\n",
       "\\item 'ggplot2'\n",
       "\\item 'knitr'\n",
       "\\end{enumerate}\n"
      ],
      "text/markdown": [
       "1. 'dplyr'\n",
       "2. 'ggplot2'\n",
       "3. 'knitr'\n",
       "\n",
       "\n"
      ],
      "text/plain": [
       "[[1]]\n",
       "[1] \"dplyr\"\n",
       "\n",
       "[[2]]\n",
       "[1] \"ggplot2\"\n",
       "\n",
       "[[3]]\n",
       "[1] \"knitr\"\n"
      ]
     },
     "metadata": {},
     "output_type": "display_data"
    }
   ],
   "source": [
    "purrr::map(packages, 'name')"
   ]
  },
  {
   "cell_type": "code",
   "execution_count": 9,
   "metadata": {
    "collapsed": false
   },
   "outputs": [
    {
     "data": {
      "text/html": [
       "<ol>\n",
       "\t<li>'dplyr'</li>\n",
       "\t<li>'ggplot2'</li>\n",
       "\t<li>'knitr'</li>\n",
       "</ol>\n"
      ],
      "text/latex": [
       "\\begin{enumerate}\n",
       "\\item 'dplyr'\n",
       "\\item 'ggplot2'\n",
       "\\item 'knitr'\n",
       "\\end{enumerate}\n"
      ],
      "text/markdown": [
       "1. 'dplyr'\n",
       "2. 'ggplot2'\n",
       "3. 'knitr'\n",
       "\n",
       "\n"
      ],
      "text/plain": [
       "[[1]]\n",
       "[1] \"dplyr\"\n",
       "\n",
       "[[2]]\n",
       "[1] \"ggplot2\"\n",
       "\n",
       "[[3]]\n",
       "[1] \"knitr\"\n"
      ]
     },
     "metadata": {},
     "output_type": "display_data"
    }
   ],
   "source": [
    "purrr::map(packages, ~ .$name)"
   ]
  },
  {
   "cell_type": "markdown",
   "metadata": {},
   "source": [
    "### 複数要素の選択"
   ]
  },
  {
   "cell_type": "code",
   "execution_count": 10,
   "metadata": {
    "collapsed": false
   },
   "outputs": [
    {
     "data": {
      "text/html": [
       "<ol>\n",
       "\t<li><dl>\n",
       "\t<dt>$maintainer</dt>\n",
       "\t\t<dd>'hadley'</dd>\n",
       "\t<dt>$star</dt>\n",
       "\t\t<dd>979</dd>\n",
       "</dl>\n",
       "</li>\n",
       "\t<li><dl>\n",
       "\t<dt>$maintainer</dt>\n",
       "\t\t<dd>'hadley'</dd>\n",
       "\t<dt>$star</dt>\n",
       "\t\t<dd>1546</dd>\n",
       "</dl>\n",
       "</li>\n",
       "\t<li><dl>\n",
       "\t<dt>$maintainer</dt>\n",
       "\t\t<dd>'yihui'</dd>\n",
       "\t<dt>$star</dt>\n",
       "\t\t<dd>1047</dd>\n",
       "</dl>\n",
       "</li>\n",
       "</ol>\n"
      ],
      "text/latex": [
       "\\begin{enumerate}\n",
       "\\item \\begin{description}\n",
       "\\item[\\$maintainer] 'hadley'\n",
       "\\item[\\$star] 979\n",
       "\\end{description}\n",
       "\n",
       "\\item \\begin{description}\n",
       "\\item[\\$maintainer] 'hadley'\n",
       "\\item[\\$star] 1546\n",
       "\\end{description}\n",
       "\n",
       "\\item \\begin{description}\n",
       "\\item[\\$maintainer] 'yihui'\n",
       "\\item[\\$star] 1047\n",
       "\\end{description}\n",
       "\n",
       "\\end{enumerate}\n"
      ],
      "text/markdown": [
       "1. $maintainer\n",
       ":   'hadley'\n",
       "$star\n",
       ":   979\n",
       "\n",
       "\n",
       "\n",
       "2. $maintainer\n",
       ":   'hadley'\n",
       "$star\n",
       ":   1546\n",
       "\n",
       "\n",
       "\n",
       "3. $maintainer\n",
       ":   'yihui'\n",
       "$star\n",
       ":   1047\n",
       "\n",
       "\n",
       "\n",
       "\n",
       "\n"
      ],
      "text/plain": [
       "[[1]]\n",
       "[[1]]$maintainer\n",
       "[1] \"hadley\"\n",
       "\n",
       "[[1]]$star\n",
       "[1] 979\n",
       "\n",
       "\n",
       "[[2]]\n",
       "[[2]]$maintainer\n",
       "[1] \"hadley\"\n",
       "\n",
       "[[2]]$star\n",
       "[1] 1546\n",
       "\n",
       "\n",
       "[[3]]\n",
       "[[3]]$maintainer\n",
       "[1] \"yihui\"\n",
       "\n",
       "[[3]]$star\n",
       "[1] 1047\n",
       "\n"
      ]
     },
     "metadata": {},
     "output_type": "display_data"
    }
   ],
   "source": [
    "purrr::map(packages, ~ .[c('maintainer', 'star')])"
   ]
  },
  {
   "cell_type": "markdown",
   "metadata": {},
   "source": [
    "### ラムダ式"
   ]
  },
  {
   "cell_type": "code",
   "execution_count": 11,
   "metadata": {
    "collapsed": false
   },
   "outputs": [
    {
     "data": {
      "text/html": [
       "<dl>\n",
       "\t<dt>$a</dt>\n",
       "\t\t<dd>4</dd>\n",
       "\t<dt>$b</dt>\n",
       "\t\t<dd>3</dd>\n",
       "\t<dt>$c</dt>\n",
       "\t\t<dd>2</dd>\n",
       "</dl>\n"
      ],
      "text/latex": [
       "\\begin{description}\n",
       "\\item[\\$a] 4\n",
       "\\item[\\$b] 3\n",
       "\\item[\\$c] 2\n",
       "\\end{description}\n"
      ],
      "text/markdown": [
       "$a\n",
       ":   4\n",
       "$b\n",
       ":   3\n",
       "$c\n",
       ":   2\n",
       "\n",
       "\n"
      ],
      "text/plain": [
       "$a\n",
       "[1] 4\n",
       "\n",
       "$b\n",
       "[1] 3\n",
       "\n",
       "$c\n",
       "[1] 2\n"
      ]
     },
     "metadata": {},
     "output_type": "display_data"
    }
   ],
   "source": [
    "nums <- c(a = 3, b = 2, c = 1)\n",
    "purrr::map(nums, ~ . + 1)"
   ]
  },
  {
   "cell_type": "code",
   "execution_count": 12,
   "metadata": {
    "collapsed": false
   },
   "outputs": [
    {
     "data": {
      "text/html": [
       "<ol>\n",
       "\t<li>'Name: a'</li>\n",
       "\t<li>'Name: b'</li>\n",
       "\t<li>'Name: c'</li>\n",
       "</ol>\n"
      ],
      "text/latex": [
       "\\begin{enumerate}\n",
       "\\item 'Name: a'\n",
       "\\item 'Name: b'\n",
       "\\item 'Name: c'\n",
       "\\end{enumerate}\n"
      ],
      "text/markdown": [
       "1. 'Name: a'\n",
       "2. 'Name: b'\n",
       "3. 'Name: c'\n",
       "\n",
       "\n"
      ],
      "text/plain": [
       "[[1]]\n",
       "[1] \"Name: a\"\n",
       "\n",
       "[[2]]\n",
       "[1] \"Name: b\"\n",
       "\n",
       "[[3]]\n",
       "[1] \"Name: c\"\n"
      ]
     },
     "metadata": {},
     "output_type": "display_data"
    }
   ],
   "source": [
    "purrr::map(names(nums), ~ paste0(\"Name: \", .))"
   ]
  },
  {
   "cell_type": "code",
   "execution_count": 13,
   "metadata": {
    "collapsed": false
   },
   "outputs": [
    {
     "data": {
      "text/html": [
       "<ol>\n",
       "\t<li>1</li>\n",
       "\t<li>2</li>\n",
       "\t<li>3</li>\n",
       "</ol>\n"
      ],
      "text/latex": [
       "\\begin{enumerate}\n",
       "\\item 1\n",
       "\\item 2\n",
       "\\item 3\n",
       "\\end{enumerate}\n"
      ],
      "text/markdown": [
       "1. 1\n",
       "2. 2\n",
       "3. 3\n",
       "\n",
       "\n"
      ],
      "text/plain": [
       "[[1]]\n",
       "[1] 1\n",
       "\n",
       "[[2]]\n",
       "[1] 2\n",
       "\n",
       "[[3]]\n",
       "[1] 3\n"
      ]
     },
     "metadata": {},
     "output_type": "display_data"
    }
   ],
   "source": [
    "purrr::map(seq_along(nums), ~ .)  # namesは変わってしまう"
   ]
  },
  {
   "cell_type": "markdown",
   "metadata": {},
   "source": [
    "### 要素の追加と変更"
   ]
  },
  {
   "cell_type": "markdown",
   "metadata": {},
   "source": [
    "元となるリストの値から新しいリストを作りたい場合はラムダ式でリストを返す"
   ]
  },
  {
   "cell_type": "code",
   "execution_count": 14,
   "metadata": {
    "collapsed": false
   },
   "outputs": [
    {
     "data": {
      "text/html": [
       "<ol>\n",
       "\t<li><dl>\n",
       "\t<dt>$star2</dt>\n",
       "\t\t<dd>979</dd>\n",
       "\t<dt>$had</dt>\n",
       "\t\t<dd>TRUE</dd>\n",
       "</dl>\n",
       "</li>\n",
       "\t<li><dl>\n",
       "\t<dt>$star2</dt>\n",
       "\t\t<dd>1546</dd>\n",
       "\t<dt>$had</dt>\n",
       "\t\t<dd>TRUE</dd>\n",
       "</dl>\n",
       "</li>\n",
       "\t<li><dl>\n",
       "\t<dt>$star2</dt>\n",
       "\t\t<dd>1047</dd>\n",
       "\t<dt>$had</dt>\n",
       "\t\t<dd>TRUE</dd>\n",
       "</dl>\n",
       "</li>\n",
       "</ol>\n"
      ],
      "text/latex": [
       "\\begin{enumerate}\n",
       "\\item \\begin{description}\n",
       "\\item[\\$star2] 979\n",
       "\\item[\\$had] TRUE\n",
       "\\end{description}\n",
       "\n",
       "\\item \\begin{description}\n",
       "\\item[\\$star2] 1546\n",
       "\\item[\\$had] TRUE\n",
       "\\end{description}\n",
       "\n",
       "\\item \\begin{description}\n",
       "\\item[\\$star2] 1047\n",
       "\\item[\\$had] TRUE\n",
       "\\end{description}\n",
       "\n",
       "\\end{enumerate}\n"
      ],
      "text/markdown": [
       "1. $star2\n",
       ":   979\n",
       "$had\n",
       ":   TRUE\n",
       "\n",
       "\n",
       "\n",
       "2. $star2\n",
       ":   1546\n",
       "$had\n",
       ":   TRUE\n",
       "\n",
       "\n",
       "\n",
       "3. $star2\n",
       ":   1047\n",
       "$had\n",
       ":   TRUE\n",
       "\n",
       "\n",
       "\n",
       "\n",
       "\n"
      ],
      "text/plain": [
       "[[1]]\n",
       "[[1]]$star2\n",
       "[1] 979\n",
       "\n",
       "[[1]]$had\n",
       "[1] TRUE\n",
       "\n",
       "\n",
       "[[2]]\n",
       "[[2]]$star2\n",
       "[1] 1546\n",
       "\n",
       "[[2]]$had\n",
       "[1] TRUE\n",
       "\n",
       "\n",
       "[[3]]\n",
       "[[3]]$star2\n",
       "[1] 1047\n",
       "\n",
       "[[3]]$had\n",
       "[1] TRUE\n",
       "\n"
      ]
     },
     "metadata": {},
     "output_type": "display_data"
    }
   ],
   "source": [
    "purrr::map(packages, ~ list(star2 = .$star, had = 'hadley' %in% .$authors))"
   ]
  },
  {
   "cell_type": "markdown",
   "metadata": {},
   "source": [
    "### 結果の型を変更する"
   ]
  },
  {
   "cell_type": "code",
   "execution_count": 15,
   "metadata": {
    "collapsed": false
   },
   "outputs": [
    {
     "data": {
      "text/html": [
       "<ol class=list-inline>\n",
       "\t<li>979</li>\n",
       "\t<li>1546</li>\n",
       "\t<li>1047</li>\n",
       "</ol>\n"
      ],
      "text/latex": [
       "\\begin{enumerate*}\n",
       "\\item 979\n",
       "\\item 1546\n",
       "\\item 1047\n",
       "\\end{enumerate*}\n"
      ],
      "text/markdown": [
       "1. 979\n",
       "2. 1546\n",
       "3. 1047\n",
       "\n",
       "\n"
      ],
      "text/plain": [
       "[1]  979 1546 1047"
      ]
     },
     "metadata": {},
     "output_type": "display_data"
    }
   ],
   "source": [
    "purrr::map_int(packages, 'star')"
   ]
  },
  {
   "cell_type": "code",
   "execution_count": 16,
   "metadata": {
    "collapsed": false
   },
   "outputs": [
    {
     "data": {
      "text/html": [
       "<ol class=list-inline>\n",
       "\t<li>979</li>\n",
       "\t<li>1546</li>\n",
       "\t<li>1047</li>\n",
       "</ol>\n"
      ],
      "text/latex": [
       "\\begin{enumerate*}\n",
       "\\item 979\n",
       "\\item 1546\n",
       "\\item 1047\n",
       "\\end{enumerate*}\n"
      ],
      "text/markdown": [
       "1. 979\n",
       "2. 1546\n",
       "3. 1047\n",
       "\n",
       "\n"
      ],
      "text/plain": [
       "[1]  979 1546 1047"
      ]
     },
     "metadata": {},
     "output_type": "display_data"
    }
   ],
   "source": [
    "purrr::map(packages, ~ list(star2 = .$star, had = 'hadley' %in% .$authors)) %>% map('star2')  %>% purrr::flatten_int()"
   ]
  },
  {
   "cell_type": "markdown",
   "metadata": {},
   "source": [
    "## 関数の適用"
   ]
  },
  {
   "cell_type": "code",
   "execution_count": 17,
   "metadata": {
    "collapsed": false
   },
   "outputs": [
    {
     "name": "stdout",
     "output_type": "stream",
     "text": [
      "dplyr : 979 \n",
      "ggplot2 : 1546 \n",
      "knitr : 1047 \n"
     ]
    }
   ],
   "source": [
    "purrr::walk(packages, ~ cat(.$name, \":\", .$star, \"\\n\"))"
   ]
  }
 ],
 "metadata": {
  "kernelspec": {
   "display_name": "R",
   "language": "R",
   "name": "ir"
  },
  "language_info": {
   "codemirror_mode": "r",
   "file_extension": ".r",
   "mimetype": "text/x-r-source",
   "name": "R",
   "pygments_lexer": "r",
   "version": "3.3.2"
  }
 },
 "nbformat": 4,
 "nbformat_minor": 2
}

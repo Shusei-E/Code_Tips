{
 "cells": [
  {
   "cell_type": "code",
   "execution_count": 2,
   "metadata": {
    "collapsed": false
   },
   "outputs": [],
   "source": [
    "library(repurrrsive)\n",
    "library(listviewer)\n",
    "library(jsonlite)\n",
    "library(dplyr)\n",
    "library(tibble)\n",
    "library(purrr)"
   ]
  },
  {
   "cell_type": "markdown",
   "metadata": {},
   "source": [
    "# Get several GitHub users"
   ]
  },
  {
   "cell_type": "markdown",
   "metadata": {},
   "source": [
    "Controls the output"
   ]
  },
  {
   "cell_type": "code",
   "execution_count": 3,
   "metadata": {
    "collapsed": false,
    "scrolled": false
   },
   "outputs": [
    {
     "name": "stdout",
     "output_type": "stream",
     "text": [
      "List of 6\n",
      " $ :List of 30\n",
      "  ..$ login              : chr \"gaborcsardi\"\n",
      "  ..$ id                 : int 660288\n",
      "  ..$ avatar_url         : chr \"https://avatars.githubusercontent.com/u/660288?v=3\"\n",
      "  .. [list output truncated]\n",
      " $ :List of 30\n",
      "  ..$ login              : chr \"jennybc\"\n",
      "  ..$ id                 : int 599454\n",
      "  ..$ avatar_url         : chr \"https://avatars.githubusercontent.com/u/599454?v=3\"\n",
      "  .. [list output truncated]\n",
      " $ :List of 30\n",
      "  ..$ login              : chr \"jtleek\"\n",
      "  ..$ id                 : int 1571674\n",
      "  ..$ avatar_url         : chr \"https://avatars.githubusercontent.com/u/1571674?v=3\"\n",
      "  .. [list output truncated]\n",
      "  [list output truncated]\n"
     ]
    }
   ],
   "source": [
    "str(gh_users, max.level=2, list.len = 3) "
   ]
  },
  {
   "cell_type": "code",
   "execution_count": 4,
   "metadata": {
    "collapsed": false
   },
   "outputs": [
    {
     "name": "stdout",
     "output_type": "stream",
     "text": [
      "List of 30\n",
      " $ login              : chr \"gaborcsardi\"\n",
      " $ id                 : int 660288\n",
      " $ avatar_url         : chr \"https://avatars.githubusercontent.com/u/660288?v=3\"\n",
      " $ gravatar_id        : chr \"\"\n",
      " $ url                : chr \"https://api.github.com/users/gaborcsardi\"\n",
      " $ html_url           : chr \"https://github.com/gaborcsardi\"\n",
      "  [list output truncated]\n"
     ]
    }
   ],
   "source": [
    "str(gh_users[[1]], list.len = 6)"
   ]
  },
  {
   "cell_type": "markdown",
   "metadata": {},
   "source": [
    "# Name and position shortcuts"
   ]
  },
  {
   "cell_type": "code",
   "execution_count": 5,
   "metadata": {
    "collapsed": false
   },
   "outputs": [
    {
     "data": {
      "text/html": [
       "<ol>\n",
       "\t<li>'gaborcsardi'</li>\n",
       "\t<li>'jennybc'</li>\n",
       "\t<li>'jtleek'</li>\n",
       "\t<li>'juliasilge'</li>\n",
       "\t<li>'leeper'</li>\n",
       "\t<li>'masalmon'</li>\n",
       "</ol>\n"
      ],
      "text/latex": [
       "\\begin{enumerate}\n",
       "\\item 'gaborcsardi'\n",
       "\\item 'jennybc'\n",
       "\\item 'jtleek'\n",
       "\\item 'juliasilge'\n",
       "\\item 'leeper'\n",
       "\\item 'masalmon'\n",
       "\\end{enumerate}\n"
      ],
      "text/markdown": [
       "1. 'gaborcsardi'\n",
       "2. 'jennybc'\n",
       "3. 'jtleek'\n",
       "4. 'juliasilge'\n",
       "5. 'leeper'\n",
       "6. 'masalmon'\n",
       "\n",
       "\n"
      ],
      "text/plain": [
       "[[1]]\n",
       "[1] \"gaborcsardi\"\n",
       "\n",
       "[[2]]\n",
       "[1] \"jennybc\"\n",
       "\n",
       "[[3]]\n",
       "[1] \"jtleek\"\n",
       "\n",
       "[[4]]\n",
       "[1] \"juliasilge\"\n",
       "\n",
       "[[5]]\n",
       "[1] \"leeper\"\n",
       "\n",
       "[[6]]\n",
       "[1] \"masalmon\"\n"
      ]
     },
     "metadata": {},
     "output_type": "display_data"
    }
   ],
   "source": [
    "map(gh_users, 'login')"
   ]
  },
  {
   "cell_type": "code",
   "execution_count": 6,
   "metadata": {
    "collapsed": false
   },
   "outputs": [
    {
     "data": {
      "text/html": [
       "<ol>\n",
       "\t<li>'Gábor Csárdi'</li>\n",
       "\t<li>'Jennifer (Jenny) Bryan'</li>\n",
       "\t<li>'Jeff L.'</li>\n",
       "\t<li>'Julia Silge'</li>\n",
       "\t<li>'Thomas J. Leeper'</li>\n",
       "\t<li>'Maëlle Salmon'</li>\n",
       "</ol>\n"
      ],
      "text/latex": [
       "\\begin{enumerate}\n",
       "\\item 'Gábor Csárdi'\n",
       "\\item 'Jennifer (Jenny) Bryan'\n",
       "\\item 'Jeff L.'\n",
       "\\item 'Julia Silge'\n",
       "\\item 'Thomas J. Leeper'\n",
       "\\item 'Maëlle Salmon'\n",
       "\\end{enumerate}\n"
      ],
      "text/markdown": [
       "1. 'Gábor Csárdi'\n",
       "2. 'Jennifer (Jenny) Bryan'\n",
       "3. 'Jeff L.'\n",
       "4. 'Julia Silge'\n",
       "5. 'Thomas J. Leeper'\n",
       "6. 'Maëlle Salmon'\n",
       "\n",
       "\n"
      ],
      "text/plain": [
       "[[1]]\n",
       "[1] \"Gábor Csárdi\"\n",
       "\n",
       "[[2]]\n",
       "[1] \"Jennifer (Jenny) Bryan\"\n",
       "\n",
       "[[3]]\n",
       "[1] \"Jeff L.\"\n",
       "\n",
       "[[4]]\n",
       "[1] \"Julia Silge\"\n",
       "\n",
       "[[5]]\n",
       "[1] \"Thomas J. Leeper\"\n",
       "\n",
       "[[6]]\n",
       "[1] \"Maëlle Salmon\"\n"
      ]
     },
     "metadata": {},
     "output_type": "display_data"
    }
   ],
   "source": [
    "map(gh_users, 'name')"
   ]
  },
  {
   "cell_type": "code",
   "execution_count": 7,
   "metadata": {
    "collapsed": false
   },
   "outputs": [
    {
     "data": {
      "text/html": [
       "<ol>\n",
       "\t<li>'Gábor Csárdi'</li>\n",
       "\t<li>'Jennifer (Jenny) Bryan'</li>\n",
       "\t<li>'Jeff L.'</li>\n",
       "\t<li>'Julia Silge'</li>\n",
       "\t<li>'Thomas J. Leeper'</li>\n",
       "\t<li>'Maëlle Salmon'</li>\n",
       "</ol>\n"
      ],
      "text/latex": [
       "\\begin{enumerate}\n",
       "\\item 'Gábor Csárdi'\n",
       "\\item 'Jennifer (Jenny) Bryan'\n",
       "\\item 'Jeff L.'\n",
       "\\item 'Julia Silge'\n",
       "\\item 'Thomas J. Leeper'\n",
       "\\item 'Maëlle Salmon'\n",
       "\\end{enumerate}\n"
      ],
      "text/markdown": [
       "1. 'Gábor Csárdi'\n",
       "2. 'Jennifer (Jenny) Bryan'\n",
       "3. 'Jeff L.'\n",
       "4. 'Julia Silge'\n",
       "5. 'Thomas J. Leeper'\n",
       "6. 'Maëlle Salmon'\n",
       "\n",
       "\n"
      ],
      "text/plain": [
       "[[1]]\n",
       "[1] \"Gábor Csárdi\"\n",
       "\n",
       "[[2]]\n",
       "[1] \"Jennifer (Jenny) Bryan\"\n",
       "\n",
       "[[3]]\n",
       "[1] \"Jeff L.\"\n",
       "\n",
       "[[4]]\n",
       "[1] \"Julia Silge\"\n",
       "\n",
       "[[5]]\n",
       "[1] \"Thomas J. Leeper\"\n",
       "\n",
       "[[6]]\n",
       "[1] \"Maëlle Salmon\"\n"
      ]
     },
     "metadata": {},
     "output_type": "display_data"
    }
   ],
   "source": [
    "map(gh_users, 18)"
   ]
  },
  {
   "cell_type": "code",
   "execution_count": 8,
   "metadata": {
    "collapsed": false
   },
   "outputs": [
    {
     "data": {
      "text/html": [
       "<ol>\n",
       "\t<li>'gaborcsardi'</li>\n",
       "\t<li>'jennybc'</li>\n",
       "\t<li>'jtleek'</li>\n",
       "\t<li>'juliasilge'</li>\n",
       "\t<li>'leeper'</li>\n",
       "\t<li>'masalmon'</li>\n",
       "</ol>\n"
      ],
      "text/latex": [
       "\\begin{enumerate}\n",
       "\\item 'gaborcsardi'\n",
       "\\item 'jennybc'\n",
       "\\item 'jtleek'\n",
       "\\item 'juliasilge'\n",
       "\\item 'leeper'\n",
       "\\item 'masalmon'\n",
       "\\end{enumerate}\n"
      ],
      "text/markdown": [
       "1. 'gaborcsardi'\n",
       "2. 'jennybc'\n",
       "3. 'jtleek'\n",
       "4. 'juliasilge'\n",
       "5. 'leeper'\n",
       "6. 'masalmon'\n",
       "\n",
       "\n"
      ],
      "text/plain": [
       "[[1]]\n",
       "[1] \"gaborcsardi\"\n",
       "\n",
       "[[2]]\n",
       "[1] \"jennybc\"\n",
       "\n",
       "[[3]]\n",
       "[1] \"jtleek\"\n",
       "\n",
       "[[4]]\n",
       "[1] \"juliasilge\"\n",
       "\n",
       "[[5]]\n",
       "[1] \"leeper\"\n",
       "\n",
       "[[6]]\n",
       "[1] \"masalmon\"\n"
      ]
     },
     "metadata": {},
     "output_type": "display_data"
    }
   ],
   "source": [
    "gh_users %>% map('login')"
   ]
  },
  {
   "cell_type": "code",
   "execution_count": 9,
   "metadata": {
    "collapsed": false
   },
   "outputs": [
    {
     "data": {
      "text/html": [
       "<ol>\n",
       "\t<li>'Gábor Csárdi'</li>\n",
       "\t<li>'Jennifer (Jenny) Bryan'</li>\n",
       "\t<li>'Jeff L.'</li>\n",
       "\t<li>'Julia Silge'</li>\n",
       "\t<li>'Thomas J. Leeper'</li>\n",
       "\t<li>'Maëlle Salmon'</li>\n",
       "</ol>\n"
      ],
      "text/latex": [
       "\\begin{enumerate}\n",
       "\\item 'Gábor Csárdi'\n",
       "\\item 'Jennifer (Jenny) Bryan'\n",
       "\\item 'Jeff L.'\n",
       "\\item 'Julia Silge'\n",
       "\\item 'Thomas J. Leeper'\n",
       "\\item 'Maëlle Salmon'\n",
       "\\end{enumerate}\n"
      ],
      "text/markdown": [
       "1. 'Gábor Csárdi'\n",
       "2. 'Jennifer (Jenny) Bryan'\n",
       "3. 'Jeff L.'\n",
       "4. 'Julia Silge'\n",
       "5. 'Thomas J. Leeper'\n",
       "6. 'Maëlle Salmon'\n",
       "\n",
       "\n"
      ],
      "text/plain": [
       "[[1]]\n",
       "[1] \"Gábor Csárdi\"\n",
       "\n",
       "[[2]]\n",
       "[1] \"Jennifer (Jenny) Bryan\"\n",
       "\n",
       "[[3]]\n",
       "[1] \"Jeff L.\"\n",
       "\n",
       "[[4]]\n",
       "[1] \"Julia Silge\"\n",
       "\n",
       "[[5]]\n",
       "[1] \"Thomas J. Leeper\"\n",
       "\n",
       "[[6]]\n",
       "[1] \"Maëlle Salmon\"\n"
      ]
     },
     "metadata": {},
     "output_type": "display_data"
    }
   ],
   "source": [
    "gh_users %>% map(18)"
   ]
  },
  {
   "cell_type": "code",
   "execution_count": 10,
   "metadata": {
    "collapsed": false
   },
   "outputs": [
    {
     "data": {
      "text/html": [
       "<ol class=list-inline>\n",
       "\t<li>'gaborcsardi'</li>\n",
       "\t<li>'jennybc'</li>\n",
       "\t<li>'jtleek'</li>\n",
       "\t<li>'juliasilge'</li>\n",
       "\t<li>'leeper'</li>\n",
       "\t<li>'masalmon'</li>\n",
       "</ol>\n"
      ],
      "text/latex": [
       "\\begin{enumerate*}\n",
       "\\item 'gaborcsardi'\n",
       "\\item 'jennybc'\n",
       "\\item 'jtleek'\n",
       "\\item 'juliasilge'\n",
       "\\item 'leeper'\n",
       "\\item 'masalmon'\n",
       "\\end{enumerate*}\n"
      ],
      "text/markdown": [
       "1. 'gaborcsardi'\n",
       "2. 'jennybc'\n",
       "3. 'jtleek'\n",
       "4. 'juliasilge'\n",
       "5. 'leeper'\n",
       "6. 'masalmon'\n",
       "\n",
       "\n"
      ],
      "text/plain": [
       "[1] \"gaborcsardi\" \"jennybc\"     \"jtleek\"      \"juliasilge\"  \"leeper\"     \n",
       "[6] \"masalmon\"   "
      ]
     },
     "metadata": {},
     "output_type": "display_data"
    }
   ],
   "source": [
    "map_chr(gh_users, \"login\")"
   ]
  },
  {
   "cell_type": "markdown",
   "metadata": {},
   "source": [
    "# Extract multiple values"
   ]
  },
  {
   "cell_type": "code",
   "execution_count": 11,
   "metadata": {
    "collapsed": false
   },
   "outputs": [
    {
     "data": {
      "text/html": [
       "<dl>\n",
       "\t<dt>$name</dt>\n",
       "\t\t<dd>'Jeff L.'</dd>\n",
       "\t<dt>$login</dt>\n",
       "\t\t<dd>'jtleek'</dd>\n",
       "\t<dt>$id</dt>\n",
       "\t\t<dd>1571674</dd>\n",
       "\t<dt>$location</dt>\n",
       "\t\t<dd>'Baltimore,MD'</dd>\n",
       "</dl>\n"
      ],
      "text/latex": [
       "\\begin{description}\n",
       "\\item[\\$name] 'Jeff L.'\n",
       "\\item[\\$login] 'jtleek'\n",
       "\\item[\\$id] 1571674\n",
       "\\item[\\$location] 'Baltimore,MD'\n",
       "\\end{description}\n"
      ],
      "text/markdown": [
       "$name\n",
       ":   'Jeff L.'\n",
       "$login\n",
       ":   'jtleek'\n",
       "$id\n",
       ":   1571674\n",
       "$location\n",
       ":   'Baltimore,MD'\n",
       "\n",
       "\n"
      ],
      "text/plain": [
       "$name\n",
       "[1] \"Jeff L.\"\n",
       "\n",
       "$login\n",
       "[1] \"jtleek\"\n",
       "\n",
       "$id\n",
       "[1] 1571674\n",
       "\n",
       "$location\n",
       "[1] \"Baltimore,MD\"\n"
      ]
     },
     "metadata": {},
     "output_type": "display_data"
    }
   ],
   "source": [
    "gh_users[[3]][c(\"name\", \"login\", \"id\", \"location\")]"
   ]
  },
  {
   "cell_type": "code",
   "execution_count": 12,
   "metadata": {
    "collapsed": true
   },
   "outputs": [],
   "source": [
    "x <- map(gh_users, `[`, c(\"login\", \"name\", \"id\", \"location\"))"
   ]
  },
  {
   "cell_type": "code",
   "execution_count": 13,
   "metadata": {
    "collapsed": false
   },
   "outputs": [
    {
     "data": {
      "text/html": [
       "<ol>\n",
       "\t<li><dl>\n",
       "\t<dt>$login</dt>\n",
       "\t\t<dd>'gaborcsardi'</dd>\n",
       "\t<dt>$name</dt>\n",
       "\t\t<dd>'Gábor Csárdi'</dd>\n",
       "\t<dt>$id</dt>\n",
       "\t\t<dd>660288</dd>\n",
       "\t<dt>$location</dt>\n",
       "\t\t<dd>'Chippenham, UK'</dd>\n",
       "</dl>\n",
       "</li>\n",
       "\t<li><dl>\n",
       "\t<dt>$login</dt>\n",
       "\t\t<dd>'jennybc'</dd>\n",
       "\t<dt>$name</dt>\n",
       "\t\t<dd>'Jennifer (Jenny) Bryan'</dd>\n",
       "\t<dt>$id</dt>\n",
       "\t\t<dd>599454</dd>\n",
       "\t<dt>$location</dt>\n",
       "\t\t<dd>'Vancouver, BC, Canada'</dd>\n",
       "</dl>\n",
       "</li>\n",
       "</ol>\n"
      ],
      "text/latex": [
       "\\begin{enumerate}\n",
       "\\item \\begin{description}\n",
       "\\item[\\$login] 'gaborcsardi'\n",
       "\\item[\\$name] 'Gábor Csárdi'\n",
       "\\item[\\$id] 660288\n",
       "\\item[\\$location] 'Chippenham, UK'\n",
       "\\end{description}\n",
       "\n",
       "\\item \\begin{description}\n",
       "\\item[\\$login] 'jennybc'\n",
       "\\item[\\$name] 'Jennifer (Jenny) Bryan'\n",
       "\\item[\\$id] 599454\n",
       "\\item[\\$location] 'Vancouver, BC, Canada'\n",
       "\\end{description}\n",
       "\n",
       "\\end{enumerate}\n"
      ],
      "text/markdown": [
       "1. $login\n",
       ":   'gaborcsardi'\n",
       "$name\n",
       ":   'Gábor Csárdi'\n",
       "$id\n",
       ":   660288\n",
       "$location\n",
       ":   'Chippenham, UK'\n",
       "\n",
       "\n",
       "\n",
       "2. $login\n",
       ":   'jennybc'\n",
       "$name\n",
       ":   'Jennifer (Jenny) Bryan'\n",
       "$id\n",
       ":   599454\n",
       "$location\n",
       ":   'Vancouver, BC, Canada'\n",
       "\n",
       "\n",
       "\n",
       "\n",
       "\n"
      ],
      "text/plain": [
       "[[1]]\n",
       "[[1]]$login\n",
       "[1] \"gaborcsardi\"\n",
       "\n",
       "[[1]]$name\n",
       "[1] \"Gábor Csárdi\"\n",
       "\n",
       "[[1]]$id\n",
       "[1] 660288\n",
       "\n",
       "[[1]]$location\n",
       "[1] \"Chippenham, UK\"\n",
       "\n",
       "\n",
       "[[2]]\n",
       "[[2]]$login\n",
       "[1] \"jennybc\"\n",
       "\n",
       "[[2]]$name\n",
       "[1] \"Jennifer (Jenny) Bryan\"\n",
       "\n",
       "[[2]]$id\n",
       "[1] 599454\n",
       "\n",
       "[[2]]$location\n",
       "[1] \"Vancouver, BC, Canada\"\n",
       "\n"
      ]
     },
     "metadata": {},
     "output_type": "display_data"
    }
   ],
   "source": [
    "x[1:2]"
   ]
  },
  {
   "cell_type": "code",
   "execution_count": 14,
   "metadata": {
    "collapsed": false
   },
   "outputs": [
    {
     "name": "stdout",
     "output_type": "stream",
     "text": [
      "List of 3\n",
      " $ :List of 4\n",
      "  ..$ login   : chr \"gaborcsardi\"\n",
      "  ..$ name    : chr \"Gábor Csárdi\"\n",
      "  ..$ id      : int 660288\n",
      "  ..$ location: chr \"Chippenham, UK\"\n",
      " $ :List of 4\n",
      "  ..$ login   : chr \"jennybc\"\n",
      "  ..$ name    : chr \"Jennifer (Jenny) Bryan\"\n",
      "  ..$ id      : int 599454\n",
      "  ..$ location: chr \"Vancouver, BC, Canada\"\n",
      " $ :List of 4\n",
      "  ..$ login   : chr \"jtleek\"\n",
      "  ..$ name    : chr \"Jeff L.\"\n",
      "  ..$ id      : int 1571674\n",
      "  ..$ location: chr \"Baltimore,MD\"\n"
     ]
    }
   ],
   "source": [
    "str(x[1:3])"
   ]
  },
  {
   "cell_type": "markdown",
   "metadata": {},
   "source": [
    "# Vector input to extraction shortcuts"
   ]
  },
  {
   "cell_type": "code",
   "execution_count": 15,
   "metadata": {
    "collapsed": false
   },
   "outputs": [
    {
     "data": {
      "text/html": [
       "<ol class=list-inline>\n",
       "\t<li>'gaborcsardi/after'</li>\n",
       "\t<li>'jennybc/2013-11_sfu'</li>\n",
       "\t<li>'jtleek/advdatasci'</li>\n",
       "\t<li>'juliasilge/2016-14'</li>\n",
       "\t<li>'leeper/ampolcourse'</li>\n",
       "\t<li>'masalmon/aqi_pdf'</li>\n",
       "</ol>\n"
      ],
      "text/latex": [
       "\\begin{enumerate*}\n",
       "\\item 'gaborcsardi/after'\n",
       "\\item 'jennybc/2013-11\\_sfu'\n",
       "\\item 'jtleek/advdatasci'\n",
       "\\item 'juliasilge/2016-14'\n",
       "\\item 'leeper/ampolcourse'\n",
       "\\item 'masalmon/aqi\\_pdf'\n",
       "\\end{enumerate*}\n"
      ],
      "text/markdown": [
       "1. 'gaborcsardi/after'\n",
       "2. 'jennybc/2013-11_sfu'\n",
       "3. 'jtleek/advdatasci'\n",
       "4. 'juliasilge/2016-14'\n",
       "5. 'leeper/ampolcourse'\n",
       "6. 'masalmon/aqi_pdf'\n",
       "\n",
       "\n"
      ],
      "text/plain": [
       "[1] \"gaborcsardi/after\"   \"jennybc/2013-11_sfu\" \"jtleek/advdatasci\"  \n",
       "[4] \"juliasilge/2016-14\"  \"leeper/ampolcourse\"  \"masalmon/aqi_pdf\"   "
      ]
     },
     "metadata": {},
     "output_type": "display_data"
    }
   ],
   "source": [
    "# Extract the first repo for each user and, within that, the 3rd piece of information for the repo.\n",
    "gh_repos %>%\n",
    "  map_chr(c(1, 3))"
   ]
  },
  {
   "cell_type": "code",
   "execution_count": 16,
   "metadata": {
    "collapsed": false
   },
   "outputs": [
    {
     "data": {
      "text/html": [
       "'gaborcsardi/after'"
      ],
      "text/latex": [
       "'gaborcsardi/after'"
      ],
      "text/markdown": [
       "'gaborcsardi/after'"
      ],
      "text/plain": [
       "[1] \"gaborcsardi/after\""
      ]
     },
     "metadata": {},
     "output_type": "display_data"
    }
   ],
   "source": [
    "gh_repos[[1]][[1]][[3]]"
   ]
  },
  {
   "cell_type": "code",
   "execution_count": 17,
   "metadata": {
    "collapsed": false
   },
   "outputs": [
    {
     "data": {
      "text/html": [
       "'jennybc/2013-11_sfu'"
      ],
      "text/latex": [
       "'jennybc/2013-11\\_sfu'"
      ],
      "text/markdown": [
       "'jennybc/2013-11_sfu'"
      ],
      "text/plain": [
       "[1] \"jennybc/2013-11_sfu\""
      ]
     },
     "metadata": {},
     "output_type": "display_data"
    }
   ],
   "source": [
    "gh_repos[[2]][[1]][[3]]"
   ]
  },
  {
   "cell_type": "markdown",
   "metadata": {},
   "source": [
    "# List inside a data.frame"
   ]
  },
  {
   "cell_type": "code",
   "execution_count": 18,
   "metadata": {
    "collapsed": false
   },
   "outputs": [
    {
     "data": {
      "text/html": [
       "<ol class=list-inline>\n",
       "\t<li>'gaborcsardi'</li>\n",
       "\t<li>'jennybc'</li>\n",
       "\t<li>'jtleek'</li>\n",
       "\t<li>'juliasilge'</li>\n",
       "\t<li>'leeper'</li>\n",
       "\t<li>'masalmon'</li>\n",
       "</ol>\n"
      ],
      "text/latex": [
       "\\begin{enumerate*}\n",
       "\\item 'gaborcsardi'\n",
       "\\item 'jennybc'\n",
       "\\item 'jtleek'\n",
       "\\item 'juliasilge'\n",
       "\\item 'leeper'\n",
       "\\item 'masalmon'\n",
       "\\end{enumerate*}\n"
      ],
      "text/markdown": [
       "1. 'gaborcsardi'\n",
       "2. 'jennybc'\n",
       "3. 'jtleek'\n",
       "4. 'juliasilge'\n",
       "5. 'leeper'\n",
       "6. 'masalmon'\n",
       "\n",
       "\n"
      ],
      "text/plain": [
       "[1] \"gaborcsardi\" \"jennybc\"     \"jtleek\"      \"juliasilge\"  \"leeper\"     \n",
       "[6] \"masalmon\"   "
      ]
     },
     "metadata": {},
     "output_type": "display_data"
    }
   ],
   "source": [
    "(unames <- map_chr(gh_repos, c(1, 4, 1))) # Get names"
   ]
  },
  {
   "cell_type": "code",
   "execution_count": 19,
   "metadata": {
    "collapsed": false
   },
   "outputs": [],
   "source": [
    "udf <- gh_repos %>%\n",
    "    set_names(unames) %>%  # set the name of the list\n",
    "    tibble::enframe(\"username\", \"gh_repos\") # convert named vector to a tibble"
   ]
  },
  {
   "cell_type": "code",
   "execution_count": 20,
   "metadata": {
    "collapsed": false
   },
   "outputs": [
    {
     "data": {
      "text/html": [
       "<ol class=list-inline>\n",
       "\t<li>'username'</li>\n",
       "\t<li>'gh_repos'</li>\n",
       "</ol>\n"
      ],
      "text/latex": [
       "\\begin{enumerate*}\n",
       "\\item 'username'\n",
       "\\item 'gh\\_repos'\n",
       "\\end{enumerate*}\n"
      ],
      "text/markdown": [
       "1. 'username'\n",
       "2. 'gh_repos'\n",
       "\n",
       "\n"
      ],
      "text/plain": [
       "[1] \"username\" \"gh_repos\""
      ]
     },
     "metadata": {},
     "output_type": "display_data"
    }
   ],
   "source": [
    "colnames(udf)"
   ]
  },
  {
   "cell_type": "code",
   "execution_count": 21,
   "metadata": {
    "collapsed": false
   },
   "outputs": [
    {
     "data": {
      "text/html": [
       "<table>\n",
       "<thead><tr><th scope=col>username</th><th scope=col>n_repos</th></tr></thead>\n",
       "<tbody>\n",
       "\t<tr><td>gaborcsardi</td><td>30         </td></tr>\n",
       "\t<tr><td>jennybc    </td><td>30         </td></tr>\n",
       "\t<tr><td>jtleek     </td><td>30         </td></tr>\n",
       "\t<tr><td>juliasilge </td><td>26         </td></tr>\n",
       "\t<tr><td>leeper     </td><td>30         </td></tr>\n",
       "\t<tr><td>masalmon   </td><td>30         </td></tr>\n",
       "</tbody>\n",
       "</table>\n"
      ],
      "text/latex": [
       "\\begin{tabular}{r|ll}\n",
       " username & n\\_repos\\\\\n",
       "\\hline\n",
       "\t gaborcsardi & 30         \\\\\n",
       "\t jennybc     & 30         \\\\\n",
       "\t jtleek      & 30         \\\\\n",
       "\t juliasilge  & 26         \\\\\n",
       "\t leeper      & 30         \\\\\n",
       "\t masalmon    & 30         \\\\\n",
       "\\end{tabular}\n"
      ],
      "text/markdown": [
       "\n",
       "username | n_repos | \n",
       "|---|---|---|---|---|---|\n",
       "| gaborcsardi | 30          | \n",
       "| jennybc     | 30          | \n",
       "| jtleek      | 30          | \n",
       "| juliasilge  | 26          | \n",
       "| leeper      | 30          | \n",
       "| masalmon    | 30          | \n",
       "\n",
       "\n"
      ],
      "text/plain": [
       "  username    n_repos\n",
       "1 gaborcsardi 30     \n",
       "2 jennybc     30     \n",
       "3 jtleek      30     \n",
       "4 juliasilge  26     \n",
       "5 leeper      30     \n",
       "6 masalmon    30     "
      ]
     },
     "metadata": {},
     "output_type": "display_data"
    }
   ],
   "source": [
    "udf %>% \n",
    "    mutate(n_repos = map_int(gh_repos, length)) %>%\n",
    "    select(username, n_repos)"
   ]
  },
  {
   "cell_type": "code",
   "execution_count": 22,
   "metadata": {
    "collapsed": false
   },
   "outputs": [
    {
     "name": "stdout",
     "output_type": "stream",
     "text": [
      "List of 68\n",
      " $ id               : int 61160198\n",
      " $ name             : chr \"after\"\n",
      " $ full_name        : chr \"gaborcsardi/after\"\n",
      " $ owner            :List of 17\n",
      " $ private          : logi FALSE\n",
      " $ html_url         : chr \"https://github.com/gaborcsardi/after\"\n",
      " $ description      : chr \"Run Code in the Background\"\n",
      "  [list output truncated]\n"
     ]
    }
   ],
   "source": [
    "# Take out one of the users\n",
    "one_user <- udf$gh_repos[[1]]\n",
    "\n",
    "one_repo <- one_user[[1]]\n",
    "str(one_repo, max.level = 1, list.len = 7)"
   ]
  },
  {
   "cell_type": "code",
   "execution_count": 23,
   "metadata": {
    "collapsed": false
   },
   "outputs": [
    {
     "data": {
      "text/html": [
       "<table>\n",
       "<thead><tr><th scope=col>name</th><th scope=col>fork</th><th scope=col>open_issues</th></tr></thead>\n",
       "<tbody>\n",
       "\t<tr><td>after      </td><td>FALSE      </td><td>0          </td></tr>\n",
       "\t<tr><td>argufy     </td><td>FALSE      </td><td>6          </td></tr>\n",
       "\t<tr><td>ask        </td><td>FALSE      </td><td>4          </td></tr>\n",
       "\t<tr><td>baseimports</td><td>FALSE      </td><td>0          </td></tr>\n",
       "\t<tr><td>citest     </td><td> TRUE      </td><td>0          </td></tr>\n",
       "\t<tr><td>clisymbols </td><td>FALSE      </td><td>0          </td></tr>\n",
       "\t<tr><td>cmaker     </td><td> TRUE      </td><td>0          </td></tr>\n",
       "\t<tr><td>cmark      </td><td> TRUE      </td><td>0          </td></tr>\n",
       "\t<tr><td>conditions </td><td> TRUE      </td><td>0          </td></tr>\n",
       "\t<tr><td>crayon     </td><td>FALSE      </td><td>7          </td></tr>\n",
       "</tbody>\n",
       "</table>\n"
      ],
      "text/latex": [
       "\\begin{tabular}{r|lll}\n",
       " name & fork & open\\_issues\\\\\n",
       "\\hline\n",
       "\t after       & FALSE       & 0          \\\\\n",
       "\t argufy      & FALSE       & 6          \\\\\n",
       "\t ask         & FALSE       & 4          \\\\\n",
       "\t baseimports & FALSE       & 0          \\\\\n",
       "\t citest      &  TRUE       & 0          \\\\\n",
       "\t clisymbols  & FALSE       & 0          \\\\\n",
       "\t cmaker      &  TRUE       & 0          \\\\\n",
       "\t cmark       &  TRUE       & 0          \\\\\n",
       "\t conditions  &  TRUE       & 0          \\\\\n",
       "\t crayon      & FALSE       & 7          \\\\\n",
       "\\end{tabular}\n"
      ],
      "text/markdown": [
       "\n",
       "name | fork | open_issues | \n",
       "|---|---|---|---|---|---|---|---|---|---|\n",
       "| after       | FALSE       | 0           | \n",
       "| argufy      | FALSE       | 6           | \n",
       "| ask         | FALSE       | 4           | \n",
       "| baseimports | FALSE       | 0           | \n",
       "| citest      |  TRUE       | 0           | \n",
       "| clisymbols  | FALSE       | 0           | \n",
       "| cmaker      |  TRUE       | 0           | \n",
       "| cmark       |  TRUE       | 0           | \n",
       "| conditions  |  TRUE       | 0           | \n",
       "| crayon      | FALSE       | 7           | \n",
       "\n",
       "\n"
      ],
      "text/plain": [
       "   name        fork  open_issues\n",
       "1  after       FALSE 0          \n",
       "2  argufy      FALSE 6          \n",
       "3  ask         FALSE 4          \n",
       "4  baseimports FALSE 0          \n",
       "5  citest       TRUE 0          \n",
       "6  clisymbols  FALSE 0          \n",
       "7  cmaker       TRUE 0          \n",
       "8  cmark        TRUE 0          \n",
       "9  conditions   TRUE 0          \n",
       "10 crayon      FALSE 7          "
      ]
     },
     "metadata": {},
     "output_type": "display_data"
    }
   ],
   "source": [
    "map_df(one_user, `[`, c(\"name\", \"fork\", \"open_issues\"))[1:10, ]"
   ]
  },
  {
   "cell_type": "code",
   "execution_count": 24,
   "metadata": {
    "collapsed": false,
    "scrolled": false
   },
   "outputs": [
    {
     "data": {
      "text/html": [
       "<ol>\n",
       "\t<li>'after'</li>\n",
       "\t<li>'argufy'</li>\n",
       "\t<li>'ask'</li>\n",
       "\t<li>'baseimports'</li>\n",
       "\t<li>'citest'</li>\n",
       "\t<li>'clisymbols'</li>\n",
       "</ol>\n"
      ],
      "text/latex": [
       "\\begin{enumerate}\n",
       "\\item 'after'\n",
       "\\item 'argufy'\n",
       "\\item 'ask'\n",
       "\\item 'baseimports'\n",
       "\\item 'citest'\n",
       "\\item 'clisymbols'\n",
       "\\end{enumerate}\n"
      ],
      "text/markdown": [
       "1. 'after'\n",
       "2. 'argufy'\n",
       "3. 'ask'\n",
       "4. 'baseimports'\n",
       "5. 'citest'\n",
       "6. 'clisymbols'\n",
       "\n",
       "\n"
      ],
      "text/plain": [
       "[[1]]\n",
       "[1] \"after\"\n",
       "\n",
       "[[2]]\n",
       "[1] \"argufy\"\n",
       "\n",
       "[[3]]\n",
       "[1] \"ask\"\n",
       "\n",
       "[[4]]\n",
       "[1] \"baseimports\"\n",
       "\n",
       "[[5]]\n",
       "[1] \"citest\"\n",
       "\n",
       "[[6]]\n",
       "[1] \"clisymbols\"\n"
      ]
     },
     "metadata": {},
     "output_type": "display_data"
    }
   ],
   "source": [
    "map(one_user, 'name') %>% head()"
   ]
  },
  {
   "cell_type": "code",
   "execution_count": 25,
   "metadata": {
    "collapsed": false
   },
   "outputs": [],
   "source": [
    "# mutate to map() inside a map()\n",
    "udf %>% \n",
    "  mutate(repo_info = gh_repos %>%\n",
    "           map(. %>% map_df(`[`, c(\"name\", \"fork\", \"open_issues\")))) -> rdf\n",
    "\n",
    "#> # A tibble: 6 × 3\n",
    "#>      username    gh_repos         repo_info\n",
    "#>         <chr>      <list>            <list>\n",
    "#> 1 gaborcsardi <list [30]> <tibble [30 × 3]>\n",
    "#> 2     jennybc <list [30]> <tibble [30 × 3]>\n",
    "#> 3      jtleek <list [30]> <tibble [30 × 3]>\n",
    "#> 4  juliasilge <list [26]> <tibble [26 × 3]>\n",
    "#> 5      leeper <list [30]> <tibble [30 × 3]>\n",
    "#> 6    masalmon <list [30]> <tibble [30 × 3]>"
   ]
  }
 ],
 "metadata": {
  "kernelspec": {
   "display_name": "R",
   "language": "R",
   "name": "ir"
  },
  "language_info": {
   "codemirror_mode": "r",
   "file_extension": ".r",
   "mimetype": "text/x-r-source",
   "name": "R",
   "pygments_lexer": "r",
   "version": "3.4.0"
  }
 },
 "nbformat": 4,
 "nbformat_minor": 2
}

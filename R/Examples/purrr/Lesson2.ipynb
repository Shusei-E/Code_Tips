{
 "cells": [
  {
   "cell_type": "code",
   "execution_count": 1,
   "metadata": {
    "collapsed": false
   },
   "outputs": [],
   "source": [
    "library(purrr)\n",
    "library(repurrrsive)\n",
    "library(listviewer)"
   ]
  },
  {
   "cell_type": "markdown",
   "metadata": {},
   "source": [
    "# Vectorized and \"list-ized\" operations"
   ]
  },
  {
   "cell_type": "code",
   "execution_count": 2,
   "metadata": {
    "collapsed": false
   },
   "outputs": [
    {
     "data": {
      "text/html": [
       "<ol class=list-inline>\n",
       "\t<li>9</li>\n",
       "\t<li>16</li>\n",
       "\t<li>25</li>\n",
       "</ol>\n"
      ],
      "text/latex": [
       "\\begin{enumerate*}\n",
       "\\item 9\n",
       "\\item 16\n",
       "\\item 25\n",
       "\\end{enumerate*}\n"
      ],
      "text/markdown": [
       "1. 9\n",
       "2. 16\n",
       "3. 25\n",
       "\n",
       "\n"
      ],
      "text/plain": [
       "[1]  9 16 25"
      ]
     },
     "metadata": {},
     "output_type": "display_data"
    }
   ],
   "source": [
    "(3:5)^2"
   ]
  },
  {
   "cell_type": "markdown",
   "metadata": {},
   "source": [
    "**map(YOUR_LIST, YOUR_FUNCTION)**"
   ]
  },
  {
   "cell_type": "code",
   "execution_count": 3,
   "metadata": {
    "collapsed": false
   },
   "outputs": [
    {
     "data": {
      "text/html": [
       "<ol>\n",
       "\t<li>3</li>\n",
       "\t<li>4</li>\n",
       "\t<li>5</li>\n",
       "</ol>\n"
      ],
      "text/latex": [
       "\\begin{enumerate}\n",
       "\\item 3\n",
       "\\item 4\n",
       "\\item 5\n",
       "\\end{enumerate}\n"
      ],
      "text/markdown": [
       "1. 3\n",
       "2. 4\n",
       "3. 5\n",
       "\n",
       "\n"
      ],
      "text/plain": [
       "[[1]]\n",
       "[1] 3\n",
       "\n",
       "[[2]]\n",
       "[1] 4\n",
       "\n",
       "[[3]]\n",
       "[1] 5\n"
      ]
     },
     "metadata": {},
     "output_type": "display_data"
    }
   ],
   "source": [
    "# map(): apply a funcion to each element of a list\n",
    "map(c(9, 16, 25), sqrt)"
   ]
  },
  {
   "cell_type": "markdown",
   "metadata": {},
   "source": [
    "# Name and position shortcuts"
   ]
  },
  {
   "cell_type": "code",
   "execution_count": 4,
   "metadata": {
    "collapsed": false
   },
   "outputs": [
    {
     "data": {
      "text/html": [
       "'Theon Greyjoy'"
      ],
      "text/latex": [
       "'Theon Greyjoy'"
      ],
      "text/markdown": [
       "'Theon Greyjoy'"
      ],
      "text/plain": [
       "[1] \"Theon Greyjoy\""
      ]
     },
     "metadata": {},
     "output_type": "display_data"
    }
   ],
   "source": [
    "got_chars[[1]][[\"name\"]]"
   ]
  },
  {
   "cell_type": "code",
   "execution_count": 5,
   "metadata": {
    "collapsed": false
   },
   "outputs": [
    {
     "data": {
      "text/html": [
       "<ol>\n",
       "\t<li>'Theon Greyjoy'</li>\n",
       "\t<li>'Tyrion Lannister'</li>\n",
       "\t<li>'Victarion Greyjoy'</li>\n",
       "\t<li>'Will'</li>\n",
       "</ol>\n"
      ],
      "text/latex": [
       "\\begin{enumerate}\n",
       "\\item 'Theon Greyjoy'\n",
       "\\item 'Tyrion Lannister'\n",
       "\\item 'Victarion Greyjoy'\n",
       "\\item 'Will'\n",
       "\\end{enumerate}\n"
      ],
      "text/markdown": [
       "1. 'Theon Greyjoy'\n",
       "2. 'Tyrion Lannister'\n",
       "3. 'Victarion Greyjoy'\n",
       "4. 'Will'\n",
       "\n",
       "\n"
      ],
      "text/plain": [
       "[[1]]\n",
       "[1] \"Theon Greyjoy\"\n",
       "\n",
       "[[2]]\n",
       "[1] \"Tyrion Lannister\"\n",
       "\n",
       "[[3]]\n",
       "[1] \"Victarion Greyjoy\"\n",
       "\n",
       "[[4]]\n",
       "[1] \"Will\"\n"
      ]
     },
     "metadata": {},
     "output_type": "display_data"
    }
   ],
   "source": [
    "map(got_chars[1:4], \"name\")"
   ]
  },
  {
   "cell_type": "code",
   "execution_count": 6,
   "metadata": {
    "collapsed": false
   },
   "outputs": [
    {
     "data": {
      "text/html": [
       "<ol>\n",
       "\t<li>'Theon Greyjoy'</li>\n",
       "\t<li>'Tyrion Lannister'</li>\n",
       "\t<li>'Victarion Greyjoy'</li>\n",
       "\t<li>'Will'</li>\n",
       "</ol>\n"
      ],
      "text/latex": [
       "\\begin{enumerate}\n",
       "\\item 'Theon Greyjoy'\n",
       "\\item 'Tyrion Lannister'\n",
       "\\item 'Victarion Greyjoy'\n",
       "\\item 'Will'\n",
       "\\end{enumerate}\n"
      ],
      "text/markdown": [
       "1. 'Theon Greyjoy'\n",
       "2. 'Tyrion Lannister'\n",
       "3. 'Victarion Greyjoy'\n",
       "4. 'Will'\n",
       "\n",
       "\n"
      ],
      "text/plain": [
       "[[1]]\n",
       "[1] \"Theon Greyjoy\"\n",
       "\n",
       "[[2]]\n",
       "[1] \"Tyrion Lannister\"\n",
       "\n",
       "[[3]]\n",
       "[1] \"Victarion Greyjoy\"\n",
       "\n",
       "[[4]]\n",
       "[1] \"Will\"\n"
      ]
     },
     "metadata": {},
     "output_type": "display_data"
    }
   ],
   "source": [
    "map(got_chars[1:4], 3)"
   ]
  },
  {
   "cell_type": "code",
   "execution_count": 7,
   "metadata": {
    "collapsed": false
   },
   "outputs": [
    {
     "data": {
      "text/html": [
       "<ol>\n",
       "\t<li>'Theon Greyjoy'</li>\n",
       "\t<li>'Tyrion Lannister'</li>\n",
       "\t<li>'Victarion Greyjoy'</li>\n",
       "\t<li>'Will'</li>\n",
       "</ol>\n"
      ],
      "text/latex": [
       "\\begin{enumerate}\n",
       "\\item 'Theon Greyjoy'\n",
       "\\item 'Tyrion Lannister'\n",
       "\\item 'Victarion Greyjoy'\n",
       "\\item 'Will'\n",
       "\\end{enumerate}\n"
      ],
      "text/markdown": [
       "1. 'Theon Greyjoy'\n",
       "2. 'Tyrion Lannister'\n",
       "3. 'Victarion Greyjoy'\n",
       "4. 'Will'\n",
       "\n",
       "\n"
      ],
      "text/plain": [
       "[[1]]\n",
       "[1] \"Theon Greyjoy\"\n",
       "\n",
       "[[2]]\n",
       "[1] \"Tyrion Lannister\"\n",
       "\n",
       "[[3]]\n",
       "[1] \"Victarion Greyjoy\"\n",
       "\n",
       "[[4]]\n",
       "[1] \"Will\"\n"
      ]
     },
     "metadata": {},
     "output_type": "display_data"
    }
   ],
   "source": [
    "# You can use with pipe\n",
    "got_chars %>% map(\"name\") %>% head(4)"
   ]
  },
  {
   "cell_type": "code",
   "execution_count": 8,
   "metadata": {
    "collapsed": false
   },
   "outputs": [
    {
     "data": {
      "text/html": [
       "<ol>\n",
       "\t<li>'Theon Greyjoy'</li>\n",
       "\t<li>'Tyrion Lannister'</li>\n",
       "\t<li>'Victarion Greyjoy'</li>\n",
       "\t<li>'Will'</li>\n",
       "</ol>\n"
      ],
      "text/latex": [
       "\\begin{enumerate}\n",
       "\\item 'Theon Greyjoy'\n",
       "\\item 'Tyrion Lannister'\n",
       "\\item 'Victarion Greyjoy'\n",
       "\\item 'Will'\n",
       "\\end{enumerate}\n"
      ],
      "text/markdown": [
       "1. 'Theon Greyjoy'\n",
       "2. 'Tyrion Lannister'\n",
       "3. 'Victarion Greyjoy'\n",
       "4. 'Will'\n",
       "\n",
       "\n"
      ],
      "text/plain": [
       "[[1]]\n",
       "[1] \"Theon Greyjoy\"\n",
       "\n",
       "[[2]]\n",
       "[1] \"Tyrion Lannister\"\n",
       "\n",
       "[[3]]\n",
       "[1] \"Victarion Greyjoy\"\n",
       "\n",
       "[[4]]\n",
       "[1] \"Will\"\n"
      ]
     },
     "metadata": {},
     "output_type": "display_data"
    }
   ],
   "source": [
    "got_chars %>% map(3) %>% head(4)"
   ]
  },
  {
   "cell_type": "markdown",
   "metadata": {},
   "source": [
    "## Type-specific map"
   ]
  },
  {
   "cell_type": "markdown",
   "metadata": {},
   "source": [
    "Returns an atomic vector"
   ]
  },
  {
   "cell_type": "code",
   "execution_count": 9,
   "metadata": {
    "collapsed": false
   },
   "outputs": [
    {
     "data": {
      "text/html": [
       "<ol class=list-inline>\n",
       "\t<li>'Theon Greyjoy'</li>\n",
       "\t<li>'Tyrion Lannister'</li>\n",
       "\t<li>'Victarion Greyjoy'</li>\n",
       "\t<li>'Will'</li>\n",
       "</ol>\n"
      ],
      "text/latex": [
       "\\begin{enumerate*}\n",
       "\\item 'Theon Greyjoy'\n",
       "\\item 'Tyrion Lannister'\n",
       "\\item 'Victarion Greyjoy'\n",
       "\\item 'Will'\n",
       "\\end{enumerate*}\n"
      ],
      "text/markdown": [
       "1. 'Theon Greyjoy'\n",
       "2. 'Tyrion Lannister'\n",
       "3. 'Victarion Greyjoy'\n",
       "4. 'Will'\n",
       "\n",
       "\n"
      ],
      "text/plain": [
       "[1] \"Theon Greyjoy\"     \"Tyrion Lannister\"  \"Victarion Greyjoy\"\n",
       "[4] \"Will\"             "
      ]
     },
     "metadata": {},
     "output_type": "display_data"
    }
   ],
   "source": [
    "map_chr(got_chars[1:4], \"name\")"
   ]
  },
  {
   "cell_type": "code",
   "execution_count": 10,
   "metadata": {
    "collapsed": false
   },
   "outputs": [
    {
     "data": {
      "text/html": [
       "<ol class=list-inline>\n",
       "\t<li>'Theon Greyjoy'</li>\n",
       "\t<li>'Tyrion Lannister'</li>\n",
       "\t<li>'Victarion Greyjoy'</li>\n",
       "\t<li>'Will'</li>\n",
       "</ol>\n"
      ],
      "text/latex": [
       "\\begin{enumerate*}\n",
       "\\item 'Theon Greyjoy'\n",
       "\\item 'Tyrion Lannister'\n",
       "\\item 'Victarion Greyjoy'\n",
       "\\item 'Will'\n",
       "\\end{enumerate*}\n"
      ],
      "text/markdown": [
       "1. 'Theon Greyjoy'\n",
       "2. 'Tyrion Lannister'\n",
       "3. 'Victarion Greyjoy'\n",
       "4. 'Will'\n",
       "\n",
       "\n"
      ],
      "text/plain": [
       "[1] \"Theon Greyjoy\"     \"Tyrion Lannister\"  \"Victarion Greyjoy\"\n",
       "[4] \"Will\"             "
      ]
     },
     "metadata": {},
     "output_type": "display_data"
    }
   ],
   "source": [
    "map_chr(got_chars[1:4], 3)"
   ]
  },
  {
   "cell_type": "markdown",
   "metadata": {},
   "source": [
    "We also have,\n",
    "* `map_lgl()`\n",
    "* `map_int()`\n",
    "* `map_dbl`\n",
    "* `map_df`"
   ]
  },
  {
   "cell_type": "markdown",
   "metadata": {},
   "source": [
    "# Extract Multiple Values"
   ]
  },
  {
   "cell_type": "code",
   "execution_count": 11,
   "metadata": {
    "collapsed": false
   },
   "outputs": [
    {
     "data": {
      "text/html": [
       "<dl>\n",
       "\t<dt>$name</dt>\n",
       "\t\t<dd>'Victarion Greyjoy'</dd>\n",
       "\t<dt>$culture</dt>\n",
       "\t\t<dd>'Ironborn'</dd>\n",
       "\t<dt>$gender</dt>\n",
       "\t\t<dd>'Male'</dd>\n",
       "\t<dt>$born</dt>\n",
       "\t\t<dd>'In 268 AC or before, at Pyke'</dd>\n",
       "</dl>\n"
      ],
      "text/latex": [
       "\\begin{description}\n",
       "\\item[\\$name] 'Victarion Greyjoy'\n",
       "\\item[\\$culture] 'Ironborn'\n",
       "\\item[\\$gender] 'Male'\n",
       "\\item[\\$born] 'In 268 AC or before, at Pyke'\n",
       "\\end{description}\n"
      ],
      "text/markdown": [
       "$name\n",
       ":   'Victarion Greyjoy'\n",
       "$culture\n",
       ":   'Ironborn'\n",
       "$gender\n",
       ":   'Male'\n",
       "$born\n",
       ":   'In 268 AC or before, at Pyke'\n",
       "\n",
       "\n"
      ],
      "text/plain": [
       "$name\n",
       "[1] \"Victarion Greyjoy\"\n",
       "\n",
       "$culture\n",
       "[1] \"Ironborn\"\n",
       "\n",
       "$gender\n",
       "[1] \"Male\"\n",
       "\n",
       "$born\n",
       "[1] \"In 268 AC or before, at Pyke\"\n"
      ]
     },
     "metadata": {},
     "output_type": "display_data"
    }
   ],
   "source": [
    "got_chars[[3]][c(\"name\", \"culture\", \"gender\", \"born\")]"
   ]
  },
  {
   "cell_type": "code",
   "execution_count": 12,
   "metadata": {
    "collapsed": false
   },
   "outputs": [
    {
     "data": {
      "text/html": [
       "<ol>\n",
       "\t<li><dl>\n",
       "\t<dt>$name</dt>\n",
       "\t\t<dd>'Victarion Greyjoy'</dd>\n",
       "\t<dt>$culture</dt>\n",
       "\t\t<dd>'Ironborn'</dd>\n",
       "\t<dt>$gender</dt>\n",
       "\t\t<dd>'Male'</dd>\n",
       "\t<dt>$born</dt>\n",
       "\t\t<dd>'In 268 AC or before, at Pyke'</dd>\n",
       "</dl>\n",
       "</li>\n",
       "</ol>\n"
      ],
      "text/latex": [
       "\\begin{enumerate}\n",
       "\\item \\begin{description}\n",
       "\\item[\\$name] 'Victarion Greyjoy'\n",
       "\\item[\\$culture] 'Ironborn'\n",
       "\\item[\\$gender] 'Male'\n",
       "\\item[\\$born] 'In 268 AC or before, at Pyke'\n",
       "\\end{description}\n",
       "\n",
       "\\end{enumerate}\n"
      ],
      "text/markdown": [
       "1. $name\n",
       ":   'Victarion Greyjoy'\n",
       "$culture\n",
       ":   'Ironborn'\n",
       "$gender\n",
       ":   'Male'\n",
       "$born\n",
       ":   'In 268 AC or before, at Pyke'\n",
       "\n",
       "\n",
       "\n",
       "\n",
       "\n"
      ],
      "text/plain": [
       "[[1]]\n",
       "[[1]]$name\n",
       "[1] \"Victarion Greyjoy\"\n",
       "\n",
       "[[1]]$culture\n",
       "[1] \"Ironborn\"\n",
       "\n",
       "[[1]]$gender\n",
       "[1] \"Male\"\n",
       "\n",
       "[[1]]$born\n",
       "[1] \"In 268 AC or before, at Pyke\"\n",
       "\n"
      ]
     },
     "metadata": {},
     "output_type": "display_data"
    }
   ],
   "source": [
    "# Everything that happens in R is a function call, and indexing with `[` is no exceptionb\n",
    "map(got_chars[3], `[`, c(\"name\", \"culture\", \"gender\", \"born\"))"
   ]
  },
  {
   "cell_type": "code",
   "execution_count": 13,
   "metadata": {
    "collapsed": false
   },
   "outputs": [
    {
     "data": {
      "text/html": [
       "<ol>\n",
       "\t<li><dl>\n",
       "\t<dt>$name</dt>\n",
       "\t\t<dd>'Victarion Greyjoy'</dd>\n",
       "\t<dt>$culture</dt>\n",
       "\t\t<dd>'Ironborn'</dd>\n",
       "\t<dt>$gender</dt>\n",
       "\t\t<dd>'Male'</dd>\n",
       "\t<dt>$born</dt>\n",
       "\t\t<dd>'In 268 AC or before, at Pyke'</dd>\n",
       "</dl>\n",
       "</li>\n",
       "</ol>\n"
      ],
      "text/latex": [
       "\\begin{enumerate}\n",
       "\\item \\begin{description}\n",
       "\\item[\\$name] 'Victarion Greyjoy'\n",
       "\\item[\\$culture] 'Ironborn'\n",
       "\\item[\\$gender] 'Male'\n",
       "\\item[\\$born] 'In 268 AC or before, at Pyke'\n",
       "\\end{description}\n",
       "\n",
       "\\end{enumerate}\n"
      ],
      "text/markdown": [
       "1. $name\n",
       ":   'Victarion Greyjoy'\n",
       "$culture\n",
       ":   'Ironborn'\n",
       "$gender\n",
       ":   'Male'\n",
       "$born\n",
       ":   'In 268 AC or before, at Pyke'\n",
       "\n",
       "\n",
       "\n",
       "\n",
       "\n"
      ],
      "text/plain": [
       "[[1]]\n",
       "[[1]]$name\n",
       "[1] \"Victarion Greyjoy\"\n",
       "\n",
       "[[1]]$culture\n",
       "[1] \"Ironborn\"\n",
       "\n",
       "[[1]]$gender\n",
       "[1] \"Male\"\n",
       "\n",
       "[[1]]$born\n",
       "[1] \"In 268 AC or before, at Pyke\"\n",
       "\n"
      ]
     },
     "metadata": {},
     "output_type": "display_data"
    }
   ],
   "source": [
    "# We can also use extract function\n",
    "map(got_chars[3], magrittr::extract, c(\"name\", \"culture\", \"gender\", \"born\"))"
   ]
  },
  {
   "cell_type": "markdown",
   "metadata": {},
   "source": [
    "## Data frame output"
   ]
  },
  {
   "cell_type": "code",
   "execution_count": 14,
   "metadata": {
    "collapsed": false
   },
   "outputs": [
    {
     "data": {
      "text/html": [
       "<table>\n",
       "<thead><tr><th scope=col>name</th><th scope=col>culture</th><th scope=col>gender</th><th scope=col>id</th><th scope=col>born</th><th scope=col>alive</th></tr></thead>\n",
       "<tbody>\n",
       "\t<tr><td>Theon Greyjoy                 </td><td>Ironborn                      </td><td>Male                          </td><td>1022                          </td><td>In 278 AC or 279 AC, at Pyke  </td><td> TRUE                         </td></tr>\n",
       "\t<tr><td>Tyrion Lannister              </td><td>                              </td><td>Male                          </td><td>1052                          </td><td>In 273 AC, at Casterly Rock   </td><td> TRUE                         </td></tr>\n",
       "\t<tr><td>Victarion Greyjoy             </td><td>Ironborn                      </td><td>Male                          </td><td>1074                          </td><td>In 268 AC or before, at Pyke  </td><td> TRUE                         </td></tr>\n",
       "\t<tr><td>Will                          </td><td>                              </td><td>Male                          </td><td>1109                          </td><td>                              </td><td>FALSE                         </td></tr>\n",
       "\t<tr><td>Areo Hotah                    </td><td>Norvoshi                      </td><td>Male                          </td><td>1166                          </td><td>In 257 AC or before, at Norvos</td><td> TRUE                         </td></tr>\n",
       "</tbody>\n",
       "</table>\n"
      ],
      "text/latex": [
       "\\begin{tabular}{r|llllll}\n",
       " name & culture & gender & id & born & alive\\\\\n",
       "\\hline\n",
       "\t Theon Greyjoy                  & Ironborn                       & Male                           & 1022                           & In 278 AC or 279 AC, at Pyke   &  TRUE                         \\\\\n",
       "\t Tyrion Lannister               &                                & Male                           & 1052                           & In 273 AC, at Casterly Rock    &  TRUE                         \\\\\n",
       "\t Victarion Greyjoy              & Ironborn                       & Male                           & 1074                           & In 268 AC or before, at Pyke   &  TRUE                         \\\\\n",
       "\t Will                           &                                & Male                           & 1109                           &                                & FALSE                         \\\\\n",
       "\t Areo Hotah                     & Norvoshi                       & Male                           & 1166                           & In 257 AC or before, at Norvos &  TRUE                         \\\\\n",
       "\\end{tabular}\n"
      ],
      "text/markdown": [
       "\n",
       "name | culture | gender | id | born | alive | \n",
       "|---|---|---|---|---|\n",
       "| Theon Greyjoy                  | Ironborn                       | Male                           | 1022                           | In 278 AC or 279 AC, at Pyke   |  TRUE                          | \n",
       "| Tyrion Lannister               |                                | Male                           | 1052                           | In 273 AC, at Casterly Rock    |  TRUE                          | \n",
       "| Victarion Greyjoy              | Ironborn                       | Male                           | 1074                           | In 268 AC or before, at Pyke   |  TRUE                          | \n",
       "| Will                           |                                | Male                           | 1109                           |                                | FALSE                          | \n",
       "| Areo Hotah                     | Norvoshi                       | Male                           | 1166                           | In 257 AC or before, at Norvos |  TRUE                          | \n",
       "\n",
       "\n"
      ],
      "text/plain": [
       "  name              culture  gender id   born                           alive\n",
       "1 Theon Greyjoy     Ironborn Male   1022 In 278 AC or 279 AC, at Pyke    TRUE\n",
       "2 Tyrion Lannister           Male   1052 In 273 AC, at Casterly Rock     TRUE\n",
       "3 Victarion Greyjoy Ironborn Male   1074 In 268 AC or before, at Pyke    TRUE\n",
       "4 Will                       Male   1109                                FALSE\n",
       "5 Areo Hotah        Norvoshi Male   1166 In 257 AC or before, at Norvos  TRUE"
      ]
     },
     "metadata": {},
     "output_type": "display_data"
    }
   ],
   "source": [
    "map_df(got_chars[1:5], `[`, c(\"name\", \"culture\", \"gender\", \"id\", \"born\", \"alive\"))"
   ]
  },
  {
   "cell_type": "code",
   "execution_count": 15,
   "metadata": {
    "collapsed": false
   },
   "outputs": [
    {
     "data": {
      "text/html": [
       "<table>\n",
       "<thead><tr><th scope=col>name</th><th scope=col>culture</th><th scope=col>gender</th><th scope=col>id</th><th scope=col>born</th><th scope=col>alive</th></tr></thead>\n",
       "<tbody>\n",
       "\t<tr><td>Theon Greyjoy                 </td><td>Ironborn                      </td><td>Male                          </td><td>1022                          </td><td>In 278 AC or 279 AC, at Pyke  </td><td> TRUE                         </td></tr>\n",
       "\t<tr><td>Tyrion Lannister              </td><td>                              </td><td>Male                          </td><td>1052                          </td><td>In 273 AC, at Casterly Rock   </td><td> TRUE                         </td></tr>\n",
       "\t<tr><td>Victarion Greyjoy             </td><td>Ironborn                      </td><td>Male                          </td><td>1074                          </td><td>In 268 AC or before, at Pyke  </td><td> TRUE                         </td></tr>\n",
       "\t<tr><td>Will                          </td><td>                              </td><td>Male                          </td><td>1109                          </td><td>                              </td><td>FALSE                         </td></tr>\n",
       "\t<tr><td>Areo Hotah                    </td><td>Norvoshi                      </td><td>Male                          </td><td>1166                          </td><td>In 257 AC or before, at Norvos</td><td> TRUE                         </td></tr>\n",
       "</tbody>\n",
       "</table>\n"
      ],
      "text/latex": [
       "\\begin{tabular}{r|llllll}\n",
       " name & culture & gender & id & born & alive\\\\\n",
       "\\hline\n",
       "\t Theon Greyjoy                  & Ironborn                       & Male                           & 1022                           & In 278 AC or 279 AC, at Pyke   &  TRUE                         \\\\\n",
       "\t Tyrion Lannister               &                                & Male                           & 1052                           & In 273 AC, at Casterly Rock    &  TRUE                         \\\\\n",
       "\t Victarion Greyjoy              & Ironborn                       & Male                           & 1074                           & In 268 AC or before, at Pyke   &  TRUE                         \\\\\n",
       "\t Will                           &                                & Male                           & 1109                           &                                & FALSE                         \\\\\n",
       "\t Areo Hotah                     & Norvoshi                       & Male                           & 1166                           & In 257 AC or before, at Norvos &  TRUE                         \\\\\n",
       "\\end{tabular}\n"
      ],
      "text/markdown": [
       "\n",
       "name | culture | gender | id | born | alive | \n",
       "|---|---|---|---|---|\n",
       "| Theon Greyjoy                  | Ironborn                       | Male                           | 1022                           | In 278 AC or 279 AC, at Pyke   |  TRUE                          | \n",
       "| Tyrion Lannister               |                                | Male                           | 1052                           | In 273 AC, at Casterly Rock    |  TRUE                          | \n",
       "| Victarion Greyjoy              | Ironborn                       | Male                           | 1074                           | In 268 AC or before, at Pyke   |  TRUE                          | \n",
       "| Will                           |                                | Male                           | 1109                           |                                | FALSE                          | \n",
       "| Areo Hotah                     | Norvoshi                       | Male                           | 1166                           | In 257 AC or before, at Norvos |  TRUE                          | \n",
       "\n",
       "\n"
      ],
      "text/plain": [
       "  name              culture  gender id   born                           alive\n",
       "1 Theon Greyjoy     Ironborn Male   1022 In 278 AC or 279 AC, at Pyke    TRUE\n",
       "2 Tyrion Lannister           Male   1052 In 273 AC, at Casterly Rock     TRUE\n",
       "3 Victarion Greyjoy Ironborn Male   1074 In 268 AC or before, at Pyke    TRUE\n",
       "4 Will                       Male   1109                                FALSE\n",
       "5 Areo Hotah        Norvoshi Male   1166 In 257 AC or before, at Norvos  TRUE"
      ]
     },
     "metadata": {},
     "output_type": "display_data"
    }
   ],
   "source": [
    "map_df(got_chars[1:5], magrittr::extract, c(\"name\", \"culture\", \"gender\", \"id\", \"born\", \"alive\"))"
   ]
  },
  {
   "cell_type": "code",
   "execution_count": 16,
   "metadata": {
    "collapsed": false
   },
   "outputs": [
    {
     "data": {
      "text/html": [
       "<table>\n",
       "<thead><tr><th scope=col>name</th><th scope=col>culture</th><th scope=col>gender</th><th scope=col>id</th><th scope=col>born</th><th scope=col>alive</th></tr></thead>\n",
       "<tbody>\n",
       "\t<tr><td>Theon Greyjoy                           </td><td>Ironborn                                </td><td>Male                                    </td><td>1022                                    </td><td>In 278 AC or 279 AC, at Pyke            </td><td> TRUE                                   </td></tr>\n",
       "\t<tr><td>Tyrion Lannister                        </td><td>                                        </td><td>Male                                    </td><td>1052                                    </td><td>In 273 AC, at Casterly Rock             </td><td> TRUE                                   </td></tr>\n",
       "\t<tr><td>Victarion Greyjoy                       </td><td>Ironborn                                </td><td>Male                                    </td><td>1074                                    </td><td>In 268 AC or before, at Pyke            </td><td> TRUE                                   </td></tr>\n",
       "\t<tr><td>Will                                    </td><td>                                        </td><td>Male                                    </td><td>1109                                    </td><td>                                        </td><td>FALSE                                   </td></tr>\n",
       "\t<tr><td>Areo Hotah                              </td><td>Norvoshi                                </td><td>Male                                    </td><td>1166                                    </td><td>In 257 AC or before, at Norvos          </td><td> TRUE                                   </td></tr>\n",
       "\t<tr><td>Chett                                   </td><td>                                        </td><td>Male                                    </td><td>1267                                    </td><td>At Hag's Mire                           </td><td>FALSE                                   </td></tr>\n",
       "\t<tr><td>Cressen                                 </td><td>                                        </td><td>Male                                    </td><td>1295                                    </td><td>In 219 AC or 220 AC                     </td><td>FALSE                                   </td></tr>\n",
       "\t<tr><td>Arianne Martell                         </td><td>Dornish                                 </td><td>Female                                  </td><td> 130                                    </td><td>In 276 AC, at Sunspear                  </td><td> TRUE                                   </td></tr>\n",
       "\t<tr><td>Daenerys Targaryen                      </td><td>Valyrian                                </td><td>Female                                  </td><td>1303                                    </td><td>In 284 AC, at Dragonstone               </td><td> TRUE                                   </td></tr>\n",
       "\t<tr><td>Davos Seaworth                          </td><td>Westeros                                </td><td>Male                                    </td><td>1319                                    </td><td>In 260 AC or before, at King's Landing  </td><td> TRUE                                   </td></tr>\n",
       "\t<tr><td>Arya Stark                              </td><td>Northmen                                </td><td>Female                                  </td><td> 148                                    </td><td>In 289 AC, at Winterfell                </td><td> TRUE                                   </td></tr>\n",
       "\t<tr><td>Arys Oakheart                           </td><td>Reach                                   </td><td>Male                                    </td><td> 149                                    </td><td>At Old Oak                              </td><td>FALSE                                   </td></tr>\n",
       "\t<tr><td>Asha Greyjoy                            </td><td>Ironborn                                </td><td>Female                                  </td><td> 150                                    </td><td>In 275 AC or 276 AC, at Pyke            </td><td> TRUE                                   </td></tr>\n",
       "\t<tr><td>Barristan Selmy                         </td><td>Westeros                                </td><td>Male                                    </td><td> 168                                    </td><td>In 237 AC                               </td><td> TRUE                                   </td></tr>\n",
       "\t<tr><td>Varamyr                                 </td><td>Free Folk                               </td><td>Male                                    </td><td>2066                                    </td><td>At a village Beyond the Wall            </td><td>FALSE                                   </td></tr>\n",
       "\t<tr><td>Brandon Stark                           </td><td>Northmen                                </td><td>Male                                    </td><td> 208                                    </td><td>In 290 AC, at Winterfell                </td><td> TRUE                                   </td></tr>\n",
       "\t<tr><td>Brienne of Tarth                        </td><td>                                        </td><td>Female                                  </td><td> 216                                    </td><td>In 280 AC                               </td><td> TRUE                                   </td></tr>\n",
       "\t<tr><td>Catelyn Stark                           </td><td>Rivermen                                </td><td>Female                                  </td><td> 232                                    </td><td>In 264 AC, at Riverrun                  </td><td>FALSE                                   </td></tr>\n",
       "\t<tr><td>Cersei Lannister                        </td><td>Westerman                               </td><td>Female                                  </td><td> 238                                    </td><td>In 266 AC, at Casterly Rock             </td><td> TRUE                                   </td></tr>\n",
       "\t<tr><td>Eddard Stark                            </td><td>Northmen                                </td><td>Male                                    </td><td> 339                                    </td><td>In 263 AC, at Winterfell                </td><td>FALSE                                   </td></tr>\n",
       "\t<tr><td>Jaime Lannister                         </td><td>Westerlands                             </td><td>Male                                    </td><td> 529                                    </td><td>In 266 AC, at Casterly Rock             </td><td> TRUE                                   </td></tr>\n",
       "\t<tr><td>Jon Connington                          </td><td>Stormlands                              </td><td>Male                                    </td><td> 576                                    </td><td>In or between 263 AC and 265 AC         </td><td> TRUE                                   </td></tr>\n",
       "\t<tr><td>Jon Snow                                </td><td>Northmen                                </td><td>Male                                    </td><td> 583                                    </td><td>In 283 AC                               </td><td> TRUE                                   </td></tr>\n",
       "\t<tr><td>Aeron Greyjoy                           </td><td>Ironborn                                </td><td>Male                                    </td><td>  60                                    </td><td>In or between 269 AC and 273 AC, at Pyke</td><td> TRUE                                   </td></tr>\n",
       "\t<tr><td>Kevan Lannister                         </td><td>                                        </td><td>Male                                    </td><td> 605                                    </td><td>In 244 AC                               </td><td>FALSE                                   </td></tr>\n",
       "\t<tr><td>Melisandre                              </td><td>Asshai                                  </td><td>Female                                  </td><td> 743                                    </td><td>At Unknown                              </td><td> TRUE                                   </td></tr>\n",
       "\t<tr><td>Merrett Frey                            </td><td>Rivermen                                </td><td>Male                                    </td><td> 751                                    </td><td>In 262 AC                               </td><td>FALSE                                   </td></tr>\n",
       "\t<tr><td>Quentyn Martell                         </td><td>Dornish                                 </td><td>Male                                    </td><td> 844                                    </td><td>In 281 AC, at Sunspear, Dorne           </td><td>FALSE                                   </td></tr>\n",
       "\t<tr><td>Sansa Stark                             </td><td>Northmen                                </td><td>Female                                  </td><td> 957                                    </td><td>In 286 AC, at Winterfell                </td><td> TRUE                                   </td></tr>\n",
       "</tbody>\n",
       "</table>\n"
      ],
      "text/latex": [
       "\\begin{tabular}{r|llllll}\n",
       " name & culture & gender & id & born & alive\\\\\n",
       "\\hline\n",
       "\t Theon Greyjoy                            & Ironborn                                 & Male                                     & 1022                                     & In 278 AC or 279 AC, at Pyke             &  TRUE                                   \\\\\n",
       "\t Tyrion Lannister                         &                                          & Male                                     & 1052                                     & In 273 AC, at Casterly Rock              &  TRUE                                   \\\\\n",
       "\t Victarion Greyjoy                        & Ironborn                                 & Male                                     & 1074                                     & In 268 AC or before, at Pyke             &  TRUE                                   \\\\\n",
       "\t Will                                     &                                          & Male                                     & 1109                                     &                                          & FALSE                                   \\\\\n",
       "\t Areo Hotah                               & Norvoshi                                 & Male                                     & 1166                                     & In 257 AC or before, at Norvos           &  TRUE                                   \\\\\n",
       "\t Chett                                    &                                          & Male                                     & 1267                                     & At Hag's Mire                            & FALSE                                   \\\\\n",
       "\t Cressen                                  &                                          & Male                                     & 1295                                     & In 219 AC or 220 AC                      & FALSE                                   \\\\\n",
       "\t Arianne Martell                          & Dornish                                  & Female                                   &  130                                     & In 276 AC, at Sunspear                   &  TRUE                                   \\\\\n",
       "\t Daenerys Targaryen                       & Valyrian                                 & Female                                   & 1303                                     & In 284 AC, at Dragonstone                &  TRUE                                   \\\\\n",
       "\t Davos Seaworth                           & Westeros                                 & Male                                     & 1319                                     & In 260 AC or before, at King's Landing   &  TRUE                                   \\\\\n",
       "\t Arya Stark                               & Northmen                                 & Female                                   &  148                                     & In 289 AC, at Winterfell                 &  TRUE                                   \\\\\n",
       "\t Arys Oakheart                            & Reach                                    & Male                                     &  149                                     & At Old Oak                               & FALSE                                   \\\\\n",
       "\t Asha Greyjoy                             & Ironborn                                 & Female                                   &  150                                     & In 275 AC or 276 AC, at Pyke             &  TRUE                                   \\\\\n",
       "\t Barristan Selmy                          & Westeros                                 & Male                                     &  168                                     & In 237 AC                                &  TRUE                                   \\\\\n",
       "\t Varamyr                                  & Free Folk                                & Male                                     & 2066                                     & At a village Beyond the Wall             & FALSE                                   \\\\\n",
       "\t Brandon Stark                            & Northmen                                 & Male                                     &  208                                     & In 290 AC, at Winterfell                 &  TRUE                                   \\\\\n",
       "\t Brienne of Tarth                         &                                          & Female                                   &  216                                     & In 280 AC                                &  TRUE                                   \\\\\n",
       "\t Catelyn Stark                            & Rivermen                                 & Female                                   &  232                                     & In 264 AC, at Riverrun                   & FALSE                                   \\\\\n",
       "\t Cersei Lannister                         & Westerman                                & Female                                   &  238                                     & In 266 AC, at Casterly Rock              &  TRUE                                   \\\\\n",
       "\t Eddard Stark                             & Northmen                                 & Male                                     &  339                                     & In 263 AC, at Winterfell                 & FALSE                                   \\\\\n",
       "\t Jaime Lannister                          & Westerlands                              & Male                                     &  529                                     & In 266 AC, at Casterly Rock              &  TRUE                                   \\\\\n",
       "\t Jon Connington                           & Stormlands                               & Male                                     &  576                                     & In or between 263 AC and 265 AC          &  TRUE                                   \\\\\n",
       "\t Jon Snow                                 & Northmen                                 & Male                                     &  583                                     & In 283 AC                                &  TRUE                                   \\\\\n",
       "\t Aeron Greyjoy                            & Ironborn                                 & Male                                     &   60                                     & In or between 269 AC and 273 AC, at Pyke &  TRUE                                   \\\\\n",
       "\t Kevan Lannister                          &                                          & Male                                     &  605                                     & In 244 AC                                & FALSE                                   \\\\\n",
       "\t Melisandre                               & Asshai                                   & Female                                   &  743                                     & At Unknown                               &  TRUE                                   \\\\\n",
       "\t Merrett Frey                             & Rivermen                                 & Male                                     &  751                                     & In 262 AC                                & FALSE                                   \\\\\n",
       "\t Quentyn Martell                          & Dornish                                  & Male                                     &  844                                     & In 281 AC, at Sunspear, Dorne            & FALSE                                   \\\\\n",
       "\t Sansa Stark                              & Northmen                                 & Female                                   &  957                                     & In 286 AC, at Winterfell                 &  TRUE                                   \\\\\n",
       "\\end{tabular}\n"
      ],
      "text/markdown": [
       "\n",
       "name | culture | gender | id | born | alive | \n",
       "|---|---|---|---|---|---|---|---|---|---|---|---|---|---|---|---|---|---|---|---|---|---|---|---|---|---|---|---|---|\n",
       "| Theon Greyjoy                            | Ironborn                                 | Male                                     | 1022                                     | In 278 AC or 279 AC, at Pyke             |  TRUE                                    | \n",
       "| Tyrion Lannister                         |                                          | Male                                     | 1052                                     | In 273 AC, at Casterly Rock              |  TRUE                                    | \n",
       "| Victarion Greyjoy                        | Ironborn                                 | Male                                     | 1074                                     | In 268 AC or before, at Pyke             |  TRUE                                    | \n",
       "| Will                                     |                                          | Male                                     | 1109                                     |                                          | FALSE                                    | \n",
       "| Areo Hotah                               | Norvoshi                                 | Male                                     | 1166                                     | In 257 AC or before, at Norvos           |  TRUE                                    | \n",
       "| Chett                                    |                                          | Male                                     | 1267                                     | At Hag's Mire                            | FALSE                                    | \n",
       "| Cressen                                  |                                          | Male                                     | 1295                                     | In 219 AC or 220 AC                      | FALSE                                    | \n",
       "| Arianne Martell                          | Dornish                                  | Female                                   |  130                                     | In 276 AC, at Sunspear                   |  TRUE                                    | \n",
       "| Daenerys Targaryen                       | Valyrian                                 | Female                                   | 1303                                     | In 284 AC, at Dragonstone                |  TRUE                                    | \n",
       "| Davos Seaworth                           | Westeros                                 | Male                                     | 1319                                     | In 260 AC or before, at King's Landing   |  TRUE                                    | \n",
       "| Arya Stark                               | Northmen                                 | Female                                   |  148                                     | In 289 AC, at Winterfell                 |  TRUE                                    | \n",
       "| Arys Oakheart                            | Reach                                    | Male                                     |  149                                     | At Old Oak                               | FALSE                                    | \n",
       "| Asha Greyjoy                             | Ironborn                                 | Female                                   |  150                                     | In 275 AC or 276 AC, at Pyke             |  TRUE                                    | \n",
       "| Barristan Selmy                          | Westeros                                 | Male                                     |  168                                     | In 237 AC                                |  TRUE                                    | \n",
       "| Varamyr                                  | Free Folk                                | Male                                     | 2066                                     | At a village Beyond the Wall             | FALSE                                    | \n",
       "| Brandon Stark                            | Northmen                                 | Male                                     |  208                                     | In 290 AC, at Winterfell                 |  TRUE                                    | \n",
       "| Brienne of Tarth                         |                                          | Female                                   |  216                                     | In 280 AC                                |  TRUE                                    | \n",
       "| Catelyn Stark                            | Rivermen                                 | Female                                   |  232                                     | In 264 AC, at Riverrun                   | FALSE                                    | \n",
       "| Cersei Lannister                         | Westerman                                | Female                                   |  238                                     | In 266 AC, at Casterly Rock              |  TRUE                                    | \n",
       "| Eddard Stark                             | Northmen                                 | Male                                     |  339                                     | In 263 AC, at Winterfell                 | FALSE                                    | \n",
       "| Jaime Lannister                          | Westerlands                              | Male                                     |  529                                     | In 266 AC, at Casterly Rock              |  TRUE                                    | \n",
       "| Jon Connington                           | Stormlands                               | Male                                     |  576                                     | In or between 263 AC and 265 AC          |  TRUE                                    | \n",
       "| Jon Snow                                 | Northmen                                 | Male                                     |  583                                     | In 283 AC                                |  TRUE                                    | \n",
       "| Aeron Greyjoy                            | Ironborn                                 | Male                                     |   60                                     | In or between 269 AC and 273 AC, at Pyke |  TRUE                                    | \n",
       "| Kevan Lannister                          |                                          | Male                                     |  605                                     | In 244 AC                                | FALSE                                    | \n",
       "| Melisandre                               | Asshai                                   | Female                                   |  743                                     | At Unknown                               |  TRUE                                    | \n",
       "| Merrett Frey                             | Rivermen                                 | Male                                     |  751                                     | In 262 AC                                | FALSE                                    | \n",
       "| Quentyn Martell                          | Dornish                                  | Male                                     |  844                                     | In 281 AC, at Sunspear, Dorne            | FALSE                                    | \n",
       "| Sansa Stark                              | Northmen                                 | Female                                   |  957                                     | In 286 AC, at Winterfell                 |  TRUE                                    | \n",
       "\n",
       "\n"
      ],
      "text/plain": [
       "   name               culture     gender id  \n",
       "1  Theon Greyjoy      Ironborn    Male   1022\n",
       "2  Tyrion Lannister               Male   1052\n",
       "3  Victarion Greyjoy  Ironborn    Male   1074\n",
       "4  Will                           Male   1109\n",
       "5  Areo Hotah         Norvoshi    Male   1166\n",
       "6  Chett                          Male   1267\n",
       "7  Cressen                        Male   1295\n",
       "8  Arianne Martell    Dornish     Female  130\n",
       "9  Daenerys Targaryen Valyrian    Female 1303\n",
       "10 Davos Seaworth     Westeros    Male   1319\n",
       "11 Arya Stark         Northmen    Female  148\n",
       "12 Arys Oakheart      Reach       Male    149\n",
       "13 Asha Greyjoy       Ironborn    Female  150\n",
       "14 Barristan Selmy    Westeros    Male    168\n",
       "15 Varamyr            Free Folk   Male   2066\n",
       "16 Brandon Stark      Northmen    Male    208\n",
       "17 Brienne of Tarth               Female  216\n",
       "18 Catelyn Stark      Rivermen    Female  232\n",
       "19 Cersei Lannister   Westerman   Female  238\n",
       "20 Eddard Stark       Northmen    Male    339\n",
       "21 Jaime Lannister    Westerlands Male    529\n",
       "22 Jon Connington     Stormlands  Male    576\n",
       "23 Jon Snow           Northmen    Male    583\n",
       "24 Aeron Greyjoy      Ironborn    Male     60\n",
       "25 Kevan Lannister                Male    605\n",
       "26 Melisandre         Asshai      Female  743\n",
       "27 Merrett Frey       Rivermen    Male    751\n",
       "28 Quentyn Martell    Dornish     Male    844\n",
       "29 Sansa Stark        Northmen    Female  957\n",
       "   born                                     alive\n",
       "1  In 278 AC or 279 AC, at Pyke              TRUE\n",
       "2  In 273 AC, at Casterly Rock               TRUE\n",
       "3  In 268 AC or before, at Pyke              TRUE\n",
       "4                                           FALSE\n",
       "5  In 257 AC or before, at Norvos            TRUE\n",
       "6  At Hag's Mire                            FALSE\n",
       "7  In 219 AC or 220 AC                      FALSE\n",
       "8  In 276 AC, at Sunspear                    TRUE\n",
       "9  In 284 AC, at Dragonstone                 TRUE\n",
       "10 In 260 AC or before, at King's Landing    TRUE\n",
       "11 In 289 AC, at Winterfell                  TRUE\n",
       "12 At Old Oak                               FALSE\n",
       "13 In 275 AC or 276 AC, at Pyke              TRUE\n",
       "14 In 237 AC                                 TRUE\n",
       "15 At a village Beyond the Wall             FALSE\n",
       "16 In 290 AC, at Winterfell                  TRUE\n",
       "17 In 280 AC                                 TRUE\n",
       "18 In 264 AC, at Riverrun                   FALSE\n",
       "19 In 266 AC, at Casterly Rock               TRUE\n",
       "20 In 263 AC, at Winterfell                 FALSE\n",
       "21 In 266 AC, at Casterly Rock               TRUE\n",
       "22 In or between 263 AC and 265 AC           TRUE\n",
       "23 In 283 AC                                 TRUE\n",
       "24 In or between 269 AC and 273 AC, at Pyke  TRUE\n",
       "25 In 244 AC                                FALSE\n",
       "26 At Unknown                                TRUE\n",
       "27 In 262 AC                                FALSE\n",
       "28 In 281 AC, at Sunspear, Dorne            FALSE\n",
       "29 In 286 AC, at Winterfell                  TRUE"
      ]
     },
     "metadata": {},
     "output_type": "display_data"
    }
   ],
   "source": [
    "library(tibble)\n",
    "got_chars %>% {\n",
    "  tibble(\n",
    "       name = map_chr(., \"name\"),\n",
    "    culture = map_chr(., \"culture\"),\n",
    "     gender = map_chr(., \"gender\"),       \n",
    "         id = map_int(., \"id\"),\n",
    "       born = map_chr(., \"born\"),\n",
    "      alive = map_lgl(., \"alive\")\n",
    "  )\n",
    "}"
   ]
  }
 ],
 "metadata": {
  "kernelspec": {
   "display_name": "R",
   "language": "R",
   "name": "ir"
  },
  "language_info": {
   "codemirror_mode": "r",
   "file_extension": ".r",
   "mimetype": "text/x-r-source",
   "name": "R",
   "pygments_lexer": "r",
   "version": "3.4.0"
  }
 },
 "nbformat": 4,
 "nbformat_minor": 2
}

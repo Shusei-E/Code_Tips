{
 "cells": [
  {
   "cell_type": "code",
   "execution_count": 1,
   "metadata": {
    "collapsed": true
   },
   "outputs": [],
   "source": [
    "library(purrr)\n",
    "library(repurrrsive) # install_github(\"jennybc/repurrrsive\")\n",
    "library(listviewer)"
   ]
  },
  {
   "cell_type": "markdown",
   "metadata": {},
   "source": [
    "# Inspect and Explore"
   ]
  },
  {
   "cell_type": "markdown",
   "metadata": {},
   "source": [
    "We need to understand the list first before applying functions.\n",
    "* Length of the list?\n",
    "* Do elements have similar structures?"
   ]
  },
  {
   "cell_type": "code",
   "execution_count": 2,
   "metadata": {
    "collapsed": false
   },
   "outputs": [
    {
     "name": "stdout",
     "output_type": "stream",
     "text": [
      "List of 15\n",
      " $ GrandBudapest : chr [1:4] \"#F1BB7B\" \"#FD6467\" \"#5B1A18\" \"#D67236\"\n",
      " $ Moonrise1     : chr [1:4] \"#F3DF6C\" \"#CEAB07\" \"#D5D5D3\" \"#24281A\"\n",
      " $ Royal1        : chr [1:4] \"#899DA4\" \"#C93312\" \"#FAEFD1\" \"#DC863B\"\n",
      " $ Moonrise2     : chr [1:4] \"#798E87\" \"#C27D38\" \"#CCC591\" \"#29211F\"\n",
      " $ Cavalcanti    : chr [1:5] \"#D8B70A\" \"#02401B\" \"#A2A475\" \"#81A88D\" ...\n",
      " $ Royal2        : chr [1:5] \"#9A8822\" \"#F5CDB4\" \"#F8AFA8\" \"#FDDDA0\" ...\n",
      " $ GrandBudapest2: chr [1:4] \"#E6A0C4\" \"#C6CDF7\" \"#D8A499\" \"#7294D4\"\n",
      " $ Moonrise3     : chr [1:5] \"#85D4E3\" \"#F4B5BD\" \"#9C964A\" \"#CDC08C\" ...\n",
      " $ Chevalier     : chr [1:4] \"#446455\" \"#FDD262\" \"#D3DDDC\" \"#C7B19C\"\n",
      " $ Zissou        : chr [1:5] \"#3B9AB2\" \"#78B7C5\" \"#EBCC2A\" \"#E1AF00\" ...\n",
      " $ FantasticFox  : chr [1:5] \"#DD8D29\" \"#E2D200\" \"#46ACC8\" \"#E58601\" ...\n",
      " $ Darjeeling    : chr [1:5] \"#FF0000\" \"#00A08A\" \"#F2AD00\" \"#F98400\" ...\n",
      " $ Rushmore      : chr [1:5] \"#E1BD6D\" \"#EABE94\" \"#0B775E\" \"#35274A\" ...\n",
      " $ BottleRocket  : chr [1:7] \"#A42820\" \"#5F5647\" \"#9B110E\" \"#3F5151\" ...\n",
      " $ Darjeeling2   : chr [1:5] \"#ECCBAE\" \"#046C9A\" \"#D69C4E\" \"#ABDDDE\" ...\n"
     ]
    }
   ],
   "source": [
    "str(wesanderson)"
   ]
  },
  {
   "cell_type": "code",
   "execution_count": 3,
   "metadata": {
    "collapsed": false
   },
   "outputs": [
    {
     "name": "stdout",
     "output_type": "stream",
     "text": [
      "List of 29\n",
      " $ :List of 18\n",
      "  ..$ url        : chr \"http://www.anapioficeandfire.com/api/characters/1022\"\n",
      "  ..$ id         : int 1022\n",
      "  ..$ name       : chr \"Theon Greyjoy\"\n",
      "  ..$ gender     : chr \"Male\"\n",
      "  ..$ culture    : chr \"Ironborn\"\n",
      "  .. [list output truncated]\n",
      " $ :List of 18\n",
      "  ..$ url        : chr \"http://www.anapioficeandfire.com/api/characters/1052\"\n",
      "  ..$ id         : int 1052\n",
      "  ..$ name       : chr \"Tyrion Lannister\"\n",
      "  ..$ gender     : chr \"Male\"\n",
      "  ..$ culture    : chr \"\"\n",
      "  .. [list output truncated]\n",
      " $ :List of 18\n",
      "  ..$ url        : chr \"http://www.anapioficeandfire.com/api/characters/1074\"\n",
      "  ..$ id         : int 1074\n",
      "  ..$ name       : chr \"Victarion Greyjoy\"\n",
      "  ..$ gender     : chr \"Male\"\n",
      "  ..$ culture    : chr \"Ironborn\"\n",
      "  .. [list output truncated]\n",
      " $ :List of 18\n",
      "  ..$ url        : chr \"http://www.anapioficeandfire.com/api/characters/1109\"\n",
      "  ..$ id         : int 1109\n",
      "  ..$ name       : chr \"Will\"\n",
      "  ..$ gender     : chr \"Male\"\n",
      "  ..$ culture    : chr \"\"\n",
      "  .. [list output truncated]\n",
      " $ :List of 18\n",
      "  ..$ url        : chr \"http://www.anapioficeandfire.com/api/characters/1166\"\n",
      "  ..$ id         : int 1166\n",
      "  ..$ name       : chr \"Areo Hotah\"\n",
      "  ..$ gender     : chr \"Male\"\n",
      "  ..$ culture    : chr \"Norvoshi\"\n",
      "  .. [list output truncated]\n",
      "  [list output truncated]\n"
     ]
    }
   ],
   "source": [
    "str(got_chars, list.len = 5)"
   ]
  }
 ],
 "metadata": {
  "kernelspec": {
   "display_name": "R",
   "language": "R",
   "name": "ir"
  },
  "language_info": {
   "codemirror_mode": "r",
   "file_extension": ".r",
   "mimetype": "text/x-r-source",
   "name": "R",
   "pygments_lexer": "r",
   "version": "3.4.0"
  }
 },
 "nbformat": 4,
 "nbformat_minor": 2
}

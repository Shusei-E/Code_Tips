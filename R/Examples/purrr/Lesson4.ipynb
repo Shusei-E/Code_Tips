{
 "cells": [
  {
   "cell_type": "code",
   "execution_count": 1,
   "metadata": {
    "collapsed": true
   },
   "outputs": [],
   "source": [
    "library(purrr)\n",
    "library(repurrrsive)"
   ]
  },
  {
   "cell_type": "markdown",
   "metadata": {},
   "source": [
    "# map() function specification"
   ]
  },
  {
   "cell_type": "code",
   "execution_count": 2,
   "metadata": {
    "collapsed": false
   },
   "outputs": [
    {
     "name": "stdout",
     "output_type": "stream",
     "text": [
      "List of 29\n",
      " $ : chr [1:4] \"Prince of Fools\" \"Theon Turncloak\" \"Reek\" \"Theon Kinslayer\"\n",
      " $ : chr [1:11] \"The Imp\" \"Halfman\" \"The boyman\" \"Giant of Lannister\" ...\n",
      " $ : chr \"The Iron Captain\"\n",
      "  [list output truncated]\n"
     ]
    }
   ],
   "source": [
    "map(got_chars, \"aliases\") %>% str(list.len=3)"
   ]
  },
  {
   "cell_type": "code",
   "execution_count": 3,
   "metadata": {
    "collapsed": false
   },
   "outputs": [
    {
     "data": {
      "text/html": [
       "<ol class=list-inline>\n",
       "\t<li>'Theon Greyjoy'</li>\n",
       "\t<li>'Tyrion Lannister'</li>\n",
       "\t<li>'Victarion Greyjoy'</li>\n",
       "\t<li>'Will'</li>\n",
       "\t<li>'Areo Hotah'</li>\n",
       "\t<li>'Chett'</li>\n",
       "\t<li>'Cressen'</li>\n",
       "\t<li>'Arianne Martell'</li>\n",
       "\t<li>'Daenerys Targaryen'</li>\n",
       "\t<li>'Davos Seaworth'</li>\n",
       "\t<li>'Arya Stark'</li>\n",
       "\t<li>'Arys Oakheart'</li>\n",
       "\t<li>'Asha Greyjoy'</li>\n",
       "\t<li>'Barristan Selmy'</li>\n",
       "\t<li>'Varamyr'</li>\n",
       "\t<li>'Brandon Stark'</li>\n",
       "\t<li>'Brienne of Tarth'</li>\n",
       "\t<li>'Catelyn Stark'</li>\n",
       "\t<li>'Cersei Lannister'</li>\n",
       "\t<li>'Eddard Stark'</li>\n",
       "\t<li>'Jaime Lannister'</li>\n",
       "\t<li>'Jon Connington'</li>\n",
       "\t<li>'Jon Snow'</li>\n",
       "\t<li>'Aeron Greyjoy'</li>\n",
       "\t<li>'Kevan Lannister'</li>\n",
       "\t<li>'Melisandre'</li>\n",
       "\t<li>'Merrett Frey'</li>\n",
       "\t<li>'Quentyn Martell'</li>\n",
       "\t<li>'Sansa Stark'</li>\n",
       "</ol>\n"
      ],
      "text/latex": [
       "\\begin{enumerate*}\n",
       "\\item 'Theon Greyjoy'\n",
       "\\item 'Tyrion Lannister'\n",
       "\\item 'Victarion Greyjoy'\n",
       "\\item 'Will'\n",
       "\\item 'Areo Hotah'\n",
       "\\item 'Chett'\n",
       "\\item 'Cressen'\n",
       "\\item 'Arianne Martell'\n",
       "\\item 'Daenerys Targaryen'\n",
       "\\item 'Davos Seaworth'\n",
       "\\item 'Arya Stark'\n",
       "\\item 'Arys Oakheart'\n",
       "\\item 'Asha Greyjoy'\n",
       "\\item 'Barristan Selmy'\n",
       "\\item 'Varamyr'\n",
       "\\item 'Brandon Stark'\n",
       "\\item 'Brienne of Tarth'\n",
       "\\item 'Catelyn Stark'\n",
       "\\item 'Cersei Lannister'\n",
       "\\item 'Eddard Stark'\n",
       "\\item 'Jaime Lannister'\n",
       "\\item 'Jon Connington'\n",
       "\\item 'Jon Snow'\n",
       "\\item 'Aeron Greyjoy'\n",
       "\\item 'Kevan Lannister'\n",
       "\\item 'Melisandre'\n",
       "\\item 'Merrett Frey'\n",
       "\\item 'Quentyn Martell'\n",
       "\\item 'Sansa Stark'\n",
       "\\end{enumerate*}\n"
      ],
      "text/markdown": [
       "1. 'Theon Greyjoy'\n",
       "2. 'Tyrion Lannister'\n",
       "3. 'Victarion Greyjoy'\n",
       "4. 'Will'\n",
       "5. 'Areo Hotah'\n",
       "6. 'Chett'\n",
       "7. 'Cressen'\n",
       "8. 'Arianne Martell'\n",
       "9. 'Daenerys Targaryen'\n",
       "10. 'Davos Seaworth'\n",
       "11. 'Arya Stark'\n",
       "12. 'Arys Oakheart'\n",
       "13. 'Asha Greyjoy'\n",
       "14. 'Barristan Selmy'\n",
       "15. 'Varamyr'\n",
       "16. 'Brandon Stark'\n",
       "17. 'Brienne of Tarth'\n",
       "18. 'Catelyn Stark'\n",
       "19. 'Cersei Lannister'\n",
       "20. 'Eddard Stark'\n",
       "21. 'Jaime Lannister'\n",
       "22. 'Jon Connington'\n",
       "23. 'Jon Snow'\n",
       "24. 'Aeron Greyjoy'\n",
       "25. 'Kevan Lannister'\n",
       "26. 'Melisandre'\n",
       "27. 'Merrett Frey'\n",
       "28. 'Quentyn Martell'\n",
       "29. 'Sansa Stark'\n",
       "\n",
       "\n"
      ],
      "text/plain": [
       " [1] \"Theon Greyjoy\"      \"Tyrion Lannister\"   \"Victarion Greyjoy\" \n",
       " [4] \"Will\"               \"Areo Hotah\"         \"Chett\"             \n",
       " [7] \"Cressen\"            \"Arianne Martell\"    \"Daenerys Targaryen\"\n",
       "[10] \"Davos Seaworth\"     \"Arya Stark\"         \"Arys Oakheart\"     \n",
       "[13] \"Asha Greyjoy\"       \"Barristan Selmy\"    \"Varamyr\"           \n",
       "[16] \"Brandon Stark\"      \"Brienne of Tarth\"   \"Catelyn Stark\"     \n",
       "[19] \"Cersei Lannister\"   \"Eddard Stark\"       \"Jaime Lannister\"   \n",
       "[22] \"Jon Connington\"     \"Jon Snow\"           \"Aeron Greyjoy\"     \n",
       "[25] \"Kevan Lannister\"    \"Melisandre\"         \"Merrett Frey\"      \n",
       "[28] \"Quentyn Martell\"    \"Sansa Stark\"       "
      ]
     },
     "metadata": {},
     "output_type": "display_data"
    }
   ],
   "source": [
    "map_chr(got_chars, \"name\")"
   ]
  },
  {
   "cell_type": "code",
   "execution_count": 4,
   "metadata": {
    "collapsed": true
   },
   "outputs": [],
   "source": [
    "aliases <- set_names(map(got_chars, \"aliases\"), map_chr(got_chars, \"name\"))"
   ]
  },
  {
   "cell_type": "code",
   "execution_count": 5,
   "metadata": {
    "collapsed": false
   },
   "outputs": [
    {
     "data": {
      "text/html": [
       "<dl>\n",
       "\t<dt>$`Theon Greyjoy`</dt>\n",
       "\t\t<dd><ol class=list-inline>\n",
       "\t<li>'Prince of Fools'</li>\n",
       "\t<li>'Theon Turncloak'</li>\n",
       "\t<li>'Reek'</li>\n",
       "\t<li>'Theon Kinslayer'</li>\n",
       "</ol>\n",
       "</dd>\n",
       "\t<dt>$`Tyrion Lannister`</dt>\n",
       "\t\t<dd><ol class=list-inline>\n",
       "\t<li>'The Imp'</li>\n",
       "\t<li>'Halfman'</li>\n",
       "\t<li>'The boyman'</li>\n",
       "\t<li>'Giant of Lannister'</li>\n",
       "\t<li>'Lord Tywin\\'s Doom'</li>\n",
       "\t<li>'Lord Tywin\\'s Bane'</li>\n",
       "\t<li>'Yollo'</li>\n",
       "\t<li>'Hugor Hill'</li>\n",
       "\t<li>'No-Nose'</li>\n",
       "\t<li>'Freak'</li>\n",
       "\t<li>'Dwarf'</li>\n",
       "</ol>\n",
       "</dd>\n",
       "\t<dt>$`Brienne of Tarth`</dt>\n",
       "\t\t<dd><ol class=list-inline>\n",
       "\t<li>'The Maid of Tarth'</li>\n",
       "\t<li>'Brienne the Beauty'</li>\n",
       "\t<li>'Brienne the Blue'</li>\n",
       "</ol>\n",
       "</dd>\n",
       "</dl>\n"
      ],
      "text/latex": [
       "\\begin{description}\n",
       "\\item[\\$`Theon Greyjoy`] \\begin{enumerate*}\n",
       "\\item 'Prince of Fools'\n",
       "\\item 'Theon Turncloak'\n",
       "\\item 'Reek'\n",
       "\\item 'Theon Kinslayer'\n",
       "\\end{enumerate*}\n",
       "\n",
       "\\item[\\$`Tyrion Lannister`] \\begin{enumerate*}\n",
       "\\item 'The Imp'\n",
       "\\item 'Halfman'\n",
       "\\item 'The boyman'\n",
       "\\item 'Giant of Lannister'\n",
       "\\item 'Lord Tywin\\textbackslash{}'s Doom'\n",
       "\\item 'Lord Tywin\\textbackslash{}'s Bane'\n",
       "\\item 'Yollo'\n",
       "\\item 'Hugor Hill'\n",
       "\\item 'No-Nose'\n",
       "\\item 'Freak'\n",
       "\\item 'Dwarf'\n",
       "\\end{enumerate*}\n",
       "\n",
       "\\item[\\$`Brienne of Tarth`] \\begin{enumerate*}\n",
       "\\item 'The Maid of Tarth'\n",
       "\\item 'Brienne the Beauty'\n",
       "\\item 'Brienne the Blue'\n",
       "\\end{enumerate*}\n",
       "\n",
       "\\end{description}\n"
      ],
      "text/markdown": [
       "$`Theon Greyjoy`\n",
       ":   1. 'Prince of Fools'\n",
       "2. 'Theon Turncloak'\n",
       "3. 'Reek'\n",
       "4. 'Theon Kinslayer'\n",
       "\n",
       "\n",
       "\n",
       "$`Tyrion Lannister`\n",
       ":   1. 'The Imp'\n",
       "2. 'Halfman'\n",
       "3. 'The boyman'\n",
       "4. 'Giant of Lannister'\n",
       "5. 'Lord Tywin\\'s Doom'\n",
       "6. 'Lord Tywin\\'s Bane'\n",
       "7. 'Yollo'\n",
       "8. 'Hugor Hill'\n",
       "9. 'No-Nose'\n",
       "10. 'Freak'\n",
       "11. 'Dwarf'\n",
       "\n",
       "\n",
       "\n",
       "$`Brienne of Tarth`\n",
       ":   1. 'The Maid of Tarth'\n",
       "2. 'Brienne the Beauty'\n",
       "3. 'Brienne the Blue'\n",
       "\n",
       "\n",
       "\n",
       "\n",
       "\n"
      ],
      "text/plain": [
       "$`Theon Greyjoy`\n",
       "[1] \"Prince of Fools\" \"Theon Turncloak\" \"Reek\"            \"Theon Kinslayer\"\n",
       "\n",
       "$`Tyrion Lannister`\n",
       " [1] \"The Imp\"            \"Halfman\"            \"The boyman\"        \n",
       " [4] \"Giant of Lannister\" \"Lord Tywin's Doom\"  \"Lord Tywin's Bane\" \n",
       " [7] \"Yollo\"              \"Hugor Hill\"         \"No-Nose\"           \n",
       "[10] \"Freak\"              \"Dwarf\"             \n",
       "\n",
       "$`Brienne of Tarth`\n",
       "[1] \"The Maid of Tarth\"  \"Brienne the Beauty\" \"Brienne the Blue\"  \n"
      ]
     },
     "metadata": {},
     "output_type": "display_data"
    }
   ],
   "source": [
    "aliases[c(\"Theon Greyjoy\", \"Tyrion Lannister\", \"Brienne of Tarth\")]"
   ]
  },
  {
   "cell_type": "code",
   "execution_count": 6,
   "metadata": {
    "collapsed": true
   },
   "outputs": [],
   "source": [
    "aliases <- aliases[c(\"Theon Greyjoy\", \"Asha Greyjoy\", \"Brienne of Tarth\")]"
   ]
  },
  {
   "cell_type": "markdown",
   "metadata": {},
   "source": [
    "### Existing function"
   ]
  },
  {
   "cell_type": "code",
   "execution_count": 7,
   "metadata": {
    "collapsed": false
   },
   "outputs": [
    {
     "data": {
      "text/html": [
       "<dl>\n",
       "\t<dt>$`Theon Greyjoy`</dt>\n",
       "\t\t<dd>'Prince of Fools | Theon Turncloak | Reek | Theon Kinslayer'</dd>\n",
       "\t<dt>$`Asha Greyjoy`</dt>\n",
       "\t\t<dd>'Esgred | The Kraken\\'s Daughter'</dd>\n",
       "\t<dt>$`Brienne of Tarth`</dt>\n",
       "\t\t<dd>'The Maid of Tarth | Brienne the Beauty | Brienne the Blue'</dd>\n",
       "</dl>\n"
      ],
      "text/latex": [
       "\\begin{description}\n",
       "\\item[\\$`Theon Greyjoy`] 'Prince of Fools \\textbar{} Theon Turncloak \\textbar{} Reek \\textbar{} Theon Kinslayer'\n",
       "\\item[\\$`Asha Greyjoy`] 'Esgred \\textbar{} The Kraken\\textbackslash{}'s Daughter'\n",
       "\\item[\\$`Brienne of Tarth`] 'The Maid of Tarth \\textbar{} Brienne the Beauty \\textbar{} Brienne the Blue'\n",
       "\\end{description}\n"
      ],
      "text/markdown": [
       "$`Theon Greyjoy`\n",
       ":   'Prince of Fools | Theon Turncloak | Reek | Theon Kinslayer'\n",
       "$`Asha Greyjoy`\n",
       ":   'Esgred | The Kraken\\'s Daughter'\n",
       "$`Brienne of Tarth`\n",
       ":   'The Maid of Tarth | Brienne the Beauty | Brienne the Blue'\n",
       "\n",
       "\n"
      ],
      "text/plain": [
       "$`Theon Greyjoy`\n",
       "[1] \"Prince of Fools | Theon Turncloak | Reek | Theon Kinslayer\"\n",
       "\n",
       "$`Asha Greyjoy`\n",
       "[1] \"Esgred | The Kraken's Daughter\"\n",
       "\n",
       "$`Brienne of Tarth`\n",
       "[1] \"The Maid of Tarth | Brienne the Beauty | Brienne the Blue\"\n"
      ]
     },
     "metadata": {},
     "output_type": "display_data"
    }
   ],
   "source": [
    "my_fun <- function(x) paste(x, collapse = \" | \")\n",
    "map(aliases, my_fun)"
   ]
  },
  {
   "cell_type": "markdown",
   "metadata": {},
   "source": [
    "### Anonymous function, conventional"
   ]
  },
  {
   "cell_type": "code",
   "execution_count": 8,
   "metadata": {
    "collapsed": false
   },
   "outputs": [
    {
     "data": {
      "text/html": [
       "<dl>\n",
       "\t<dt>$`Theon Greyjoy`</dt>\n",
       "\t\t<dd>'Prince of Fools | Theon Turncloak | Reek | Theon Kinslayer'</dd>\n",
       "\t<dt>$`Asha Greyjoy`</dt>\n",
       "\t\t<dd>'Esgred | The Kraken\\'s Daughter'</dd>\n",
       "\t<dt>$`Brienne of Tarth`</dt>\n",
       "\t\t<dd>'The Maid of Tarth | Brienne the Beauty | Brienne the Blue'</dd>\n",
       "</dl>\n"
      ],
      "text/latex": [
       "\\begin{description}\n",
       "\\item[\\$`Theon Greyjoy`] 'Prince of Fools \\textbar{} Theon Turncloak \\textbar{} Reek \\textbar{} Theon Kinslayer'\n",
       "\\item[\\$`Asha Greyjoy`] 'Esgred \\textbar{} The Kraken\\textbackslash{}'s Daughter'\n",
       "\\item[\\$`Brienne of Tarth`] 'The Maid of Tarth \\textbar{} Brienne the Beauty \\textbar{} Brienne the Blue'\n",
       "\\end{description}\n"
      ],
      "text/markdown": [
       "$`Theon Greyjoy`\n",
       ":   'Prince of Fools | Theon Turncloak | Reek | Theon Kinslayer'\n",
       "$`Asha Greyjoy`\n",
       ":   'Esgred | The Kraken\\'s Daughter'\n",
       "$`Brienne of Tarth`\n",
       ":   'The Maid of Tarth | Brienne the Beauty | Brienne the Blue'\n",
       "\n",
       "\n"
      ],
      "text/plain": [
       "$`Theon Greyjoy`\n",
       "[1] \"Prince of Fools | Theon Turncloak | Reek | Theon Kinslayer\"\n",
       "\n",
       "$`Asha Greyjoy`\n",
       "[1] \"Esgred | The Kraken's Daughter\"\n",
       "\n",
       "$`Brienne of Tarth`\n",
       "[1] \"The Maid of Tarth | Brienne the Beauty | Brienne the Blue\"\n"
      ]
     },
     "metadata": {},
     "output_type": "display_data"
    }
   ],
   "source": [
    "map(aliases, function(x) paste(x, collapse = \" | \")) "
   ]
  },
  {
   "cell_type": "markdown",
   "metadata": {},
   "source": [
    "### Anonymous function, formula"
   ]
  },
  {
   "cell_type": "code",
   "execution_count": 9,
   "metadata": {
    "collapsed": false
   },
   "outputs": [
    {
     "data": {
      "text/html": [
       "<dl>\n",
       "\t<dt>$`Theon Greyjoy`</dt>\n",
       "\t\t<dd>'Prince of Fools | Theon Turncloak | Reek | Theon Kinslayer'</dd>\n",
       "\t<dt>$`Asha Greyjoy`</dt>\n",
       "\t\t<dd>'Esgred | The Kraken\\'s Daughter'</dd>\n",
       "\t<dt>$`Brienne of Tarth`</dt>\n",
       "\t\t<dd>'The Maid of Tarth | Brienne the Beauty | Brienne the Blue'</dd>\n",
       "</dl>\n"
      ],
      "text/latex": [
       "\\begin{description}\n",
       "\\item[\\$`Theon Greyjoy`] 'Prince of Fools \\textbar{} Theon Turncloak \\textbar{} Reek \\textbar{} Theon Kinslayer'\n",
       "\\item[\\$`Asha Greyjoy`] 'Esgred \\textbar{} The Kraken\\textbackslash{}'s Daughter'\n",
       "\\item[\\$`Brienne of Tarth`] 'The Maid of Tarth \\textbar{} Brienne the Beauty \\textbar{} Brienne the Blue'\n",
       "\\end{description}\n"
      ],
      "text/markdown": [
       "$`Theon Greyjoy`\n",
       ":   'Prince of Fools | Theon Turncloak | Reek | Theon Kinslayer'\n",
       "$`Asha Greyjoy`\n",
       ":   'Esgred | The Kraken\\'s Daughter'\n",
       "$`Brienne of Tarth`\n",
       ":   'The Maid of Tarth | Brienne the Beauty | Brienne the Blue'\n",
       "\n",
       "\n"
      ],
      "text/plain": [
       "$`Theon Greyjoy`\n",
       "[1] \"Prince of Fools | Theon Turncloak | Reek | Theon Kinslayer\"\n",
       "\n",
       "$`Asha Greyjoy`\n",
       "[1] \"Esgred | The Kraken's Daughter\"\n",
       "\n",
       "$`Brienne of Tarth`\n",
       "[1] \"The Maid of Tarth | Brienne the Beauty | Brienne the Blue\"\n"
      ]
     },
     "metadata": {},
     "output_type": "display_data"
    }
   ],
   "source": [
    "map(aliases, ~ paste(.x, collapse = \" | \"))"
   ]
  },
  {
   "cell_type": "markdown",
   "metadata": {},
   "source": [
    "# List to data.frame"
   ]
  },
  {
   "cell_type": "code",
   "execution_count": 10,
   "metadata": {
    "collapsed": false
   },
   "outputs": [
    {
     "data": {
      "text/html": [
       "<table>\n",
       "<thead><tr><th scope=col>name</th><th scope=col>aliases</th></tr></thead>\n",
       "<tbody>\n",
       "\t<tr><td>Victarion Greyjoy                                                  </td><td>The Iron Captain                                                   </td></tr>\n",
       "\t<tr><td>Davos Seaworth                                                     </td><td>Onion Knight | Davos Shorthand | Ser Onions | Onion Lord | Smuggler</td></tr>\n",
       "\t<tr><td>Eddard Stark                                                       </td><td>Ned | The Ned | The Quiet Wolf                                     </td></tr>\n",
       "\t<tr><td>Aeron Greyjoy                                                      </td><td>The Damphair | Aeron Damphair                                      </td></tr>\n",
       "</tbody>\n",
       "</table>\n"
      ],
      "text/latex": [
       "\\begin{tabular}{r|ll}\n",
       " name & aliases\\\\\n",
       "\\hline\n",
       "\t Victarion Greyjoy                                                   & The Iron Captain                                                   \\\\\n",
       "\t Davos Seaworth                                                                                              & Onion Knight \\textbar{} Davos Shorthand \\textbar{} Ser Onions \\textbar{} Onion Lord \\textbar{} Smuggler\\\\\n",
       "\t Eddard Stark                                                                            & Ned \\textbar{} The Ned \\textbar{} The Quiet Wolf                                     \\\\\n",
       "\t Aeron Greyjoy                                                                 & The Damphair \\textbar{} Aeron Damphair                                      \\\\\n",
       "\\end{tabular}\n"
      ],
      "text/markdown": [
       "\n",
       "name | aliases | \n",
       "|---|---|---|---|\n",
       "| Victarion Greyjoy                                                   | The Iron Captain                                                    | \n",
       "| Davos Seaworth                                                      | Onion Knight | Davos Shorthand | Ser Onions | Onion Lord | Smuggler | \n",
       "| Eddard Stark                                                        | Ned | The Ned | The Quiet Wolf                                      | \n",
       "| Aeron Greyjoy                                                       | The Damphair | Aeron Damphair                                       | \n",
       "\n",
       "\n"
      ],
      "text/plain": [
       "  name             \n",
       "1 Victarion Greyjoy\n",
       "2 Davos Seaworth   \n",
       "3 Eddard Stark     \n",
       "4 Aeron Greyjoy    \n",
       "  aliases                                                            \n",
       "1 The Iron Captain                                                   \n",
       "2 Onion Knight | Davos Shorthand | Ser Onions | Onion Lord | Smuggler\n",
       "3 Ned | The Ned | The Quiet Wolf                                     \n",
       "4 The Damphair | Aeron Damphair                                      "
      ]
     },
     "metadata": {},
     "output_type": "display_data"
    }
   ],
   "source": [
    "aliases <- set_names(map(got_chars, \"aliases\"), map_chr(got_chars, \"name\"))\n",
    "map_chr(aliases[c(3, 10, 20, 24)], ~ paste(.x, collapse = \" | \")) %>% \n",
    "  tibble::enframe(value = \"aliases\")"
   ]
  },
  {
   "cell_type": "code",
   "execution_count": 11,
   "metadata": {
    "collapsed": false
   },
   "outputs": [
    {
     "data": {
      "text/html": [
       "<table>\n",
       "<thead><tr><th scope=col>name</th><th scope=col>aliases</th></tr></thead>\n",
       "<tbody>\n",
       "\t<tr><td>Victarion Greyjoy                                                  </td><td>The Iron Captain                                                   </td></tr>\n",
       "\t<tr><td>Davos Seaworth                                                     </td><td>Onion Knight | Davos Shorthand | Ser Onions | Onion Lord | Smuggler</td></tr>\n",
       "\t<tr><td>Eddard Stark                                                       </td><td>Ned | The Ned | The Quiet Wolf                                     </td></tr>\n",
       "\t<tr><td>Aeron Greyjoy                                                      </td><td>The Damphair | Aeron Damphair                                      </td></tr>\n",
       "</tbody>\n",
       "</table>\n"
      ],
      "text/latex": [
       "\\begin{tabular}{r|ll}\n",
       " name & aliases\\\\\n",
       "\\hline\n",
       "\t Victarion Greyjoy                                                   & The Iron Captain                                                   \\\\\n",
       "\t Davos Seaworth                                                                                              & Onion Knight \\textbar{} Davos Shorthand \\textbar{} Ser Onions \\textbar{} Onion Lord \\textbar{} Smuggler\\\\\n",
       "\t Eddard Stark                                                                            & Ned \\textbar{} The Ned \\textbar{} The Quiet Wolf                                     \\\\\n",
       "\t Aeron Greyjoy                                                                 & The Damphair \\textbar{} Aeron Damphair                                      \\\\\n",
       "\\end{tabular}\n"
      ],
      "text/markdown": [
       "\n",
       "name | aliases | \n",
       "|---|---|---|---|\n",
       "| Victarion Greyjoy                                                   | The Iron Captain                                                    | \n",
       "| Davos Seaworth                                                      | Onion Knight | Davos Shorthand | Ser Onions | Onion Lord | Smuggler | \n",
       "| Eddard Stark                                                        | Ned | The Ned | The Quiet Wolf                                      | \n",
       "| Aeron Greyjoy                                                       | The Damphair | Aeron Damphair                                       | \n",
       "\n",
       "\n"
      ],
      "text/plain": [
       "  name             \n",
       "1 Victarion Greyjoy\n",
       "2 Davos Seaworth   \n",
       "3 Eddard Stark     \n",
       "4 Aeron Greyjoy    \n",
       "  aliases                                                            \n",
       "1 The Iron Captain                                                   \n",
       "2 Onion Knight | Davos Shorthand | Ser Onions | Onion Lord | Smuggler\n",
       "3 Ned | The Ned | The Quiet Wolf                                     \n",
       "4 The Damphair | Aeron Damphair                                      "
      ]
     },
     "metadata": {},
     "output_type": "display_data"
    }
   ],
   "source": [
    "# the same as above\n",
    "tibble::tibble(\n",
    "  name = map_chr(got_chars, \"name\"),\n",
    "  aliases = got_chars %>% \n",
    "    map(\"aliases\") %>% \n",
    "    map_chr(~ paste(.x, collapse = \" | \"))\n",
    ") %>% \n",
    "  dplyr::slice(c(3, 10, 20, 24))"
   ]
  },
  {
   "cell_type": "markdown",
   "metadata": {},
   "source": [
    "# Parallel map"
   ]
  },
  {
   "cell_type": "markdown",
   "metadata": {},
   "source": [
    "### map2()"
   ]
  },
  {
   "cell_type": "code",
   "execution_count": 12,
   "metadata": {
    "collapsed": true
   },
   "outputs": [],
   "source": [
    "# obtain two inputs\n",
    "nms <- got_chars %>% \n",
    "  map_chr(\"name\")\n",
    "birth <- got_chars %>% \n",
    "  map_chr(\"born\")"
   ]
  },
  {
   "cell_type": "code",
   "execution_count": 13,
   "metadata": {
    "collapsed": false
   },
   "outputs": [
    {
     "data": {
      "text/html": [
       "<ol class=list-inline>\n",
       "\t<li>'Theon Greyjoy was born In 278 AC or 279 AC, at Pyke'</li>\n",
       "\t<li>'Tyrion Lannister was born In 273 AC, at Casterly Rock'</li>\n",
       "\t<li>'Victarion Greyjoy was born In 268 AC or before, at Pyke'</li>\n",
       "\t<li>'Will was born '</li>\n",
       "\t<li>'Areo Hotah was born In 257 AC or before, at Norvos'</li>\n",
       "\t<li>'Chett was born At Hag\\'s Mire'</li>\n",
       "</ol>\n"
      ],
      "text/latex": [
       "\\begin{enumerate*}\n",
       "\\item 'Theon Greyjoy was born In 278 AC or 279 AC, at Pyke'\n",
       "\\item 'Tyrion Lannister was born In 273 AC, at Casterly Rock'\n",
       "\\item 'Victarion Greyjoy was born In 268 AC or before, at Pyke'\n",
       "\\item 'Will was born '\n",
       "\\item 'Areo Hotah was born In 257 AC or before, at Norvos'\n",
       "\\item 'Chett was born At Hag\\textbackslash{}'s Mire'\n",
       "\\end{enumerate*}\n"
      ],
      "text/markdown": [
       "1. 'Theon Greyjoy was born In 278 AC or 279 AC, at Pyke'\n",
       "2. 'Tyrion Lannister was born In 273 AC, at Casterly Rock'\n",
       "3. 'Victarion Greyjoy was born In 268 AC or before, at Pyke'\n",
       "4. 'Will was born '\n",
       "5. 'Areo Hotah was born In 257 AC or before, at Norvos'\n",
       "6. 'Chett was born At Hag\\'s Mire'\n",
       "\n",
       "\n"
      ],
      "text/plain": [
       "[1] \"Theon Greyjoy was born In 278 AC or 279 AC, at Pyke\"    \n",
       "[2] \"Tyrion Lannister was born In 273 AC, at Casterly Rock\"  \n",
       "[3] \"Victarion Greyjoy was born In 268 AC or before, at Pyke\"\n",
       "[4] \"Will was born \"                                         \n",
       "[5] \"Areo Hotah was born In 257 AC or before, at Norvos\"     \n",
       "[6] \"Chett was born At Hag's Mire\"                           "
      ]
     },
     "metadata": {},
     "output_type": "display_data"
    }
   ],
   "source": [
    "my_fun <- function(x, y) paste(x, \"was born\", y)\n",
    "map2_chr(nms, birth, my_fun) %>% head()"
   ]
  },
  {
   "cell_type": "code",
   "execution_count": 14,
   "metadata": {
    "collapsed": false
   },
   "outputs": [
    {
     "data": {
      "text/html": [
       "<ol class=list-inline>\n",
       "\t<li>'Theon Greyjoy was born In 278 AC or 279 AC, at Pyke'</li>\n",
       "\t<li>'Tyrion Lannister was born In 273 AC, at Casterly Rock'</li>\n",
       "\t<li>'Victarion Greyjoy was born In 268 AC or before, at Pyke'</li>\n",
       "\t<li>'Will was born '</li>\n",
       "\t<li>'Areo Hotah was born In 257 AC or before, at Norvos'</li>\n",
       "\t<li>'Chett was born At Hag\\'s Mire'</li>\n",
       "</ol>\n"
      ],
      "text/latex": [
       "\\begin{enumerate*}\n",
       "\\item 'Theon Greyjoy was born In 278 AC or 279 AC, at Pyke'\n",
       "\\item 'Tyrion Lannister was born In 273 AC, at Casterly Rock'\n",
       "\\item 'Victarion Greyjoy was born In 268 AC or before, at Pyke'\n",
       "\\item 'Will was born '\n",
       "\\item 'Areo Hotah was born In 257 AC or before, at Norvos'\n",
       "\\item 'Chett was born At Hag\\textbackslash{}'s Mire'\n",
       "\\end{enumerate*}\n"
      ],
      "text/markdown": [
       "1. 'Theon Greyjoy was born In 278 AC or 279 AC, at Pyke'\n",
       "2. 'Tyrion Lannister was born In 273 AC, at Casterly Rock'\n",
       "3. 'Victarion Greyjoy was born In 268 AC or before, at Pyke'\n",
       "4. 'Will was born '\n",
       "5. 'Areo Hotah was born In 257 AC or before, at Norvos'\n",
       "6. 'Chett was born At Hag\\'s Mire'\n",
       "\n",
       "\n"
      ],
      "text/plain": [
       "[1] \"Theon Greyjoy was born In 278 AC or 279 AC, at Pyke\"    \n",
       "[2] \"Tyrion Lannister was born In 273 AC, at Casterly Rock\"  \n",
       "[3] \"Victarion Greyjoy was born In 268 AC or before, at Pyke\"\n",
       "[4] \"Will was born \"                                         \n",
       "[5] \"Areo Hotah was born In 257 AC or before, at Norvos\"     \n",
       "[6] \"Chett was born At Hag's Mire\"                           "
      ]
     },
     "metadata": {},
     "output_type": "display_data"
    }
   ],
   "source": [
    "map2_chr(nms, birth, function(x, y) paste(x, \"was born\", y)) %>% head()"
   ]
  },
  {
   "cell_type": "code",
   "execution_count": 15,
   "metadata": {
    "collapsed": false
   },
   "outputs": [
    {
     "data": {
      "text/html": [
       "<ol class=list-inline>\n",
       "\t<li>'Theon Greyjoy was born In 278 AC or 279 AC, at Pyke'</li>\n",
       "\t<li>'Tyrion Lannister was born In 273 AC, at Casterly Rock'</li>\n",
       "\t<li>'Victarion Greyjoy was born In 268 AC or before, at Pyke'</li>\n",
       "\t<li>'Will was born '</li>\n",
       "\t<li>'Areo Hotah was born In 257 AC or before, at Norvos'</li>\n",
       "</ol>\n"
      ],
      "text/latex": [
       "\\begin{enumerate*}\n",
       "\\item 'Theon Greyjoy was born In 278 AC or 279 AC, at Pyke'\n",
       "\\item 'Tyrion Lannister was born In 273 AC, at Casterly Rock'\n",
       "\\item 'Victarion Greyjoy was born In 268 AC or before, at Pyke'\n",
       "\\item 'Will was born '\n",
       "\\item 'Areo Hotah was born In 257 AC or before, at Norvos'\n",
       "\\end{enumerate*}\n"
      ],
      "text/markdown": [
       "1. 'Theon Greyjoy was born In 278 AC or 279 AC, at Pyke'\n",
       "2. 'Tyrion Lannister was born In 273 AC, at Casterly Rock'\n",
       "3. 'Victarion Greyjoy was born In 268 AC or before, at Pyke'\n",
       "4. 'Will was born '\n",
       "5. 'Areo Hotah was born In 257 AC or before, at Norvos'\n",
       "\n",
       "\n"
      ],
      "text/plain": [
       "[1] \"Theon Greyjoy was born In 278 AC or 279 AC, at Pyke\"    \n",
       "[2] \"Tyrion Lannister was born In 273 AC, at Casterly Rock\"  \n",
       "[3] \"Victarion Greyjoy was born In 268 AC or before, at Pyke\"\n",
       "[4] \"Will was born \"                                         \n",
       "[5] \"Areo Hotah was born In 257 AC or before, at Norvos\"     "
      ]
     },
     "metadata": {},
     "output_type": "display_data"
    }
   ],
   "source": [
    "map2_chr(nms[1:5], birth[1:5], ~ paste(.x, \"was born\", .y)) %>% tail()"
   ]
  },
  {
   "cell_type": "markdown",
   "metadata": {},
   "source": [
    "### pmap()"
   ]
  },
  {
   "cell_type": "markdown",
   "metadata": {},
   "source": [
    "Two or more vectors or lists in parallel"
   ]
  },
  {
   "cell_type": "code",
   "execution_count": 16,
   "metadata": {
    "collapsed": false
   },
   "outputs": [
    {
     "data": {
      "text/html": [
       "<ol class=list-inline>\n",
       "\t<li>'Aeron Greyjoy has 2 aliases and 1 allegiances'</li>\n",
       "\t<li>'Kevan Lannister has 0 aliases and 1 allegiances'</li>\n",
       "\t<li>'Melisandre has 5 aliases and 0 allegiances'</li>\n",
       "\t<li>'Merrett Frey has 1 aliases and 1 allegiances'</li>\n",
       "\t<li>'Quentyn Martell has 4 aliases and 1 allegiances'</li>\n",
       "\t<li>'Sansa Stark has 3 aliases and 2 allegiances'</li>\n",
       "</ol>\n"
      ],
      "text/latex": [
       "\\begin{enumerate*}\n",
       "\\item 'Aeron Greyjoy has 2 aliases and 1 allegiances'\n",
       "\\item 'Kevan Lannister has 0 aliases and 1 allegiances'\n",
       "\\item 'Melisandre has 5 aliases and 0 allegiances'\n",
       "\\item 'Merrett Frey has 1 aliases and 1 allegiances'\n",
       "\\item 'Quentyn Martell has 4 aliases and 1 allegiances'\n",
       "\\item 'Sansa Stark has 3 aliases and 2 allegiances'\n",
       "\\end{enumerate*}\n"
      ],
      "text/markdown": [
       "1. 'Aeron Greyjoy has 2 aliases and 1 allegiances'\n",
       "2. 'Kevan Lannister has 0 aliases and 1 allegiances'\n",
       "3. 'Melisandre has 5 aliases and 0 allegiances'\n",
       "4. 'Merrett Frey has 1 aliases and 1 allegiances'\n",
       "5. 'Quentyn Martell has 4 aliases and 1 allegiances'\n",
       "6. 'Sansa Stark has 3 aliases and 2 allegiances'\n",
       "\n",
       "\n"
      ],
      "text/plain": [
       "[1] \"Aeron Greyjoy has 2 aliases and 1 allegiances\"  \n",
       "[2] \"Kevan Lannister has 0 aliases and 1 allegiances\"\n",
       "[3] \"Melisandre has 5 aliases and 0 allegiances\"     \n",
       "[4] \"Merrett Frey has 1 aliases and 1 allegiances\"   \n",
       "[5] \"Quentyn Martell has 4 aliases and 1 allegiances\"\n",
       "[6] \"Sansa Stark has 3 aliases and 2 allegiances\"    "
      ]
     },
     "metadata": {},
     "output_type": "display_data"
    }
   ],
   "source": [
    "df <- got_chars %>% {\n",
    "  tibble::tibble(\n",
    "    name = map_chr(., \"name\"),\n",
    "    aliases = map(., \"aliases\"),\n",
    "    allegiances = map(., \"allegiances\")\n",
    "  )\n",
    "}\n",
    "my_fun <- function(name, aliases, allegiances) {\n",
    "  paste(name, \"has\", length(aliases), \"aliases and\",\n",
    "        length(allegiances), \"allegiances\")\n",
    "}\n",
    "df %>% \n",
    "  pmap_chr(my_fun) %>% \n",
    "  tail()"
   ]
  }
 ],
 "metadata": {
  "kernelspec": {
   "display_name": "R",
   "language": "R",
   "name": "ir"
  },
  "language_info": {
   "codemirror_mode": "r",
   "file_extension": ".r",
   "mimetype": "text/x-r-source",
   "name": "R",
   "pygments_lexer": "r",
   "version": "3.4.0"
  }
 },
 "nbformat": 4,
 "nbformat_minor": 2
}

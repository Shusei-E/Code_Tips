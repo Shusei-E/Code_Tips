{
 "cells": [
  {
   "cell_type": "code",
   "execution_count": 1,
   "metadata": {
    "collapsed": true
   },
   "outputs": [],
   "source": [
    "%matplotlib inline"
   ]
  },
  {
   "cell_type": "code",
   "execution_count": 2,
   "metadata": {
    "collapsed": true
   },
   "outputs": [],
   "source": [
    "import numpy as np\n",
    "import pandas as pd\n",
    "import numpy.random as npr\n",
    "import seaborn as sns\n",
    "import matplotlib.pyplot as plt\n",
    "from sklearn.linear_model import LogisticRegression\n",
    "clf = LogisticRegression()\n",
    "import pyper\n",
    "R = pyper.R(use_pandas='True')\n",
    "\n",
    "import matplotlib.pylab as pylab\n",
    "pylab.rcParams['figure.figsize'] = 5.5, 3.5"
   ]
  },
  {
   "cell_type": "markdown",
   "metadata": {},
   "source": [
    "# Create Data"
   ]
  },
  {
   "cell_type": "code",
   "execution_count": 3,
   "metadata": {
    "collapsed": true
   },
   "outputs": [],
   "source": [
    "def sigmoid(x):\n",
    "    return 1 / ( 1 + np.exp(-x))\n",
    "\n",
    "K = 3 # number of coefficients, including the constant"
   ]
  },
  {
   "cell_type": "code",
   "execution_count": 4,
   "metadata": {
    "collapsed": false
   },
   "outputs": [
    {
     "name": "stdout",
     "output_type": "stream",
     "text": [
      "(1500, 3)\n"
     ]
    }
   ],
   "source": [
    "X = np.array(([ [1,  float(np.random.normal(0,2)),float(np.random.normal(0,0.5))] for i in range(1500)  ]))\n",
    "print(X.shape)"
   ]
  },
  {
   "cell_type": "code",
   "execution_count": 5,
   "metadata": {
    "collapsed": false
   },
   "outputs": [
    {
     "name": "stdout",
     "output_type": "stream",
     "text": [
      "(3,)\n",
      "[ 0.5  1.5  2.5]\n"
     ]
    }
   ],
   "source": [
    "beta = np.array([0.5, 1.5, 2.5])\n",
    "print(beta.shape)\n",
    "print(beta)"
   ]
  },
  {
   "cell_type": "code",
   "execution_count": 6,
   "metadata": {
    "collapsed": false
   },
   "outputs": [
    {
     "name": "stdout",
     "output_type": "stream",
     "text": [
      "(1500,)\n",
      "[  2.13799767e-02   2.54343155e-01   9.91391731e-01   6.01207715e-05\n",
      "   9.48227916e-01   9.80358735e-01   9.99328430e-01   9.51665006e-01\n",
      "   2.50712603e-01   8.97558371e-01   2.62692504e-01   7.83225874e-01\n",
      "   7.61404721e-02   3.54418758e-02   9.18721957e-01]\n"
     ]
    }
   ],
   "source": [
    "Xbeta = np.dot(X, beta) # + np.random.logistic(scale=0.15, size=X.shape[0]) # do not forget to add an error term\n",
    "pi = sigmoid(Xbeta)\n",
    "print(pi.shape)\n",
    "print(pi[:15])"
   ]
  },
  {
   "cell_type": "code",
   "execution_count": 7,
   "metadata": {
    "collapsed": false
   },
   "outputs": [
    {
     "name": "stdout",
     "output_type": "stream",
     "text": [
      "(1500,)\n",
      "[0 0 1 0 1]\n"
     ]
    }
   ],
   "source": [
    "Y = np.array([np.random.binomial(1, p=prob) for prob in pi])\n",
    "print(Y.shape)\n",
    "print(Y[:5])"
   ]
  },
  {
   "cell_type": "code",
   "execution_count": 8,
   "metadata": {
    "collapsed": false
   },
   "outputs": [
    {
     "data": {
      "text/plain": [
       "array([ 0.27558849,  1.46320943,  2.4936283 ])"
      ]
     },
     "execution_count": 8,
     "metadata": {},
     "output_type": "execute_result"
    }
   ],
   "source": [
    "# Package result\n",
    "clf.fit(X, Y)\n",
    "clf.coef_[0]"
   ]
  },
  {
   "cell_type": "code",
   "execution_count": 9,
   "metadata": {
    "collapsed": false
   },
   "outputs": [
    {
     "name": "stdout",
     "output_type": "stream",
     "text": [
      "try({summary(glm(Y ~ X2 + X3, data = data, family = \"binomial\"))})\n",
      "\n",
      "Call:\n",
      "glm(formula = Y ~ X2 + X3, family = \"binomial\", data = data)\n",
      "\n",
      "Deviance Residuals: \n",
      "    Min       1Q   Median       3Q      Max  \n",
      "-3.3960  -0.4329   0.1087   0.4773   2.7129  \n",
      "\n",
      "Coefficients:\n",
      "            Estimate Std. Error z value Pr(>|z|)    \n",
      "(Intercept)  0.56022    0.08336   6.721 1.81e-11 ***\n",
      "X2           1.49185    0.07858  18.985  < 2e-16 ***\n",
      "X3           2.60432    0.20140  12.931  < 2e-16 ***\n",
      "---\n",
      "Signif. codes:  0 ‘***’ 0.001 ‘**’ 0.01 ‘*’ 0.05 ‘.’ 0.1 ‘ ’ 1\n",
      "\n",
      "(Dispersion parameter for binomial family taken to be 1)\n",
      "\n",
      "    Null deviance: 2034.15  on 1499  degrees of freedom\n",
      "Residual deviance:  972.66  on 1497  degrees of freedom\n",
      "AIC: 978.66\n",
      "\n",
      "Number of Fisher Scoring iterations: 6\n",
      "\n",
      "\n"
     ]
    }
   ],
   "source": [
    "# Check with R\n",
    "df = pd.concat([pd.DataFrame(Y), pd.DataFrame(X)], axis=1)\n",
    "df.columns = ['Y', 'X1', 'X2', 'X3']\n",
    "R.assign(\"data\",  df)\n",
    "print(R('summary(glm(Y ~ X2 + X3, data = data, family = \"binomial\"))'))"
   ]
  },
  {
   "cell_type": "markdown",
   "metadata": {},
   "source": [
    "# Check Likelihood Function"
   ]
  },
  {
   "cell_type": "markdown",
   "metadata": {},
   "source": [
    "Move only one parameter and check likelihood function."
   ]
  },
  {
   "cell_type": "code",
   "execution_count": 10,
   "metadata": {
    "collapsed": true
   },
   "outputs": [],
   "source": [
    "def loglikelihood(beta, X):\n",
    "    N = X.shape[0]\n",
    "    return (logsigmoid(np.dot(X, beta)) * Y).sum() + (logsigmoid(-np.dot(X, beta)) * (1 - Y)).sum() \n",
    "\n",
    "def logsigmoid(x):\n",
    "    return - np.log(1 + np.exp(-x))"
   ]
  },
  {
   "cell_type": "code",
   "execution_count": 11,
   "metadata": {
    "collapsed": false
   },
   "outputs": [
    {
     "name": "stdout",
     "output_type": "stream",
     "text": [
      "x      0.560000\n",
      "y   -486.556244\n",
      "Name: 56, dtype: float64\n",
      "56\n"
     ]
    },
    {
     "data": {
      "image/png": "[encoded data removed]",
      "text/plain": [
       "<matplotlib.figure.Figure at 0x10fbeef60>"
      ]
     },
     "metadata": {},
     "output_type": "display_data"
    }
   ],
   "source": [
    "valuerange = np.arange(0, 3.5, 0.01)\n",
    "\n",
    "loglikelihood_res = np.array([ loglikelihood( np.array([value, 1.5, 2.5]) , X) for value in valuerange])\n",
    "#loglikelihood_res = np.array([ loglikelihood( np.array([1, value, 2.5]) , X) for value in valuerange])\n",
    "#loglikelihood_res = np.array([ loglikelihood( np.array([1, 1.5, value]) , X) for value in valuerange])\n",
    "#loglikelihood_res = np.array([ loglikelihood( np.array([value]) , X) for value in valuerange])\n",
    "# True np.array([0.5, 1.5, 2.5])    \n",
    "\n",
    "data = pd.DataFrame({\"x\":valuerange, \"y\": loglikelihood_res})\n",
    "sns.pointplot(x=\"x\", y=\"y\", data=data)\n",
    "print(data.ix[data[\"y\"].idxmax(), :])\n",
    "print(data[\"y\"].idxmax())"
   ]
  },
  {
   "cell_type": "markdown",
   "metadata": {},
   "source": [
    "# Metropolis-Hastings"
   ]
  },
  {
   "cell_type": "code",
   "execution_count": 12,
   "metadata": {
    "collapsed": false
   },
   "outputs": [],
   "source": [
    "def proposal(value):\n",
    "    return value + npr.normal(0,0.05)\n",
    "\n",
    "def logsigmoid(x):\n",
    "    return - np.log(1 + np.exp(-x))\n",
    "\n",
    "def loglikelihood(beta, X):\n",
    "    N = X.shape[0]\n",
    "    lik =  (logsigmoid(np.dot(X, beta)) * Y).sum() + (logsigmoid(-np.dot(X, beta)) * (1 - Y)).sum()  + \\\n",
    "                ( -0.5 * np.log(2 * np.pi) - 0.5 * np.log(100) - (0.5/100) * np.power(beta, 2)).sum() # prior N(0,10)\n",
    "    \n",
    "    return lik"
   ]
  },
  {
   "cell_type": "code",
   "execution_count": 13,
   "metadata": {
    "collapsed": false
   },
   "outputs": [
    {
     "data": {
      "text/plain": [
       "0.8248333333333333"
      ]
     },
     "execution_count": 13,
     "metadata": {},
     "output_type": "execute_result"
    }
   ],
   "source": [
    "num_sampling = 2000\n",
    "chain = np.zeros((num_sampling, K))\n",
    "accept = 0\n",
    "\n",
    "for i in range(1, num_sampling):\n",
    "    param_current = chain[i-1][:]\n",
    "    param_new = np.zeros(K)\n",
    "    \n",
    "    for k in range(K):\n",
    "        param_proposal = param_current.copy()\n",
    "        new_value = proposal(param_current[k])\n",
    "        param_proposal[k] = new_value\n",
    "        \n",
    "        diflikelihood = loglikelihood(param_proposal, X) - loglikelihood(param_current, X)\n",
    "        r = min(0, diflikelihood) # np.log(1) = 0\n",
    "        u = np.log(npr.uniform(0,1))\n",
    "        \n",
    "        if u < r:\n",
    "            accept  += 1\n",
    "            param_new[k] = new_value.copy()\n",
    "        else:\n",
    "            param_new[k] = param_current[k].copy()\n",
    "        \n",
    "    chain[i, :] = param_new.copy()\n",
    "    \n",
    "show_num = 500\n",
    "accept / (num_sampling*K)"
   ]
  },
  {
   "cell_type": "code",
   "execution_count": 14,
   "metadata": {
    "collapsed": false
   },
   "outputs": [
    {
     "name": "stdout",
     "output_type": "stream",
     "text": [
      "0.578179069214\n"
     ]
    },
    {
     "data": {
      "image/png": "[encoded data removed]",
      "text/plain": [
       "<matplotlib.figure.Figure at 0x113b48438>"
      ]
     },
     "metadata": {},
     "output_type": "display_data"
    }
   ],
   "source": [
    "# 0.5\n",
    "sns.distplot(chain[show_num: , 0], hist=True, kde=False)\n",
    "#plt.plot([10, 10], [0, 1400], linewidth=2, color='red')\n",
    "print(np.median(chain[show_num: , 0]))"
   ]
  },
  {
   "cell_type": "code",
   "execution_count": 15,
   "metadata": {
    "collapsed": false
   },
   "outputs": [
    {
     "name": "stdout",
     "output_type": "stream",
     "text": [
      "1.4900932374\n"
     ]
    },
    {
     "data": {
      "image/png": "[encoded data removed]",
      "text/plain": [
       "<matplotlib.figure.Figure at 0x113992f98>"
      ]
     },
     "metadata": {},
     "output_type": "display_data"
    }
   ],
   "source": [
    "# 1.5\n",
    "sns.distplot(chain[show_num: , 1], hist=True, kde=False)\n",
    "#plt.plot([10, 10], [0, 1400], linewidth=2, color='red')\n",
    "print(np.median(chain[show_num: , 1]))"
   ]
  },
  {
   "cell_type": "code",
   "execution_count": 16,
   "metadata": {
    "collapsed": false
   },
   "outputs": [
    {
     "name": "stdout",
     "output_type": "stream",
     "text": [
      "2.60461334235\n"
     ]
    },
    {
     "data": {
      "image/png": "[encoded data removed]",
      "text/plain": [
       "<matplotlib.figure.Figure at 0x11420d470>"
      ]
     },
     "metadata": {},
     "output_type": "display_data"
    }
   ],
   "source": [
    "# 2.5\n",
    "sns.distplot(chain[show_num: , 2], hist=True, kde=False)\n",
    "#plt.plot([10, 10], [0, 1400], linewidth=2, color='red')\n",
    "print(np.median(chain[show_num: , 2]))"
   ]
  },
  {
   "cell_type": "markdown",
   "metadata": {},
   "source": [
    "# PRML1"
   ]
  },
  {
   "cell_type": "code",
   "execution_count": 17,
   "metadata": {
    "collapsed": true
   },
   "outputs": [],
   "source": [
    "def BayesianLogisticRegression(X, t, iter_max, alpha):\n",
    "    # From: http://qiita.com/Gordian_knot/items/0c3315dca6f2fa83b544\n",
    "    def _sigmoid(a):\n",
    "        return np.divide(1, 1 + np.exp(-a))\n",
    "    \n",
    "    def predict_proba(X, w):\n",
    "        return _sigmoid(X.dot(w))\n",
    " \n",
    "    w = np.zeros(np.size(X, 1))\n",
    "    for i in range(iter_max):\n",
    "        w = np.copy(w)\n",
    "        y = predict_proba(X, w)\n",
    "        grad = X.T.dot(y - t) + alpha * w\n",
    "        hessian = (X.T.dot(np.diag(y * (1 - y))).dot(X)\n",
    "               + alpha * np.identity(len(w)))\n",
    "        try:\n",
    "            w_new = w - np.linalg.inv(hessian).dot(grad)\n",
    "        except np.linalg.LinAlgError:\n",
    "            break\n",
    "        if np.allclose(w_new, w):\n",
    "            break\n",
    "        if i == iter_max - 1:\n",
    "            print (\"weight parameter w may not have converged\")\n",
    "            \n",
    "        w = w_new\n",
    "\n",
    "    w_var = np.linalg.inv(hessian)\n",
    "\n",
    "    return w"
   ]
  },
  {
   "cell_type": "code",
   "execution_count": 18,
   "metadata": {
    "collapsed": false
   },
   "outputs": [
    {
     "data": {
      "text/plain": [
       "array([ 0.55906642,  1.48876696,  2.5925218 ])"
      ]
     },
     "execution_count": 18,
     "metadata": {},
     "output_type": "execute_result"
    }
   ],
   "source": [
    "BayesianLogisticRegression(X, Y,iter_max=2000, alpha=0.1)"
   ]
  }
 ],
 "metadata": {
  "kernelspec": {
   "display_name": "Python 3",
   "language": "python",
   "name": "python3"
  },
  "language_info": {
   "codemirror_mode": {
    "name": "ipython",
    "version": 3
   },
   "file_extension": ".py",
   "mimetype": "text/x-python",
   "name": "python",
   "nbconvert_exporter": "python",
   "pygments_lexer": "ipython3",
   "version": "3.6.0"
  }
 },
 "nbformat": 4,
 "nbformat_minor": 2
}

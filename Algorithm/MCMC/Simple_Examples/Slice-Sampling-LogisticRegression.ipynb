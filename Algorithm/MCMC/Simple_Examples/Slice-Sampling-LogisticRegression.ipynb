{
 "cells": [
  {
   "cell_type": "code",
   "execution_count": 1,
   "metadata": {
    "collapsed": true
   },
   "outputs": [],
   "source": [
    "%matplotlib inline"
   ]
  },
  {
   "cell_type": "code",
   "execution_count": 2,
   "metadata": {
    "collapsed": true
   },
   "outputs": [],
   "source": [
    "import numpy as np\n",
    "import pandas as pd\n",
    "import numpy.random as npr\n",
    "import seaborn as sns\n",
    "import matplotlib.pyplot as plt\n",
    "from sklearn.linear_model import LogisticRegression\n",
    "clf = LogisticRegression()\n",
    "import pyper\n",
    "R = pyper.R(use_pandas='True')\n",
    "\n",
    "import matplotlib.pylab as pylab\n",
    "pylab.rcParams['figure.figsize'] = 5.5, 3.5"
   ]
  },
  {
   "cell_type": "markdown",
   "metadata": {},
   "source": [
    "# Create Data"
   ]
  },
  {
   "cell_type": "code",
   "execution_count": 3,
   "metadata": {
    "collapsed": true
   },
   "outputs": [],
   "source": [
    "def sigmoid(x):\n",
    "    return 1 / ( 1 + np.exp(-x))\n",
    "\n",
    "K = 3 # number of coefficients, including the constant"
   ]
  },
  {
   "cell_type": "code",
   "execution_count": 4,
   "metadata": {
    "collapsed": false
   },
   "outputs": [
    {
     "name": "stdout",
     "output_type": "stream",
     "text": [
      "(2000, 3)\n"
     ]
    }
   ],
   "source": [
    "X = np.array(([ [1,  float(np.random.normal(0,1)),float(np.random.normal(0,0.5))] for i in range(2000)  ]))\n",
    "print(X.shape)"
   ]
  },
  {
   "cell_type": "code",
   "execution_count": 5,
   "metadata": {
    "collapsed": false
   },
   "outputs": [
    {
     "name": "stdout",
     "output_type": "stream",
     "text": [
      "(3,)\n",
      "[ 0.5  1.5  2.5]\n"
     ]
    }
   ],
   "source": [
    "beta = np.array([0.5, 1.5, 2.5])\n",
    "print(beta.shape)\n",
    "print(beta)"
   ]
  },
  {
   "cell_type": "code",
   "execution_count": 6,
   "metadata": {
    "collapsed": false
   },
   "outputs": [
    {
     "name": "stdout",
     "output_type": "stream",
     "text": [
      "(2000,)\n",
      "[ 0.04988014  0.92429694  0.98030715  0.23569637  0.12818588  0.05581448\n",
      "  0.92416916  0.57318727  0.9020952   0.33947686  0.13526751  0.95144806\n",
      "  0.72807453  0.8915516   0.99312334]\n"
     ]
    }
   ],
   "source": [
    "Xbeta = np.dot(X, beta)  + np.random.logistic(scale=0.15, size=X.shape[0]) # do not forget to add an error term\n",
    "pi = sigmoid(Xbeta)\n",
    "print(pi.shape)\n",
    "print(pi[:15])"
   ]
  },
  {
   "cell_type": "code",
   "execution_count": 7,
   "metadata": {
    "collapsed": false
   },
   "outputs": [
    {
     "name": "stdout",
     "output_type": "stream",
     "text": [
      "(2000,)\n",
      "[0 1 1 1 0]\n"
     ]
    }
   ],
   "source": [
    "Y = np.array([np.random.binomial(1, p=prob) for prob in pi])\n",
    "print(Y.shape)\n",
    "print(Y[:5])"
   ]
  },
  {
   "cell_type": "code",
   "execution_count": 8,
   "metadata": {
    "collapsed": false
   },
   "outputs": [
    {
     "data": {
      "text/plain": [
       "array([ 0.25245289,  1.54133621,  2.43816054])"
      ]
     },
     "execution_count": 8,
     "metadata": {},
     "output_type": "execute_result"
    }
   ],
   "source": [
    "# Package result\n",
    "clf.fit(X, Y)\n",
    "clf.coef_[0]"
   ]
  },
  {
   "cell_type": "markdown",
   "metadata": {},
   "source": [
    "# Unbounded Slice Sampling"
   ]
  },
  {
   "cell_type": "markdown",
   "metadata": {},
   "source": [
    "Reference: http://chasen.org/~daiti-m/diary/?201510"
   ]
  },
  {
   "cell_type": "markdown",
   "metadata": {},
   "source": [
    "変換:\n",
    "$$\n",
    "p = \\frac{1}{\\exp(-Ax)}, \\quad 0 < p < 1\n",
    "$$\n",
    "\n",
    "戻す:\n",
    "$$\n",
    "x = -\\frac{1}{A} \\log \\left(\\frac{1}{p} - 1\\right), \\quad -\\infty < x < \\infty\n",
    "$$\n",
    "\n",
    "ヤコビアン:<br>\n",
    "$dx/dp$より、\n",
    "$$\n",
    "dx = \\frac{1}{A} \\frac{1}{p(1-p)}dp\n",
    "$$"
   ]
  },
  {
   "cell_type": "code",
   "execution_count": 9,
   "metadata": {
    "collapsed": false
   },
   "outputs": [],
   "source": [
    "def logsigmoid(x):\n",
    "    return - np.log(1 + np.exp(-x))\n",
    "\n",
    "def loglikelihood(beta, X):\n",
    "    N = X.shape[0]\n",
    "    lik =  (logsigmoid(np.dot(X, beta)) * Y).sum() + (logsigmoid(-np.dot(X, beta)) * (1 - Y)).sum()  + \\\n",
    "                ( -0.5 * np.log(2 * np.pi) - 0.5 * np.log(100) - (0.5/100) * np.power(beta, 2)).sum() # prior N(0,10)\n",
    "    \n",
    "    return lik\n",
    "\n",
    "def expand(p, A=1):\n",
    "    # p --> x\n",
    "    return -(1/A)  * np.log((1/p) - 1)\n",
    "    \n",
    "def shrink(x, A=1):\n",
    "    # x --> p\n",
    "    return 1 / (1 + np.exp(-A * x) )"
   ]
  },
  {
   "cell_type": "code",
   "execution_count": 10,
   "metadata": {
    "collapsed": false
   },
   "outputs": [],
   "source": [
    "num_sampling = 1500\n",
    "max_shrink_time = 1000\n",
    "A = 1\n",
    "chain = np.zeros((num_sampling, K))\n",
    "\n",
    "for i in range(1, num_sampling):\n",
    "    param_proposal = chain[i-1].copy()\n",
    "    param_new = np.zeros(K)\n",
    "    \n",
    "    for k in range(K):\n",
    "        start = 0\n",
    "        end = 1\n",
    "\n",
    "        previous_p = shrink( param_proposal[k], A )\n",
    "        slice_ = loglikelihood( param_proposal, X) - np.log( A * previous_p * (1 -  previous_p) ) + np.log(np.random.uniform())\n",
    "            # f(x), -\\infity < x < \\infty を、 0<p<1の範囲に変換しているので、ヤコビアンを忘れないこと\n",
    "            # np.log( A * previous_p * (1 -  previous_p) )の箇所がそれ\n",
    "            \n",
    "        for shrink_time in range(max_shrink_time):\n",
    "            new_p = np.random.uniform(start, end)\n",
    "            param_proposal[k] = expand(new_p, A)\n",
    "            \n",
    "            newlikelihood = loglikelihood(param_proposal, X) - np.log( A * new_p * (1 -  new_p) )\n",
    "            \n",
    "            if  slice_ < newlikelihood :\n",
    "                break\n",
    "            # shrink bound (maybe)\n",
    "            elif previous_p < new_p:\n",
    "                end = new_p\n",
    "            elif new_p < previous_p:\n",
    "                start = new_p\n",
    "            else:\n",
    "                break\n",
    "                \n",
    "    chain[i, :] = param_proposal.copy()"
   ]
  },
  {
   "cell_type": "code",
   "execution_count": 11,
   "metadata": {
    "collapsed": true
   },
   "outputs": [],
   "source": [
    "show_num = 700"
   ]
  },
  {
   "cell_type": "code",
   "execution_count": 12,
   "metadata": {
    "collapsed": false
   },
   "outputs": [
    {
     "name": "stdout",
     "output_type": "stream",
     "text": [
      "0.512194289405\n"
     ]
    },
    {
     "data": {
      "image/png": "[encoded data removed]",
      "text/plain": [
       "<matplotlib.figure.Figure at 0x10db0a128>"
      ]
     },
     "metadata": {},
     "output_type": "display_data"
    }
   ],
   "source": [
    "# 0.5\n",
    "sns.distplot(chain[show_num: , 0], hist=True, kde=False)\n",
    "#plt.plot([10, 10], [0, 1400], linewidth=2, color='red')\n",
    "print(np.median(chain[show_num: , 0]))"
   ]
  },
  {
   "cell_type": "code",
   "execution_count": 13,
   "metadata": {
    "collapsed": false
   },
   "outputs": [
    {
     "name": "stdout",
     "output_type": "stream",
     "text": [
      "1.57031569638\n"
     ]
    },
    {
     "data": {
      "image/png": "[encoded data removed]",
      "text/plain": [
       "<matplotlib.figure.Figure at 0x10dbcd5f8>"
      ]
     },
     "metadata": {},
     "output_type": "display_data"
    }
   ],
   "source": [
    "# 1.5\n",
    "sns.distplot(chain[show_num: , 1], hist=True, kde=False)\n",
    "#plt.plot([10, 10], [0, 1400], linewidth=2, color='red')\n",
    "print(np.median(chain[show_num: , 1]))"
   ]
  },
  {
   "cell_type": "code",
   "execution_count": 14,
   "metadata": {
    "collapsed": false
   },
   "outputs": [
    {
     "name": "stdout",
     "output_type": "stream",
     "text": [
      "2.49437382302\n"
     ]
    },
    {
     "data": {
      "image/png": "[encoded data removed]",
      "text/plain": [
       "<matplotlib.figure.Figure at 0x10dcbd5c0>"
      ]
     },
     "metadata": {},
     "output_type": "display_data"
    }
   ],
   "source": [
    "# 2.5\n",
    "sns.distplot(chain[show_num: , 2], hist=True, kde=False)\n",
    "#plt.plot([10, 10], [0, 1400], linewidth=2, color='red')\n",
    "print(np.median(chain[show_num: , 2]))"
   ]
  }
 ],
 "metadata": {
  "kernelspec": {
   "display_name": "Python 3",
   "language": "python",
   "name": "python3"
  },
  "language_info": {
   "codemirror_mode": {
    "name": "ipython",
    "version": 3
   },
   "file_extension": ".py",
   "mimetype": "text/x-python",
   "name": "python",
   "nbconvert_exporter": "python",
   "pygments_lexer": "ipython3",
   "version": "3.4.3"
  },
  "nav_menu": {},
  "toc": {
   "navigate_menu": true,
   "number_sections": false,
   "sideBar": false,
   "threshold": 6,
   "toc_cell": true,
   "toc_section_display": "block",
   "toc_window_display": false
  }
 },
 "nbformat": 4,
 "nbformat_minor": 2
}

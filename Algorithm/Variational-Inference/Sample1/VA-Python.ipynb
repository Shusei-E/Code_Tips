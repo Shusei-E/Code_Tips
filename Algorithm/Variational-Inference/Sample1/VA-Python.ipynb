{
 "cells": [
  {
   "cell_type": "markdown",
   "metadata": {
    "toc": "true"
   },
   "source": [
    "# Table of Contents\n",
    " <p>"
   ]
  },
  {
   "cell_type": "code",
   "execution_count": 1,
   "metadata": {
    "collapsed": true
   },
   "outputs": [],
   "source": [
    "%matplotlib inline"
   ]
  },
  {
   "cell_type": "code",
   "execution_count": 2,
   "metadata": {
    "collapsed": true
   },
   "outputs": [],
   "source": [
    "import os\n",
    "import numpy as np\n",
    "from pylab import *\n",
    "import matplotlib.mlab as mlab"
   ]
  },
  {
   "cell_type": "code",
   "execution_count": 3,
   "metadata": {
    "collapsed": false
   },
   "outputs": [],
   "source": [
    "def calc_KL(mu1, lambda1, mu2, lambda2):\n",
    "    D  = size(mu_h, 1)\n",
    "    try:\n",
    "        KL = (1/2) * (  (  log(np.linalg.det(lambda2)) -  log(np.linalg.det(lambda1)) )   +\\\n",
    "                 np.trace(inv(lambda2) * lambda1) +\\\n",
    "            (mu1-mu2) * inv(lambda2) * (mu1-mu2).T - D )\n",
    "    except:\n",
    "        KL = float(\"nan\")\n",
    "    return KL[0,0]"
   ]
  },
  {
   "cell_type": "code",
   "execution_count": 4,
   "metadata": {
    "collapsed": false
   },
   "outputs": [],
   "source": [
    "# Crerate truth distribution\n",
    "D = 2 # dimension\n",
    "theta = 2.0*pi/12\n",
    "A = matrix(reshape(array([cos(theta), sin(theta), -sin(theta), cos(theta)]), (2,2)))\n",
    "mu = matrix(array([0.0, 0.0]))\n",
    "lambda_ = matrix(inv(A * inv(reshape(array([1,0,0,10]), (2,2))) * A.transpose()))\n",
    "\n",
    "# initialize\n",
    "mu_h = matrix(np.random.rand(2))\n",
    "lambda_h  = matrix(np.zeros([D,D]))\n",
    "\n",
    "# iteration\n",
    "max_iter = 16\n",
    "KL = []\n",
    "\n",
    "for i in range(max_iter):\n",
    "    ## update\n",
    "    mu_h[0,0] = mu[0,0] - 1 / lambda_[0,0] * lambda_[0,1] * (mu_h[0,1] - mu[0,1])\n",
    "    lambda_h[0,0] = lambda_[0,0]\n",
    "    mu_h[0,1] = mu[0,1] - 1 / lambda_[1,1] * lambda_[0,1] * (mu_h[0,0] - mu[0,0])\n",
    "    lambda_h[1,1] = lambda_[1,1]\n",
    "    \n",
    "    KL.append(calc_KL(mu_h, lambda_h, mu, lambda_))"
   ]
  },
  {
   "cell_type": "code",
   "execution_count": 5,
   "metadata": {
    "collapsed": false,
    "scrolled": true
   },
   "outputs": [
    {
     "data": {
      "text/plain": [
       "[<matplotlib.lines.Line2D at 0x10ca692e8>]"
      ]
     },
     "execution_count": 5,
     "metadata": {},
     "output_type": "execute_result"
    },
    {
     "data": {
      "image/png": "[encoded data removed]",
      "text/plain": [
       "<matplotlib.figure.Figure at 0x109fe08d0>"
      ]
     },
     "metadata": {},
     "output_type": "display_data"
    }
   ],
   "source": [
    "plt.plot(np.arange(1,max_iter+1,1), KL)"
   ]
  }
 ],
 "metadata": {
  "kernelspec": {
   "display_name": "Python 3",
   "language": "python",
   "name": "python3"
  },
  "language_info": {
   "codemirror_mode": {
    "name": "ipython",
    "version": 3
   },
   "file_extension": ".py",
   "mimetype": "text/x-python",
   "name": "python",
   "nbconvert_exporter": "python",
   "pygments_lexer": "ipython3",
   "version": "3.4.4"
  },
  "nav_menu": {},
  "toc": {
   "navigate_menu": true,
   "number_sections": false,
   "sideBar": false,
   "threshold": 6,
   "toc_cell": true,
   "toc_section_display": "block",
   "toc_window_display": false
  }
 },
 "nbformat": 4,
 "nbformat_minor": 0
}

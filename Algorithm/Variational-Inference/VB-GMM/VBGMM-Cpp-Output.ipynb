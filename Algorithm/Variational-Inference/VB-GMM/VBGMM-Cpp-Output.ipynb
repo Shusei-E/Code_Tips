{
 "cells": [
  {
   "cell_type": "markdown",
   "metadata": {
    "toc": "true"
   },
   "source": [
    "# Table of Contents\n",
    " <p>"
   ]
  },
  {
   "cell_type": "code",
   "execution_count": 1,
   "metadata": {
    "collapsed": true
   },
   "outputs": [],
   "source": [
    "%matplotlib inline"
   ]
  },
  {
   "cell_type": "code",
   "execution_count": 2,
   "metadata": {
    "collapsed": true
   },
   "outputs": [],
   "source": [
    "import os\n",
    "import matplotlib.pyplot as plt\n",
    "import pandas as pd"
   ]
  },
  {
   "cell_type": "code",
   "execution_count": 3,
   "metadata": {
    "collapsed": true
   },
   "outputs": [],
   "source": [
    "os.chdir(\"/home/3928941380/Desktop/Files/C_Practice/\")"
   ]
  },
  {
   "cell_type": "code",
   "execution_count": 4,
   "metadata": {
    "collapsed": true
   },
   "outputs": [],
   "source": [
    "res = pd.read_csv(\"VBGMM-output.txt\")"
   ]
  },
  {
   "cell_type": "code",
   "execution_count": 5,
   "metadata": {
    "collapsed": false
   },
   "outputs": [
    {
     "data": {
      "text/html": [
       "<div>\n",
       "<table border=\"1\" class=\"dataframe\">\n",
       "  <thead>\n",
       "    <tr style=\"text-align: right;\">\n",
       "      <th></th>\n",
       "      <th>parameter</th>\n",
       "      <th>class</th>\n",
       "      <th>value1</th>\n",
       "      <th>value2</th>\n",
       "    </tr>\n",
       "  </thead>\n",
       "  <tbody>\n",
       "    <tr>\n",
       "      <th>1</th>\n",
       "      <td>alpha</td>\n",
       "      <td>0</td>\n",
       "      <td>0.367643</td>\n",
       "      <td>NaN</td>\n",
       "    </tr>\n",
       "    <tr>\n",
       "      <th>4</th>\n",
       "      <td>alpha</td>\n",
       "      <td>1</td>\n",
       "      <td>0.000004</td>\n",
       "      <td>NaN</td>\n",
       "    </tr>\n",
       "    <tr>\n",
       "      <th>7</th>\n",
       "      <td>alpha</td>\n",
       "      <td>2</td>\n",
       "      <td>0.632343</td>\n",
       "      <td>NaN</td>\n",
       "    </tr>\n",
       "    <tr>\n",
       "      <th>10</th>\n",
       "      <td>alpha</td>\n",
       "      <td>3</td>\n",
       "      <td>0.000004</td>\n",
       "      <td>NaN</td>\n",
       "    </tr>\n",
       "    <tr>\n",
       "      <th>13</th>\n",
       "      <td>alpha</td>\n",
       "      <td>4</td>\n",
       "      <td>0.000004</td>\n",
       "      <td>NaN</td>\n",
       "    </tr>\n",
       "    <tr>\n",
       "      <th>16</th>\n",
       "      <td>alpha</td>\n",
       "      <td>5</td>\n",
       "      <td>0.000004</td>\n",
       "      <td>NaN</td>\n",
       "    </tr>\n",
       "  </tbody>\n",
       "</table>\n",
       "</div>"
      ],
      "text/plain": [
       "   parameter  class    value1  value2\n",
       "1      alpha      0  0.367643     NaN\n",
       "4      alpha      1  0.000004     NaN\n",
       "7      alpha      2  0.632343     NaN\n",
       "10     alpha      3  0.000004     NaN\n",
       "13     alpha      4  0.000004     NaN\n",
       "16     alpha      5  0.000004     NaN"
      ]
     },
     "execution_count": 5,
     "metadata": {},
     "output_type": "execute_result"
    }
   ],
   "source": [
    "res[res[\"parameter\"]==\"alpha\"] # 混合係数の期待値"
   ]
  },
  {
   "cell_type": "code",
   "execution_count": 6,
   "metadata": {
    "collapsed": false
   },
   "outputs": [
    {
     "data": {
      "text/html": [
       "<div>\n",
       "<table border=\"1\" class=\"dataframe\">\n",
       "  <thead>\n",
       "    <tr style=\"text-align: right;\">\n",
       "      <th></th>\n",
       "      <th>parameter</th>\n",
       "      <th>class</th>\n",
       "      <th>value1</th>\n",
       "      <th>value2</th>\n",
       "    </tr>\n",
       "  </thead>\n",
       "  <tbody>\n",
       "    <tr>\n",
       "      <th>2</th>\n",
       "      <td>nk</td>\n",
       "      <td>0</td>\n",
       "      <td>1.000000e+02</td>\n",
       "      <td>NaN</td>\n",
       "    </tr>\n",
       "    <tr>\n",
       "      <th>5</th>\n",
       "      <td>nk</td>\n",
       "      <td>1</td>\n",
       "      <td>2.720000e-08</td>\n",
       "      <td>NaN</td>\n",
       "    </tr>\n",
       "    <tr>\n",
       "      <th>8</th>\n",
       "      <td>nk</td>\n",
       "      <td>2</td>\n",
       "      <td>1.720000e+02</td>\n",
       "      <td>NaN</td>\n",
       "    </tr>\n",
       "    <tr>\n",
       "      <th>11</th>\n",
       "      <td>nk</td>\n",
       "      <td>3</td>\n",
       "      <td>2.720000e-08</td>\n",
       "      <td>NaN</td>\n",
       "    </tr>\n",
       "    <tr>\n",
       "      <th>14</th>\n",
       "      <td>nk</td>\n",
       "      <td>4</td>\n",
       "      <td>2.720000e-08</td>\n",
       "      <td>NaN</td>\n",
       "    </tr>\n",
       "    <tr>\n",
       "      <th>17</th>\n",
       "      <td>nk</td>\n",
       "      <td>5</td>\n",
       "      <td>2.720000e-08</td>\n",
       "      <td>NaN</td>\n",
       "    </tr>\n",
       "  </tbody>\n",
       "</table>\n",
       "</div>"
      ],
      "text/plain": [
       "   parameter  class        value1  value2\n",
       "2         nk      0  1.000000e+02     NaN\n",
       "5         nk      1  2.720000e-08     NaN\n",
       "8         nk      2  1.720000e+02     NaN\n",
       "11        nk      3  2.720000e-08     NaN\n",
       "14        nk      4  2.720000e-08     NaN\n",
       "17        nk      5  2.720000e-08     NaN"
      ]
     },
     "execution_count": 6,
     "metadata": {},
     "output_type": "execute_result"
    }
   ],
   "source": [
    "res[res[\"parameter\"]==\"nk\"]"
   ]
  },
  {
   "cell_type": "code",
   "execution_count": 7,
   "metadata": {
    "collapsed": false
   },
   "outputs": [
    {
     "data": {
      "text/html": [
       "<div>\n",
       "<table border=\"1\" class=\"dataframe\">\n",
       "  <thead>\n",
       "    <tr style=\"text-align: right;\">\n",
       "      <th></th>\n",
       "      <th>parameter</th>\n",
       "      <th>class</th>\n",
       "      <th>value1</th>\n",
       "      <th>value2</th>\n",
       "    </tr>\n",
       "  </thead>\n",
       "  <tbody>\n",
       "    <tr>\n",
       "      <th>0</th>\n",
       "      <td>mu</td>\n",
       "      <td>0</td>\n",
       "      <td>2.094330</td>\n",
       "      <td>54.749400</td>\n",
       "    </tr>\n",
       "    <tr>\n",
       "      <th>3</th>\n",
       "      <td>mu</td>\n",
       "      <td>1</td>\n",
       "      <td>-0.044942</td>\n",
       "      <td>-0.032303</td>\n",
       "    </tr>\n",
       "    <tr>\n",
       "      <th>6</th>\n",
       "      <td>mu</td>\n",
       "      <td>2</td>\n",
       "      <td>4.297840</td>\n",
       "      <td>80.284400</td>\n",
       "    </tr>\n",
       "    <tr>\n",
       "      <th>9</th>\n",
       "      <td>mu</td>\n",
       "      <td>3</td>\n",
       "      <td>-0.157547</td>\n",
       "      <td>-0.051150</td>\n",
       "    </tr>\n",
       "    <tr>\n",
       "      <th>12</th>\n",
       "      <td>mu</td>\n",
       "      <td>4</td>\n",
       "      <td>-0.065886</td>\n",
       "      <td>-0.119658</td>\n",
       "    </tr>\n",
       "    <tr>\n",
       "      <th>15</th>\n",
       "      <td>mu</td>\n",
       "      <td>5</td>\n",
       "      <td>0.033682</td>\n",
       "      <td>-0.342094</td>\n",
       "    </tr>\n",
       "  </tbody>\n",
       "</table>\n",
       "</div>"
      ],
      "text/plain": [
       "   parameter  class    value1     value2\n",
       "0         mu      0  2.094330  54.749400\n",
       "3         mu      1 -0.044942  -0.032303\n",
       "6         mu      2  4.297840  80.284400\n",
       "9         mu      3 -0.157547  -0.051150\n",
       "12        mu      4 -0.065886  -0.119658\n",
       "15        mu      5  0.033682  -0.342094"
      ]
     },
     "execution_count": 7,
     "metadata": {},
     "output_type": "execute_result"
    }
   ],
   "source": [
    "res[res[\"parameter\"]==\"mu\"]"
   ]
  },
  {
   "cell_type": "code",
   "execution_count": 8,
   "metadata": {
    "collapsed": false,
    "scrolled": false
   },
   "outputs": [],
   "source": [
    "# select use class\n",
    "use_class = list(res[res[\"parameter\"]==\"alpha\"].ix[list(res.ix[res[\"parameter\"]==\"alpha\", \"value1\"] > 0.1), \"class\"])"
   ]
  },
  {
   "cell_type": "code",
   "execution_count": 9,
   "metadata": {
    "collapsed": false
   },
   "outputs": [
    {
     "data": {
      "image/png": "[encoded data removed]",
      "text/plain": [
       "<matplotlib.figure.Figure at 0x10ae9f710>"
      ]
     },
     "metadata": {},
     "output_type": "display_data"
    }
   ],
   "source": [
    "# Plot of mu_k\n",
    "\n",
    "fp = open(\"faithful.txt\")\n",
    "data_x = []\n",
    "data_y = []\n",
    "for row in fp:\n",
    "    data_x.append(float((row.split()[0])))\n",
    "    data_y.append(float((row.split()[1])))\n",
    "fp.close()\n",
    "plt.plot(data_x, data_y, \"wo\", markersize=5)\n",
    "\n",
    "for i in use_class:\n",
    "    x1 = res.ix[(res[\"parameter\"]==\"mu\")&(res[\"class\"] == i), \"value1\"]\n",
    "    x2 = res.ix[(res[\"parameter\"]==\"mu\")&(res[\"class\"] == i), \"value2\"]\n",
    "    \n",
    "    plt.plot(x1, x2, \"*\", markersize=12, color=\"b\")"
   ]
  },
  {
   "cell_type": "code",
   "execution_count": 10,
   "metadata": {
    "collapsed": true
   },
   "outputs": [],
   "source": [
    "use_class = [0,1,2,3,4,5]"
   ]
  },
  {
   "cell_type": "code",
   "execution_count": 11,
   "metadata": {
    "collapsed": false
   },
   "outputs": [
    {
     "data": {
      "image/png": "[encoded data removed]",
      "text/plain": [
       "<matplotlib.figure.Figure at 0x10ae9f7f0>"
      ]
     },
     "metadata": {},
     "output_type": "display_data"
    }
   ],
   "source": [
    "# Plot of mu_k\n",
    "\n",
    "fp = open(\"faithful.txt\")\n",
    "data_x = []\n",
    "data_y = []\n",
    "for row in fp:\n",
    "    data_x.append(float((row.split()[0])))\n",
    "    data_y.append(float((row.split()[1])))\n",
    "fp.close()\n",
    "plt.plot(data_x, data_y, \"wo\", markersize=5)\n",
    "\n",
    "for i in use_class:\n",
    "    x1 = res.ix[(res[\"parameter\"]==\"mu\")&(res[\"class\"] == i), \"value1\"]\n",
    "    x2 = res.ix[(res[\"parameter\"]==\"mu\")&(res[\"class\"] == i), \"value2\"]\n",
    "    \n",
    "    plt.plot(x1, x2, \"*\", markersize=12, color=\"b\")"
   ]
  }
 ],
 "metadata": {
  "kernelspec": {
   "display_name": "Python 3",
   "language": "python",
   "name": "python3"
  },
  "language_info": {
   "codemirror_mode": {
    "name": "ipython",
    "version": 3
   },
   "file_extension": ".py",
   "mimetype": "text/x-python",
   "name": "python",
   "nbconvert_exporter": "python",
   "pygments_lexer": "ipython3",
   "version": "3.4.4"
  },
  "nav_menu": {},
  "toc": {
   "navigate_menu": true,
   "number_sections": false,
   "sideBar": false,
   "threshold": 6,
   "toc_cell": true,
   "toc_section_display": "block",
   "toc_window_display": false
  }
 },
 "nbformat": 4,
 "nbformat_minor": 0
}

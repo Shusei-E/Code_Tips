{
 "cells": [
  {
   "cell_type": "markdown",
   "metadata": {},
   "source": [
    "Reference: http://d.hatena.ne.jp/chrofieyue/20111202/1322832021"
   ]
  },
  {
   "cell_type": "code",
   "execution_count": 1,
   "metadata": {
    "collapsed": false
   },
   "outputs": [],
   "source": [
    "import os\n",
    "import numpy as np\n",
    "from scipy import arange, array, exp, eye, float64, log, maximum, ones, outer, pi, rand, zeros\n",
    "from scipy.linalg import det, inv\n",
    "from scipy.misc import logsumexp\n",
    "from scipy.special import digamma"
   ]
  },
  {
   "cell_type": "code",
   "execution_count": 2,
   "metadata": {
    "collapsed": true
   },
   "outputs": [],
   "source": [
    "%matplotlib inline"
   ]
  },
  {
   "cell_type": "code",
   "execution_count": 3,
   "metadata": {
    "collapsed": true
   },
   "outputs": [],
   "source": [
    "import matplotlib.pyplot as plt\n",
    "import matplotlib.mlab as mlab"
   ]
  },
  {
   "cell_type": "markdown",
   "metadata": {},
   "source": [
    "# Read Data"
   ]
  },
  {
   "cell_type": "code",
   "execution_count": 4,
   "metadata": {
    "collapsed": false
   },
   "outputs": [
    {
     "data": {
      "text/plain": [
       "matrix([[  3.6  ,  79.   ],\n",
       "        [  1.8  ,  54.   ],\n",
       "        [  3.333,  74.   ]])"
      ]
     },
     "execution_count": 4,
     "metadata": {},
     "output_type": "execute_result"
    }
   ],
   "source": [
    "# read data\n",
    "os.chdir(r\"C:\\Users\\Shusei\\Downloads\")\n",
    "data = np.genfromtxt(\"faithful.txt\")\n",
    "x = np.matrix(data[:, 0:2])\n",
    "num, ndim = x.shape\n",
    "\n",
    "x[:3] # show example"
   ]
  },
  {
   "cell_type": "markdown",
   "metadata": {},
   "source": [
    "# Initialization"
   ]
  },
  {
   "cell_type": "code",
   "execution_count": 5,
   "metadata": {
    "collapsed": true
   },
   "outputs": [],
   "source": [
    "## initial value (Do we need it?)\n",
    "num_class = 6; num_iter = 50; alpha0 = None; beta0 = None\n",
    "m0 = None; W0 = None; nu0 = None"
   ]
  },
  {
   "cell_type": "code",
   "execution_count": 6,
   "metadata": {
    "collapsed": true
   },
   "outputs": [],
   "source": [
    "# Initialize Hyperparameters\n",
    "alpha0 = np.matrix(ones(num_class) * 1e-3)\n",
    "beta0 = 1e-3\n",
    "m0 = np.matrix(zeros(ndim))\n",
    "W0 = np.matrix(eye(2))\n",
    "nu0 = 1\n",
    "inv_W0 = np.matrix(inv(W0))"
   ]
  },
  {
   "cell_type": "code",
   "execution_count": 7,
   "metadata": {
    "collapsed": true
   },
   "outputs": [],
   "source": [
    "# Initialize Responsibility (VB-E Step)\n",
    "r_nk = rand(num, num_class)\n",
    "r_nk /= r_nk.sum(1)[:, None]"
   ]
  },
  {
   "cell_type": "code",
   "execution_count": 8,
   "metadata": {
    "collapsed": false
   },
   "outputs": [
    {
     "data": {
      "text/plain": [
       "(272, 6)"
      ]
     },
     "execution_count": 8,
     "metadata": {},
     "output_type": "execute_result"
    }
   ],
   "source": [
    "# 上の操作によってr_nkの行ごとに正規化しているみたい\n",
    "r_nk.shape"
   ]
  },
  {
   "cell_type": "markdown",
   "metadata": {},
   "source": [
    "# VB-E-Step"
   ]
  },
  {
   "cell_type": "markdown",
   "metadata": {},
   "source": [
    "## Dirichlet"
   ]
  },
  {
   "cell_type": "code",
   "execution_count": 9,
   "metadata": {
    "collapsed": true
   },
   "outputs": [],
   "source": [
    "# Expectation of Dirichlet\n",
    "def expect_pi(alpha):\n",
    "    return alpha / alpha.sum()"
   ]
  },
  {
   "cell_type": "code",
   "execution_count": 10,
   "metadata": {
    "collapsed": true
   },
   "outputs": [],
   "source": [
    "def expect_lpi(alpha):\n",
    "    return digamma(alpha) - digamma(alpha.sum())"
   ]
  },
  {
   "cell_type": "markdown",
   "metadata": {},
   "source": [
    "## Wishart"
   ]
  },
  {
   "cell_type": "markdown",
   "metadata": {},
   "source": [
    "### slightly modified"
   ]
  },
  {
   "cell_type": "code",
   "execution_count": 11,
   "metadata": {
    "collapsed": true
   },
   "outputs": [],
   "source": [
    "def expect_llambda(W, nu):\n",
    "    ndim = W.shape[0]\n",
    "    arr = 0\n",
    "    for index in range(ndim):\n",
    "        i = index+1\n",
    "        arr = digamma((nu + 1 - i)/2)\n",
    "    \n",
    "    return arr + ndim * log(2) + log(det(W))"
   ]
  },
  {
   "cell_type": "code",
   "execution_count": 12,
   "metadata": {
    "collapsed": false
   },
   "outputs": [],
   "source": [
    "def expect_lambda(W, nu):\n",
    "    return W * nu"
   ]
  },
  {
   "cell_type": "markdown",
   "metadata": {},
   "source": [
    "## Normal"
   ]
  },
  {
   "cell_type": "markdown",
   "metadata": {},
   "source": [
    "#### [Caution] original modified"
   ]
  },
  {
   "cell_type": "code",
   "execution_count": 13,
   "metadata": {
    "collapsed": true
   },
   "outputs": [],
   "source": [
    "def expect_quad(x, m, beta, W, nu):\n",
    "    ndim = x.shape[1]\n",
    "    #return ndim / beta + nu * quad(W, x - m[None, :]) # original\n",
    "    \n",
    "    # m, W, beta, nuとかに来ているのは、mk[k]みたいなものなので注意\n",
    "    temp = []\n",
    "    for xrow in range(x.shape[0]):\n",
    "        temp.append(ndim / beta + nu * (np.matrix((x[xrow] - m)[:, np.newaxis]) * np.matrix(W) * np.matrix((x[xrow] - m)[:, np.newaxis].transpose()))[0,0])\n",
    "    return np.array(temp)"
   ]
  },
  {
   "cell_type": "code",
   "execution_count": 14,
   "metadata": {
    "collapsed": true
   },
   "outputs": [],
   "source": [
    "def expect_log(x, m, beta, W, nu): # log rhoの式かな Eq.(10.46)\n",
    "    ndim = x.shape[1]\n",
    "\n",
    "    ex_llambda = expect_llambda(W, nu)\n",
    "    ex_quad = expect_quad(x, m, beta, W, nu)\n",
    "    return (ex_llambda - ndim * log(2*pi) - ex_quad) / 2"
   ]
  },
  {
   "cell_type": "markdown",
   "metadata": {},
   "source": [
    "## Normalization of Responsibility"
   ]
  },
  {
   "cell_type": "code",
   "execution_count": 15,
   "metadata": {
    "collapsed": true
   },
   "outputs": [],
   "source": [
    "def normalize_response(lrho):\n",
    "    num, num_class = lrho.shape\n",
    "    ret = zeros([num, num_class], dtype = float64)\n",
    "\n",
    "    for i in range(num):\n",
    "        lr = lrho[i] - logsumexp(lrho[i])\n",
    "        ret[i] = exp(lr)\n",
    "\n",
    "    ret = maximum(ret, 1e-10) # ゼロよけ\n",
    "    ret /= ret.sum(1)[:, None]\n",
    "    return ret"
   ]
  },
  {
   "cell_type": "markdown",
   "metadata": {},
   "source": [
    "# VB-M-Step"
   ]
  },
  {
   "cell_type": "markdown",
   "metadata": {},
   "source": [
    "#### アンチョコ p.94下の式"
   ]
  },
  {
   "cell_type": "code",
   "execution_count": 16,
   "metadata": {
    "collapsed": true
   },
   "outputs": [],
   "source": [
    "def calc_xbar(x, r_nk):\n",
    "    num, ndim = x.shape\n",
    "    num, num_class = r_nk.shape\n",
    "    ret = zeros([num_class, ndim], dtype = float64)\n",
    "\n",
    "    for k in range(num_class):\n",
    "        clres = r_nk[:, k]\n",
    "        for i in range(ndim):\n",
    "            ret[k, i] = (clres * x[:, i]).sum()\n",
    "        ret[k, :] /= clres.sum()\n",
    "\n",
    "    return ret"
   ]
  },
  {
   "cell_type": "code",
   "execution_count": 17,
   "metadata": {
    "collapsed": true
   },
   "outputs": [],
   "source": [
    "def calc_S(x, xbar, r_nk): # this part is slightly modified\n",
    "    num, ndim = x.shape\n",
    "    num, num_class = r_nk.shape\n",
    "    ret = zeros([num_class, ndim, ndim], dtype = float64)\n",
    "\n",
    "    for k in range(num_class):\n",
    "        clres = r_nk[:, k]\n",
    "        temp = 0\n",
    "        for i in range(ndim):\n",
    "            diff_i = x[:, i] - xbar[k, i]\n",
    "            temp = temp + clres[i] * ((diff_i) * diff_i.transpose()) \n",
    "        ret[k] = temp.sum() / clres.sum()\n",
    "        \n",
    "    return ret"
   ]
  },
  {
   "cell_type": "markdown",
   "metadata": {},
   "source": [
    "#### アンチョコ p.95一番下のブロックの式の途中、平均"
   ]
  },
  {
   "cell_type": "code",
   "execution_count": 18,
   "metadata": {
    "collapsed": true
   },
   "outputs": [],
   "source": [
    "def calc_m(xbar, Nk, m0, beta0, beta):\n",
    "    num_class, ndim = xbar.shape\n",
    "    ret = zeros([num_class, ndim], dtype = float64)\n",
    "\n",
    "    for k in range(num_class):\n",
    "        ret[k] = (beta0 * m0 + Nk[k] * xbar[k]) / beta[k]\n",
    "\n",
    "    return ret"
   ]
  },
  {
   "cell_type": "markdown",
   "metadata": {},
   "source": [
    "#### アンチョコ p.96、精度"
   ]
  },
  {
   "cell_type": "code",
   "execution_count": 19,
   "metadata": {
    "collapsed": true
   },
   "outputs": [],
   "source": [
    "def calc_W(xbar, Sk, Nk, m0, beta0, inv_W0):\n",
    "    num_class, ndim = xbar.shape\n",
    "    ret = zeros([num_class, ndim, ndim], dtype = float64)\n",
    "\n",
    "    for k in range(num_class):\n",
    "        ret[k] = inv_W0 + Nk[k] * Sk[k]\n",
    "        frac = beta0 * Nk[k] / (beta0 + Nk[k])\n",
    "        diff = xbar[k] - m0 # here, it is a horizontal vector\n",
    "        ret[k] = ret[k] + frac * (xbar[k] - m0).transpose() * (xbar[k] - m0)\n",
    "        \n",
    "        ret[k] = inv(ret[k])\n",
    "\n",
    "    return ret"
   ]
  },
  {
   "cell_type": "markdown",
   "metadata": {},
   "source": [
    "# 動かす"
   ]
  },
  {
   "cell_type": "code",
   "execution_count": 20,
   "metadata": {
    "collapsed": false
   },
   "outputs": [],
   "source": [
    "# # 一回分\n",
    "# # VB-M Step (Dirichlet)\n",
    "# Nk = r_nk.sum(0)\n",
    "# alpha = alpha0 + Nk\n",
    "\n",
    "# # VB-M Step (Normal-Wishart)\n",
    "# xbar = calc_xbar(x, r_nk)\n",
    "# Sk = calc_S(x, xbar, r_nk)\n",
    "# beta = beta0 + Nk\n",
    "# mk = calc_m(xbar, Nk, m0, beta0, beta)\n",
    "# W = calc_W(xbar, Sk, Nk, m0, beta0, inv_W0)\n",
    "# nu = nu0 + Nk\n",
    "\n",
    "# # VB-E Step\n",
    "# ex_lpi = expect_lpi(alpha)\n",
    "# ex_log = zeros([num, num_class], dtype = float64)\n",
    "# for k in range(num_class):\n",
    "#     ex_log[:, k] = expect_log(x, mk[k], beta[k], W[k], nu[k])\n",
    "# lrho = ex_lpi + ex_log\n",
    "# r_nk = normalize_response(lrho)"
   ]
  },
  {
   "cell_type": "code",
   "execution_count": 21,
   "metadata": {
    "collapsed": true
   },
   "outputs": [],
   "source": [
    "for iiter in range(num_iter):\n",
    "    # VB-M Step (Dirichlet)\n",
    "    Nk = r_nk.sum(0)\n",
    "    alpha = alpha0 + Nk\n",
    "\n",
    "    # VB-M Step (Normal-Wishart)\n",
    "    xbar = calc_xbar(x, r_nk)\n",
    "    Sk = calc_S(x, xbar, r_nk)\n",
    "    beta = beta0 + Nk\n",
    "    mk = calc_m(xbar, Nk, m0, beta0, beta)\n",
    "    W = calc_W(xbar, Sk, Nk, m0, beta0, inv_W0)\n",
    "    nu = nu0 + Nk\n",
    "\n",
    "    # VB-E Step\n",
    "    ex_lpi = expect_lpi(alpha)\n",
    "    ex_log = zeros([num, num_class], dtype = float64)\n",
    "    for k in range(num_class):\n",
    "        ex_log[:, k] = expect_log(x, mk[k], beta[k], W[k], nu[k])\n",
    "    lrho = ex_lpi + ex_log\n",
    "    r_nk = normalize_response(lrho)"
   ]
  },
  {
   "cell_type": "markdown",
   "metadata": {},
   "source": [
    "# Visualization"
   ]
  },
  {
   "cell_type": "code",
   "execution_count": 22,
   "metadata": {
    "collapsed": false
   },
   "outputs": [
    {
     "data": {
      "image/png": "[encoded data removed]",
      "text/plain": [
       "<matplotlib.figure.Figure at 0x1de18971a58>"
      ]
     },
     "metadata": {},
     "output_type": "display_data"
    }
   ],
   "source": [
    "fp = open(\"faithful.txt\")\n",
    "data_x = []\n",
    "data_y = []\n",
    "for row in fp:\n",
    "    data_x.append(float((row.split()[0])))\n",
    "    data_y.append(float((row.split()[1])))\n",
    "fp.close()\n",
    "plt.plot(data_x, data_y, \"wo\", markersize=5)\n",
    "\n",
    "for i in range(len(mk)):\n",
    "    plt.plot(mk[i][0],mk[i][1], \"*\", markersize=12, color=\"b\")"
   ]
  }
 ],
 "metadata": {
  "anaconda-cloud": {},
  "kernelspec": {
   "display_name": "Python [Root]",
   "language": "python",
   "name": "Python [Root]"
  },
  "language_info": {
   "codemirror_mode": {
    "name": "ipython",
    "version": 3
   },
   "file_extension": ".py",
   "mimetype": "text/x-python",
   "name": "python",
   "nbconvert_exporter": "python",
   "pygments_lexer": "ipython3",
   "version": "3.5.2"
  }
 },
 "nbformat": 4,
 "nbformat_minor": 0
}

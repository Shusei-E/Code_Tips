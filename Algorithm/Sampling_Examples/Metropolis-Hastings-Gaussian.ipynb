{
 "cells": [
  {
   "cell_type": "markdown",
   "metadata": {},
   "source": [
    "[Reference: theoretical ecology / A simple Metropolis-Hastings MCMC in R](https://theoreticalecology.wordpress.com/2010/09/17/metropolis-hastings-mcmc-in-r/)"
   ]
  },
  {
   "cell_type": "code",
   "execution_count": 1,
   "metadata": {
    "collapsed": true
   },
   "outputs": [],
   "source": [
    "%matplotlib inline"
   ]
  },
  {
   "cell_type": "code",
   "execution_count": 2,
   "metadata": {
    "collapsed": false
   },
   "outputs": [],
   "source": [
    "import matplotlib.pylab as pylab\n",
    "pylab.rcParams['figure.figsize'] = 5, 4"
   ]
  },
  {
   "cell_type": "code",
   "execution_count": 3,
   "metadata": {
    "collapsed": false
   },
   "outputs": [],
   "source": [
    "import numpy as np\n",
    "import scipy as sp\n",
    "import numpy.random as npr\n",
    "import seaborn as sns\n",
    "import matplotlib.pyplot as plt"
   ]
  },
  {
   "cell_type": "markdown",
   "metadata": {},
   "source": [
    "# Create Data Set"
   ]
  },
  {
   "cell_type": "code",
   "execution_count": 4,
   "metadata": {
    "collapsed": false
   },
   "outputs": [
    {
     "data": {
      "text/plain": [
       "<matplotlib.axes._subplots.AxesSubplot at 0x109692898>"
      ]
     },
     "execution_count": 4,
     "metadata": {},
     "output_type": "execute_result"
    },
    {
     "data": {
      "image/png": "[encoded data removed]",
      "text/plain": [
       "<matplotlib.figure.Figure at 0x10961bf60>"
      ]
     },
     "metadata": {},
     "output_type": "display_data"
    }
   ],
   "source": [
    "y1 = 2 ; y2=5 ; c1=1; c2=10\n",
    "data = np.random.multivariate_normal(mean=[y1,y2], cov=[[c1, 0], [0, c2]], size=300)\n",
    "sns.regplot(x=data[: , 0], y=data[: , 1], fit_reg=False)"
   ]
  },
  {
   "cell_type": "markdown",
   "metadata": {},
   "source": [
    "# Define Statistical Model"
   ]
  },
  {
   "cell_type": "code",
   "execution_count": 5,
   "metadata": {
    "collapsed": false
   },
   "outputs": [],
   "source": [
    "def likelihood(param): # Wikipedia \n",
    "    def calc_loglikelihood(residual):\n",
    "        return -0.5 * (np.log(np.linalg.det(cov1)) + residual.T.dot(np.linalg.inv(cov1)).dot(residual) + 2 * np.log(2 * np.pi))\n",
    "    \n",
    "    # mean = np.array([y1, y2]), cov = np.array([[c1, 0], [0, c2]])\n",
    "    mean1 = np.array([param[0][0], param[0][1]])\n",
    "    cov1 = np.array([[param[0][2], 0], [0, param[0][3]]])\n",
    "    residuals = (data - mean1)\n",
    "\n",
    "\n",
    "    loglikelihood = np.apply_along_axis(calc_loglikelihood, 1, residuals)\n",
    "    loglikelihoodsum = loglikelihood.sum()\n",
    "\n",
    "    return loglikelihoodsum"
   ]
  },
  {
   "cell_type": "markdown",
   "metadata": {},
   "source": [
    "# Define Next"
   ]
  },
  {
   "cell_type": "markdown",
   "metadata": {},
   "source": [
    "次に移動した点での $P^*(X)$　に相当するものを考える。<br>\n",
    "京大の資料に従って、一つずつパラメータを動かす"
   ]
  },
  {
   "cell_type": "code",
   "execution_count": 6,
   "metadata": {
    "collapsed": true
   },
   "outputs": [],
   "source": [
    "def next_param(param, param_index):\n",
    "    # mean = np.array([y1, y2]), cov = np.array([[c1, 0], [0, c2]])\n",
    "    y1_next = param[0][0] ; y2_next = param[0][1] \n",
    "    c1_next = param[0][2] ; c2_next = param[0][3] \n",
    "    \n",
    "    if param_index == 0:\n",
    "        y1_next = param[0][0] + npr.uniform(-3.5,3.5)\n",
    "    elif param_index == 1:\n",
    "        y2_next = param[0][1] + npr.uniform(-3.5,3.5)\n",
    "    elif param_index == 2:\n",
    "        c1_next = param[0][2] + npr.uniform(-3.5,3.5)\n",
    "    elif param_index == 3:\n",
    "        c2_next = param[0][3] + npr.uniform(-3.5,3.5)\n",
    "        \n",
    "    return np.array([[y1_next, y2_next, c1_next, c2_next]])"
   ]
  },
  {
   "cell_type": "code",
   "execution_count": 7,
   "metadata": {
    "collapsed": true
   },
   "outputs": [],
   "source": [
    "def next_param2(param):\n",
    "    # mean = np.array([y1, y2]), cov = np.array([[c1, 0], [0, c2]])\n",
    "\n",
    "    y1_next = param[0][0] + npr.normal(0,3.5)\n",
    "    y2_next = param[0][1] + npr.normal(0,3.5)\n",
    "    c1_next = param[0][2] + npr.uniform(-1.5,1.5)\n",
    "    c2_next = param[0][3] + npr.uniform(-1.5,1.5)\n",
    "\n",
    "    return np.array([[y1_next, y2_next, c1_next, c2_next]])"
   ]
  },
  {
   "cell_type": "markdown",
   "metadata": {},
   "source": [
    "# MCMC"
   ]
  },
  {
   "cell_type": "markdown",
   "metadata": {},
   "source": [
    "mean = np.array([y1, y2]), cov = np.array([[c1, 0], [0, c2]])"
   ]
  },
  {
   "cell_type": "code",
   "execution_count": 8,
   "metadata": {
    "collapsed": false
   },
   "outputs": [
    {
     "name": "stderr",
     "output_type": "stream",
     "text": [
      "/usr/local/var/pyenv/versions/3.6.0/envs/py36/lib/python3.6/site-packages/ipykernel/__main__.py:3: RuntimeWarning: invalid value encountered in log\n",
      "  app.launch_new_instance()\n"
     ]
    }
   ],
   "source": [
    "num_sampling = 250\n",
    "chain = np.zeros((num_sampling, 1, 4))\n",
    "chain[0][0][0] = 3 # starting value for y1\n",
    "chain[0][0][1] = 4 # starting value for y2\n",
    "chain[0][0][2] = 2 # starting value for c1\n",
    "chain[0][0][3] = 9 # starting value for c2\n",
    "\n",
    "num_accepted = 0\n",
    "for i in range(num_sampling-1):\n",
    "    chain_previous = chain[i][:]\n",
    "    \n",
    "    proposal = next_param2(chain[i])\n",
    "\n",
    "    probab = likelihood(proposal) - likelihood(chain_previous)\n",
    "    #u = np.exp(npr.uniform(0, 1))\n",
    "    if 0  < probab:\n",
    "        chain[i+1] = proposal\n",
    "        num_accepted += 1\n",
    "    else:\n",
    "        chain[i+1] = chain[i]"
   ]
  },
  {
   "cell_type": "code",
   "execution_count": 9,
   "metadata": {
    "collapsed": false
   },
   "outputs": [
    {
     "data": {
      "text/plain": [
       "1"
      ]
     },
     "execution_count": 9,
     "metadata": {},
     "output_type": "execute_result"
    }
   ],
   "source": [
    "num_accepted"
   ]
  },
  {
   "cell_type": "code",
   "execution_count": 10,
   "metadata": {
    "collapsed": false
   },
   "outputs": [
    {
     "name": "stderr",
     "output_type": "stream",
     "text": [
      "/usr/local/var/pyenv/versions/3.6.0/envs/py36/lib/python3.6/site-packages/ipykernel/__main__.py:3: RuntimeWarning: invalid value encountered in log\n",
      "  app.launch_new_instance()\n"
     ]
    }
   ],
   "source": [
    "num_sampling = 200\n",
    "chain = np.zeros((num_sampling, 1, 4))\n",
    "chain[0][0][0] = 5 # starting value for y1\n",
    "chain[0][0][1] = 6 # starting value for y2\n",
    "chain[0][0][2] = 3 # starting value for c1\n",
    "chain[0][0][3] = 7 # starting value for c2\n",
    "\n",
    "num_accepted = 0\n",
    "for i in range(num_sampling-1):\n",
    "    chain_previous = chain[i][:]\n",
    "    chain_new = np.zeros((1, 1, 4))\n",
    "    \n",
    "    for p in range(4):\n",
    "        proposal = next_param(chain_previous, p)\n",
    "        \n",
    "        probab = likelihood(proposal) - likelihood(chain_previous)\n",
    "        #u = np.exp(npr.uniform(0, 1))\n",
    "        if 0 < probab:\n",
    "            chain_new[0][0][p] = proposal[0][p].copy()\n",
    "            num_accepted += 1\n",
    "        else:\n",
    "            chain_new[0][0][p] = chain[i][0][p].copy()\n",
    "            \n",
    "    chain[i+1] = chain_new[0][:]"
   ]
  },
  {
   "cell_type": "code",
   "execution_count": 11,
   "metadata": {
    "collapsed": false
   },
   "outputs": [
    {
     "data": {
      "text/plain": [
       "21"
      ]
     },
     "execution_count": 11,
     "metadata": {},
     "output_type": "execute_result"
    }
   ],
   "source": [
    "num_accepted"
   ]
  },
  {
   "cell_type": "markdown",
   "metadata": {},
   "source": [
    "# Show Results"
   ]
  },
  {
   "cell_type": "code",
   "execution_count": 12,
   "metadata": {
    "collapsed": false
   },
   "outputs": [],
   "source": [
    "show_num = int(np.rint(num_sampling * 0.9))"
   ]
  },
  {
   "cell_type": "markdown",
   "metadata": {},
   "source": [
    "## y1"
   ]
  },
  {
   "cell_type": "code",
   "execution_count": 13,
   "metadata": {
    "collapsed": false
   },
   "outputs": [
    {
     "data": {
      "text/plain": [
       "[<matplotlib.lines.Line2D at 0x109a33fd0>]"
      ]
     },
     "execution_count": 13,
     "metadata": {},
     "output_type": "execute_result"
    },
    {
     "data": {
      "image/png": "[encoded data removed]",
      "text/plain": [
       "<matplotlib.figure.Figure at 0x10961be48>"
      ]
     },
     "metadata": {},
     "output_type": "display_data"
    }
   ],
   "source": [
    "sns.pointplot(x=np.arange(show_num, num_sampling, 1), y=chain[show_num: , 0, 0])\n",
    "plt.plot([0, num_sampling-show_num], [y1, y1], linewidth=2, color='red')"
   ]
  },
  {
   "cell_type": "code",
   "execution_count": 14,
   "metadata": {
    "collapsed": false
   },
   "outputs": [
    {
     "data": {
      "text/plain": [
       "2.0410202030136015"
      ]
     },
     "execution_count": 14,
     "metadata": {},
     "output_type": "execute_result"
    }
   ],
   "source": [
    "chain[show_num: , 0, 0].mean()"
   ]
  },
  {
   "cell_type": "markdown",
   "metadata": {},
   "source": [
    "## y2"
   ]
  },
  {
   "cell_type": "code",
   "execution_count": 15,
   "metadata": {
    "collapsed": false
   },
   "outputs": [
    {
     "data": {
      "text/plain": [
       "[<matplotlib.lines.Line2D at 0x109cd0f60>]"
      ]
     },
     "execution_count": 15,
     "metadata": {},
     "output_type": "execute_result"
    },
    {
     "data": {
      "image/png": "[encoded data removed]",
      "text/plain": [
       "<matplotlib.figure.Figure at 0x109a4ad68>"
      ]
     },
     "metadata": {},
     "output_type": "display_data"
    }
   ],
   "source": [
    "sns.pointplot(x=np.arange(show_num, num_sampling, 1), y=chain[show_num: , 0, 1])\n",
    "plt.plot([0, num_sampling-show_num], [y2, y2], linewidth=2, color='red')"
   ]
  },
  {
   "cell_type": "code",
   "execution_count": 16,
   "metadata": {
    "collapsed": false,
    "scrolled": true
   },
   "outputs": [
    {
     "data": {
      "text/plain": [
       "5.1229780083686052"
      ]
     },
     "execution_count": 16,
     "metadata": {},
     "output_type": "execute_result"
    }
   ],
   "source": [
    "chain[show_num: , 0, 1].mean()"
   ]
  },
  {
   "cell_type": "markdown",
   "metadata": {},
   "source": [
    "## c1"
   ]
  },
  {
   "cell_type": "code",
   "execution_count": 17,
   "metadata": {
    "collapsed": false
   },
   "outputs": [
    {
     "data": {
      "text/plain": [
       "[<matplotlib.lines.Line2D at 0x109cf2da0>]"
      ]
     },
     "execution_count": 17,
     "metadata": {},
     "output_type": "execute_result"
    },
    {
     "data": {
      "image/png": "[encoded data removed]",
      "text/plain": [
       "<matplotlib.figure.Figure at 0x109a3c470>"
      ]
     },
     "metadata": {},
     "output_type": "display_data"
    }
   ],
   "source": [
    "sns.pointplot(x=np.arange(show_num, num_sampling, 1), y=chain[show_num: , 0, 2])\n",
    "plt.plot([0, num_sampling-show_num], [c1, c1], linewidth=2, color='red')"
   ]
  },
  {
   "cell_type": "code",
   "execution_count": 18,
   "metadata": {
    "collapsed": false
   },
   "outputs": [
    {
     "data": {
      "text/plain": [
       "0.96771162173007463"
      ]
     },
     "execution_count": 18,
     "metadata": {},
     "output_type": "execute_result"
    }
   ],
   "source": [
    "chain[show_num: , 0, 2].mean()"
   ]
  },
  {
   "cell_type": "markdown",
   "metadata": {},
   "source": [
    "## c2 "
   ]
  },
  {
   "cell_type": "code",
   "execution_count": 19,
   "metadata": {
    "collapsed": false
   },
   "outputs": [
    {
     "data": {
      "text/plain": [
       "[<matplotlib.lines.Line2D at 0x109f89f98>]"
      ]
     },
     "execution_count": 19,
     "metadata": {},
     "output_type": "execute_result"
    },
    {
     "data": {
      "image/png": "[encoded data removed]",
      "text/plain": [
       "<matplotlib.figure.Figure at 0x109f89278>"
      ]
     },
     "metadata": {},
     "output_type": "display_data"
    }
   ],
   "source": [
    "sns.pointplot(x=np.arange(show_num, num_sampling, 1), y=chain[show_num: , 0, 3])\n",
    "plt.plot([0, num_sampling-show_num], [c2, c2], linewidth=2, color='red')"
   ]
  },
  {
   "cell_type": "code",
   "execution_count": 20,
   "metadata": {
    "collapsed": false
   },
   "outputs": [
    {
     "data": {
      "text/plain": [
       "9.2680210901106541"
      ]
     },
     "execution_count": 20,
     "metadata": {},
     "output_type": "execute_result"
    }
   ],
   "source": [
    "chain[show_num: , 0, 3].mean()"
   ]
  }
 ],
 "metadata": {
  "kernelspec": {
   "display_name": "Python 3",
   "language": "python",
   "name": "python3"
  },
  "language_info": {
   "codemirror_mode": {
    "name": "ipython",
    "version": 3
   },
   "file_extension": ".py",
   "mimetype": "text/x-python",
   "name": "python",
   "nbconvert_exporter": "python",
   "pygments_lexer": "ipython3",
   "version": "3.6.0"
  }
 },
 "nbformat": 4,
 "nbformat_minor": 2
}

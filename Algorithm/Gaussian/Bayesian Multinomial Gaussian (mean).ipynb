{
 "cells": [
  {
   "cell_type": "code",
   "execution_count": 1,
   "metadata": {
    "collapsed": false
   },
   "outputs": [],
   "source": [
    "import numpy as np\n",
    "import numpy.random as npr\n",
    "import pandas as pd\n",
    "import seaborn as sns\n",
    "import matplotlib.pyplot as plt"
   ]
  },
  {
   "cell_type": "code",
   "execution_count": 2,
   "metadata": {
    "collapsed": true
   },
   "outputs": [],
   "source": [
    "%matplotlib inline"
   ]
  },
  {
   "cell_type": "markdown",
   "metadata": {},
   "source": [
    "# Data Generating Process"
   ]
  },
  {
   "cell_type": "markdown",
   "metadata": {},
   "source": [
    "<span style=\"font-size:1.2em; line-height:0%\">\n",
    "$$\n",
    "\\begin{align}\n",
    "    \\mu_{\\rm parent} \\sim \\mathcal{N}(\\mu_{\\rm root}, \\sigma^2_{\\rm node})\\\\\n",
    "    \\mu_{\\rm child} \\sim \\mathcal{N}(\\mu_{\\rm parent}, \\sigma^2_{\\rm node}) \\\\\n",
    "    x_{d, i} \\sim \\mathcal{N}(\\mu_{\\rm child}, \\sigma^2_{\\rm data})\n",
    "\\end{align}\n",
    "$$\n",
    "</span>"
   ]
  },
  {
   "cell_type": "code",
   "execution_count": 3,
   "metadata": {
    "collapsed": true
   },
   "outputs": [],
   "source": [
    "num_data = 50 ; dims=2"
   ]
  },
  {
   "cell_type": "code",
   "execution_count": 4,
   "metadata": {
    "collapsed": true
   },
   "outputs": [],
   "source": [
    "sigma_node = np.array([1.2, 1.5])\n",
    "sigma_data = np.array([1.5, 0.2])"
   ]
  },
  {
   "cell_type": "code",
   "execution_count": 5,
   "metadata": {
    "collapsed": false
   },
   "outputs": [],
   "source": [
    "mu_parent = npr.normal(loc=np.array([3,-2]), scale=sigma_node)"
   ]
  },
  {
   "cell_type": "code",
   "execution_count": 6,
   "metadata": {
    "collapsed": false
   },
   "outputs": [
    {
     "data": {
      "text/plain": [
       "array([ 3.52406255,  1.00718061])"
      ]
     },
     "execution_count": 6,
     "metadata": {},
     "output_type": "execute_result"
    }
   ],
   "source": [
    "mu_parent"
   ]
  },
  {
   "cell_type": "code",
   "execution_count": 7,
   "metadata": {
    "collapsed": true
   },
   "outputs": [],
   "source": [
    "mu_child = npr.normal(loc=mu_parent,  scale=sigma_node)"
   ]
  },
  {
   "cell_type": "code",
   "execution_count": 8,
   "metadata": {
    "collapsed": false
   },
   "outputs": [
    {
     "data": {
      "text/plain": [
       "array([ 3.0812901 ,  2.50584879])"
      ]
     },
     "execution_count": 8,
     "metadata": {},
     "output_type": "execute_result"
    }
   ],
   "source": [
    "mu_child"
   ]
  },
  {
   "cell_type": "code",
   "execution_count": 9,
   "metadata": {
    "collapsed": false
   },
   "outputs": [],
   "source": [
    "x = npr.normal(loc=mu_child,  scale=sigma_data, size=(num_data,dims))"
   ]
  },
  {
   "cell_type": "code",
   "execution_count": 10,
   "metadata": {
    "collapsed": false
   },
   "outputs": [
    {
     "data": {
      "text/plain": [
       "<matplotlib.collections.PathCollection at 0x111d3a9b0>"
      ]
     },
     "execution_count": 10,
     "metadata": {},
     "output_type": "execute_result"
    },
    {
     "data": {
      "image/png": "[encoded data removed]",
      "text/plain": [
       "<matplotlib.figure.Figure at 0x111c34eb8>"
      ]
     },
     "metadata": {},
     "output_type": "display_data"
    }
   ],
   "source": [
    "plt.scatter(x[:, 0], x[:, 1])\n",
    "plt.scatter(mu_parent[0], mu_parent[1], s=53, c=\"green\")\n",
    "plt.scatter(mu_child[0], mu_child[1], s=53, c=\"pink\")"
   ]
  },
  {
   "cell_type": "code",
   "execution_count": 11,
   "metadata": {
    "collapsed": false
   },
   "outputs": [
    {
     "data": {
      "text/plain": [
       "<matplotlib.collections.PathCollection at 0x111ec6e10>"
      ]
     },
     "execution_count": 11,
     "metadata": {},
     "output_type": "execute_result"
    },
    {
     "data": {
      "image/png": "[encoded data removed]",
      "text/plain": [
       "<matplotlib.figure.Figure at 0x111d659b0>"
      ]
     },
     "metadata": {},
     "output_type": "display_data"
    }
   ],
   "source": [
    "plt.scatter(x[:, 0], x[:, 1])\n",
    "plt.scatter(mu_child[0], mu_child[1], s=53, c=\"pink\")"
   ]
  },
  {
   "cell_type": "markdown",
   "metadata": {},
   "source": [
    "# Sampling"
   ]
  },
  {
   "cell_type": "markdown",
   "metadata": {},
   "source": [
    "分散は他のところでサンプリングしているので、ここでする必要はない"
   ]
  },
  {
   "cell_type": "markdown",
   "metadata": {},
   "source": [
    "[参考](https://shusei-e.github.io/bayesian%20analysis/BayesianMultipleRegression/): (2)式"
   ]
  },
  {
   "cell_type": "markdown",
   "metadata": {},
   "source": [
    "<span style=\"font-size:1.2em; line-height:0%\">\n",
    "$$\n",
    "\\begin{align}\n",
    "&\\log \\left[ p(\\mu_c | \\mu_p, \\sigma^2_n, \\sigma^2_d, x ) \\right]\\\\\n",
    "&\\propto \\log \\left[ p(\\mu_c | \\mu_p, \\sigma^2_n) \\prod_N p(x_i | \\mu_c, \\sigma^2_d) \\right] \\\\\n",
    "&= -\\frac{1}{2}\\log (2 \\pi \\sigma^2_n) - \\frac{ (\\mu_c - \\mu_p)^2}{2 \\sigma^2_n} + \\sum_N \\left[ - \\frac{1}{2} \\log (2 \\pi \\sigma^2_d ) - \\frac{(x_i - \\mu_c)^2}{2 \\sigma^2_d} \\right]\\\\\n",
    "&\\propto  - \\frac{ (\\mu_c - \\mu_p)^2}{2 \\sigma^2_n} + \\sum_N \\left[ - \\frac{(x_i - \\mu_c)^2}{2 \\sigma^2_d} \\right]\\\\\n",
    "&= - \\frac{\\mu_c^2}{2 \\sigma^2_n} + \\frac{1}{\\sigma^2_n} \\mu_c \\mu_p + \\sum_N \\left[ - \\frac{x_i^2}{2 \\sigma^2_d} + \\frac{1}{\\sigma^2_d} x_i \\mu_c - \\frac{\\mu_c^2}{2 \\sigma^2_d} \\right]\\\\\n",
    "&= - \\frac{\\mu_c^2}{2 \\sigma^2_n} + \\frac{1}{\\sigma^2_n} \\mu_c \\mu_p + \\sum_N \\left[ - \\frac{x_i^2}{2 \\sigma^2_d} + \\frac{1}{\\sigma^2_d} x_i \\mu_c  \\right] - \\frac{N \\mu_c^2}{2 \\sigma^2_d}\\\\\n",
    "&\\propto - \\frac{\\mu_c^2}{2 \\sigma^2_n} + \\frac{1}{\\sigma^2_n} \\mu_c \\mu_p + \\sum_N \\left[  \\frac{1}{\\sigma^2_d} x_i \\mu_c  \\right] - \\frac{N \\mu_c^2}{2 \\sigma^2_d} \\\\\n",
    "&= - \\frac{1}{2} \\left( \\frac{1}{\\sigma^2_n}+ \\frac{N}{\\sigma^2_d} \\right) \\mu_c^2 + \\frac{1}{\\sigma^2_n} \\mu_c \\mu_p + \\sum_N \\left[  \\frac{1}{\\sigma^2_d} x_i \\mu_c  \\right] \\\\\n",
    "&=  - \\frac{1}{2} \\left( \\frac{\\sigma^2_d + N \\sigma^2_n }{\\sigma^2_n \\sigma^2_d} \\right) \\mu_c^2 + \\frac{1}{\\sigma^2_n} \\mu_c \\mu_p + \\sum_N \\left[  \\frac{1}{\\sigma^2_d} x_i \\mu_c  \\right] \\\\\n",
    "&= - \\frac{1}{2} \\left( \\frac{\\sigma^2_d + N \\sigma^2_n }{\\sigma^2_n \\sigma^2_d} \\right) \\mu_c^2 + \\frac{1}{\\sigma^2_n} \\mu_c \\mu_p + \\frac{\\mu_c}{\\sigma^2_d} \\sum_N   x_i \\\\\n",
    "&= - \\frac{1}{2} \\left( \\frac{\\sigma^2_d + N \\sigma^2_n }{\\sigma^2_n \\sigma^2_d} \\right) \\mu_c^2  + \\left[ \\frac{1}{\\sigma^2_n}  \\mu_p +  \\frac{1}{\\sigma^2_d} \\sum_N   x_i   \\right] \\mu_c \\\\\n",
    "&= - \\frac{1}{2} \\left( \\frac{\\sigma^2_d + N \\sigma^2_n }{\\sigma^2_n \\sigma^2_d} \\right) \\mu_c^2  +   \\left( \\frac{\\sigma^2_d + N \\sigma^2_n }{\\sigma^2_n \\sigma^2_d} \\right)  \\left( \\frac{\\sigma^2_n \\sigma^2_d}{\\sigma^2_d + N \\sigma^2_n } \\right)   \\left[ \\frac{1}{\\sigma^2_n}  \\mu_p +  \\frac{1}{\\sigma^2_d} \\sum_N   x_i   \\right] \\mu_c \\\\\n",
    "&= - \\frac{1}{2} \\left( \\frac{\\sigma^2_d + N \\sigma^2_n }{\\sigma^2_n \\sigma^2_d} \\right) \\mu_c^2  +   \\left( \\frac{\\sigma^2_d + N \\sigma^2_n }{\\sigma^2_n \\sigma^2_d} \\right)  \\left[ \\frac{\\sigma^2_d \\mu_p}{\\sigma^2_d + N \\sigma^2_n}   +  \\frac{\\sigma_n^2 \\sum_N   x_i }{\\sigma^2_d + N \\sigma^2_n}   \\right] \\mu_c \\\\\n",
    "\\end{align}\n",
    "$$\n",
    "</span>"
   ]
  },
  {
   "cell_type": "code",
   "execution_count": 12,
   "metadata": {
    "collapsed": false
   },
   "outputs": [
    {
     "data": {
      "text/plain": [
       "array([ 2.79406925,  2.54937573])"
      ]
     },
     "execution_count": 12,
     "metadata": {},
     "output_type": "execute_result"
    }
   ],
   "source": [
    "numerator = (sigma_data**2) * (mu_parent)  + (sigma_node**2) * x.sum(axis=0) \n",
    "denominator = (sigma_data**2 + num_data * sigma_node**2) \n",
    "\n",
    "new_mu = numerator / denominator\n",
    "\n",
    "new_mu"
   ]
  },
  {
   "cell_type": "code",
   "execution_count": 13,
   "metadata": {
    "collapsed": false
   },
   "outputs": [
    {
     "data": {
      "text/plain": [
       "array([ 3.0812901 ,  2.50584879])"
      ]
     },
     "execution_count": 13,
     "metadata": {},
     "output_type": "execute_result"
    }
   ],
   "source": [
    "# true\n",
    "mu_child"
   ]
  },
  {
   "cell_type": "code",
   "execution_count": 14,
   "metadata": {
    "collapsed": false
   },
   "outputs": [
    {
     "data": {
      "text/plain": [
       "array([ 0.04363636,  0.00079972])"
      ]
     },
     "execution_count": 14,
     "metadata": {},
     "output_type": "execute_result"
    }
   ],
   "source": [
    "numerator_s = sigma_data**2 + num_data * sigma_node**2\n",
    "denominator_s = sigma_data**2 * sigma_node**2\n",
    "new_sigma = denominator_s / numerator_s  # 1/(numerator/denominator)\n",
    "new_sigma"
   ]
  },
  {
   "cell_type": "code",
   "execution_count": 15,
   "metadata": {
    "collapsed": false
   },
   "outputs": [],
   "source": [
    "sampled_mu_c = npr.normal(new_mu, new_sigma, size=(1000,2))"
   ]
  },
  {
   "cell_type": "code",
   "execution_count": 16,
   "metadata": {
    "collapsed": false
   },
   "outputs": [
    {
     "data": {
      "text/plain": [
       "array([ 2.79409418,  2.54937418])"
      ]
     },
     "execution_count": 16,
     "metadata": {},
     "output_type": "execute_result"
    }
   ],
   "source": [
    "np.mean(sampled_mu_c, axis=0)"
   ]
  },
  {
   "cell_type": "markdown",
   "metadata": {},
   "source": [
    "# Variance"
   ]
  },
  {
   "cell_type": "markdown",
   "metadata": {},
   "source": [
    "Seems unstable if data is small"
   ]
  },
  {
   "cell_type": "markdown",
   "metadata": {},
   "source": [
    "[Conjugate prior](https://en.wikipedia.org/wiki/Conjugate_prior)  \n",
    "[Inverse-Gamma](https://en.wikipedia.org/wiki/Inverse-gamma_distribution)"
   ]
  },
  {
   "cell_type": "code",
   "execution_count": 17,
   "metadata": {
    "collapsed": false
   },
   "outputs": [],
   "source": [
    "# Use Inverse-Gamma\n",
    "from scipy.stats import invgamma\n",
    "\n",
    "alpha = 1\n",
    "beta = 1\n",
    "\n",
    "alpha_new = alpha + 0.5 * num_data\n",
    "\n",
    "scale_new = beta + 0.5 * np.power(( x - mu_child ), 2).sum(axis=0)\n",
    "\n",
    "sampled_sigma = invgamma.rvs(a=alpha_new, scale=scale_new, size=(10,dims))\n",
    "#np.sqrt(sampled_sigma.mean(axis=0))"
   ]
  },
  {
   "cell_type": "code",
   "execution_count": 18,
   "metadata": {
    "collapsed": false
   },
   "outputs": [
    {
     "data": {
      "text/plain": [
       "array([ 1.40790054,  0.28117998])"
      ]
     },
     "execution_count": 18,
     "metadata": {},
     "output_type": "execute_result"
    }
   ],
   "source": [
    "np.sqrt(scale_new / (alpha_new + 1)) # mode"
   ]
  },
  {
   "cell_type": "code",
   "execution_count": 19,
   "metadata": {
    "collapsed": false
   },
   "outputs": [
    {
     "data": {
      "text/plain": [
       "array([ 1.5,  0.2])"
      ]
     },
     "execution_count": 19,
     "metadata": {},
     "output_type": "execute_result"
    }
   ],
   "source": [
    "# True\n",
    "sigma_data # variance = sigma^2"
   ]
  },
  {
   "cell_type": "code",
   "execution_count": 20,
   "metadata": {
    "collapsed": false
   },
   "outputs": [],
   "source": [
    "#sns.distplot(sampled_sigma[:, 0], hist=True, kde=False)"
   ]
  }
 ],
 "metadata": {
  "kernelspec": {
   "display_name": "Python 3",
   "language": "python",
   "name": "python3"
  },
  "language_info": {
   "codemirror_mode": {
    "name": "ipython",
    "version": 3
   },
   "file_extension": ".py",
   "mimetype": "text/x-python",
   "name": "python",
   "nbconvert_exporter": "python",
   "pygments_lexer": "ipython3",
   "version": "3.6.0"
  }
 },
 "nbformat": 4,
 "nbformat_minor": 2
}

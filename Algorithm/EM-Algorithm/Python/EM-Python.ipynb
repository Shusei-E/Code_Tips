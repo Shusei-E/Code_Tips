{
 "cells": [
  {
   "cell_type": "markdown",
   "metadata": {
    "toc": "true"
   },
   "source": [
    "# Table of Contents\n",
    " <p><div class=\"lev1 toc-item\"><a href=\"#Prepare-Functions\" data-toc-modified-id=\"Prepare-Functions-1\"><span class=\"toc-item-num\">1&nbsp;&nbsp;</span>Prepare Functions</a></div><div class=\"lev1 toc-item\"><a href=\"#Algorithm\" data-toc-modified-id=\"Algorithm-2\"><span class=\"toc-item-num\">2&nbsp;&nbsp;</span>Algorithm</a></div><div class=\"lev1 toc-item\"><a href=\"#Check-output\" data-toc-modified-id=\"Check-output-3\"><span class=\"toc-item-num\">3&nbsp;&nbsp;</span>Check output</a></div>"
   ]
  },
  {
   "cell_type": "markdown",
   "metadata": {},
   "source": [
    "参考: https://github.com/aidiary/PRML/blob/master/ch9/gmm_em.py"
   ]
  },
  {
   "cell_type": "code",
   "execution_count": 1,
   "metadata": {
    "collapsed": true
   },
   "outputs": [],
   "source": [
    "%matplotlib inline"
   ]
  },
  {
   "cell_type": "code",
   "execution_count": 2,
   "metadata": {
    "collapsed": true
   },
   "outputs": [],
   "source": [
    "import os\n",
    "import numpy as np\n",
    "from pylab import *\n",
    "import matplotlib.mlab as mlab"
   ]
  },
  {
   "cell_type": "code",
   "execution_count": 3,
   "metadata": {
    "collapsed": true
   },
   "outputs": [],
   "source": [
    "os.chdir(\"/home/3928941380/Desktop/Temp/Topic_Model/EM/Python/\")"
   ]
  },
  {
   "cell_type": "code",
   "execution_count": 4,
   "metadata": {
    "collapsed": true
   },
   "outputs": [],
   "source": [
    "K = 2 # Number of distribution (fixed)"
   ]
  },
  {
   "cell_type": "markdown",
   "metadata": {},
   "source": [
    "# Prepare Functions"
   ]
  },
  {
   "cell_type": "code",
   "execution_count": 5,
   "metadata": {
    "collapsed": true
   },
   "outputs": [],
   "source": [
    "def gaussian(x, mean, cov):\n",
    "    \"\"\"多変量ガウス関数\"\"\"\n",
    "    temp = - 0.5 * np.dot(np.dot(x - mean, np.linalg.inv(cov)), x - mean)\n",
    "    return ( 1 / ((2 * np.pi) ** (x.size/2.0)) ) * (  1 / (np.linalg.det(cov) ** 0.5)  ) * np.exp(temp)\n",
    "\n",
    "# np.linalg: 線形代数用"
   ]
  },
  {
   "cell_type": "code",
   "execution_count": 6,
   "metadata": {
    "collapsed": true
   },
   "outputs": [],
   "source": [
    "def likelihood(X, mean, cov, pi): # PRML Equation (9.36)\n",
    "    \"\"\"対数尤度関数\"\"\"\n",
    "    summation = 0.0\n",
    "    for n in range(len(X)):\n",
    "        temp = 0.0\n",
    "        for k in range(K):\n",
    "            temp += pi[k] * gaussian(X[n], mean[k], cov[k])\n",
    "        summation += np.log(temp)\n",
    "    return summation"
   ]
  },
  {
   "cell_type": "markdown",
   "metadata": {},
   "source": [
    "# Algorithm"
   ]
  },
  {
   "cell_type": "code",
   "execution_count": 7,
   "metadata": {
    "collapsed": false
   },
   "outputs": [
    {
     "name": "stdout",
     "output_type": "stream",
     "text": [
      "0 -9622.82437634\n",
      "1 -1165.62748684\n",
      "2 -1147.84706464\n",
      "3 -1136.69598237\n",
      "4 -1130.77573945\n",
      "5 -1130.28104294\n",
      "6 -1130.26482837\n"
     ]
    }
   ],
   "source": [
    "# 訓練データをロード\n",
    "data = np.genfromtxt(\"faithful.txt\")\n",
    "X = data[:, 0:2]\n",
    "N = len(X)    # データ数\n",
    "\n",
    "# 初期化\n",
    "init_mu = array([data[:, 0].mean(), data[:, 1].mean()])\n",
    "mean = array([1.1*init_mu, 0.9*init_mu])\n",
    "\n",
    "cov = zeros( (K, 2, 2) ) # Return a new array of given shape and type, filled with zeros.\n",
    "for k in range(K):\n",
    "    cov[k] = np.identity(K)\n",
    "\n",
    "pi = ones(2)  / K\n",
    "\n",
    "# 負担率の空配列を用意\n",
    "gamma = zeros( (N, K) )\n",
    "\n",
    "# 対数尤度の初期値を計算\n",
    "like = likelihood(X, mean, cov, pi)\n",
    "\n",
    "\n",
    "turn = 0\n",
    "\n",
    "while True:\n",
    "    print(turn, like)\n",
    "    \n",
    "\n",
    "    # E-step : 現在のパラメータを使って、負担率を計算\n",
    "    for n in range(N):\n",
    "        # 分母はkによらないので最初に1回だけ計算\n",
    "        denominator = 0.0\n",
    "        for j in range(K):\n",
    "            denominator += pi[j] * gaussian(X[n], mean[j], cov[j])\n",
    "        # 各kについて負担率を計算\n",
    "        for k in range(K):\n",
    "            gamma[n][k] = pi[k] * gaussian(X[n], mean[k], cov[k]) / denominator\n",
    "            \n",
    "    # M-step : 現在の負担率を使って、パラメータを再計算\n",
    "    for k in range(K):\n",
    "        # Nkを計算する\n",
    "        Nk = 0.0\n",
    "        for n in range(N):\n",
    "            Nk += gamma[n][k]\n",
    "\n",
    "        # 平均を再計算\n",
    "        mean[k] = zeros( (1, K) )\n",
    "        for n in range(N):\n",
    "            mean[k] += gamma[n][k] * X[n]\n",
    "        mean[k] /= Nk\n",
    "\n",
    "        # 共分散を再計算\n",
    "        cov[k] = zeros( (K, K) )\n",
    "        for n in range(N):\n",
    "            temp = X[n] - mean[k]\n",
    "            cov[k] += gamma[n][k] * matrix(temp).reshape(2, 1) * matrix(temp).reshape(1, 2)  # 縦ベクトルx横ベクトル\n",
    "        cov[k] /= Nk\n",
    "\n",
    "        # 混合係数を再計算\n",
    "        pi[k] = Nk / N\n",
    "\n",
    "    # 収束判定\n",
    "    new_like = likelihood(X, mean, cov, pi)\n",
    "    diff = new_like - like\n",
    "    if diff < 0.001:\n",
    "        break\n",
    "    like = new_like\n",
    "    turn += 1"
   ]
  },
  {
   "cell_type": "markdown",
   "metadata": {},
   "source": [
    "# Check output"
   ]
  },
  {
   "cell_type": "code",
   "execution_count": 8,
   "metadata": {
    "collapsed": false
   },
   "outputs": [
    {
     "data": {
      "image/png": "[encoded data removed]",
      "text/plain": [
       "<matplotlib.figure.Figure at 0x10a00b8d0>"
      ]
     },
     "metadata": {},
     "output_type": "display_data"
    }
   ],
   "source": [
    "x = np.linspace(1.0, 6.0, 300)\n",
    "y = np.linspace(30, 100, 300)\n",
    "X, Y = np.meshgrid(x,y)\n",
    "\n",
    "# 分散共分散行列の対角要素はsigmax^2, sigmay^2 であることに注意してbivariate normalを作る\n",
    "k=0\n",
    "Z1 = mlab.bivariate_normal(X, Y, sigmax=np.sqrt(cov[k,0,0]), sigmay=np.sqrt(cov[k,1,1]), mux=mean[k,0], muy=mean[k,1], sigmaxy=np.sqrt(cov[k,0,1]))\n",
    "\n",
    "k=1\n",
    "Z2 = mlab.bivariate_normal(X, Y, sigmax=np.sqrt(cov[k,0,0]), sigmay=np.sqrt(cov[k,1,1]), mux=mean[k,0], muy=mean[k,1], sigmaxy=np.sqrt(cov[k,0,1]))\n",
    "\n",
    "Z = pi[0] * Z1 + pi[1] * Z2\n",
    "\n",
    "CS = plt.contour(X, Y, Z)\n",
    "plt.clabel(CS, inline=1, fontsize=10)\n",
    "\n",
    "fp = open(\"faithful.txt\")\n",
    "data_x = []\n",
    "data_y = []\n",
    "for row in fp:\n",
    "    data_x.append(float((row.split()[0])))\n",
    "    data_y.append(float((row.split()[1])))\n",
    "fp.close()\n",
    "plt.plot(data_x, data_y, \"ro\")\n",
    "\n",
    "plt.show()"
   ]
  }
 ],
 "metadata": {
  "kernelspec": {
   "display_name": "Python 3",
   "language": "python",
   "name": "python3"
  },
  "language_info": {
   "codemirror_mode": {
    "name": "ipython",
    "version": 3
   },
   "file_extension": ".py",
   "mimetype": "text/x-python",
   "name": "python",
   "nbconvert_exporter": "python",
   "pygments_lexer": "ipython3",
   "version": "3.4.4"
  },
  "nav_menu": {},
  "toc": {
   "navigate_menu": true,
   "number_sections": false,
   "sideBar": false,
   "threshold": 6,
   "toc_cell": true,
   "toc_section_display": "block",
   "toc_window_display": false
  }
 },
 "nbformat": 4,
 "nbformat_minor": 0
}

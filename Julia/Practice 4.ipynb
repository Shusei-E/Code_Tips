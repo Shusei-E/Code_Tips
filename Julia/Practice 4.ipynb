{
 "cells": [
  {
   "cell_type": "markdown",
   "metadata": {
    "toc": "true"
   },
   "source": [
    "# Table of Contents\n",
    " <p><div class=\"lev1 toc-item\"><a href=\"#Types\" data-toc-modified-id=\"Types-1\"><span class=\"toc-item-num\">1&nbsp;&nbsp;</span>Types</a></div><div class=\"lev2 toc-item\"><a href=\"#Common-Types\" data-toc-modified-id=\"Common-Types-1.1\"><span class=\"toc-item-num\">1.1&nbsp;&nbsp;</span>Common Types</a></div><div class=\"lev2 toc-item\"><a href=\"#Methods-and-Multiple-Dispatch\" data-toc-modified-id=\"Methods-and-Multiple-Dispatch-1.2\"><span class=\"toc-item-num\">1.2&nbsp;&nbsp;</span>Methods and Multiple Dispatch</a></div><div class=\"lev3 toc-item\"><a href=\"#Abstract-Types\" data-toc-modified-id=\"Abstract-Types-1.2.1\"><span class=\"toc-item-num\">1.2.1&nbsp;&nbsp;</span>Abstract Types</a></div>"
   ]
  },
  {
   "cell_type": "markdown",
   "metadata": {},
   "source": [
    "# Types"
   ]
  },
  {
   "cell_type": "code",
   "execution_count": 1,
   "metadata": {
    "collapsed": false
   },
   "outputs": [
    {
     "data": {
      "text/plain": [
       "Int64"
      ]
     },
     "execution_count": 1,
     "metadata": {},
     "output_type": "execute_result"
    }
   ],
   "source": [
    "x = 42\n",
    "typeof(x)"
   ]
  },
  {
   "cell_type": "code",
   "execution_count": 2,
   "metadata": {
    "collapsed": false
   },
   "outputs": [
    {
     "data": {
      "text/plain": [
       "Float64"
      ]
     },
     "execution_count": 2,
     "metadata": {},
     "output_type": "execute_result"
    }
   ],
   "source": [
    "x = 42.0\n",
    "typeof(x)"
   ]
  },
  {
   "cell_type": "markdown",
   "metadata": {},
   "source": [
    "## Common Types"
   ]
  },
  {
   "cell_type": "code",
   "execution_count": 4,
   "metadata": {
    "collapsed": false
   },
   "outputs": [
    {
     "data": {
      "text/plain": [
       "linspace(0.0,1.0,100)"
      ]
     },
     "execution_count": 4,
     "metadata": {},
     "output_type": "execute_result"
    }
   ],
   "source": [
    "linspace(0, 1, 100)"
   ]
  },
  {
   "cell_type": "markdown",
   "metadata": {},
   "source": [
    "## Methods and Multiple Dispatch"
   ]
  },
  {
   "cell_type": "code",
   "execution_count": 5,
   "metadata": {
    "collapsed": false
   },
   "outputs": [
    {
     "data": {
      "text/plain": [
       "10000"
      ]
     },
     "execution_count": 5,
     "metadata": {},
     "output_type": "execute_result"
    }
   ],
   "source": [
    "*(100, 100)"
   ]
  },
  {
   "cell_type": "code",
   "execution_count": 6,
   "metadata": {
    "collapsed": false
   },
   "outputs": [
    {
     "data": {
      "text/plain": [
       "\"foobar\""
      ]
     },
     "execution_count": 6,
     "metadata": {},
     "output_type": "execute_result"
    }
   ],
   "source": [
    "*(\"foo\", \"bar\")"
   ]
  },
  {
   "cell_type": "code",
   "execution_count": 7,
   "metadata": {
    "collapsed": false
   },
   "outputs": [
    {
     "data": {
      "text/html": [
       "11 methods for generic function <b>isfinite</b>:<ul><li> isfinite(x::<b>Float16</b>) at <a href=\"https://github.com/JuliaLang/julia/tree/2e358ce975029ec97aba5994c17d4a2169c3b085/base/float16.jl#L119\" target=\"_blank\">float16.jl:119</a><li> isfinite(x::<b>BigFloat</b>) at <a href=\"https://github.com/JuliaLang/julia/tree/2e358ce975029ec97aba5994c17d4a2169c3b085/base/mpfr.jl#L793\" target=\"_blank\">mpfr.jl:793</a><li> isfinite(x::<b>AbstractFloat</b>) at <a href=\"https://github.com/JuliaLang/julia/tree/2e358ce975029ec97aba5994c17d4a2169c3b085/base/float.jl#L326\" target=\"_blank\">float.jl:326</a><li> isfinite(x::<b>Integer</b>) at <a href=\"https://github.com/JuliaLang/julia/tree/2e358ce975029ec97aba5994c17d4a2169c3b085/base/float.jl#L328\" target=\"_blank\">float.jl:328</a><li> isfinite(::<b>Irrational{sym}</b>) at <a href=\"https://github.com/JuliaLang/julia/tree/2e358ce975029ec97aba5994c17d4a2169c3b085/base/irrationals.jl#L66\" target=\"_blank\">irrationals.jl:66</a><li> isfinite(x::<b>Real</b>) at <a href=\"https://github.com/JuliaLang/julia/tree/2e358ce975029ec97aba5994c17d4a2169c3b085/base/float.jl#L327\" target=\"_blank\">float.jl:327</a><li> isfinite(z::<b>Complex{T<:Real}</b>) at <a href=\"https://github.com/JuliaLang/julia/tree/2e358ce975029ec97aba5994c17d4a2169c3b085/base/complex.jl#L44\" target=\"_blank\">complex.jl:44</a><li> isfinite<i>{T<:Number}</i>(::<b>AbstractArray{T<:Number,1}</b>) at <a href=\"https://github.com/JuliaLang/julia/tree/2e358ce975029ec97aba5994c17d4a2169c3b085/base/operators.jl#L380\" target=\"_blank\">operators.jl:380</a><li> isfinite<i>{T<:Number}</i>(::<b>AbstractArray{T<:Number,2}</b>) at <a href=\"https://github.com/JuliaLang/julia/tree/2e358ce975029ec97aba5994c17d4a2169c3b085/base/operators.jl#L381\" target=\"_blank\">operators.jl:381</a><li> isfinite<i>{T<:Number}</i>(::<b>AbstractArray{T<:Number,N}</b>) at <a href=\"https://github.com/JuliaLang/julia/tree/2e358ce975029ec97aba5994c17d4a2169c3b085/base/operators.jl#L383\" target=\"_blank\">operators.jl:383</a><li> isfinite<i>{T<:Base.Dates.TimeType}</i>(::<b>Union{T<:Base.Dates.TimeType,Type{T<:Base.Dates.TimeType}}</b>) at <a href=\"https://github.com/JuliaLang/julia/tree/2e358ce975029ec97aba5994c17d4a2169c3b085/base/dates/types.jl#L138\" target=\"_blank\">dates/types.jl:138</a></ul>"
      ],
      "text/plain": [
       "# 11 methods for generic function \"isfinite\":\n",
       "isfinite(x::Float16) at float16.jl:119\n",
       "isfinite(x::BigFloat) at mpfr.jl:793\n",
       "isfinite(x::AbstractFloat) at float.jl:326\n",
       "isfinite(x::Integer) at float.jl:328\n",
       "isfinite(::Irrational{sym}) at irrationals.jl:66\n",
       "isfinite(x::Real) at float.jl:327\n",
       "isfinite(z::Complex{T<:Real}) at complex.jl:44\n",
       "isfinite{T<:Number}(::AbstractArray{T<:Number,1}) at operators.jl:380\n",
       "isfinite{T<:Number}(::AbstractArray{T<:Number,2}) at operators.jl:381\n",
       "isfinite{T<:Number}(::AbstractArray{T<:Number,N}) at operators.jl:383\n",
       "isfinite{T<:Base.Dates.TimeType}(::Union{T<:Base.Dates.TimeType,Type{T<:Base.Dates.TimeType}}) at dates/types.jl:138"
      ]
     },
     "execution_count": 7,
     "metadata": {},
     "output_type": "execute_result"
    }
   ],
   "source": [
    "methods(isfinite)"
   ]
  },
  {
   "cell_type": "code",
   "execution_count": 8,
   "metadata": {
    "collapsed": false
   },
   "outputs": [
    {
     "data": {
      "text/html": [
       "isfinite(x::<b>Integer</b>) at <a href=\"https://github.com/JuliaLang/julia/tree/2e358ce975029ec97aba5994c17d4a2169c3b085/base/float.jl#L328\" target=\"_blank\">float.jl:328</a>"
      ],
      "text/plain": [
       "isfinite(x::Integer) at float.jl:328"
      ]
     },
     "execution_count": 8,
     "metadata": {},
     "output_type": "execute_result"
    }
   ],
   "source": [
    "@which isfinite(1)"
   ]
  },
  {
   "cell_type": "code",
   "execution_count": 9,
   "metadata": {
    "collapsed": false
   },
   "outputs": [
    {
     "data": {
      "text/html": [
       "isfinite(x::<b>AbstractFloat</b>) at <a href=\"https://github.com/JuliaLang/julia/tree/2e358ce975029ec97aba5994c17d4a2169c3b085/base/float.jl#L326\" target=\"_blank\">float.jl:326</a>"
      ],
      "text/plain": [
       "isfinite(x::AbstractFloat) at float.jl:326"
      ]
     },
     "execution_count": 9,
     "metadata": {},
     "output_type": "execute_result"
    }
   ],
   "source": [
    "@which isfinite(1.0)"
   ]
  },
  {
   "cell_type": "markdown",
   "metadata": {},
   "source": [
    "### Abstract Types"
   ]
  },
  {
   "cell_type": "markdown",
   "metadata": {},
   "source": [
    "Looking at the list of methods above you can see references to types that we haven’t met before, such as Real and Number\n",
    "\n",
    "These two types are examples of what are known in Julia as abstract types\n",
    "\n",
    "Abstract types serve a different purpose to concrete types such as Int64 and Float64"
   ]
  },
  {
   "cell_type": "code",
   "execution_count": 10,
   "metadata": {
    "collapsed": false
   },
   "outputs": [
    {
     "data": {
      "text/plain": [
       "true"
      ]
     },
     "execution_count": 10,
     "metadata": {},
     "output_type": "execute_result"
    }
   ],
   "source": [
    "# Float64, Int64, etc. are subtypes of Real as follows\n",
    "Float64 <: Real"
   ]
  },
  {
   "cell_type": "code",
   "execution_count": null,
   "metadata": {
    "collapsed": true
   },
   "outputs": [],
   "source": []
  }
 ],
 "metadata": {
  "kernelspec": {
   "display_name": "Julia 0.4.6",
   "language": "julia",
   "name": "julia-0.4"
  },
  "language_info": {
   "file_extension": ".jl",
   "mimetype": "application/julia",
   "name": "julia",
   "version": "0.4.6"
  },
  "nav_menu": {},
  "toc": {
   "navigate_menu": true,
   "number_sections": false,
   "sideBar": false,
   "threshold": 6,
   "toc_cell": true,
   "toc_section_display": "block",
   "toc_window_display": false
  }
 },
 "nbformat": 4,
 "nbformat_minor": 0
}

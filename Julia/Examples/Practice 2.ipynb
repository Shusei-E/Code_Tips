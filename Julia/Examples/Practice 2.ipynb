{
 "cells": [
  {
   "cell_type": "markdown",
   "metadata": {
    "toc": "true"
   },
   "source": [
    "# Table of Contents\n",
    " <p><div class=\"lev1 toc-item\"><a href=\"#Common-Data-Types\" data-toc-modified-id=\"Common-Data-Types-1\"><span class=\"toc-item-num\">1&nbsp;&nbsp;</span>Common Data Types</a></div><div class=\"lev2 toc-item\"><a href=\"#Primitive-Data-Types\" data-toc-modified-id=\"Primitive-Data-Types-1.1\"><span class=\"toc-item-num\">1.1&nbsp;&nbsp;</span>Primitive Data Types</a></div><div class=\"lev2 toc-item\"><a href=\"#Integers-and-Floats\" data-toc-modified-id=\"Integers-and-Floats-1.2\"><span class=\"toc-item-num\">1.2&nbsp;&nbsp;</span>Integers and Floats</a></div><div class=\"lev2 toc-item\"><a href=\"#Strings\" data-toc-modified-id=\"Strings-1.3\"><span class=\"toc-item-num\">1.3&nbsp;&nbsp;</span>Strings</a></div><div class=\"lev3 toc-item\"><a href=\"#Regular-Expressions\" data-toc-modified-id=\"Regular-Expressions-1.3.1\"><span class=\"toc-item-num\">1.3.1&nbsp;&nbsp;</span>Regular Expressions</a></div><div class=\"lev2 toc-item\"><a href=\"#Continers\" data-toc-modified-id=\"Continers-1.4\"><span class=\"toc-item-num\">1.4&nbsp;&nbsp;</span>Continers</a></div><div class=\"lev3 toc-item\"><a href=\"#Referencing-Items\" data-toc-modified-id=\"Referencing-Items-1.4.1\"><span class=\"toc-item-num\">1.4.1&nbsp;&nbsp;</span>Referencing Items</a></div><div class=\"lev3 toc-item\"><a href=\"#Dictionaries\" data-toc-modified-id=\"Dictionaries-1.4.2\"><span class=\"toc-item-num\">1.4.2&nbsp;&nbsp;</span>Dictionaries</a></div><div class=\"lev2 toc-item\"><a href=\"#Input-and-Output\" data-toc-modified-id=\"Input-and-Output-1.5\"><span class=\"toc-item-num\">1.5&nbsp;&nbsp;</span>Input and Output</a></div><div class=\"lev3 toc-item\"><a href=\"#Write\" data-toc-modified-id=\"Write-1.5.1\"><span class=\"toc-item-num\">1.5.1&nbsp;&nbsp;</span>Write</a></div><div class=\"lev3 toc-item\"><a href=\"#Read\" data-toc-modified-id=\"Read-1.5.2\"><span class=\"toc-item-num\">1.5.2&nbsp;&nbsp;</span>Read</a></div><div class=\"lev2 toc-item\"><a href=\"#Iterating\" data-toc-modified-id=\"Iterating-1.6\"><span class=\"toc-item-num\">1.6&nbsp;&nbsp;</span>Iterating</a></div><div class=\"lev2 toc-item\"><a href=\"#Looping-without-Indices\" data-toc-modified-id=\"Looping-without-Indices-1.7\"><span class=\"toc-item-num\">1.7&nbsp;&nbsp;</span>Looping without Indices</a></div><div class=\"lev2 toc-item\"><a href=\"#Comparisons-and-Logical-Operators\" data-toc-modified-id=\"Comparisons-and-Logical-Operators-1.8\"><span class=\"toc-item-num\">1.8&nbsp;&nbsp;</span>Comparisons and Logical Operators</a></div><div class=\"lev2 toc-item\"><a href=\"#Combining-Expressions\" data-toc-modified-id=\"Combining-Expressions-1.9\"><span class=\"toc-item-num\">1.9&nbsp;&nbsp;</span>Combining Expressions</a></div><div class=\"lev1 toc-item\"><a href=\"#User-Defined-Functions\" data-toc-modified-id=\"User-Defined-Functions-2\"><span class=\"toc-item-num\">2&nbsp;&nbsp;</span>User Defined Functions</a></div><div class=\"lev2 toc-item\"><a href=\"#Other-Syntax-for-Defining-Functions\" data-toc-modified-id=\"Other-Syntax-for-Defining-Functions-2.1\"><span class=\"toc-item-num\">2.1&nbsp;&nbsp;</span>Other Syntax for Defining Functions</a></div><div class=\"lev2 toc-item\"><a href=\"#Optional-and-Keyword-Arguments\" data-toc-modified-id=\"Optional-and-Keyword-Arguments-2.2\"><span class=\"toc-item-num\">2.2&nbsp;&nbsp;</span>Optional and Keyword Arguments</a></div><div class=\"lev1 toc-item\"><a href=\"#Exercises\" data-toc-modified-id=\"Exercises-3\"><span class=\"toc-item-num\">3&nbsp;&nbsp;</span>Exercises</a></div><div class=\"lev2 toc-item\"><a href=\"#Exercises-1\" data-toc-modified-id=\"Exercises-1-3.1\"><span class=\"toc-item-num\">3.1&nbsp;&nbsp;</span>Exercises 1</a></div><div class=\"lev3 toc-item\"><a href=\"#Part-1\" data-toc-modified-id=\"Part-1-3.1.1\"><span class=\"toc-item-num\">3.1.1&nbsp;&nbsp;</span>Part 1</a></div><div class=\"lev3 toc-item\"><a href=\"#Part-2\" data-toc-modified-id=\"Part-2-3.1.2\"><span class=\"toc-item-num\">3.1.2&nbsp;&nbsp;</span>Part 2</a></div><div class=\"lev3 toc-item\"><a href=\"#Part-3\" data-toc-modified-id=\"Part-3-3.1.3\"><span class=\"toc-item-num\">3.1.3&nbsp;&nbsp;</span>Part 3</a></div><div class=\"lev2 toc-item\"><a href=\"#Exercise-2\" data-toc-modified-id=\"Exercise-2-3.2\"><span class=\"toc-item-num\">3.2&nbsp;&nbsp;</span>Exercise 2</a></div><div class=\"lev2 toc-item\"><a href=\"#Exercise-3\" data-toc-modified-id=\"Exercise-3-3.3\"><span class=\"toc-item-num\">3.3&nbsp;&nbsp;</span>Exercise 3</a></div><div class=\"lev2 toc-item\"><a href=\"#Exercise-4\" data-toc-modified-id=\"Exercise-4-3.4\"><span class=\"toc-item-num\">3.4&nbsp;&nbsp;</span>Exercise 4</a></div><div class=\"lev2 toc-item\"><a href=\"#Exercise-6\" data-toc-modified-id=\"Exercise-6-3.5\"><span class=\"toc-item-num\">3.5&nbsp;&nbsp;</span>Exercise 6</a></div>"
   ]
  },
  {
   "cell_type": "markdown",
   "metadata": {},
   "source": [
    "# Common Data Types"
   ]
  },
  {
   "cell_type": "markdown",
   "metadata": {},
   "source": [
    "## Primitive Data Types"
   ]
  },
  {
   "cell_type": "code",
   "execution_count": 42,
   "metadata": {
    "collapsed": false
   },
   "outputs": [
    {
     "data": {
      "text/plain": [
       "Bool"
      ]
     },
     "execution_count": 42,
     "metadata": {},
     "output_type": "execute_result"
    }
   ],
   "source": [
    "x = true\n",
    "typeof(x)"
   ]
  },
  {
   "cell_type": "code",
   "execution_count": 43,
   "metadata": {
    "collapsed": false
   },
   "outputs": [
    {
     "data": {
      "text/plain": [
       "false"
      ]
     },
     "execution_count": 43,
     "metadata": {},
     "output_type": "execute_result"
    }
   ],
   "source": [
    "1 > 2 "
   ]
  },
  {
   "cell_type": "code",
   "execution_count": 44,
   "metadata": {
    "collapsed": false
   },
   "outputs": [
    {
     "data": {
      "text/plain": [
       "false"
      ]
     },
     "execution_count": 44,
     "metadata": {},
     "output_type": "execute_result"
    }
   ],
   "source": [
    "y = 1 > 2"
   ]
  },
  {
   "cell_type": "code",
   "execution_count": 45,
   "metadata": {
    "collapsed": false
   },
   "outputs": [
    {
     "data": {
      "text/plain": [
       "1"
      ]
     },
     "execution_count": 45,
     "metadata": {},
     "output_type": "execute_result"
    }
   ],
   "source": [
    "sum([true]) # true is converted to 1"
   ]
  },
  {
   "cell_type": "code",
   "execution_count": 46,
   "metadata": {
    "collapsed": false
   },
   "outputs": [
    {
     "data": {
      "text/plain": [
       "1"
      ]
     },
     "execution_count": 46,
     "metadata": {},
     "output_type": "execute_result"
    }
   ],
   "source": [
    "sum([true, false])"
   ]
  },
  {
   "cell_type": "markdown",
   "metadata": {},
   "source": [
    "## Integers and Floats"
   ]
  },
  {
   "cell_type": "code",
   "execution_count": 47,
   "metadata": {
    "collapsed": false
   },
   "outputs": [
    {
     "data": {
      "text/plain": [
       "Float64"
      ]
     },
     "execution_count": 47,
     "metadata": {},
     "output_type": "execute_result"
    }
   ],
   "source": [
    "typeof(1.0)"
   ]
  },
  {
   "cell_type": "code",
   "execution_count": 48,
   "metadata": {
    "collapsed": false
   },
   "outputs": [
    {
     "data": {
      "text/plain": [
       "Int64"
      ]
     },
     "execution_count": 48,
     "metadata": {},
     "output_type": "execute_result"
    }
   ],
   "source": [
    "typeof(1)"
   ]
  },
  {
   "cell_type": "markdown",
   "metadata": {},
   "source": [
    "## Strings"
   ]
  },
  {
   "cell_type": "code",
   "execution_count": 49,
   "metadata": {
    "collapsed": false
   },
   "outputs": [
    {
     "data": {
      "text/plain": [
       "10"
      ]
     },
     "execution_count": 49,
     "metadata": {},
     "output_type": "execute_result"
    }
   ],
   "source": [
    "x = 10"
   ]
  },
  {
   "cell_type": "code",
   "execution_count": 50,
   "metadata": {
    "collapsed": false
   },
   "outputs": [
    {
     "data": {
      "text/plain": [
       "\"x = 10\""
      ]
     },
     "execution_count": 50,
     "metadata": {},
     "output_type": "execute_result"
    }
   ],
   "source": [
    "\"x = $x\""
   ]
  },
  {
   "cell_type": "code",
   "execution_count": 51,
   "metadata": {
    "collapsed": false
   },
   "outputs": [
    {
     "data": {
      "text/plain": [
       "\"y = Any[\\\"a\\\",1]\""
      ]
     },
     "execution_count": 51,
     "metadata": {},
     "output_type": "execute_result"
    }
   ],
   "source": [
    "y = [\"a\", 1]\n",
    "\"y = $y\""
   ]
  },
  {
   "cell_type": "code",
   "execution_count": 52,
   "metadata": {
    "collapsed": false
   },
   "outputs": [
    {
     "data": {
      "text/plain": [
       "\"Sunday\""
      ]
     },
     "execution_count": 52,
     "metadata": {},
     "output_type": "execute_result"
    }
   ],
   "source": [
    "\"Sun\"*\"day\""
   ]
  },
  {
   "cell_type": "code",
   "execution_count": 53,
   "metadata": {
    "collapsed": false
   },
   "outputs": [
    {
     "data": {
      "text/plain": [
       "4-element Array{SubString{ASCIIString},1}:\n",
       " \"Education\"\n",
       " \"is\"       \n",
       " \"what\"     \n",
       " \"remains\"  "
      ]
     },
     "execution_count": 53,
     "metadata": {},
     "output_type": "execute_result"
    }
   ],
   "source": [
    "split(\"Education is what remains\")"
   ]
  },
  {
   "cell_type": "code",
   "execution_count": 54,
   "metadata": {
    "collapsed": false
   },
   "outputs": [
    {
     "data": {
      "text/plain": [
       "\"Studying is what remains\""
      ]
     },
     "execution_count": 54,
     "metadata": {},
     "output_type": "execute_result"
    }
   ],
   "source": [
    "replace(\"Education is what remains\", \"Education\", \"Studying\")"
   ]
  },
  {
   "cell_type": "code",
   "execution_count": 55,
   "metadata": {
    "collapsed": false
   },
   "outputs": [
    {
     "data": {
      "text/plain": [
       "4-element Array{SubString{ASCIIString},1}:\n",
       " \"Never\"\n",
       " \"Never\"\n",
       " \"Never\"\n",
       " \"yield\""
      ]
     },
     "execution_count": 55,
     "metadata": {},
     "output_type": "execute_result"
    }
   ],
   "source": [
    "split(\"Never,Never,Never,yield\", \",\")"
   ]
  },
  {
   "cell_type": "code",
   "execution_count": 56,
   "metadata": {
    "collapsed": false
   },
   "outputs": [
    {
     "data": {
      "text/plain": [
       "\"remove space at the beginning and the end\""
      ]
     },
     "execution_count": 56,
     "metadata": {},
     "output_type": "execute_result"
    }
   ],
   "source": [
    "strip(\"  remove space at the beginning and the end              \")"
   ]
  },
  {
   "cell_type": "markdown",
   "metadata": {},
   "source": [
    "### Regular Expressions"
   ]
  },
  {
   "cell_type": "code",
   "execution_count": 57,
   "metadata": {
    "collapsed": false
   },
   "outputs": [
    {
     "data": {
      "text/plain": [
       "RegexMatch(\"1990\")"
      ]
     },
     "execution_count": 57,
     "metadata": {},
     "output_type": "execute_result"
    }
   ],
   "source": [
    "match(r\"\\d\\d\\d\\d\", \"He was born in 1990.\")"
   ]
  },
  {
   "cell_type": "markdown",
   "metadata": {},
   "source": [
    "## Continers"
   ]
  },
  {
   "cell_type": "code",
   "execution_count": 58,
   "metadata": {
    "collapsed": false
   },
   "outputs": [
    {
     "data": {
      "text/plain": [
       "(\"word1\",\"word2\")"
      ]
     },
     "execution_count": 58,
     "metadata": {},
     "output_type": "execute_result"
    }
   ],
   "source": [
    "# tuples\n",
    "    # An immutable object is one that cannot be altered once it resides in memory\n",
    "x = (\"word1\", \"word2\")"
   ]
  },
  {
   "cell_type": "markdown",
   "metadata": {},
   "source": [
    "### Referencing Items"
   ]
  },
  {
   "cell_type": "code",
   "execution_count": 59,
   "metadata": {
    "collapsed": false
   },
   "outputs": [
    {
     "data": {
      "text/plain": [
       "5-element Array{Any,1}:\n",
       "  \"a\"\n",
       "  \"b\"\n",
       " 3   \n",
       " 4   \n",
       " 5   "
      ]
     },
     "execution_count": 59,
     "metadata": {},
     "output_type": "execute_result"
    }
   ],
   "source": [
    "list = [\"a\", \"b\", 3,4,5]"
   ]
  },
  {
   "cell_type": "code",
   "execution_count": 60,
   "metadata": {
    "collapsed": false
   },
   "outputs": [
    {
     "data": {
      "text/plain": [
       "5"
      ]
     },
     "execution_count": 60,
     "metadata": {},
     "output_type": "execute_result"
    }
   ],
   "source": [
    "list[end]"
   ]
  },
  {
   "cell_type": "code",
   "execution_count": 61,
   "metadata": {
    "collapsed": false
   },
   "outputs": [
    {
     "data": {
      "text/plain": [
       "3"
      ]
     },
     "execution_count": 61,
     "metadata": {},
     "output_type": "execute_result"
    }
   ],
   "source": [
    "list[end-2]"
   ]
  },
  {
   "cell_type": "code",
   "execution_count": 62,
   "metadata": {
    "collapsed": false
   },
   "outputs": [
    {
     "data": {
      "text/plain": [
       "4-element Array{Any,1}:\n",
       "  \"b\"\n",
       " 3   \n",
       " 4   \n",
       " 5   "
      ]
     },
     "execution_count": 62,
     "metadata": {},
     "output_type": "execute_result"
    }
   ],
   "source": [
    "list[2:end]"
   ]
  },
  {
   "cell_type": "markdown",
   "metadata": {},
   "source": [
    "### Dictionaries"
   ]
  },
  {
   "cell_type": "code",
   "execution_count": 63,
   "metadata": {
    "collapsed": false
   },
   "outputs": [
    {
     "data": {
      "text/plain": [
       "Dict{ASCIIString,ASCIIString} with 2 entries:\n",
       "  \"name\"     => \"YOUR NAME\"\n",
       "  \"Location\" => \"World\""
      ]
     },
     "execution_count": 63,
     "metadata": {},
     "output_type": "execute_result"
    }
   ],
   "source": [
    "dict = Dict(\"name\" => \"YOUR NAME\", \"Location\" => \"World\")"
   ]
  },
  {
   "cell_type": "code",
   "execution_count": 64,
   "metadata": {
    "collapsed": false
   },
   "outputs": [
    {
     "data": {
      "text/plain": [
       "\"YOUR NAME\""
      ]
     },
     "execution_count": 64,
     "metadata": {},
     "output_type": "execute_result"
    }
   ],
   "source": [
    "dict[\"name\"]"
   ]
  },
  {
   "cell_type": "code",
   "execution_count": 65,
   "metadata": {
    "collapsed": false
   },
   "outputs": [
    {
     "data": {
      "text/plain": [
       "Base.KeyIterator for a Dict{ASCIIString,ASCIIString} with 2 entries. Keys:\n",
       "  \"name\"\n",
       "  \"Location\""
      ]
     },
     "execution_count": 65,
     "metadata": {},
     "output_type": "execute_result"
    }
   ],
   "source": [
    "keys(dict)"
   ]
  },
  {
   "cell_type": "code",
   "execution_count": 66,
   "metadata": {
    "collapsed": false
   },
   "outputs": [
    {
     "data": {
      "text/plain": [
       "2-element Array{ASCIIString,1}:\n",
       " \"name\"    \n",
       " \"Location\""
      ]
     },
     "execution_count": 66,
     "metadata": {},
     "output_type": "execute_result"
    }
   ],
   "source": [
    "collect(keys(dict)) # transform an iterator into an array"
   ]
  },
  {
   "cell_type": "markdown",
   "metadata": {},
   "source": [
    "## Input and Output"
   ]
  },
  {
   "cell_type": "markdown",
   "metadata": {},
   "source": [
    "### Write "
   ]
  },
  {
   "cell_type": "code",
   "execution_count": 67,
   "metadata": {
    "collapsed": true
   },
   "outputs": [],
   "source": [
    "f = open(\"newfile.txt\", \"w\") \n",
    "write(f, \"testing sentence 1\\n\")\n",
    "write(f, \"more testing\\n\")\n",
    "close(f)"
   ]
  },
  {
   "cell_type": "markdown",
   "metadata": {},
   "source": [
    "### Read"
   ]
  },
  {
   "cell_type": "code",
   "execution_count": 68,
   "metadata": {
    "collapsed": false,
    "scrolled": true
   },
   "outputs": [
    {
     "name": "stdout",
     "output_type": "stream",
     "text": [
      "testing sentence 1\n",
      "more testing\n"
     ]
    }
   ],
   "source": [
    "f = open(\"newfile.txt\", \"r\")\n",
    "print(readall(f))\n",
    "close(f)"
   ]
  },
  {
   "cell_type": "markdown",
   "metadata": {},
   "source": [
    "## Iterating"
   ]
  },
  {
   "cell_type": "code",
   "execution_count": 69,
   "metadata": {
    "collapsed": false
   },
   "outputs": [
    {
     "name": "stdout",
     "output_type": "stream",
     "text": [
      "You should surf\n",
      "You should ski\n"
     ]
    }
   ],
   "source": [
    "actions = [\"surf\", \"ski\"]\n",
    "for action in actions\n",
    "    println(\"You should $action\")\n",
    "end"
   ]
  },
  {
   "cell_type": "markdown",
   "metadata": {},
   "source": [
    "## Looping without Indices"
   ]
  },
  {
   "cell_type": "markdown",
   "metadata": {
    "collapsed": true
   },
   "source": [
    "`zip()`や`enumerate()`を使うことができる。また、リスト内包表記(comprehensions)もある。"
   ]
  },
  {
   "cell_type": "markdown",
   "metadata": {},
   "source": [
    "## Comparisons and Logical Operators"
   ]
  },
  {
   "cell_type": "code",
   "execution_count": 1,
   "metadata": {
    "collapsed": false
   },
   "outputs": [
    {
     "data": {
      "text/plain": [
       "true"
      ]
     },
     "execution_count": 1,
     "metadata": {},
     "output_type": "execute_result"
    }
   ],
   "source": [
    "# 複数にしてもOK\n",
    "1 < 2 < 3"
   ]
  },
  {
   "cell_type": "markdown",
   "metadata": {},
   "source": [
    "## Combining Expressions"
   ]
  },
  {
   "cell_type": "code",
   "execution_count": 2,
   "metadata": {
    "collapsed": false
   },
   "outputs": [
    {
     "data": {
      "text/plain": [
       "false"
      ]
     },
     "execution_count": 2,
     "metadata": {},
     "output_type": "execute_result"
    }
   ],
   "source": [
    "true && false"
   ]
  },
  {
   "cell_type": "markdown",
   "metadata": {},
   "source": [
    "# User Defined Functions"
   ]
  },
  {
   "cell_type": "code",
   "execution_count": 3,
   "metadata": {
    "collapsed": false
   },
   "outputs": [
    {
     "data": {
      "text/plain": [
       "\"positive\""
      ]
     },
     "execution_count": 3,
     "metadata": {},
     "output_type": "execute_result"
    }
   ],
   "source": [
    "function number(x)\n",
    "    if x > 0\n",
    "        return \"positive\"\n",
    "    end\n",
    "    return \"nonpositive\"\n",
    "end\n",
    "\n",
    "number(1)"
   ]
  },
  {
   "cell_type": "markdown",
   "metadata": {},
   "source": [
    "## Other Syntax for Defining Functions"
   ]
  },
  {
   "cell_type": "code",
   "execution_count": 4,
   "metadata": {
    "collapsed": false
   },
   "outputs": [
    {
     "data": {
      "text/plain": [
       "f (generic function with 1 method)"
      ]
     },
     "execution_count": 4,
     "metadata": {},
     "output_type": "execute_result"
    }
   ],
   "source": [
    "f(x) = sin(1 / x)"
   ]
  },
  {
   "cell_type": "code",
   "execution_count": 5,
   "metadata": {
    "collapsed": false
   },
   "outputs": [
    {
     "data": {
      "text/plain": [
       "3-element Array{Float64,1}:\n",
       "  0.896488\n",
       " -0.997029\n",
       "  0.432879"
      ]
     },
     "execution_count": 5,
     "metadata": {},
     "output_type": "execute_result"
    }
   ],
   "source": [
    "map(x -> sin(1 / x), randn(3))  # Apply function to each element"
   ]
  },
  {
   "cell_type": "markdown",
   "metadata": {},
   "source": [
    "## Optional and Keyword Arguments"
   ]
  },
  {
   "cell_type": "code",
   "execution_count": 6,
   "metadata": {
    "collapsed": false
   },
   "outputs": [
    {
     "data": {
      "text/plain": [
       "f (generic function with 2 methods)"
      ]
     },
     "execution_count": 6,
     "metadata": {},
     "output_type": "execute_result"
    }
   ],
   "source": [
    "function f(x, a=1)\n",
    "    return exp(cos(a * x))\n",
    "end"
   ]
  },
  {
   "cell_type": "markdown",
   "metadata": {},
   "source": [
    "# Exercises"
   ]
  },
  {
   "cell_type": "markdown",
   "metadata": {},
   "source": [
    "## Exercises 1"
   ]
  },
  {
   "cell_type": "markdown",
   "metadata": {},
   "source": [
    "### Part 1"
   ]
  },
  {
   "cell_type": "code",
   "execution_count": 9,
   "metadata": {
    "collapsed": false
   },
   "outputs": [
    {
     "name": "stdout",
     "output_type": "stream",
     "text": [
      "y is larger\n",
      "y is larger\n",
      "x is larger\n",
      "y is larger\n",
      "x and y are the same\n"
     ]
    }
   ],
   "source": [
    "x_values = [1,5,4,2,8]\n",
    "y_values = [3,6,1,7,8]\n",
    "\n",
    "for (x, y) in zip(x_values, y_values)\n",
    "    if x < y\n",
    "        print(\"y is larger\\n\")\n",
    "    elseif x>y\n",
    "        print(\"x is larger\\n\")\n",
    "    else\n",
    "        print(\"x and y are the same\\n\")\n",
    "    end\n",
    "end\n"
   ]
  },
  {
   "cell_type": "markdown",
   "metadata": {},
   "source": [
    "### Part 2"
   ]
  },
  {
   "cell_type": "code",
   "execution_count": 2,
   "metadata": {
    "collapsed": false
   },
   "outputs": [
    {
     "name": "stdout",
     "output_type": "stream",
     "text": [
      "50\n"
     ]
    }
   ],
   "source": [
    "answer = 0\n",
    "\n",
    "for i in 1:100\n",
    "    if i % 2 == 0\n",
    "        answer += 1\n",
    "    end\n",
    "end\n",
    "println(answer)"
   ]
  },
  {
   "cell_type": "code",
   "execution_count": 3,
   "metadata": {
    "collapsed": false
   },
   "outputs": [
    {
     "data": {
      "text/plain": [
       "50"
      ]
     },
     "execution_count": 3,
     "metadata": {},
     "output_type": "execute_result"
    }
   ],
   "source": [
    "sum([x % 2 == 0 for x in 0:99])"
   ]
  },
  {
   "cell_type": "markdown",
   "metadata": {},
   "source": [
    "### Part 3"
   ]
  },
  {
   "cell_type": "code",
   "execution_count": 5,
   "metadata": {
    "collapsed": false
   },
   "outputs": [
    {
     "data": {
      "text/plain": [
       "2"
      ]
     },
     "execution_count": 5,
     "metadata": {},
     "output_type": "execute_result"
    }
   ],
   "source": [
    "pairs = ((2, 5), (4, 2), (9, 8), (12, 10))\n",
    "sum([(x % 2 == 0) & (y % 2 == 0) for (x, y) in pairs])"
   ]
  },
  {
   "cell_type": "markdown",
   "metadata": {},
   "source": [
    "## Exercise 2"
   ]
  },
  {
   "cell_type": "code",
   "execution_count": 9,
   "metadata": {
    "collapsed": false
   },
   "outputs": [
    {
     "data": {
      "text/plain": [
       "p (generic function with 1 method)"
      ]
     },
     "execution_count": 9,
     "metadata": {},
     "output_type": "execute_result"
    }
   ],
   "source": [
    "function p(x, coeff)\n",
    "    answer = 0\n",
    "    \n",
    "    for (index, a) in enumerate(coeff)\n",
    "        answer = answer + a*x^(index-1)\n",
    "    end\n",
    "    \n",
    "    println(answer)\n",
    "end"
   ]
  },
  {
   "cell_type": "code",
   "execution_count": 10,
   "metadata": {
    "collapsed": false
   },
   "outputs": [
    {
     "name": "stdout",
     "output_type": "stream",
     "text": [
      "6\n"
     ]
    }
   ],
   "source": [
    "p(1, (2,4))"
   ]
  },
  {
   "cell_type": "code",
   "execution_count": 11,
   "metadata": {
    "collapsed": false
   },
   "outputs": [
    {
     "data": {
      "text/plain": [
       "6"
      ]
     },
     "execution_count": 11,
     "metadata": {},
     "output_type": "execute_result"
    }
   ],
   "source": [
    "p(x, coeff) = sum([a * x^(i-1) for (i, a) in enumerate(coeff)])\n",
    "p(1, (2,4))"
   ]
  },
  {
   "cell_type": "markdown",
   "metadata": {},
   "source": [
    "## Exercise 3"
   ]
  },
  {
   "cell_type": "code",
   "execution_count": 17,
   "metadata": {
    "collapsed": false
   },
   "outputs": [
    {
     "name": "stdout",
     "output_type": "stream",
     "text": [
      "TRS"
     ]
    },
    {
     "data": {
      "text/plain": [
       "3"
      ]
     },
     "execution_count": 17,
     "metadata": {},
     "output_type": "execute_result"
    }
   ],
   "source": [
    "function f(string)\n",
    "    count = 0\n",
    "    for letter in string\n",
    "        if (letter == uppercase(letter))  & isalpha(letter)\n",
    "            # isalpha: Tests whether a character is alphanumeric, or whether this is true for all elements of a string.\n",
    "            print(letter)\n",
    "            count += 1\n",
    "        end\n",
    "    end\n",
    "    return count\n",
    "end\n",
    "    \n",
    "f(\"The Rain in Spain\")"
   ]
  },
  {
   "cell_type": "code",
   "execution_count": 18,
   "metadata": {
    "collapsed": false
   },
   "outputs": [
    {
     "name": "stdout",
     "output_type": "stream",
     "text": [
      "T R  S"
     ]
    },
    {
     "data": {
      "text/plain": [
       "6"
      ]
     },
     "execution_count": 18,
     "metadata": {},
     "output_type": "execute_result"
    }
   ],
   "source": [
    "function f(string)\n",
    "    count = 0\n",
    "    for letter in string\n",
    "        if (letter == uppercase(letter))  \n",
    "            print(letter)\n",
    "            count += 1\n",
    "        end\n",
    "    end\n",
    "    return count\n",
    "end\n",
    "    \n",
    "f(\"The Rain in Spain\")"
   ]
  },
  {
   "cell_type": "markdown",
   "metadata": {},
   "source": [
    "## Exercise 4"
   ]
  },
  {
   "cell_type": "code",
   "execution_count": 41,
   "metadata": {
    "collapsed": false
   },
   "outputs": [
    {
     "data": {
      "text/plain": [
       "comparison (generic function with 1 method)"
      ]
     },
     "execution_count": 41,
     "metadata": {},
     "output_type": "execute_result"
    }
   ],
   "source": [
    "function comparison(string1, string2)\n",
    "    split1 = split(string1, \"\")\n",
    "    split2 = split(string2, \"\")\n",
    "    \n",
    "    flag = true\n",
    "    for element in split1\n",
    "        if !(element in split2)\n",
    "            flag = false\n",
    "            break\n",
    "        end\n",
    "    end\n",
    "    \n",
    "    if flag\n",
    "        println(\"YES\")\n",
    "    else\n",
    "        println(\"NO\")\n",
    "    end\n",
    "    \n",
    "end"
   ]
  },
  {
   "cell_type": "code",
   "execution_count": 42,
   "metadata": {
    "collapsed": false
   },
   "outputs": [
    {
     "name": "stdout",
     "output_type": "stream",
     "text": [
      "YES\n"
     ]
    }
   ],
   "source": [
    "comparison(\"test\", \"test This\")"
   ]
  },
  {
   "cell_type": "code",
   "execution_count": 43,
   "metadata": {
    "collapsed": false
   },
   "outputs": [
    {
     "name": "stdout",
     "output_type": "stream",
     "text": [
      "NO\n"
     ]
    }
   ],
   "source": [
    "comparison(\"test\", \"tea\")"
   ]
  },
  {
   "cell_type": "code",
   "execution_count": 23,
   "metadata": {
    "collapsed": false
   },
   "outputs": [
    {
     "name": "stdout",
     "output_type": "stream",
     "text": [
      "true\n",
      "false\n"
     ]
    }
   ],
   "source": [
    "f(seq_a, seq_b) = issubset(Set(seq_a), Set(seq_b))\n",
    "\n",
    "println(f([1, 2], [1, 2, 3]))\n",
    "println(f([1, 2, 3], [1, 2]))"
   ]
  },
  {
   "cell_type": "markdown",
   "metadata": {},
   "source": [
    "## Exercise 6"
   ]
  },
  {
   "cell_type": "code",
   "execution_count": 65,
   "metadata": {
    "collapsed": false
   },
   "outputs": [
    {
     "data": {
      "text/plain": [
       "9-element Array{SubString{ASCIIString},1}:\n",
       " \"new york: 8244910\"    \n",
       " \"los angeles: 3819702\" \n",
       " \"chicago: 2707120\"     \n",
       " \"houston: 2145146\"     \n",
       " \"philadelphia: 1536471\"\n",
       " \"phoenix: 1469471\"     \n",
       " \"san antonio: 1359758\" \n",
       " \"san diego: 1326179\"   \n",
       " \"dallas: 1223229\"      "
      ]
     },
     "execution_count": 65,
     "metadata": {},
     "output_type": "execute_result"
    }
   ],
   "source": [
    "ff = \"\"\"\n",
    "new york: 8244910\n",
    "los angeles: 3819702\n",
    "chicago: 2707120\n",
    "houston: 2145146\n",
    "philadelphia: 1536471\n",
    "phoenix: 1469471\n",
    "san antonio: 1359758\n",
    "san diego: 1326179\n",
    "dallas: 1223229\"\"\"\n",
    "\n",
    "ff = split(ff, \"\\n\")"
   ]
  },
  {
   "cell_type": "code",
   "execution_count": 67,
   "metadata": {
    "collapsed": false
   },
   "outputs": [
    {
     "name": "stdout",
     "output_type": "stream",
     "text": [
      "Total population = 23831986\n"
     ]
    }
   ],
   "source": [
    "total_pop = 0\n",
    "for line in ff\n",
    "    city, population = split(line, ':')            # Tuple unpacking\n",
    "    total_pop += parse(Int, population) # parse to convert numbers in string form to actual numbers\n",
    "end\n",
    "println(\"Total population = $total_pop\")"
   ]
  }
 ],
 "metadata": {
  "kernelspec": {
   "display_name": "Julia 0.4.6",
   "language": "julia",
   "name": "julia-0.4"
  },
  "language_info": {
   "file_extension": ".jl",
   "mimetype": "application/julia",
   "name": "julia",
   "version": "0.4.6"
  },
  "nav_menu": {},
  "toc": {
   "navigate_menu": true,
   "number_sections": false,
   "sideBar": false,
   "threshold": 6,
   "toc_cell": true,
   "toc_section_display": "block",
   "toc_window_display": false
  }
 },
 "nbformat": 4,
 "nbformat_minor": 0
}
